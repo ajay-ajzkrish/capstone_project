{
 "cells": [
  {
   "cell_type": "markdown",
   "metadata": {},
   "source": [
    "## TRANSACTION DATA (CREDIT FRAUD) - MACHINE LEARNING"
   ]
  },
  {
   "cell_type": "markdown",
   "metadata": {},
   "source": [
    " Sumber dataset : https://drive.google.com/file/d/1sr0k8_k7huFuHiR_C5P_r60VaBDzwoTb/view"
   ]
  },
  {
   "cell_type": "markdown",
   "metadata": {},
   "source": [
    "Dalam tahap ini, akan di lakukan proses **Classification Machine Learning** terhadap data *transaction.csv*. Pada **preprocessing** dalam tahap **EDA** sebelumnya sudah di lakukan pembersihan dari **Null Values**, sehingga dalam proses **Machine Learning** ini hanya terfokus untuk membangun model prediksi. Model yang di gunakan adalah ***LogisticRegression*** dan ***KNNeighbors***. Pembuatan model di lakukan dengan melalui metode *pipelining*, sehingga hasilnya juga akan cenderung lebih baik. Pembuatan model juga melewati beberapa tahap **feature engineering**, dimana data akan di lakukan uji **normalitas** dan **outliers** checking, **feature selection**, serta **cross-validation**. Dan karena data sangat *imbalanced*, maka di lakukan ***oversampling*** dengan metode ***SMOTE***.\n",
    "\n",
    "\n",
    "### FEATURE DESCRIPTION :\n",
    "\n",
    "- accountNumber             = The account number of The customer\n",
    "- customerId    =  The ID of The customer\n",
    "- creditLimit               =  The amount of money that can be charged to The debit card\n",
    "- availableMoney        = The amount of money in The debit card before adjusting for pending charges      \n",
    "- transactionDateTime       = The transaction timestamp when it happened\n",
    "- transactionAmount        = The amount of transaction \n",
    "- merchantName          = The merchant name of The particular transaction\n",
    "- acqCountry             = The country where The merchant is located\n",
    "- merchantCountryCode    = The country code for The specific merchant\n",
    "- posEntryMode        = a code that tells The processor how The transaction was captured\n",
    "- posConditionCode   = a code identifying transaction conditions at The point-of-sale or point-of-service\n",
    "- merchantCategoryCode    = The merchant category/types\n",
    "- currentExpDate       =  The expiry date of The credit card\n",
    "- accountOpenDate      = The date when The customer open The credit card\n",
    "- dateOfLastAddressChange    = The last date when The customer change The credit card address\n",
    "- cardCVV = The actual card verification value\n",
    "- enteredCVV       = The entered card verification value\n",
    "- cardLast4Digits     = The last 4 digits of The debit card\n",
    "- transactionType        = The types of transactions\n",
    "- isFraud      = The status of The fraud transaction\n",
    "- echoBuffer    = number of delayed response transactions\n",
    "- currentBalance =  The current balance of The debit card\n",
    "- merchantCity = The location for The specific merchant (City)\n",
    "- merchantState   = The location for The specific merchant (State)\n",
    "- merchantZip = The location for The specific merchant (Zip Code)           \n",
    "- cardPresent =     The physical presence of The debit card in The transaction\n",
    "- posOnPremises = The location of The point of sales          \n",
    "- recurringAuthInd  = wheTher The auThentication recurred or not\n",
    "- expirationDateKeyInMatch = The match between The expiration date in The system and what was inputted"
   ]
  },
  {
   "cell_type": "markdown",
   "metadata": {},
   "source": [
    "## IMPORT LIBRARIES"
   ]
  },
  {
   "cell_type": "code",
   "execution_count": 2,
   "metadata": {},
   "outputs": [],
   "source": [
    "import pandas as pd\n",
    "import numpy as np\n",
    "import matplotlib.pyplot as plt\n",
    "import seaborn as sns\n",
    "\n",
    "from sklearn.metrics import confusion_matrix, classification_report, roc_auc_score, roc_curve, auc, f1_score, precision_score, recall_score, matthews_corrcoef\n",
    "from sklearn.datasets import make_classification\n",
    "\n",
    "from sklearn.model_selection import train_test_split, RandomizedSearchCV, StratifiedKFold , cross_val_score\n",
    "from sklearn.preprocessing import RobustScaler, LabelEncoder\n",
    "from sklearn.pipeline import Pipeline\n",
    "\n",
    "from sklearn.feature_selection import RFE\n",
    "from sklearn.feature_selection import SelectKBest, chi2\n",
    "from sklearn.compose import ColumnTransformer\n",
    "\n",
    "from sklearn.ensemble import ExtraTreesClassifier\n",
    "from sklearn.linear_model import LogisticRegression\n",
    "from sklearn.neighbors import KNeighborsClassifier\n",
    "from sklearn.model_selection import RandomizedSearchCV\n",
    "\n",
    "import scipy.stats as ss\n",
    "import statsmodels.api as sm\n",
    "from sklearn.neighbors import KernelDensity\n",
    "from scipy.stats import mannwhitneyu, chi2_contingency\n",
    "from scipy.stats import anderson\n",
    "from imblearn.over_sampling import SMOTE\n",
    "\n",
    "from yellowbrick.model_selection import learning_curve, ValidationCurve\n",
    "\n",
    "import warnings\n",
    "warnings.filterwarnings(\"ignore\")\n",
    "warnings.filterwarnings(action='ignore', category=FutureWarning)"
   ]
  },
  {
   "cell_type": "markdown",
   "metadata": {},
   "source": [
    "## OVERVIEW"
   ]
  },
  {
   "cell_type": "code",
   "execution_count": 3,
   "metadata": {},
   "outputs": [],
   "source": [
    "df = pd.read_csv('transaction_clean.csv')"
   ]
  },
  {
   "cell_type": "code",
   "execution_count": 4,
   "metadata": {},
   "outputs": [
    {
     "data": {
      "text/html": [
       "<div>\n",
       "<style scoped>\n",
       "    .dataframe tbody tr th:only-of-type {\n",
       "        vertical-align: middle;\n",
       "    }\n",
       "\n",
       "    .dataframe tbody tr th {\n",
       "        vertical-align: top;\n",
       "    }\n",
       "\n",
       "    .dataframe thead th {\n",
       "        text-align: right;\n",
       "    }\n",
       "</style>\n",
       "<table border=\"1\" class=\"dataframe\">\n",
       "  <thead>\n",
       "    <tr style=\"text-align: right;\">\n",
       "      <th></th>\n",
       "      <th>acqCountry</th>\n",
       "      <th>merchantCountryCode</th>\n",
       "      <th>posEntryMode</th>\n",
       "      <th>posConditionCode</th>\n",
       "      <th>merchantCategoryCode</th>\n",
       "      <th>transactionType</th>\n",
       "      <th>creditLimit</th>\n",
       "      <th>availableMoney</th>\n",
       "      <th>transactionAmount</th>\n",
       "      <th>currentBalance</th>\n",
       "      <th>transactionDateTime</th>\n",
       "      <th>currentExpDate</th>\n",
       "      <th>accountOpenDate</th>\n",
       "      <th>dateOfLastAddressChange</th>\n",
       "      <th>isFraud</th>\n",
       "      <th>cardPresent</th>\n",
       "      <th>expirationDateKeyInMatch</th>\n",
       "    </tr>\n",
       "  </thead>\n",
       "  <tbody>\n",
       "    <tr>\n",
       "      <th>0</th>\n",
       "      <td>US</td>\n",
       "      <td>US</td>\n",
       "      <td>5.0</td>\n",
       "      <td>1.0</td>\n",
       "      <td>rideshare</td>\n",
       "      <td>PURCHASE</td>\n",
       "      <td>5000</td>\n",
       "      <td>5000.00</td>\n",
       "      <td>111.33</td>\n",
       "      <td>0.00</td>\n",
       "      <td>2016-01-08 19:04:50</td>\n",
       "      <td>2020-01-04 00:00:00</td>\n",
       "      <td>2014-03-08 00:00:00</td>\n",
       "      <td>2014-03-08 00:00:00</td>\n",
       "      <td>Yes</td>\n",
       "      <td>No</td>\n",
       "      <td>No</td>\n",
       "    </tr>\n",
       "    <tr>\n",
       "      <th>1</th>\n",
       "      <td>US</td>\n",
       "      <td>US</td>\n",
       "      <td>9.0</td>\n",
       "      <td>1.0</td>\n",
       "      <td>rideshare</td>\n",
       "      <td>PURCHASE</td>\n",
       "      <td>5000</td>\n",
       "      <td>4888.67</td>\n",
       "      <td>24.75</td>\n",
       "      <td>111.33</td>\n",
       "      <td>2016-01-09 22:32:39</td>\n",
       "      <td>2023-01-06 00:00:00</td>\n",
       "      <td>2014-03-08 00:00:00</td>\n",
       "      <td>2014-03-08 00:00:00</td>\n",
       "      <td>No</td>\n",
       "      <td>No</td>\n",
       "      <td>No</td>\n",
       "    </tr>\n",
       "    <tr>\n",
       "      <th>2</th>\n",
       "      <td>US</td>\n",
       "      <td>US</td>\n",
       "      <td>5.0</td>\n",
       "      <td>1.0</td>\n",
       "      <td>rideshare</td>\n",
       "      <td>PURCHASE</td>\n",
       "      <td>5000</td>\n",
       "      <td>4863.92</td>\n",
       "      <td>187.40</td>\n",
       "      <td>136.08</td>\n",
       "      <td>2016-01-11 13:36:55</td>\n",
       "      <td>2027-01-12 00:00:00</td>\n",
       "      <td>2014-03-08 00:00:00</td>\n",
       "      <td>2014-03-08 00:00:00</td>\n",
       "      <td>No</td>\n",
       "      <td>No</td>\n",
       "      <td>No</td>\n",
       "    </tr>\n",
       "    <tr>\n",
       "      <th>3</th>\n",
       "      <td>US</td>\n",
       "      <td>US</td>\n",
       "      <td>2.0</td>\n",
       "      <td>1.0</td>\n",
       "      <td>rideshare</td>\n",
       "      <td>PURCHASE</td>\n",
       "      <td>5000</td>\n",
       "      <td>4676.52</td>\n",
       "      <td>227.34</td>\n",
       "      <td>323.48</td>\n",
       "      <td>2016-01-11 22:47:46</td>\n",
       "      <td>2029-01-09 00:00:00</td>\n",
       "      <td>2014-03-08 00:00:00</td>\n",
       "      <td>2014-03-08 00:00:00</td>\n",
       "      <td>Yes</td>\n",
       "      <td>No</td>\n",
       "      <td>No</td>\n",
       "    </tr>\n",
       "    <tr>\n",
       "      <th>4</th>\n",
       "      <td>US</td>\n",
       "      <td>US</td>\n",
       "      <td>2.0</td>\n",
       "      <td>1.0</td>\n",
       "      <td>rideshare</td>\n",
       "      <td>ADDRESS_VERIFICATION</td>\n",
       "      <td>5000</td>\n",
       "      <td>4449.18</td>\n",
       "      <td>0.00</td>\n",
       "      <td>550.82</td>\n",
       "      <td>2016-01-16 01:41:11</td>\n",
       "      <td>2024-01-10 00:00:00</td>\n",
       "      <td>2014-03-08 00:00:00</td>\n",
       "      <td>2014-03-08 00:00:00</td>\n",
       "      <td>No</td>\n",
       "      <td>No</td>\n",
       "      <td>No</td>\n",
       "    </tr>\n",
       "  </tbody>\n",
       "</table>\n",
       "</div>"
      ],
      "text/plain": [
       "  acqCountry merchantCountryCode  posEntryMode  posConditionCode  \\\n",
       "0         US                  US           5.0               1.0   \n",
       "1         US                  US           9.0               1.0   \n",
       "2         US                  US           5.0               1.0   \n",
       "3         US                  US           2.0               1.0   \n",
       "4         US                  US           2.0               1.0   \n",
       "\n",
       "  merchantCategoryCode       transactionType  creditLimit  availableMoney  \\\n",
       "0            rideshare              PURCHASE         5000         5000.00   \n",
       "1            rideshare              PURCHASE         5000         4888.67   \n",
       "2            rideshare              PURCHASE         5000         4863.92   \n",
       "3            rideshare              PURCHASE         5000         4676.52   \n",
       "4            rideshare  ADDRESS_VERIFICATION         5000         4449.18   \n",
       "\n",
       "   transactionAmount  currentBalance  transactionDateTime  \\\n",
       "0             111.33            0.00  2016-01-08 19:04:50   \n",
       "1              24.75          111.33  2016-01-09 22:32:39   \n",
       "2             187.40          136.08  2016-01-11 13:36:55   \n",
       "3             227.34          323.48  2016-01-11 22:47:46   \n",
       "4               0.00          550.82  2016-01-16 01:41:11   \n",
       "\n",
       "        currentExpDate      accountOpenDate dateOfLastAddressChange isFraud  \\\n",
       "0  2020-01-04 00:00:00  2014-03-08 00:00:00     2014-03-08 00:00:00     Yes   \n",
       "1  2023-01-06 00:00:00  2014-03-08 00:00:00     2014-03-08 00:00:00      No   \n",
       "2  2027-01-12 00:00:00  2014-03-08 00:00:00     2014-03-08 00:00:00      No   \n",
       "3  2029-01-09 00:00:00  2014-03-08 00:00:00     2014-03-08 00:00:00     Yes   \n",
       "4  2024-01-10 00:00:00  2014-03-08 00:00:00     2014-03-08 00:00:00      No   \n",
       "\n",
       "  cardPresent expirationDateKeyInMatch  \n",
       "0          No                       No  \n",
       "1          No                       No  \n",
       "2          No                       No  \n",
       "3          No                       No  \n",
       "4          No                       No  "
      ]
     },
     "execution_count": 4,
     "metadata": {},
     "output_type": "execute_result"
    }
   ],
   "source": [
    "df.head()"
   ]
  },
  {
   "cell_type": "code",
   "execution_count": 5,
   "metadata": {},
   "outputs": [
    {
     "data": {
      "text/html": [
       "<div>\n",
       "<style scoped>\n",
       "    .dataframe tbody tr th:only-of-type {\n",
       "        vertical-align: middle;\n",
       "    }\n",
       "\n",
       "    .dataframe tbody tr th {\n",
       "        vertical-align: top;\n",
       "    }\n",
       "\n",
       "    .dataframe thead th {\n",
       "        text-align: right;\n",
       "    }\n",
       "</style>\n",
       "<table border=\"1\" class=\"dataframe\">\n",
       "  <thead>\n",
       "    <tr style=\"text-align: right;\">\n",
       "      <th></th>\n",
       "      <th>dataFeatures</th>\n",
       "      <th>dataType</th>\n",
       "      <th>null</th>\n",
       "      <th>nullPct</th>\n",
       "      <th>Nunique</th>\n",
       "      <th>uniqueSample</th>\n",
       "    </tr>\n",
       "  </thead>\n",
       "  <tbody>\n",
       "    <tr>\n",
       "      <th>0</th>\n",
       "      <td>acqCountry</td>\n",
       "      <td>object</td>\n",
       "      <td>0</td>\n",
       "      <td>0.0</td>\n",
       "      <td>4</td>\n",
       "      <td>[MEX, US]</td>\n",
       "    </tr>\n",
       "    <tr>\n",
       "      <th>1</th>\n",
       "      <td>merchantCountryCode</td>\n",
       "      <td>object</td>\n",
       "      <td>0</td>\n",
       "      <td>0.0</td>\n",
       "      <td>4</td>\n",
       "      <td>[US, PR]</td>\n",
       "    </tr>\n",
       "    <tr>\n",
       "      <th>2</th>\n",
       "      <td>posEntryMode</td>\n",
       "      <td>float64</td>\n",
       "      <td>0</td>\n",
       "      <td>0.0</td>\n",
       "      <td>5</td>\n",
       "      <td>[9.0, 2.0]</td>\n",
       "    </tr>\n",
       "    <tr>\n",
       "      <th>3</th>\n",
       "      <td>posConditionCode</td>\n",
       "      <td>float64</td>\n",
       "      <td>0</td>\n",
       "      <td>0.0</td>\n",
       "      <td>3</td>\n",
       "      <td>[8.0, 99.0]</td>\n",
       "    </tr>\n",
       "    <tr>\n",
       "      <th>4</th>\n",
       "      <td>merchantCategoryCode</td>\n",
       "      <td>object</td>\n",
       "      <td>0</td>\n",
       "      <td>0.0</td>\n",
       "      <td>19</td>\n",
       "      <td>[hotels, mobileapps]</td>\n",
       "    </tr>\n",
       "    <tr>\n",
       "      <th>5</th>\n",
       "      <td>transactionType</td>\n",
       "      <td>object</td>\n",
       "      <td>0</td>\n",
       "      <td>0.0</td>\n",
       "      <td>3</td>\n",
       "      <td>[ADDRESS_VERIFICATION, REVERSAL]</td>\n",
       "    </tr>\n",
       "    <tr>\n",
       "      <th>6</th>\n",
       "      <td>creditLimit</td>\n",
       "      <td>int64</td>\n",
       "      <td>0</td>\n",
       "      <td>0.0</td>\n",
       "      <td>10</td>\n",
       "      <td>[7500, 20000]</td>\n",
       "    </tr>\n",
       "    <tr>\n",
       "      <th>7</th>\n",
       "      <td>availableMoney</td>\n",
       "      <td>float64</td>\n",
       "      <td>0</td>\n",
       "      <td>0.0</td>\n",
       "      <td>446204</td>\n",
       "      <td>[39929.58, 4456.23]</td>\n",
       "    </tr>\n",
       "    <tr>\n",
       "      <th>8</th>\n",
       "      <td>transactionAmount</td>\n",
       "      <td>float64</td>\n",
       "      <td>0</td>\n",
       "      <td>0.0</td>\n",
       "      <td>62571</td>\n",
       "      <td>[30.28, 326.3]</td>\n",
       "    </tr>\n",
       "    <tr>\n",
       "      <th>9</th>\n",
       "      <td>currentBalance</td>\n",
       "      <td>float64</td>\n",
       "      <td>0</td>\n",
       "      <td>0.0</td>\n",
       "      <td>403487</td>\n",
       "      <td>[570.62, 228.48]</td>\n",
       "    </tr>\n",
       "    <tr>\n",
       "      <th>10</th>\n",
       "      <td>transactionDateTime</td>\n",
       "      <td>object</td>\n",
       "      <td>0</td>\n",
       "      <td>0.0</td>\n",
       "      <td>627556</td>\n",
       "      <td>[2016-08-17 17:14:32, 2016-09-03 02:11:34]</td>\n",
       "    </tr>\n",
       "    <tr>\n",
       "      <th>11</th>\n",
       "      <td>currentExpDate</td>\n",
       "      <td>object</td>\n",
       "      <td>0</td>\n",
       "      <td>0.0</td>\n",
       "      <td>165</td>\n",
       "      <td>[2025-01-12 00:00:00, 2027-01-02 00:00:00]</td>\n",
       "    </tr>\n",
       "    <tr>\n",
       "      <th>12</th>\n",
       "      <td>accountOpenDate</td>\n",
       "      <td>object</td>\n",
       "      <td>0</td>\n",
       "      <td>0.0</td>\n",
       "      <td>1826</td>\n",
       "      <td>[2009-03-03 00:00:00, 2006-10-26 00:00:00]</td>\n",
       "    </tr>\n",
       "    <tr>\n",
       "      <th>13</th>\n",
       "      <td>dateOfLastAddressChange</td>\n",
       "      <td>object</td>\n",
       "      <td>0</td>\n",
       "      <td>0.0</td>\n",
       "      <td>2186</td>\n",
       "      <td>[2016-02-21 00:00:00, 2015-12-07 00:00:00]</td>\n",
       "    </tr>\n",
       "    <tr>\n",
       "      <th>14</th>\n",
       "      <td>isFraud</td>\n",
       "      <td>object</td>\n",
       "      <td>0</td>\n",
       "      <td>0.0</td>\n",
       "      <td>2</td>\n",
       "      <td>[Yes, No]</td>\n",
       "    </tr>\n",
       "    <tr>\n",
       "      <th>15</th>\n",
       "      <td>cardPresent</td>\n",
       "      <td>object</td>\n",
       "      <td>0</td>\n",
       "      <td>0.0</td>\n",
       "      <td>2</td>\n",
       "      <td>[Yes, No]</td>\n",
       "    </tr>\n",
       "    <tr>\n",
       "      <th>16</th>\n",
       "      <td>expirationDateKeyInMatch</td>\n",
       "      <td>object</td>\n",
       "      <td>0</td>\n",
       "      <td>0.0</td>\n",
       "      <td>2</td>\n",
       "      <td>[Yes, No]</td>\n",
       "    </tr>\n",
       "  </tbody>\n",
       "</table>\n",
       "</div>"
      ],
      "text/plain": [
       "                dataFeatures dataType  null  nullPct  Nunique  \\\n",
       "0                 acqCountry   object     0      0.0        4   \n",
       "1        merchantCountryCode   object     0      0.0        4   \n",
       "2               posEntryMode  float64     0      0.0        5   \n",
       "3           posConditionCode  float64     0      0.0        3   \n",
       "4       merchantCategoryCode   object     0      0.0       19   \n",
       "5            transactionType   object     0      0.0        3   \n",
       "6                creditLimit    int64     0      0.0       10   \n",
       "7             availableMoney  float64     0      0.0   446204   \n",
       "8          transactionAmount  float64     0      0.0    62571   \n",
       "9             currentBalance  float64     0      0.0   403487   \n",
       "10       transactionDateTime   object     0      0.0   627556   \n",
       "11            currentExpDate   object     0      0.0      165   \n",
       "12           accountOpenDate   object     0      0.0     1826   \n",
       "13   dateOfLastAddressChange   object     0      0.0     2186   \n",
       "14                   isFraud   object     0      0.0        2   \n",
       "15               cardPresent   object     0      0.0        2   \n",
       "16  expirationDateKeyInMatch   object     0      0.0        2   \n",
       "\n",
       "                                  uniqueSample  \n",
       "0                                    [MEX, US]  \n",
       "1                                     [US, PR]  \n",
       "2                                   [9.0, 2.0]  \n",
       "3                                  [8.0, 99.0]  \n",
       "4                         [hotels, mobileapps]  \n",
       "5             [ADDRESS_VERIFICATION, REVERSAL]  \n",
       "6                                [7500, 20000]  \n",
       "7                          [39929.58, 4456.23]  \n",
       "8                               [30.28, 326.3]  \n",
       "9                             [570.62, 228.48]  \n",
       "10  [2016-08-17 17:14:32, 2016-09-03 02:11:34]  \n",
       "11  [2025-01-12 00:00:00, 2027-01-02 00:00:00]  \n",
       "12  [2009-03-03 00:00:00, 2006-10-26 00:00:00]  \n",
       "13  [2016-02-21 00:00:00, 2015-12-07 00:00:00]  \n",
       "14                                   [Yes, No]  \n",
       "15                                   [Yes, No]  \n",
       "16                                   [Yes, No]  "
      ]
     },
     "execution_count": 5,
     "metadata": {},
     "output_type": "execute_result"
    }
   ],
   "source": [
    "pd.DataFrame({'dataFeatures' : df.columns, 'dataType' : df.dtypes.values, \n",
    "              'null' : [df[i].isna().sum() for i in df.columns],\n",
    "              'nullPct' : [((df[i].isna().sum()/len(df[i]))*100).round(1) for i in df.columns],\n",
    "              'Nunique' : [df[i].nunique() for i in df.columns],\n",
    "              'uniqueSample' : [list(pd.Series(df[i].unique()).sample(2)) for i in df.columns]}).reset_index(drop = True)"
   ]
  },
  {
   "cell_type": "markdown",
   "metadata": {},
   "source": [
    "> Data sudah bersih dari *null values*, namun sepertinya tipe datanya kembali seperti semula. Selanjutnya kita rapihkan dahulu setelah itu, kita masuk ke proses *Feature Engineering*."
   ]
  },
  {
   "cell_type": "code",
   "execution_count": 6,
   "metadata": {},
   "outputs": [],
   "source": [
    "# Rubah data ke datetime\n",
    "\n",
    "error = []\n",
    "for i in df[['transactionDateTime', 'currentExpDate', 'accountOpenDate', 'dateOfLastAddressChange']]:\n",
    "    try : \n",
    "        df[i] = pd.to_datetime(df[i])\n",
    "    except :\n",
    "        error.append(i)"
   ]
  },
  {
   "cell_type": "code",
   "execution_count": 7,
   "metadata": {},
   "outputs": [],
   "source": [
    "# Rubah data ke object\n",
    "\n",
    "for i in df[['posEntryMode', 'posConditionCode']]:\n",
    "    df[i] = df[i].astype('object')"
   ]
  },
  {
   "cell_type": "code",
   "execution_count": 8,
   "metadata": {},
   "outputs": [
    {
     "name": "stdout",
     "output_type": "stream",
     "text": [
      "<class 'pandas.core.frame.DataFrame'>\n",
      "RangeIndex: 633846 entries, 0 to 633845\n",
      "Data columns (total 17 columns):\n",
      " #   Column                    Non-Null Count   Dtype         \n",
      "---  ------                    --------------   -----         \n",
      " 0   acqCountry                633846 non-null  object        \n",
      " 1   merchantCountryCode       633846 non-null  object        \n",
      " 2   posEntryMode              633846 non-null  object        \n",
      " 3   posConditionCode          633846 non-null  object        \n",
      " 4   merchantCategoryCode      633846 non-null  object        \n",
      " 5   transactionType           633846 non-null  object        \n",
      " 6   creditLimit               633846 non-null  int64         \n",
      " 7   availableMoney            633846 non-null  float64       \n",
      " 8   transactionAmount         633846 non-null  float64       \n",
      " 9   currentBalance            633846 non-null  float64       \n",
      " 10  transactionDateTime       633846 non-null  datetime64[ns]\n",
      " 11  currentExpDate            633846 non-null  datetime64[ns]\n",
      " 12  accountOpenDate           633846 non-null  datetime64[ns]\n",
      " 13  dateOfLastAddressChange   633846 non-null  datetime64[ns]\n",
      " 14  isFraud                   633846 non-null  object        \n",
      " 15  cardPresent               633846 non-null  object        \n",
      " 16  expirationDateKeyInMatch  633846 non-null  object        \n",
      "dtypes: datetime64[ns](4), float64(3), int64(1), object(9)\n",
      "memory usage: 82.2+ MB\n"
     ]
    }
   ],
   "source": [
    "df.info()"
   ]
  },
  {
   "cell_type": "markdown",
   "metadata": {},
   "source": [
    "> Data sudah rapih seperti sebelumnya. Kita bisa lanjutkan ke *Feature Engineering*."
   ]
  },
  {
   "cell_type": "markdown",
   "metadata": {},
   "source": [
    "## FEATURE ENGINEERING"
   ]
  },
  {
   "cell_type": "markdown",
   "metadata": {},
   "source": [
    "> Sebelum mulai, saya akan membagi menjadi 2 kategori agar mudah ketika feature engineering."
   ]
  },
  {
   "cell_type": "code",
   "execution_count": 9,
   "metadata": {},
   "outputs": [],
   "source": [
    "df_cat = df.select_dtypes('object')\n",
    "df_con = df.select_dtypes(['int64', 'float64'])\n",
    "df_date = df.select_dtypes('datetime64[ns]')"
   ]
  },
  {
   "cell_type": "code",
   "execution_count": 10,
   "metadata": {},
   "outputs": [
    {
     "data": {
      "text/html": [
       "<div>\n",
       "<style scoped>\n",
       "    .dataframe tbody tr th:only-of-type {\n",
       "        vertical-align: middle;\n",
       "    }\n",
       "\n",
       "    .dataframe tbody tr th {\n",
       "        vertical-align: top;\n",
       "    }\n",
       "\n",
       "    .dataframe thead th {\n",
       "        text-align: right;\n",
       "    }\n",
       "</style>\n",
       "<table border=\"1\" class=\"dataframe\">\n",
       "  <thead>\n",
       "    <tr style=\"text-align: right;\">\n",
       "      <th></th>\n",
       "      <th>0</th>\n",
       "      <th>1</th>\n",
       "      <th>2</th>\n",
       "    </tr>\n",
       "  </thead>\n",
       "  <tbody>\n",
       "    <tr>\n",
       "      <th>acqCountry</th>\n",
       "      <td>US</td>\n",
       "      <td>US</td>\n",
       "      <td>US</td>\n",
       "    </tr>\n",
       "    <tr>\n",
       "      <th>merchantCountryCode</th>\n",
       "      <td>US</td>\n",
       "      <td>US</td>\n",
       "      <td>US</td>\n",
       "    </tr>\n",
       "    <tr>\n",
       "      <th>posEntryMode</th>\n",
       "      <td>5</td>\n",
       "      <td>9</td>\n",
       "      <td>5</td>\n",
       "    </tr>\n",
       "    <tr>\n",
       "      <th>posConditionCode</th>\n",
       "      <td>1</td>\n",
       "      <td>1</td>\n",
       "      <td>1</td>\n",
       "    </tr>\n",
       "    <tr>\n",
       "      <th>merchantCategoryCode</th>\n",
       "      <td>rideshare</td>\n",
       "      <td>rideshare</td>\n",
       "      <td>rideshare</td>\n",
       "    </tr>\n",
       "    <tr>\n",
       "      <th>transactionType</th>\n",
       "      <td>PURCHASE</td>\n",
       "      <td>PURCHASE</td>\n",
       "      <td>PURCHASE</td>\n",
       "    </tr>\n",
       "    <tr>\n",
       "      <th>isFraud</th>\n",
       "      <td>Yes</td>\n",
       "      <td>No</td>\n",
       "      <td>No</td>\n",
       "    </tr>\n",
       "    <tr>\n",
       "      <th>cardPresent</th>\n",
       "      <td>No</td>\n",
       "      <td>No</td>\n",
       "      <td>No</td>\n",
       "    </tr>\n",
       "    <tr>\n",
       "      <th>expirationDateKeyInMatch</th>\n",
       "      <td>No</td>\n",
       "      <td>No</td>\n",
       "      <td>No</td>\n",
       "    </tr>\n",
       "  </tbody>\n",
       "</table>\n",
       "</div>"
      ],
      "text/plain": [
       "                                  0          1          2\n",
       "acqCountry                       US         US         US\n",
       "merchantCountryCode              US         US         US\n",
       "posEntryMode                      5          9          5\n",
       "posConditionCode                  1          1          1\n",
       "merchantCategoryCode      rideshare  rideshare  rideshare\n",
       "transactionType            PURCHASE   PURCHASE   PURCHASE\n",
       "isFraud                         Yes         No         No\n",
       "cardPresent                      No         No         No\n",
       "expirationDateKeyInMatch         No         No         No"
      ]
     },
     "execution_count": 10,
     "metadata": {},
     "output_type": "execute_result"
    }
   ],
   "source": [
    "df_cat.head(3).T"
   ]
  },
  {
   "cell_type": "code",
   "execution_count": 11,
   "metadata": {},
   "outputs": [
    {
     "data": {
      "text/html": [
       "<div>\n",
       "<style scoped>\n",
       "    .dataframe tbody tr th:only-of-type {\n",
       "        vertical-align: middle;\n",
       "    }\n",
       "\n",
       "    .dataframe tbody tr th {\n",
       "        vertical-align: top;\n",
       "    }\n",
       "\n",
       "    .dataframe thead th {\n",
       "        text-align: right;\n",
       "    }\n",
       "</style>\n",
       "<table border=\"1\" class=\"dataframe\">\n",
       "  <thead>\n",
       "    <tr style=\"text-align: right;\">\n",
       "      <th></th>\n",
       "      <th>0</th>\n",
       "      <th>1</th>\n",
       "      <th>2</th>\n",
       "    </tr>\n",
       "  </thead>\n",
       "  <tbody>\n",
       "    <tr>\n",
       "      <th>creditLimit</th>\n",
       "      <td>5000.00</td>\n",
       "      <td>5000.00</td>\n",
       "      <td>5000.00</td>\n",
       "    </tr>\n",
       "    <tr>\n",
       "      <th>availableMoney</th>\n",
       "      <td>5000.00</td>\n",
       "      <td>4888.67</td>\n",
       "      <td>4863.92</td>\n",
       "    </tr>\n",
       "    <tr>\n",
       "      <th>transactionAmount</th>\n",
       "      <td>111.33</td>\n",
       "      <td>24.75</td>\n",
       "      <td>187.40</td>\n",
       "    </tr>\n",
       "    <tr>\n",
       "      <th>currentBalance</th>\n",
       "      <td>0.00</td>\n",
       "      <td>111.33</td>\n",
       "      <td>136.08</td>\n",
       "    </tr>\n",
       "  </tbody>\n",
       "</table>\n",
       "</div>"
      ],
      "text/plain": [
       "                         0        1        2\n",
       "creditLimit        5000.00  5000.00  5000.00\n",
       "availableMoney     5000.00  4888.67  4863.92\n",
       "transactionAmount   111.33    24.75   187.40\n",
       "currentBalance        0.00   111.33   136.08"
      ]
     },
     "execution_count": 11,
     "metadata": {},
     "output_type": "execute_result"
    }
   ],
   "source": [
    "df_con.head(3).T"
   ]
  },
  {
   "cell_type": "markdown",
   "metadata": {},
   "source": [
    "### NORMALITY AND OUTLIER CHECK"
   ]
  },
  {
   "cell_type": "markdown",
   "metadata": {},
   "source": [
    "> Pertama kita lakukan uji normalitas dan cek outlier pada setiap data nominal."
   ]
  },
  {
   "cell_type": "code",
   "execution_count": 12,
   "metadata": {},
   "outputs": [],
   "source": [
    "def normal(df):\n",
    "    \n",
    "    stat = anderson(df)[0]\n",
    "    cval = anderson(df)[1][2]\n",
    "    if stat < cval :\n",
    "        print('NORMALLY Distributed for ' + i + ' Variable')\n",
    "    else :\n",
    "        print('NOT NORMALLY Distributed for ' + i + ' Variable')"
   ]
  },
  {
   "cell_type": "code",
   "execution_count": 13,
   "metadata": {},
   "outputs": [
    {
     "name": "stdout",
     "output_type": "stream",
     "text": [
      "NOT NORMALLY Distributed for creditLimit Variable\n",
      "NOT NORMALLY Distributed for availableMoney Variable\n",
      "NOT NORMALLY Distributed for transactionAmount Variable\n",
      "NOT NORMALLY Distributed for currentBalance Variable\n"
     ]
    }
   ],
   "source": [
    "for i in df_con.columns :\n",
    "    normal(df_con[i])"
   ]
  },
  {
   "cell_type": "markdown",
   "metadata": {},
   "source": [
    "> Pengujian menggunakan **anderson method** menyatakan bahwa distribusi tidak normal. Di bawah ini kita lakukan visualisasi menggunakan **qqplot**."
   ]
  },
  {
   "cell_type": "code",
   "execution_count": 14,
   "metadata": {},
   "outputs": [
    {
     "data": {
      "text/plain": [
       "<Figure size 864x360 with 0 Axes>"
      ]
     },
     "metadata": {},
     "output_type": "display_data"
    },
    {
     "data": {
      "image/png": "[encoded data removed]",
      "text/plain": [
       "<Figure size 576x396 with 1 Axes>"
      ]
     },
     "metadata": {},
     "output_type": "display_data"
    },
    {
     "data": {
      "text/plain": [
       "<Figure size 864x360 with 0 Axes>"
      ]
     },
     "metadata": {},
     "output_type": "display_data"
    },
    {
     "data": {
      "image/png": "[encoded data removed]",
      "text/plain": [
       "<Figure size 576x396 with 1 Axes>"
      ]
     },
     "metadata": {},
     "output_type": "display_data"
    },
    {
     "data": {
      "text/plain": [
       "<Figure size 864x360 with 0 Axes>"
      ]
     },
     "metadata": {},
     "output_type": "display_data"
    },
    {
     "data": {
      "image/png": "[encoded data removed]",
      "text/plain": [
       "<Figure size 576x396 with 1 Axes>"
      ]
     },
     "metadata": {},
     "output_type": "display_data"
    },
    {
     "data": {
      "text/plain": [
       "<Figure size 864x360 with 0 Axes>"
      ]
     },
     "metadata": {},
     "output_type": "display_data"
    },
    {
     "data": {
      "image/png": "[encoded data removed]",
      "text/plain": [
       "<Figure size 576x396 with 1 Axes>"
      ]
     },
     "metadata": {},
     "output_type": "display_data"
    }
   ],
   "source": [
    "for i in df_con.columns :\n",
    "    \n",
    "    plt.figure(figsize = (12,5))\n",
    "    \n",
    "    sm.qqplot(df[i], line = '45')\n",
    "    plt.xlabel(i, fontsize = 12)\n",
    "    plt.title('QQ PLOT of ' + i, fontsize = 22)\n",
    "    \n",
    "    plt.tight_layout()\n",
    "    plt.show()"
   ]
  },
  {
   "cell_type": "markdown",
   "metadata": {},
   "source": [
    "> Sekarang kita cek outliersnya."
   ]
  },
  {
   "cell_type": "code",
   "execution_count": 15,
   "metadata": {},
   "outputs": [
    {
     "data": {
      "image/png": "[encoded data removed]",
      "text/plain": [
       "<Figure size 1440x720 with 1 Axes>"
      ]
     },
     "metadata": {},
     "output_type": "display_data"
    }
   ],
   "source": [
    "plt.figure(figsize = (20,10))\n",
    "sns.boxplot(data=df_con)\n",
    "plt.tight_layout()\n",
    "plt.show()"
   ]
  },
  {
   "cell_type": "markdown",
   "metadata": {},
   "source": [
    "> Terlihat sekali data memiliki banyak outliers. "
   ]
  },
  {
   "cell_type": "code",
   "execution_count": 16,
   "metadata": {},
   "outputs": [],
   "source": [
    "def outliers(df):\n",
    "    Q2 = np.quantile(df, 0.50)\n",
    "    Q1 = np.quantile(df, 0.25)\n",
    "    Q3 = np.quantile(df, 0.75)\n",
    "    \n",
    "    IQR   = (Q3 - Q1) * 1.5\n",
    "    lower =  Q1 - IQR\n",
    "    upper =  Q3 + IQR \n",
    "\n",
    "    outlier = ''\n",
    "    for i in range(len(df)):\n",
    "        if df[i] > upper :\n",
    "            outlier = outlier + str(df[i]) + ', '\n",
    "        if df[i] < lower :\n",
    "            outlier = outlier + str(df[i]) + ', '\n",
    "    return len(outlier)"
   ]
  },
  {
   "cell_type": "code",
   "execution_count": 17,
   "metadata": {},
   "outputs": [
    {
     "name": "stdout",
     "output_type": "stream",
     "text": [
      "There are 263123 Outliers on creditLimit Features\n",
      "There are 437167 Outliers on availableMoney Features\n",
      "There are 262271 Outliers on transactionAmount Features\n",
      "There are 471246 Outliers on currentBalance Features\n"
     ]
    }
   ],
   "source": [
    "# Mencari outlier pada tiap features\n",
    "\n",
    "for i in df_con.columns:\n",
    "    outlier = outliers(df_con[i])\n",
    "    print(f'There are {outlier} Outliers on {i} Features')"
   ]
  },
  {
   "cell_type": "markdown",
   "metadata": {},
   "source": [
    "> Terdapat ratusan ribu outlier pada tiap features. Dalam kasus semacam ini hal ini bisa saja terjadi, sehingga sepertinya tidak memungkinkan ketika di drop seluruh outliers ini. Akan lebih memungkinkan ketika kita menggunakan `RobustScaler()` nanti."
   ]
  },
  {
   "cell_type": "markdown",
   "metadata": {},
   "source": [
    "### LABELLING"
   ]
  },
  {
   "cell_type": "markdown",
   "metadata": {},
   "source": [
    "> Karena seluruh data dalam categorical features kali ini tergolong data nominal, maka kita gunakan `pd.get_dummies()` untuk proses labelling nya."
   ]
  },
  {
   "cell_type": "code",
   "execution_count": 18,
   "metadata": {},
   "outputs": [
    {
     "data": {
      "text/html": [
       "<div>\n",
       "<style scoped>\n",
       "    .dataframe tbody tr th:only-of-type {\n",
       "        vertical-align: middle;\n",
       "    }\n",
       "\n",
       "    .dataframe tbody tr th {\n",
       "        vertical-align: top;\n",
       "    }\n",
       "\n",
       "    .dataframe thead th {\n",
       "        text-align: right;\n",
       "    }\n",
       "</style>\n",
       "<table border=\"1\" class=\"dataframe\">\n",
       "  <thead>\n",
       "    <tr style=\"text-align: right;\">\n",
       "      <th></th>\n",
       "      <th>dataFeatures</th>\n",
       "      <th>dataType</th>\n",
       "      <th>Nunique</th>\n",
       "      <th>uniqueSample</th>\n",
       "    </tr>\n",
       "  </thead>\n",
       "  <tbody>\n",
       "    <tr>\n",
       "      <th>0</th>\n",
       "      <td>acqCountry</td>\n",
       "      <td>object</td>\n",
       "      <td>4</td>\n",
       "      <td>[MEX, PR]</td>\n",
       "    </tr>\n",
       "    <tr>\n",
       "      <th>1</th>\n",
       "      <td>merchantCountryCode</td>\n",
       "      <td>object</td>\n",
       "      <td>4</td>\n",
       "      <td>[MEX, PR]</td>\n",
       "    </tr>\n",
       "    <tr>\n",
       "      <th>2</th>\n",
       "      <td>posEntryMode</td>\n",
       "      <td>object</td>\n",
       "      <td>5</td>\n",
       "      <td>[5.0, 90.0]</td>\n",
       "    </tr>\n",
       "    <tr>\n",
       "      <th>3</th>\n",
       "      <td>posConditionCode</td>\n",
       "      <td>object</td>\n",
       "      <td>3</td>\n",
       "      <td>[1.0, 8.0]</td>\n",
       "    </tr>\n",
       "    <tr>\n",
       "      <th>4</th>\n",
       "      <td>merchantCategoryCode</td>\n",
       "      <td>object</td>\n",
       "      <td>19</td>\n",
       "      <td>[mobileapps, food]</td>\n",
       "    </tr>\n",
       "    <tr>\n",
       "      <th>5</th>\n",
       "      <td>transactionType</td>\n",
       "      <td>object</td>\n",
       "      <td>3</td>\n",
       "      <td>[REVERSAL, PURCHASE]</td>\n",
       "    </tr>\n",
       "    <tr>\n",
       "      <th>6</th>\n",
       "      <td>isFraud</td>\n",
       "      <td>object</td>\n",
       "      <td>2</td>\n",
       "      <td>[No, Yes]</td>\n",
       "    </tr>\n",
       "    <tr>\n",
       "      <th>7</th>\n",
       "      <td>cardPresent</td>\n",
       "      <td>object</td>\n",
       "      <td>2</td>\n",
       "      <td>[No, Yes]</td>\n",
       "    </tr>\n",
       "    <tr>\n",
       "      <th>8</th>\n",
       "      <td>expirationDateKeyInMatch</td>\n",
       "      <td>object</td>\n",
       "      <td>2</td>\n",
       "      <td>[Yes, No]</td>\n",
       "    </tr>\n",
       "  </tbody>\n",
       "</table>\n",
       "</div>"
      ],
      "text/plain": [
       "               dataFeatures dataType  Nunique          uniqueSample\n",
       "0                acqCountry   object        4             [MEX, PR]\n",
       "1       merchantCountryCode   object        4             [MEX, PR]\n",
       "2              posEntryMode   object        5           [5.0, 90.0]\n",
       "3          posConditionCode   object        3            [1.0, 8.0]\n",
       "4      merchantCategoryCode   object       19    [mobileapps, food]\n",
       "5           transactionType   object        3  [REVERSAL, PURCHASE]\n",
       "6                   isFraud   object        2             [No, Yes]\n",
       "7               cardPresent   object        2             [No, Yes]\n",
       "8  expirationDateKeyInMatch   object        2             [Yes, No]"
      ]
     },
     "execution_count": 18,
     "metadata": {},
     "output_type": "execute_result"
    }
   ],
   "source": [
    "pd.DataFrame({'dataFeatures' : df_cat.columns, 'dataType' : df_cat.dtypes.values, \n",
    "              'Nunique' : [df_cat[i].nunique() for i in df_cat.columns],\n",
    "              'uniqueSample' : [list(pd.Series(df_cat[i].unique()).sample(2)) for i in df_cat.columns]}).reset_index(drop = True)"
   ]
  },
  {
   "cell_type": "code",
   "execution_count": 19,
   "metadata": {},
   "outputs": [],
   "source": [
    "encoder = LabelEncoder()\n",
    "df_cat['isFraud'] = encoder.fit_transform(df_cat[['isFraud']])"
   ]
  },
  {
   "cell_type": "markdown",
   "metadata": {},
   "source": [
    "> **isFraud** features menggunakan `LabelEncoder()` karena merupakan target."
   ]
  },
  {
   "cell_type": "code",
   "execution_count": 20,
   "metadata": {},
   "outputs": [],
   "source": [
    "for i in df_cat.drop(columns = ['isFraud']):\n",
    "    df_cat = pd.get_dummies(df_cat, drop_first=True)"
   ]
  },
  {
   "cell_type": "code",
   "execution_count": 21,
   "metadata": {},
   "outputs": [
    {
     "data": {
      "text/html": [
       "<div>\n",
       "<style scoped>\n",
       "    .dataframe tbody tr th:only-of-type {\n",
       "        vertical-align: middle;\n",
       "    }\n",
       "\n",
       "    .dataframe tbody tr th {\n",
       "        vertical-align: top;\n",
       "    }\n",
       "\n",
       "    .dataframe thead th {\n",
       "        text-align: right;\n",
       "    }\n",
       "</style>\n",
       "<table border=\"1\" class=\"dataframe\">\n",
       "  <thead>\n",
       "    <tr style=\"text-align: right;\">\n",
       "      <th></th>\n",
       "      <th>isFraud</th>\n",
       "      <th>acqCountry_MEX</th>\n",
       "      <th>acqCountry_PR</th>\n",
       "      <th>acqCountry_US</th>\n",
       "      <th>merchantCountryCode_MEX</th>\n",
       "      <th>merchantCountryCode_PR</th>\n",
       "      <th>merchantCountryCode_US</th>\n",
       "      <th>posEntryMode_5.0</th>\n",
       "      <th>posEntryMode_9.0</th>\n",
       "      <th>posEntryMode_80.0</th>\n",
       "      <th>...</th>\n",
       "      <th>merchantCategoryCode_online_gifts</th>\n",
       "      <th>merchantCategoryCode_online_retail</th>\n",
       "      <th>merchantCategoryCode_online_subscriptions</th>\n",
       "      <th>merchantCategoryCode_personal care</th>\n",
       "      <th>merchantCategoryCode_rideshare</th>\n",
       "      <th>merchantCategoryCode_subscriptions</th>\n",
       "      <th>transactionType_PURCHASE</th>\n",
       "      <th>transactionType_REVERSAL</th>\n",
       "      <th>cardPresent_Yes</th>\n",
       "      <th>expirationDateKeyInMatch_Yes</th>\n",
       "    </tr>\n",
       "  </thead>\n",
       "  <tbody>\n",
       "    <tr>\n",
       "      <th>0</th>\n",
       "      <td>1</td>\n",
       "      <td>0</td>\n",
       "      <td>0</td>\n",
       "      <td>1</td>\n",
       "      <td>0</td>\n",
       "      <td>0</td>\n",
       "      <td>1</td>\n",
       "      <td>1</td>\n",
       "      <td>0</td>\n",
       "      <td>0</td>\n",
       "      <td>...</td>\n",
       "      <td>0</td>\n",
       "      <td>0</td>\n",
       "      <td>0</td>\n",
       "      <td>0</td>\n",
       "      <td>1</td>\n",
       "      <td>0</td>\n",
       "      <td>1</td>\n",
       "      <td>0</td>\n",
       "      <td>0</td>\n",
       "      <td>0</td>\n",
       "    </tr>\n",
       "    <tr>\n",
       "      <th>1</th>\n",
       "      <td>0</td>\n",
       "      <td>0</td>\n",
       "      <td>0</td>\n",
       "      <td>1</td>\n",
       "      <td>0</td>\n",
       "      <td>0</td>\n",
       "      <td>1</td>\n",
       "      <td>0</td>\n",
       "      <td>1</td>\n",
       "      <td>0</td>\n",
       "      <td>...</td>\n",
       "      <td>0</td>\n",
       "      <td>0</td>\n",
       "      <td>0</td>\n",
       "      <td>0</td>\n",
       "      <td>1</td>\n",
       "      <td>0</td>\n",
       "      <td>1</td>\n",
       "      <td>0</td>\n",
       "      <td>0</td>\n",
       "      <td>0</td>\n",
       "    </tr>\n",
       "    <tr>\n",
       "      <th>2</th>\n",
       "      <td>0</td>\n",
       "      <td>0</td>\n",
       "      <td>0</td>\n",
       "      <td>1</td>\n",
       "      <td>0</td>\n",
       "      <td>0</td>\n",
       "      <td>1</td>\n",
       "      <td>1</td>\n",
       "      <td>0</td>\n",
       "      <td>0</td>\n",
       "      <td>...</td>\n",
       "      <td>0</td>\n",
       "      <td>0</td>\n",
       "      <td>0</td>\n",
       "      <td>0</td>\n",
       "      <td>1</td>\n",
       "      <td>0</td>\n",
       "      <td>1</td>\n",
       "      <td>0</td>\n",
       "      <td>0</td>\n",
       "      <td>0</td>\n",
       "    </tr>\n",
       "  </tbody>\n",
       "</table>\n",
       "<p>3 rows × 35 columns</p>\n",
       "</div>"
      ],
      "text/plain": [
       "   isFraud  acqCountry_MEX  acqCountry_PR  acqCountry_US  \\\n",
       "0        1               0              0              1   \n",
       "1        0               0              0              1   \n",
       "2        0               0              0              1   \n",
       "\n",
       "   merchantCountryCode_MEX  merchantCountryCode_PR  merchantCountryCode_US  \\\n",
       "0                        0                       0                       1   \n",
       "1                        0                       0                       1   \n",
       "2                        0                       0                       1   \n",
       "\n",
       "   posEntryMode_5.0  posEntryMode_9.0  posEntryMode_80.0  ...  \\\n",
       "0                 1                 0                  0  ...   \n",
       "1                 0                 1                  0  ...   \n",
       "2                 1                 0                  0  ...   \n",
       "\n",
       "   merchantCategoryCode_online_gifts  merchantCategoryCode_online_retail  \\\n",
       "0                                  0                                   0   \n",
       "1                                  0                                   0   \n",
       "2                                  0                                   0   \n",
       "\n",
       "   merchantCategoryCode_online_subscriptions  \\\n",
       "0                                          0   \n",
       "1                                          0   \n",
       "2                                          0   \n",
       "\n",
       "   merchantCategoryCode_personal care  merchantCategoryCode_rideshare  \\\n",
       "0                                   0                               1   \n",
       "1                                   0                               1   \n",
       "2                                   0                               1   \n",
       "\n",
       "   merchantCategoryCode_subscriptions  transactionType_PURCHASE  \\\n",
       "0                                   0                         1   \n",
       "1                                   0                         1   \n",
       "2                                   0                         1   \n",
       "\n",
       "   transactionType_REVERSAL  cardPresent_Yes  expirationDateKeyInMatch_Yes  \n",
       "0                         0                0                             0  \n",
       "1                         0                0                             0  \n",
       "2                         0                0                             0  \n",
       "\n",
       "[3 rows x 35 columns]"
      ]
     },
     "execution_count": 21,
     "metadata": {},
     "output_type": "execute_result"
    }
   ],
   "source": [
    "df_cat.head(3)"
   ]
  },
  {
   "cell_type": "markdown",
   "metadata": {},
   "source": [
    "> Selanjutnya kita akan persiapkan data untuk di scaling. "
   ]
  },
  {
   "cell_type": "code",
   "execution_count": 22,
   "metadata": {},
   "outputs": [],
   "source": [
    "# for i in df_con.columns :\n",
    "#     scaler = RobustScaler()\n",
    "#     df_con[i] = scaler.fit_transform(df[[i]])"
   ]
  },
  {
   "cell_type": "code",
   "execution_count": 23,
   "metadata": {},
   "outputs": [],
   "source": [
    "# Unscaled data\n",
    "\n",
    "df_new = pd.concat([df_con, df_cat], axis = 1)"
   ]
  },
  {
   "cell_type": "code",
   "execution_count": 24,
   "metadata": {},
   "outputs": [
    {
     "data": {
      "text/html": [
       "<div>\n",
       "<style scoped>\n",
       "    .dataframe tbody tr th:only-of-type {\n",
       "        vertical-align: middle;\n",
       "    }\n",
       "\n",
       "    .dataframe tbody tr th {\n",
       "        vertical-align: top;\n",
       "    }\n",
       "\n",
       "    .dataframe thead th {\n",
       "        text-align: right;\n",
       "    }\n",
       "</style>\n",
       "<table border=\"1\" class=\"dataframe\">\n",
       "  <thead>\n",
       "    <tr style=\"text-align: right;\">\n",
       "      <th></th>\n",
       "      <th>creditLimit</th>\n",
       "      <th>availableMoney</th>\n",
       "      <th>transactionAmount</th>\n",
       "      <th>currentBalance</th>\n",
       "      <th>isFraud</th>\n",
       "      <th>acqCountry_MEX</th>\n",
       "      <th>acqCountry_PR</th>\n",
       "      <th>acqCountry_US</th>\n",
       "      <th>merchantCountryCode_MEX</th>\n",
       "      <th>merchantCountryCode_PR</th>\n",
       "      <th>...</th>\n",
       "      <th>merchantCategoryCode_online_gifts</th>\n",
       "      <th>merchantCategoryCode_online_retail</th>\n",
       "      <th>merchantCategoryCode_online_subscriptions</th>\n",
       "      <th>merchantCategoryCode_personal care</th>\n",
       "      <th>merchantCategoryCode_rideshare</th>\n",
       "      <th>merchantCategoryCode_subscriptions</th>\n",
       "      <th>transactionType_PURCHASE</th>\n",
       "      <th>transactionType_REVERSAL</th>\n",
       "      <th>cardPresent_Yes</th>\n",
       "      <th>expirationDateKeyInMatch_Yes</th>\n",
       "    </tr>\n",
       "  </thead>\n",
       "  <tbody>\n",
       "    <tr>\n",
       "      <th>0</th>\n",
       "      <td>5000</td>\n",
       "      <td>5000.00</td>\n",
       "      <td>111.33</td>\n",
       "      <td>0.00</td>\n",
       "      <td>1</td>\n",
       "      <td>0</td>\n",
       "      <td>0</td>\n",
       "      <td>1</td>\n",
       "      <td>0</td>\n",
       "      <td>0</td>\n",
       "      <td>...</td>\n",
       "      <td>0</td>\n",
       "      <td>0</td>\n",
       "      <td>0</td>\n",
       "      <td>0</td>\n",
       "      <td>1</td>\n",
       "      <td>0</td>\n",
       "      <td>1</td>\n",
       "      <td>0</td>\n",
       "      <td>0</td>\n",
       "      <td>0</td>\n",
       "    </tr>\n",
       "    <tr>\n",
       "      <th>1</th>\n",
       "      <td>5000</td>\n",
       "      <td>4888.67</td>\n",
       "      <td>24.75</td>\n",
       "      <td>111.33</td>\n",
       "      <td>0</td>\n",
       "      <td>0</td>\n",
       "      <td>0</td>\n",
       "      <td>1</td>\n",
       "      <td>0</td>\n",
       "      <td>0</td>\n",
       "      <td>...</td>\n",
       "      <td>0</td>\n",
       "      <td>0</td>\n",
       "      <td>0</td>\n",
       "      <td>0</td>\n",
       "      <td>1</td>\n",
       "      <td>0</td>\n",
       "      <td>1</td>\n",
       "      <td>0</td>\n",
       "      <td>0</td>\n",
       "      <td>0</td>\n",
       "    </tr>\n",
       "    <tr>\n",
       "      <th>2</th>\n",
       "      <td>5000</td>\n",
       "      <td>4863.92</td>\n",
       "      <td>187.40</td>\n",
       "      <td>136.08</td>\n",
       "      <td>0</td>\n",
       "      <td>0</td>\n",
       "      <td>0</td>\n",
       "      <td>1</td>\n",
       "      <td>0</td>\n",
       "      <td>0</td>\n",
       "      <td>...</td>\n",
       "      <td>0</td>\n",
       "      <td>0</td>\n",
       "      <td>0</td>\n",
       "      <td>0</td>\n",
       "      <td>1</td>\n",
       "      <td>0</td>\n",
       "      <td>1</td>\n",
       "      <td>0</td>\n",
       "      <td>0</td>\n",
       "      <td>0</td>\n",
       "    </tr>\n",
       "  </tbody>\n",
       "</table>\n",
       "<p>3 rows × 39 columns</p>\n",
       "</div>"
      ],
      "text/plain": [
       "   creditLimit  availableMoney  transactionAmount  currentBalance  isFraud  \\\n",
       "0         5000         5000.00             111.33            0.00        1   \n",
       "1         5000         4888.67              24.75          111.33        0   \n",
       "2         5000         4863.92             187.40          136.08        0   \n",
       "\n",
       "   acqCountry_MEX  acqCountry_PR  acqCountry_US  merchantCountryCode_MEX  \\\n",
       "0               0              0              1                        0   \n",
       "1               0              0              1                        0   \n",
       "2               0              0              1                        0   \n",
       "\n",
       "   merchantCountryCode_PR  ...  merchantCategoryCode_online_gifts  \\\n",
       "0                       0  ...                                  0   \n",
       "1                       0  ...                                  0   \n",
       "2                       0  ...                                  0   \n",
       "\n",
       "   merchantCategoryCode_online_retail  \\\n",
       "0                                   0   \n",
       "1                                   0   \n",
       "2                                   0   \n",
       "\n",
       "   merchantCategoryCode_online_subscriptions  \\\n",
       "0                                          0   \n",
       "1                                          0   \n",
       "2                                          0   \n",
       "\n",
       "   merchantCategoryCode_personal care  merchantCategoryCode_rideshare  \\\n",
       "0                                   0                               1   \n",
       "1                                   0                               1   \n",
       "2                                   0                               1   \n",
       "\n",
       "   merchantCategoryCode_subscriptions  transactionType_PURCHASE  \\\n",
       "0                                   0                         1   \n",
       "1                                   0                         1   \n",
       "2                                   0                         1   \n",
       "\n",
       "   transactionType_REVERSAL  cardPresent_Yes  expirationDateKeyInMatch_Yes  \n",
       "0                         0                0                             0  \n",
       "1                         0                0                             0  \n",
       "2                         0                0                             0  \n",
       "\n",
       "[3 rows x 39 columns]"
      ]
     },
     "execution_count": 24,
     "metadata": {},
     "output_type": "execute_result"
    }
   ],
   "source": [
    "df_new.head(3)"
   ]
  },
  {
   "cell_type": "markdown",
   "metadata": {},
   "source": [
    "### FEATURE IMPORTANCES"
   ]
  },
  {
   "cell_type": "markdown",
   "metadata": {},
   "source": [
    "> Feature importances atau feature / variable selection, merupakan pemilihan attribute atau subset variable yang relevan untuk digunakan pada model construction. Beberapa metode dapat dilakukan untuk melakukan feature importances ini. "
   ]
  },
  {
   "cell_type": "markdown",
   "metadata": {},
   "source": [
    "#### RECURSIVE FEATURE ELIMINATION"
   ]
  },
  {
   "cell_type": "markdown",
   "metadata": {},
   "source": [
    "> Recursive feature elimination (RFE) adalah suatu metode feature selection dengan cara metode model fitting lalu mengeliminasi feature yang paling lemah. Feature tersebut di urutkan berdasarkan coefficient modelnya. RFE mencoba mengeliminasi dependencies dan collinearity yang ada pada model."
   ]
  },
  {
   "cell_type": "code",
   "execution_count": 25,
   "metadata": {},
   "outputs": [],
   "source": [
    "X = df_new.drop(['isFraud'], axis = 1)\n",
    "y = df_new['isFraud']"
   ]
  },
  {
   "cell_type": "code",
   "execution_count": 26,
   "metadata": {},
   "outputs": [],
   "source": [
    "X_train, X_test, y_train, y_test = train_test_split(X, y, train_size = .8, random_state = 42)"
   ]
  },
  {
   "cell_type": "code",
   "execution_count": 27,
   "metadata": {},
   "outputs": [
    {
     "data": {
      "text/plain": [
       "creditLimit                 True\n",
       "availableMoney              True\n",
       "transactionAmount           True\n",
       "currentBalance              True\n",
       "acqCountry_US               True\n",
       "merchantCountryCode_US      True\n",
       "posEntryMode_5.0            True\n",
       "posEntryMode_9.0            True\n",
       "transactionType_PURCHASE    True\n",
       "cardPresent_Yes             True\n",
       "dtype: bool"
      ]
     },
     "execution_count": 27,
     "metadata": {},
     "output_type": "execute_result"
    }
   ],
   "source": [
    "# Select 10 best feature using RFE\n",
    "\n",
    "model = LogisticRegression(solver = 'lbfgs', penalty = 'none', max_iter = 10)\n",
    "rfe = RFE(model, n_features_to_select= 10)\n",
    "rfe = rfe.fit(X_train, y_train)\n",
    "\n",
    "# Summarize the selection of the attributes\n",
    "\n",
    "rfe_feat = pd.Series(rfe.support_, index=X.columns)\n",
    "rfe_feat[rfe_feat == True]"
   ]
  },
  {
   "cell_type": "code",
   "execution_count": 28,
   "metadata": {},
   "outputs": [],
   "source": [
    "rfe_col = rfe_feat[rfe_feat == True].index\n",
    "rfe_tgt = pd.DataFrame(df_new['isFraud'])"
   ]
  },
  {
   "cell_type": "code",
   "execution_count": 29,
   "metadata": {},
   "outputs": [],
   "source": [
    "df_rfe = pd.concat([df_new[rfe_col], rfe_tgt], axis=1)"
   ]
  },
  {
   "cell_type": "code",
   "execution_count": 30,
   "metadata": {},
   "outputs": [
    {
     "data": {
      "text/html": [
       "<div>\n",
       "<style scoped>\n",
       "    .dataframe tbody tr th:only-of-type {\n",
       "        vertical-align: middle;\n",
       "    }\n",
       "\n",
       "    .dataframe tbody tr th {\n",
       "        vertical-align: top;\n",
       "    }\n",
       "\n",
       "    .dataframe thead th {\n",
       "        text-align: right;\n",
       "    }\n",
       "</style>\n",
       "<table border=\"1\" class=\"dataframe\">\n",
       "  <thead>\n",
       "    <tr style=\"text-align: right;\">\n",
       "      <th></th>\n",
       "      <th>creditLimit</th>\n",
       "      <th>availableMoney</th>\n",
       "      <th>transactionAmount</th>\n",
       "      <th>currentBalance</th>\n",
       "      <th>acqCountry_US</th>\n",
       "      <th>merchantCountryCode_US</th>\n",
       "      <th>posEntryMode_5.0</th>\n",
       "      <th>posEntryMode_9.0</th>\n",
       "      <th>transactionType_PURCHASE</th>\n",
       "      <th>cardPresent_Yes</th>\n",
       "      <th>isFraud</th>\n",
       "    </tr>\n",
       "  </thead>\n",
       "  <tbody>\n",
       "    <tr>\n",
       "      <th>0</th>\n",
       "      <td>5000</td>\n",
       "      <td>5000.00</td>\n",
       "      <td>111.33</td>\n",
       "      <td>0.00</td>\n",
       "      <td>1</td>\n",
       "      <td>1</td>\n",
       "      <td>1</td>\n",
       "      <td>0</td>\n",
       "      <td>1</td>\n",
       "      <td>0</td>\n",
       "      <td>1</td>\n",
       "    </tr>\n",
       "    <tr>\n",
       "      <th>1</th>\n",
       "      <td>5000</td>\n",
       "      <td>4888.67</td>\n",
       "      <td>24.75</td>\n",
       "      <td>111.33</td>\n",
       "      <td>1</td>\n",
       "      <td>1</td>\n",
       "      <td>0</td>\n",
       "      <td>1</td>\n",
       "      <td>1</td>\n",
       "      <td>0</td>\n",
       "      <td>0</td>\n",
       "    </tr>\n",
       "    <tr>\n",
       "      <th>2</th>\n",
       "      <td>5000</td>\n",
       "      <td>4863.92</td>\n",
       "      <td>187.40</td>\n",
       "      <td>136.08</td>\n",
       "      <td>1</td>\n",
       "      <td>1</td>\n",
       "      <td>1</td>\n",
       "      <td>0</td>\n",
       "      <td>1</td>\n",
       "      <td>0</td>\n",
       "      <td>0</td>\n",
       "    </tr>\n",
       "  </tbody>\n",
       "</table>\n",
       "</div>"
      ],
      "text/plain": [
       "   creditLimit  availableMoney  transactionAmount  currentBalance  \\\n",
       "0         5000         5000.00             111.33            0.00   \n",
       "1         5000         4888.67              24.75          111.33   \n",
       "2         5000         4863.92             187.40          136.08   \n",
       "\n",
       "   acqCountry_US  merchantCountryCode_US  posEntryMode_5.0  posEntryMode_9.0  \\\n",
       "0              1                       1                 1                 0   \n",
       "1              1                       1                 0                 1   \n",
       "2              1                       1                 1                 0   \n",
       "\n",
       "   transactionType_PURCHASE  cardPresent_Yes  isFraud  \n",
       "0                         1                0        1  \n",
       "1                         1                0        0  \n",
       "2                         1                0        0  "
      ]
     },
     "execution_count": 30,
     "metadata": {},
     "output_type": "execute_result"
    }
   ],
   "source": [
    "df_rfe.head(3)"
   ]
  },
  {
   "cell_type": "markdown",
   "metadata": {},
   "source": [
    "> Kita sudah mendapatkan 10 feature yang dipilih dari metode RFE."
   ]
  },
  {
   "cell_type": "markdown",
   "metadata": {},
   "source": [
    "#### TREE BASED CLASSIFIER"
   ]
  },
  {
   "cell_type": "markdown",
   "metadata": {},
   "source": [
    "> Extremely Randomized Trees Classifier(Extra Trees Classifier) adalah salah satu jenis feature importances yang menggunakan teknik Ensemble Learning. Konsepnya mirip dengan Random Forest yang meng-agregasi hasil dari beberapa de-correlated Decision Tree untuk mengeluarkan outputnya."
   ]
  },
  {
   "cell_type": "code",
   "execution_count": 31,
   "metadata": {},
   "outputs": [
    {
     "name": "stdout",
     "output_type": "stream",
     "text": [
      "[3.11144075e-02 3.00087932e-01 3.38051174e-01 2.98987730e-01\n",
      " 2.46435089e-04 1.91641527e-04 3.92262523e-04 2.76443747e-04\n",
      " 2.00666289e-04 3.66606578e-04 3.27315200e-03 3.09203116e-03\n",
      " 1.29641696e-03 1.99964003e-03 3.18314053e-03 1.45165033e-03\n",
      " 6.04047037e-04 6.99920943e-05 9.89438417e-04 1.24161936e-03\n",
      " 8.07676910e-04 1.49125287e-04 5.53000856e-04 3.69897279e-04\n",
      " 7.34412267e-05 1.07787573e-03 7.06955370e-04 3.77653517e-04\n",
      " 1.13154923e-03 1.19393418e-03 3.03856267e-04 3.98308275e-04\n",
      " 1.00212432e-03 5.20280521e-04 9.52413529e-04 8.06085172e-04\n",
      " 2.08160042e-03 3.77794201e-04]\n"
     ]
    },
    {
     "data": {
      "image/png": "[encoded data removed]",
      "text/plain": [
       "<Figure size 576x396 with 1 Axes>"
      ]
     },
     "metadata": {},
     "output_type": "display_data"
    }
   ],
   "source": [
    "# feature importances using Tree Based Classifier\n",
    "\n",
    "model = ExtraTreesClassifier()\n",
    "model.fit(X,y)\n",
    "print(model.feature_importances_)\n",
    "\n",
    "# plot graph of feature importances for better visualization\n",
    "\n",
    "feat_importances = pd.Series(model.feature_importances_, index=X.columns)\n",
    "feat_importances.nlargest(10).plot(kind = 'barh')\n",
    "plt.show()"
   ]
  },
  {
   "cell_type": "code",
   "execution_count": 32,
   "metadata": {},
   "outputs": [],
   "source": [
    "feat_col = feat_importances.nlargest(10).index.tolist()\n",
    "feat_tgt = pd.DataFrame(df_new['isFraud'])"
   ]
  },
  {
   "cell_type": "code",
   "execution_count": 33,
   "metadata": {},
   "outputs": [],
   "source": [
    "df_etc = pd.concat([df_new[feat_col], feat_tgt], axis=1)"
   ]
  },
  {
   "cell_type": "code",
   "execution_count": 34,
   "metadata": {},
   "outputs": [
    {
     "data": {
      "text/html": [
       "<div>\n",
       "<style scoped>\n",
       "    .dataframe tbody tr th:only-of-type {\n",
       "        vertical-align: middle;\n",
       "    }\n",
       "\n",
       "    .dataframe tbody tr th {\n",
       "        vertical-align: top;\n",
       "    }\n",
       "\n",
       "    .dataframe thead th {\n",
       "        text-align: right;\n",
       "    }\n",
       "</style>\n",
       "<table border=\"1\" class=\"dataframe\">\n",
       "  <thead>\n",
       "    <tr style=\"text-align: right;\">\n",
       "      <th></th>\n",
       "      <th>transactionAmount</th>\n",
       "      <th>availableMoney</th>\n",
       "      <th>currentBalance</th>\n",
       "      <th>creditLimit</th>\n",
       "      <th>posEntryMode_5.0</th>\n",
       "      <th>posConditionCode_8.0</th>\n",
       "      <th>posEntryMode_9.0</th>\n",
       "      <th>cardPresent_Yes</th>\n",
       "      <th>posEntryMode_90.0</th>\n",
       "      <th>posConditionCode_99.0</th>\n",
       "      <th>isFraud</th>\n",
       "    </tr>\n",
       "  </thead>\n",
       "  <tbody>\n",
       "    <tr>\n",
       "      <th>0</th>\n",
       "      <td>111.33</td>\n",
       "      <td>5000.00</td>\n",
       "      <td>0.00</td>\n",
       "      <td>5000</td>\n",
       "      <td>1</td>\n",
       "      <td>0</td>\n",
       "      <td>0</td>\n",
       "      <td>0</td>\n",
       "      <td>0</td>\n",
       "      <td>0</td>\n",
       "      <td>1</td>\n",
       "    </tr>\n",
       "    <tr>\n",
       "      <th>1</th>\n",
       "      <td>24.75</td>\n",
       "      <td>4888.67</td>\n",
       "      <td>111.33</td>\n",
       "      <td>5000</td>\n",
       "      <td>0</td>\n",
       "      <td>0</td>\n",
       "      <td>1</td>\n",
       "      <td>0</td>\n",
       "      <td>0</td>\n",
       "      <td>0</td>\n",
       "      <td>0</td>\n",
       "    </tr>\n",
       "    <tr>\n",
       "      <th>2</th>\n",
       "      <td>187.40</td>\n",
       "      <td>4863.92</td>\n",
       "      <td>136.08</td>\n",
       "      <td>5000</td>\n",
       "      <td>1</td>\n",
       "      <td>0</td>\n",
       "      <td>0</td>\n",
       "      <td>0</td>\n",
       "      <td>0</td>\n",
       "      <td>0</td>\n",
       "      <td>0</td>\n",
       "    </tr>\n",
       "  </tbody>\n",
       "</table>\n",
       "</div>"
      ],
      "text/plain": [
       "   transactionAmount  availableMoney  currentBalance  creditLimit  \\\n",
       "0             111.33         5000.00            0.00         5000   \n",
       "1              24.75         4888.67          111.33         5000   \n",
       "2             187.40         4863.92          136.08         5000   \n",
       "\n",
       "   posEntryMode_5.0  posConditionCode_8.0  posEntryMode_9.0  cardPresent_Yes  \\\n",
       "0                 1                     0                 0                0   \n",
       "1                 0                     0                 1                0   \n",
       "2                 1                     0                 0                0   \n",
       "\n",
       "   posEntryMode_90.0  posConditionCode_99.0  isFraud  \n",
       "0                  0                      0        1  \n",
       "1                  0                      0        0  \n",
       "2                  0                      0        0  "
      ]
     },
     "execution_count": 34,
     "metadata": {},
     "output_type": "execute_result"
    }
   ],
   "source": [
    "df_etc.head(3)"
   ]
  },
  {
   "cell_type": "markdown",
   "metadata": {},
   "source": [
    "> Kita juga mendapatkan 10 feature yang di pilih menggunakan Extra Tree Classifier. Sebetulnya keduanya sama saja, maka kita pilih salah satu saja."
   ]
  },
  {
   "cell_type": "markdown",
   "metadata": {},
   "source": [
    "## MODEL PREPARATION"
   ]
  },
  {
   "cell_type": "markdown",
   "metadata": {},
   "source": [
    "> Di bawah ini merupakan persiapan untuk proses modelling."
   ]
  },
  {
   "cell_type": "code",
   "execution_count": 35,
   "metadata": {},
   "outputs": [],
   "source": [
    "df_ready = df_etc.copy()"
   ]
  },
  {
   "cell_type": "code",
   "execution_count": 36,
   "metadata": {},
   "outputs": [],
   "source": [
    "df_ready.to_csv('transaction_HP.csv', index = False)"
   ]
  },
  {
   "cell_type": "code",
   "execution_count": 37,
   "metadata": {},
   "outputs": [],
   "source": [
    "X = df_ready.drop(['isFraud'], axis=1)\n",
    "y = df_ready['isFraud']\n",
    "\n",
    "X_train, X_test, y_train, y_test = train_test_split(X, y, test_size=0.2, random_state=42)"
   ]
  },
  {
   "cell_type": "markdown",
   "metadata": {},
   "source": [
    "> Modelling dilakukan menggunakan pipeline dan scaling menggunakan Robust Scaler sekaligus bagi model yang menggunakan default parameter maupun model yang menggunakan hyperparameter."
   ]
  },
  {
   "cell_type": "code",
   "execution_count": 42,
   "metadata": {},
   "outputs": [],
   "source": [
    "# Default model build + pipelining\n",
    "\n",
    "# Logistic Regression \n",
    "\n",
    "LRG = Pipeline([('scale', RobustScaler()),\n",
    "                ('clf', LogisticRegression())])\n",
    "\n",
    "# K-Nearest Neighbors \n",
    "\n",
    "KNN = Pipeline([('scale', RobustScaler()),\n",
    "                ('clf', KNeighborsClassifier())])"
   ]
  },
  {
   "cell_type": "markdown",
   "metadata": {},
   "source": [
    "> Tuning hyperparameter di lakukan di notebook yang terpisah. Hasil terbaik di terapkan di sini."
   ]
  },
  {
   "cell_type": "code",
   "execution_count": 43,
   "metadata": {},
   "outputs": [],
   "source": [
    "# Hyperparameter tuned model build + pipelining\n",
    "\n",
    "# Logistic Regression \n",
    "\n",
    "hyper_LRG = Pipeline([('scale', RobustScaler()),\n",
    "                      ('clf', LogisticRegression(solver = 'lbfgs', penalty = 'l2', max_iter = 200))])\n",
    "\n",
    "# K-Nearest Neighbors \n",
    "\n",
    "hyper_KNN = Pipeline([('scale', RobustScaler()),\n",
    "                      ('clf', KNeighborsClassifier(p = 2, n_neighbors = 25, leaf_size = 20))])"
   ]
  },
  {
   "cell_type": "markdown",
   "metadata": {},
   "source": [
    "### MODEL FITTING"
   ]
  },
  {
   "cell_type": "markdown",
   "metadata": {},
   "source": [
    "> Selanjutnya kita akan lakukan fitting model kepada data train, baik pada model default maupun model hyperparameter tuned."
   ]
  },
  {
   "cell_type": "code",
   "execution_count": 44,
   "metadata": {},
   "outputs": [],
   "source": [
    "# Default model fitting\n",
    "\n",
    "# Logistic Regression \n",
    "\n",
    "LRG = LRG.fit(X_train, y_train)\n",
    "\n",
    "# K-Nearest Neighbors \n",
    "\n",
    "KNN = KNN.fit(X_train, y_train)"
   ]
  },
  {
   "cell_type": "code",
   "execution_count": 45,
   "metadata": {},
   "outputs": [],
   "source": [
    "# Hyperparameter tuned model fitting\n",
    "\n",
    "# Logistic Regression \n",
    "\n",
    "hyper_LRG = hyper_LRG.fit(X_train, y_train)\n",
    "\n",
    "# K-Nearest Neighbors \n",
    "\n",
    "hyper_KNN = hyper_KNN.fit(X_train, y_train)"
   ]
  },
  {
   "cell_type": "markdown",
   "metadata": {},
   "source": [
    "### CROSS VALIDATION"
   ]
  },
  {
   "cell_type": "markdown",
   "metadata": {},
   "source": [
    "> Sebelum melanjutkan proses modelling, sebaiknya kita lakukan *cross validation* terlebih dahulu untuk mengetahui apakah model benar - benar sudah fit atau terdapat overfitting maupun underfitting."
   ]
  },
  {
   "cell_type": "code",
   "execution_count": 46,
   "metadata": {},
   "outputs": [],
   "source": [
    "# Score pada train data\n",
    "\n",
    "LRG_score_tr = LRG.score(X_train, y_train)\n",
    "KNN_score_tr = KNN.score(X_train, y_train)\n",
    "hyper_LRG_score_tr = hyper_LRG.score(X_train, y_train)\n",
    "hyper_KNN_score_tr = hyper_KNN.score(X_train, y_train)"
   ]
  },
  {
   "cell_type": "code",
   "execution_count": 47,
   "metadata": {},
   "outputs": [],
   "source": [
    "# Score pada test data\n",
    "\n",
    "LRG_score_ts = LRG.score(X_test, y_test)\n",
    "KNN_score_ts = KNN.score(X_test, y_test)\n",
    "hyper_LRG_score_ts = hyper_LRG.score(X_test, y_test)\n",
    "hyper_KNN_score_ts = hyper_KNN.score(X_test, y_test)"
   ]
  },
  {
   "cell_type": "code",
   "execution_count": 48,
   "metadata": {},
   "outputs": [],
   "source": [
    "train_score = pd.DataFrame({'Model' : ['LogisticRegression', 'KNNeighbors'], \n",
    "                            'Normal': [LRG_score_tr, KNN_score_tr], \n",
    "                            'Hyper' : [hyper_LRG_score_tr, hyper_KNN_score_tr]})"
   ]
  },
  {
   "cell_type": "code",
   "execution_count": 49,
   "metadata": {},
   "outputs": [],
   "source": [
    "\n",
    "test_score = pd.DataFrame({'Model' : ['LogisticRegression', 'KNNeighbors'], \n",
    "                           'Normal': [LRG_score_ts, KNN_score_ts], \n",
    "                           'Hyper' : [hyper_LRG_score_ts, hyper_KNN_score_ts]})"
   ]
  },
  {
   "cell_type": "markdown",
   "metadata": {},
   "source": [
    "> `pd.concat()` untuk menampilkan score berdasarkan *accuracy*."
   ]
  },
  {
   "cell_type": "code",
   "execution_count": 50,
   "metadata": {},
   "outputs": [
    {
     "data": {
      "text/html": [
       "<div>\n",
       "<style scoped>\n",
       "    .dataframe tbody tr th:only-of-type {\n",
       "        vertical-align: middle;\n",
       "    }\n",
       "\n",
       "    .dataframe tbody tr th {\n",
       "        vertical-align: top;\n",
       "    }\n",
       "\n",
       "    .dataframe thead th {\n",
       "        text-align: right;\n",
       "    }\n",
       "</style>\n",
       "<table border=\"1\" class=\"dataframe\">\n",
       "  <thead>\n",
       "    <tr style=\"text-align: right;\">\n",
       "      <th></th>\n",
       "      <th></th>\n",
       "      <th>Model</th>\n",
       "      <th>Normal</th>\n",
       "      <th>Hyper</th>\n",
       "    </tr>\n",
       "  </thead>\n",
       "  <tbody>\n",
       "    <tr>\n",
       "      <th rowspan=\"2\" valign=\"top\">Train Score</th>\n",
       "      <th>0</th>\n",
       "      <td>LogisticRegression</td>\n",
       "      <td>0.982878</td>\n",
       "      <td>0.982878</td>\n",
       "    </tr>\n",
       "    <tr>\n",
       "      <th>1</th>\n",
       "      <td>KNNeighbors</td>\n",
       "      <td>0.982965</td>\n",
       "      <td>0.982902</td>\n",
       "    </tr>\n",
       "    <tr>\n",
       "      <th rowspan=\"2\" valign=\"top\">Test Score</th>\n",
       "      <th>0</th>\n",
       "      <td>LogisticRegression</td>\n",
       "      <td>0.982441</td>\n",
       "      <td>0.982441</td>\n",
       "    </tr>\n",
       "    <tr>\n",
       "      <th>1</th>\n",
       "      <td>KNNeighbors</td>\n",
       "      <td>0.982228</td>\n",
       "      <td>0.982472</td>\n",
       "    </tr>\n",
       "  </tbody>\n",
       "</table>\n",
       "</div>"
      ],
      "text/plain": [
       "                            Model    Normal     Hyper\n",
       "Train Score 0  LogisticRegression  0.982878  0.982878\n",
       "            1         KNNeighbors  0.982965  0.982902\n",
       "Test Score  0  LogisticRegression  0.982441  0.982441\n",
       "            1         KNNeighbors  0.982228  0.982472"
      ]
     },
     "execution_count": 50,
     "metadata": {},
     "output_type": "execute_result"
    }
   ],
   "source": [
    "pd.concat([train_score, test_score], keys = ['Train Score', 'Test Score'])"
   ]
  },
  {
   "cell_type": "markdown",
   "metadata": {},
   "source": [
    "> Berdasarkan score *accuracy* yang di tampilkan di atas, sepertinya tidak terlihat adanya overfitting. Namun untuk lebih memastikan lagi, maka kita pastikan dengan menampilkan `learning_curve()`."
   ]
  },
  {
   "cell_type": "code",
   "execution_count": 51,
   "metadata": {},
   "outputs": [
    {
     "data": {
      "image/png": "[encoded data removed]",
      "text/plain": [
       "<Figure size 576x396 with 1 Axes>"
      ]
     },
     "metadata": {},
     "output_type": "display_data"
    },
    {
     "data": {
      "image/png": "[encoded data removed]",
      "text/plain": [
       "<Figure size 576x396 with 1 Axes>"
      ]
     },
     "metadata": {},
     "output_type": "display_data"
    }
   ],
   "source": [
    "# Learning curve untuk default parameter\n",
    "\n",
    "curve = [LRG, KNN]\n",
    "\n",
    "for i in curve:\n",
    "    learning_curve(i, X, y, scoring='accuracy')\n",
    "    plt.show()"
   ]
  },
  {
   "cell_type": "markdown",
   "metadata": {},
   "source": [
    "> Berdasarkan plot *learning curves* di atas, sepertinya model memang stabil dan tidak terdapat overfitting pada kedua model ini."
   ]
  },
  {
   "cell_type": "code",
   "execution_count": 52,
   "metadata": {},
   "outputs": [
    {
     "data": {
      "image/png": "[encoded data removed]",
      "text/plain": [
       "<Figure size 576x396 with 1 Axes>"
      ]
     },
     "metadata": {},
     "output_type": "display_data"
    },
    {
     "data": {
      "image/png": "[encoded data removed]",
      "text/plain": [
       "<Figure size 576x396 with 1 Axes>"
      ]
     },
     "metadata": {},
     "output_type": "display_data"
    }
   ],
   "source": [
    "# Learning curve untuk tuned parameter\n",
    "\n",
    "curve = [hyper_LRG, hyper_KNN]\n",
    "\n",
    "for i in curve:\n",
    "    learning_curve(i, X, y, scoring='accuracy')\n",
    "    plt.show()"
   ]
  },
  {
   "cell_type": "markdown",
   "metadata": {},
   "source": [
    "> Hasil yang sama baiknya juga di tunjukkan pada model dengan tuning hyperparameter. Sehingga dapat di simpulkan bahwa tidak terdapat overfitting pada kedua model pada kedua parameter. Detail *kfold* nya bisa di lihat di bawah ini."
   ]
  },
  {
   "cell_type": "code",
   "execution_count": 53,
   "metadata": {},
   "outputs": [
    {
     "data": {
      "text/html": [
       "<div>\n",
       "<style scoped>\n",
       "    .dataframe tbody tr th:only-of-type {\n",
       "        vertical-align: middle;\n",
       "    }\n",
       "\n",
       "    .dataframe tbody tr th {\n",
       "        vertical-align: top;\n",
       "    }\n",
       "\n",
       "    .dataframe thead th {\n",
       "        text-align: right;\n",
       "    }\n",
       "</style>\n",
       "<table border=\"1\" class=\"dataframe\">\n",
       "  <thead>\n",
       "    <tr style=\"text-align: right;\">\n",
       "      <th></th>\n",
       "      <th>LRG kfold</th>\n",
       "      <th>KNN kfold</th>\n",
       "      <th>Hyper LRG kfold</th>\n",
       "      <th>Hyper KNN kfold</th>\n",
       "    </tr>\n",
       "  </thead>\n",
       "  <tbody>\n",
       "    <tr>\n",
       "      <th>0</th>\n",
       "      <td>0.982863</td>\n",
       "      <td>0.982587</td>\n",
       "      <td>0.982863</td>\n",
       "      <td>0.982902</td>\n",
       "    </tr>\n",
       "    <tr>\n",
       "      <th>1</th>\n",
       "      <td>0.982863</td>\n",
       "      <td>0.982587</td>\n",
       "      <td>0.982863</td>\n",
       "      <td>0.982902</td>\n",
       "    </tr>\n",
       "    <tr>\n",
       "      <th>2</th>\n",
       "      <td>0.982882</td>\n",
       "      <td>0.982705</td>\n",
       "      <td>0.982882</td>\n",
       "      <td>0.982902</td>\n",
       "    </tr>\n",
       "    <tr>\n",
       "      <th>3</th>\n",
       "      <td>0.982902</td>\n",
       "      <td>0.982527</td>\n",
       "      <td>0.982902</td>\n",
       "      <td>0.982902</td>\n",
       "    </tr>\n",
       "    <tr>\n",
       "      <th>4</th>\n",
       "      <td>0.982882</td>\n",
       "      <td>0.982665</td>\n",
       "      <td>0.982882</td>\n",
       "      <td>0.982902</td>\n",
       "    </tr>\n",
       "    <tr>\n",
       "      <th>5</th>\n",
       "      <td>0.982863</td>\n",
       "      <td>0.982587</td>\n",
       "      <td>0.982863</td>\n",
       "      <td>0.982902</td>\n",
       "    </tr>\n",
       "    <tr>\n",
       "      <th>6</th>\n",
       "      <td>0.982902</td>\n",
       "      <td>0.982626</td>\n",
       "      <td>0.982902</td>\n",
       "      <td>0.982902</td>\n",
       "    </tr>\n",
       "    <tr>\n",
       "      <th>7</th>\n",
       "      <td>0.982862</td>\n",
       "      <td>0.982665</td>\n",
       "      <td>0.982862</td>\n",
       "      <td>0.982902</td>\n",
       "    </tr>\n",
       "    <tr>\n",
       "      <th>8</th>\n",
       "      <td>0.982902</td>\n",
       "      <td>0.982685</td>\n",
       "      <td>0.982902</td>\n",
       "      <td>0.982902</td>\n",
       "    </tr>\n",
       "    <tr>\n",
       "      <th>9</th>\n",
       "      <td>0.982862</td>\n",
       "      <td>0.982626</td>\n",
       "      <td>0.982862</td>\n",
       "      <td>0.982902</td>\n",
       "    </tr>\n",
       "  </tbody>\n",
       "</table>\n",
       "</div>"
      ],
      "text/plain": [
       "   LRG kfold  KNN kfold  Hyper LRG kfold  Hyper KNN kfold\n",
       "0   0.982863   0.982587         0.982863         0.982902\n",
       "1   0.982863   0.982587         0.982863         0.982902\n",
       "2   0.982882   0.982705         0.982882         0.982902\n",
       "3   0.982902   0.982527         0.982902         0.982902\n",
       "4   0.982882   0.982665         0.982882         0.982902\n",
       "5   0.982863   0.982587         0.982863         0.982902\n",
       "6   0.982902   0.982626         0.982902         0.982902\n",
       "7   0.982862   0.982665         0.982862         0.982902\n",
       "8   0.982902   0.982685         0.982902         0.982902\n",
       "9   0.982862   0.982626         0.982862         0.982902"
      ]
     },
     "execution_count": 53,
     "metadata": {},
     "output_type": "execute_result"
    }
   ],
   "source": [
    "cv = StratifiedKFold(n_splits = 10, shuffle= True, random_state=0)\n",
    "LRG_kfold = cross_val_score(LRG, X_train, y_train, cv = cv, scoring = 'accuracy')\n",
    "KNN_kfold = cross_val_score(KNN, X_train, y_train, cv = cv, scoring = 'accuracy')\n",
    "hyper_LRG_kfold = cross_val_score(hyper_LRG, X_train, y_train, cv = cv, scoring = 'accuracy')\n",
    "hyper_KNN_kfold = cross_val_score(hyper_KNN, X_train, y_train, cv = cv, scoring = 'accuracy')\n",
    "\n",
    "pd.DataFrame({'LRG kfold' : LRG_kfold.tolist(),\n",
    "              'KNN kfold' : KNN_kfold.tolist(),\n",
    "              'Hyper LRG kfold' : hyper_LRG_kfold.tolist(),\n",
    "              'Hyper KNN kfold' : hyper_KNN_kfold.tolist()})"
   ]
  },
  {
   "cell_type": "code",
   "execution_count": 55,
   "metadata": {},
   "outputs": [
    {
     "data": {
      "text/html": [
       "<div>\n",
       "<style scoped>\n",
       "    .dataframe tbody tr th:only-of-type {\n",
       "        vertical-align: middle;\n",
       "    }\n",
       "\n",
       "    .dataframe tbody tr th {\n",
       "        vertical-align: top;\n",
       "    }\n",
       "\n",
       "    .dataframe thead th {\n",
       "        text-align: right;\n",
       "    }\n",
       "</style>\n",
       "<table border=\"1\" class=\"dataframe\">\n",
       "  <thead>\n",
       "    <tr style=\"text-align: right;\">\n",
       "      <th></th>\n",
       "      <th>Model</th>\n",
       "      <th>Default</th>\n",
       "      <th>Hyper</th>\n",
       "      <th>Mean Kfold</th>\n",
       "    </tr>\n",
       "  </thead>\n",
       "  <tbody>\n",
       "    <tr>\n",
       "      <th>0</th>\n",
       "      <td>Random Forest</td>\n",
       "      <td>0.982878</td>\n",
       "      <td>0.982878</td>\n",
       "      <td>0.982878</td>\n",
       "    </tr>\n",
       "    <tr>\n",
       "      <th>1</th>\n",
       "      <td>Support Vector</td>\n",
       "      <td>0.982965</td>\n",
       "      <td>0.982902</td>\n",
       "      <td>0.982902</td>\n",
       "    </tr>\n",
       "  </tbody>\n",
       "</table>\n",
       "</div>"
      ],
      "text/plain": [
       "            Model   Default     Hyper  Mean Kfold\n",
       "0   Random Forest  0.982878  0.982878    0.982878\n",
       "1  Support Vector  0.982965  0.982902    0.982902"
      ]
     },
     "execution_count": 55,
     "metadata": {},
     "output_type": "execute_result"
    }
   ],
   "source": [
    "pd.DataFrame({'Model' : ['Random Forest', 'Support Vector'], \n",
    "              'Default' : [LRG_score_tr, KNN_score_tr],\n",
    "              'Hyper': [hyper_LRG_score_tr, hyper_KNN_score_tr], \n",
    "              'Mean Kfold' : [hyper_LRG_kfold.mean(), hyper_KNN_kfold.mean()]})"
   ]
  },
  {
   "cell_type": "markdown",
   "metadata": {},
   "source": [
    "## MODEL PREDICTION & PERFORMANCE EVALUATION"
   ]
  },
  {
   "cell_type": "markdown",
   "metadata": {},
   "source": [
    "> Selanjutnya kita lakukan prediksi dan evaluasi model."
   ]
  },
  {
   "cell_type": "code",
   "execution_count": 57,
   "metadata": {},
   "outputs": [],
   "source": [
    "# Logistic Regression\n",
    "\n",
    "yp_LRG = hyper_LRG.predict(X_test)\n",
    "\n",
    "# KNNeighbors\n",
    "\n",
    "yp_KNN = hyper_KNN.predict(X_test)"
   ]
  },
  {
   "cell_type": "code",
   "execution_count": 58,
   "metadata": {},
   "outputs": [],
   "source": [
    "# Label untuk confusion matrix\n",
    "\n",
    "labels = ['Fraud No', 'Fraud Yes']"
   ]
  },
  {
   "cell_type": "markdown",
   "metadata": {},
   "source": [
    "### LOGISTIC REGRESSION"
   ]
  },
  {
   "cell_type": "code",
   "execution_count": 59,
   "metadata": {},
   "outputs": [
    {
     "name": "stdout",
     "output_type": "stream",
     "text": [
      "              precision    recall  f1-score   support\n",
      "\n",
      "    Fraud No       0.98      1.00      0.99    124548\n",
      "   Fraud Yes       0.17      0.00      0.00      2222\n",
      "\n",
      "    accuracy                           0.98    126770\n",
      "   macro avg       0.57      0.50      0.50    126770\n",
      "weighted avg       0.97      0.98      0.97    126770\n",
      "\n"
     ]
    },
    {
     "data": {
      "image/png": "[encoded data removed]",
      "text/plain": [
       "<Figure size 576x360 with 2 Axes>"
      ]
     },
     "metadata": {},
     "output_type": "display_data"
    }
   ],
   "source": [
    "# LogisticRegression evaluation\n",
    "\n",
    "print(classification_report(y_test, yp_LRG, target_names = labels))\n",
    "f, ax = plt.subplots(figsize=(8,5))\n",
    "sns.heatmap(confusion_matrix(y_test, yp_LRG), annot=True, fmt=\".0f\", ax=ax, cmap = 'Blues')\n",
    "\n",
    "ax.xaxis.set_ticklabels(labels)\n",
    "ax.yaxis.set_ticklabels(labels)\n",
    "\n",
    "plt.title('LogisticRegression Matrix')\n",
    "plt.xlabel('PREDICTED')\n",
    "plt.ylabel('ACTUAL')\n",
    "plt.show()"
   ]
  },
  {
   "cell_type": "markdown",
   "metadata": {},
   "source": [
    "> Melihat evaluasi model **Logistic Regression**, sepertinya masih harus di lakukan balancing data lebih lanjut."
   ]
  },
  {
   "cell_type": "markdown",
   "metadata": {},
   "source": [
    "### K-NEAREST NEIGHBORS"
   ]
  },
  {
   "cell_type": "code",
   "execution_count": 60,
   "metadata": {},
   "outputs": [
    {
     "name": "stdout",
     "output_type": "stream",
     "text": [
      "              precision    recall  f1-score   support\n",
      "\n",
      "    Fraud No       0.98      1.00      0.99    124548\n",
      "   Fraud Yes       0.00      0.00      0.00      2222\n",
      "\n",
      "    accuracy                           0.98    126770\n",
      "   macro avg       0.49      0.50      0.50    126770\n",
      "weighted avg       0.97      0.98      0.97    126770\n",
      "\n"
     ]
    },
    {
     "data": {
      "image/png": "[encoded data removed]",
      "text/plain": [
       "<Figure size 576x360 with 2 Axes>"
      ]
     },
     "metadata": {},
     "output_type": "display_data"
    }
   ],
   "source": [
    "# KNNeighbors evaluation\n",
    "\n",
    "print(classification_report(y_test, yp_KNN, target_names = labels))\n",
    "f, ax = plt.subplots(figsize=(8,5))\n",
    "sns.heatmap(confusion_matrix(y_test, yp_KNN), annot=True, fmt=\".0f\", ax=ax, cmap = 'Blues')\n",
    "\n",
    "ax.xaxis.set_ticklabels(labels)\n",
    "ax.yaxis.set_ticklabels(labels)\n",
    "\n",
    "plt.title('KNNeighbors Matrix')\n",
    "plt.xlabel('PREDICTED')\n",
    "plt.ylabel('ACTUAL')\n",
    "plt.show()"
   ]
  },
  {
   "cell_type": "markdown",
   "metadata": {},
   "source": [
    "> Dalam model **KNNeighbors** ini juga terjadi hal yang sama. Walaupun ketika kita bandingkan, kedua model sama - sama memiliki 98% *accuracy*, tetapi jika di perhatikan lagi pada ***confusion matrix*** di atas, **Logistic Regression** masih memiliki *precision* yang lebih baik daripada model **KNNeighbors**."
   ]
  },
  {
   "cell_type": "markdown",
   "metadata": {},
   "source": [
    "## OVERSAMPLING - SMOTE"
   ]
  },
  {
   "cell_type": "markdown",
   "metadata": {},
   "source": [
    "> Pada dasarnya, **SMOTE** atau *Synthetic Minority Oversampling Technique*, merupakan teknik oversampling dengan cara menggunakan synthetic data yang nantinya data tersebut akan di oversampling sehingga jumlah data minoritas sama dengan data mayoritas. **SMOTE** menggunakan teknik yang sama dengan KNN - *euclidean distance based* - namun karena alasan sebelumnya, maka kita hanya akan melakukan oversampling pada model **Logistic Regression** saja. Oversampling ini di lakukan karena data imbalanced, sehingga menyulitkan model dalam proses prediksi."
   ]
  },
  {
   "cell_type": "code",
   "execution_count": 103,
   "metadata": {},
   "outputs": [],
   "source": [
    "# Oversampling dengan SMOTE\n",
    "\n",
    "X_train_sm, y_train_sm = SMOTE(random_state=101).fit_sample(X_train, y_train)\n",
    "\n",
    "# Model best porameter - oversampled\n",
    "\n",
    "LRG_sm = LogisticRegression(solver = 'lbfgs', penalty = 'l2', max_iter = 200).fit(X_train_sm, y_train_sm)"
   ]
  },
  {
   "cell_type": "code",
   "execution_count": 104,
   "metadata": {},
   "outputs": [],
   "source": [
    "# Predict dengan Logistic Regression - oversampled\n",
    "\n",
    "yp_LRG_sm = LRG_sm.predict(X_test)"
   ]
  },
  {
   "cell_type": "code",
   "execution_count": 105,
   "metadata": {},
   "outputs": [
    {
     "name": "stdout",
     "output_type": "stream",
     "text": [
      "              precision    recall  f1-score   support\n",
      "\n",
      "    Fraud No       0.99      0.82      0.90    124548\n",
      "   Fraud Yes       0.04      0.42      0.07      2222\n",
      "\n",
      "    accuracy                           0.81    126770\n",
      "   macro avg       0.51      0.62      0.48    126770\n",
      "weighted avg       0.97      0.81      0.88    126770\n",
      "\n"
     ]
    },
    {
     "data": {
      "image/png": "[encoded data removed]",
      "text/plain": [
       "<Figure size 576x360 with 2 Axes>"
      ]
     },
     "metadata": {},
     "output_type": "display_data"
    }
   ],
   "source": [
    "# Model evaluation\n",
    "\n",
    "print(classification_report(y_test, yp_LRG_sm, target_names = labels))\n",
    "f, ax = plt.subplots(figsize=(8,5))\n",
    "sns.heatmap(confusion_matrix(y_test, yp_LRG_sm), annot=True, fmt=\".0f\", ax=ax, cmap = 'Blues')\n",
    "\n",
    "ax.xaxis.set_ticklabels(labels)\n",
    "ax.yaxis.set_ticklabels(labels)\n",
    "\n",
    "plt.title('Logistic Regression Oversampled')\n",
    "plt.xlabel('PREDICTED')\n",
    "plt.ylabel('ACTUAL')\n",
    "plt.show()"
   ]
  },
  {
   "cell_type": "markdown",
   "metadata": {},
   "source": [
    "> Setelah dilakukan *oversampling*, memang jelas tampak bahwa model menjadi lebih baik daripada sebelumnya. Dan pada akhirnya, model **Logistic Regression** dengan *scaling* menggunakan **Robust Scaler** dan teknik *oversampling* dengan **SMOTE**, menjadi model yang paling baik untuk digunakan untuk memprediksi dalam dataset ini. \n",
    "\n",
    "> Pada intinya, model ini memiliki 81% *accuracy*, serta 99% *precision* pada kategori yang **tidak fraud**. Terlebih lagi, model ini juga memiliki 82% *recall* pada kategori yang **tidak fraud**, artinya model dapat memprediksi dengan benar sekitar 82% pada kategori ini. Walaupun pada kategori yang **fraud** masih hanya sekitar 42%, tetapi bagaimanapun juga versi model ini sudah lebih baik dan karena lebih seimbang di bandingkan dengan versi sebelum di lakukan *balancing*."
   ]
  }
 ],
 "metadata": {
  "kernelspec": {
   "display_name": "Python 3",
   "language": "python",
   "name": "python3"
  },
  "language_info": {
   "codemirror_mode": {
    "name": "ipython",
    "version": 3
   },
   "file_extension": ".py",
   "mimetype": "text/x-python",
   "name": "python",
   "nbconvert_exporter": "python",
   "pygments_lexer": "ipython3",
   "version": "3.7.7"
  }
 },
 "nbformat": 4,
 "nbformat_minor": 4
}
