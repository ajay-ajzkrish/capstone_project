{
 "cells": [
  {
   "cell_type": "markdown",
   "metadata": {},
   "source": [
    "## Problem Statment (Objective, Overview of Dataset, Solution & Conclusion)"
   ]
  },
  {
   "cell_type": "markdown",
   "metadata": {},
   "source": [
    "- The primary objective is to detect fraudulent transactions within the dataset accurately. This involves identifying transactions that are not legitimate and distinguishing them from legitimate ones.\n",
    "\n",
    "- The dataset contains transaction data with 786,363 records and 29 features. It includes details such as account and customer identifiers, transaction amounts, merchant information, and indicators of fraudulent     transactions. The \"isFraud\" column indicates whether a transaction is fraudulent, with approximately 1.58% of transactions labeled as fraud. Missing data is observed in several columns, including \"acqCountry,\" \"posEntryMode\" and \"transactionType.\" Additionally, a subset of 12,417 records pertains to fraudulent transactions.\n",
    "  \n",
    "- Most businesses use rule-based systems and supervised learning models for fraud detection. These models require substantial labeled data, which can be expensive and timeconsuming to collect.\n",
    "\n",
    "- This project proposes a semi-supervised approach, utilizing a combination of labeled fraud data and a larger pool of unlabeled data. By leveraging the unlabeled data, the model can learn broader fraud patterns and adapt to new ones efficiently.\n",
    "\n",
    "- By analyzing transaction features and patterns, the model can help financial institutions take proactive measures to prevent fraud and minimize losses."
   ]
  },
  {
   "cell_type": "markdown",
   "metadata": {},
   "source": [
    "> Python Version"
   ]
  },
  {
   "cell_type": "code",
   "execution_count": 176,
   "metadata": {},
   "outputs": [
    {
     "data": {
      "text/plain": [
       "'3.10.9 | packaged by Anaconda, Inc. | (main, Mar  1 2023, 18:18:15) [MSC v.1916 64 bit (AMD64)]'"
      ]
     },
     "execution_count": 176,
     "metadata": {},
     "output_type": "execute_result"
    }
   ],
   "source": [
    "import sys\n",
    "sys.version"
   ]
  },
  {
   "cell_type": "markdown",
   "metadata": {},
   "source": [
    "## Importing Library"
   ]
  },
  {
   "cell_type": "code",
   "execution_count": 177,
   "metadata": {},
   "outputs": [],
   "source": [
    "import pandas as pd #Python data Analysis Lib\n",
    "import numpy as np #Numerical Python Lib\n",
    "import scipy  # Scientific & Technical Python Lib\n",
    "import sklearn #Supervisied Machine Learning Python Lib\n",
    "import matplotlib.pyplot as plt #Visulization Python Lib\n",
    "import seaborn as sns  #Visulization Python Lib\n",
    "import re #Regular Expression Lib \n",
    "import matplotlib.ticker as tck\n",
    "import random\n",
    "import statsmodels.api as sma\n",
    "import plotly.express as px "
   ]
  },
  {
   "cell_type": "code",
   "execution_count": 178,
   "metadata": {},
   "outputs": [],
   "source": [
    "from scipy import stats\n",
    "from statsmodels.stats.outliers_influence import variance_inflation_factor\n",
    "from wordcloud import WordCloud\n",
    "from IPython.display import Image\n",
    "from sklearn.model_selection import train_test_split\n",
    "from sklearn.linear_model import LogisticRegression\n",
    "import statsmodels.api as sm\n",
    "from sklearn.metrics import confusion_matrix, accuracy_score, classification_report,log_loss,roc_curve, roc_auc_score,cohen_kappa_score,f1_score,recall_score,precision_score\n",
    "from imblearn.over_sampling import SMOTE\n",
    "from sklearn.preprocessing import LabelEncoder, StandardScaler\n",
    "from sklearn.ensemble import RandomForestClassifier\n",
    "from statsmodels.stats.outliers_influence import variance_inflation_factor\n"
   ]
  },
  {
   "cell_type": "code",
   "execution_count": 179,
   "metadata": {},
   "outputs": [],
   "source": [
    "## Prefixing the Display Asthetics \n",
    "pd.set_option('display.max_columns', None)\n",
    "\n",
    "import warnings\n",
    "warnings.filterwarnings('ignore')\n",
    "\n",
    "plt.rcParams['figure.figsize'] = [15, 10]"
   ]
  },
  {
   "cell_type": "markdown",
   "metadata": {},
   "source": [
    "## Loading the Dataset"
   ]
  },
  {
   "cell_type": "code",
   "execution_count": 180,
   "metadata": {},
   "outputs": [],
   "source": [
    "trxn =  pd.read_csv(r'Fraud_Real.csv')"
   ]
  },
  {
   "cell_type": "markdown",
   "metadata": {},
   "source": [
    "## Data_Glossary\n",
    "\n",
    "- accountNumber             = The account number of The customer\n",
    "\n",
    "- customerId    =  The ID of The customer\n",
    "\n",
    "- creditLimit               =  The amount of money that can be charged to The debit card\n",
    "\n",
    "- availableMoney        = The amount of money in The debit card before adjusting for pending charges      \n",
    "\n",
    "- transactionDateTime       = The transaction timestamp when it happened\n",
    "  \n",
    "- transactionAmount        = The amount of transaction \n",
    "\n",
    "- merchantName          = The merchant name of The particular transaction\n",
    "\n",
    "- acqCountry             = The country where The merchant is located\n",
    "\n",
    "- merchantCountryCode    = The country code for The specific merchant\n",
    "\n",
    "- posEntryMode        = a code that tells The processor how The transaction was captured\n",
    "\n",
    "- posConditionCode   = a code identifying transaction conditions at The point-of-sale or point-of-service\n",
    "\n",
    "- POS Entry Mode\n",
    "        \n",
    "        2 - PAN auto-entry via magnetic stripe\n",
    "        \n",
    "        5 - PAN auto-entry via chip\n",
    "        \n",
    "        9 -  PAN entry via electronic commerce, including remote chip\n",
    "        \n",
    "        80 - Chip card at chip-capable terminal was unable to process transactions using data on the chip–terminal defaulted to magnetic stripe-read PAN\n",
    "        \n",
    "        99- PAN auto entry via magnetic stripe-full track data has been read without alteration or truncation\n",
    "        \n",
    "- POS Condition Code\n",
    "        \n",
    "        POS condition code 1 (Sale): This code indicates that a sale transaction has been processed. The merchant must collect the customer's signature for this type of transaction.\n",
    "        \n",
    "        POS condition code 8 (Void): This code indicates that a previously processed sale transaction has been voided. The merchant must not collect the customer's signature for this type of transaction.\n",
    "        \n",
    "        POS condition code 99 (Refund): This code indicates that a previously processed sale transaction has been refunded. The merchant must collect the customer's signature for this type of transaction.\t\n",
    "\n",
    "\n",
    "- merchantCategoryCode    = The merchant category/types\n",
    "\n",
    "- currentExpDate       =  The expiry date of The credit card\n",
    "\n",
    "- accountOpenDate      = The date when The customer open The credit card\n",
    "\n",
    "- dateOfLastAddressChange    = The last date when The customer change The credit card address\n",
    "\n",
    "- cardCVV = The actual card verification value\n",
    "\n",
    "- enteredCVV       = The entered card verification value\n",
    "\n",
    "- cardLast4Digits     = The last 4 digits of The debit card\n",
    "\n",
    "- transactionType        = The types of transactions\n",
    "\n",
    "- isFraud      = The status of The fraud transaction\n",
    "\n",
    "- echoBuffer    = number of delayed response transactions\n",
    "\n",
    "- currentBalance =  The current balance of The debit card\n",
    "\n",
    "- merchantCity = The location for The specific merchant (City)\n",
    "\n",
    "- merchantState   = The location for The specific merchant (State)\n",
    "\n",
    "- merchantZip = The location for The specific merchant (Zip Code)           \n",
    "\n",
    "- cardPresent =     The physical presence of The debit card in The transaction\n",
    "\n",
    "- posOnPremises = The location of The point of sales          \n",
    "\n",
    "- recurringAuthInd  = wheTher The auThentication recurred or not\n",
    "\n",
    "- expirationDateKeyInMatch = The match between The expiration date in The system and what was inputted"
   ]
  },
  {
   "cell_type": "markdown",
   "metadata": {},
   "source": [
    "## Data Understanding"
   ]
  },
  {
   "cell_type": "code",
   "execution_count": 181,
   "metadata": {},
   "outputs": [
    {
     "data": {
      "text/plain": [
       "(786363, 29)"
      ]
     },
     "execution_count": 181,
     "metadata": {},
     "output_type": "execute_result"
    }
   ],
   "source": [
    "trxn.shape # No of rows & columns "
   ]
  },
  {
   "cell_type": "code",
   "execution_count": 182,
   "metadata": {},
   "outputs": [
    {
     "data": {
      "text/html": [
       "<div>\n",
       "<style scoped>\n",
       "    .dataframe tbody tr th:only-of-type {\n",
       "        vertical-align: middle;\n",
       "    }\n",
       "\n",
       "    .dataframe tbody tr th {\n",
       "        vertical-align: top;\n",
       "    }\n",
       "\n",
       "    .dataframe thead th {\n",
       "        text-align: right;\n",
       "    }\n",
       "</style>\n",
       "<table border=\"1\" class=\"dataframe\">\n",
       "  <thead>\n",
       "    <tr style=\"text-align: right;\">\n",
       "      <th></th>\n",
       "      <th>accountNumber</th>\n",
       "      <th>customerId</th>\n",
       "      <th>creditLimit</th>\n",
       "      <th>availableMoney</th>\n",
       "      <th>transactionAmount</th>\n",
       "      <th>posEntryMode</th>\n",
       "      <th>posConditionCode</th>\n",
       "      <th>cardCVV</th>\n",
       "      <th>enteredCVV</th>\n",
       "      <th>cardLast4Digits</th>\n",
       "      <th>echoBuffer</th>\n",
       "      <th>currentBalance</th>\n",
       "      <th>merchantCity</th>\n",
       "      <th>merchantState</th>\n",
       "      <th>merchantZip</th>\n",
       "      <th>posOnPremises</th>\n",
       "      <th>recurringAuthInd</th>\n",
       "    </tr>\n",
       "  </thead>\n",
       "  <tbody>\n",
       "    <tr>\n",
       "      <th>count</th>\n",
       "      <td>7.863630e+05</td>\n",
       "      <td>7.863630e+05</td>\n",
       "      <td>786363.000000</td>\n",
       "      <td>786363.000000</td>\n",
       "      <td>786363.000000</td>\n",
       "      <td>782309.000000</td>\n",
       "      <td>785954.000000</td>\n",
       "      <td>786363.000000</td>\n",
       "      <td>786363.000000</td>\n",
       "      <td>786363.000000</td>\n",
       "      <td>0.0</td>\n",
       "      <td>786363.000000</td>\n",
       "      <td>0.0</td>\n",
       "      <td>0.0</td>\n",
       "      <td>0.0</td>\n",
       "      <td>0.0</td>\n",
       "      <td>0.0</td>\n",
       "    </tr>\n",
       "    <tr>\n",
       "      <th>mean</th>\n",
       "      <td>5.372326e+08</td>\n",
       "      <td>5.372326e+08</td>\n",
       "      <td>10759.464459</td>\n",
       "      <td>6250.725369</td>\n",
       "      <td>136.985791</td>\n",
       "      <td>9.049943</td>\n",
       "      <td>3.271980</td>\n",
       "      <td>544.467338</td>\n",
       "      <td>544.183857</td>\n",
       "      <td>4757.417799</td>\n",
       "      <td>NaN</td>\n",
       "      <td>4508.739089</td>\n",
       "      <td>NaN</td>\n",
       "      <td>NaN</td>\n",
       "      <td>NaN</td>\n",
       "      <td>NaN</td>\n",
       "      <td>NaN</td>\n",
       "    </tr>\n",
       "    <tr>\n",
       "      <th>std</th>\n",
       "      <td>2.554211e+08</td>\n",
       "      <td>2.554211e+08</td>\n",
       "      <td>11636.174890</td>\n",
       "      <td>8880.783989</td>\n",
       "      <td>147.725569</td>\n",
       "      <td>16.774130</td>\n",
       "      <td>9.809023</td>\n",
       "      <td>261.524220</td>\n",
       "      <td>261.551254</td>\n",
       "      <td>2996.583810</td>\n",
       "      <td>NaN</td>\n",
       "      <td>6457.442068</td>\n",
       "      <td>NaN</td>\n",
       "      <td>NaN</td>\n",
       "      <td>NaN</td>\n",
       "      <td>NaN</td>\n",
       "      <td>NaN</td>\n",
       "    </tr>\n",
       "    <tr>\n",
       "      <th>min</th>\n",
       "      <td>1.000881e+08</td>\n",
       "      <td>1.000881e+08</td>\n",
       "      <td>250.000000</td>\n",
       "      <td>-1005.630000</td>\n",
       "      <td>0.000000</td>\n",
       "      <td>2.000000</td>\n",
       "      <td>1.000000</td>\n",
       "      <td>100.000000</td>\n",
       "      <td>0.000000</td>\n",
       "      <td>0.000000</td>\n",
       "      <td>NaN</td>\n",
       "      <td>0.000000</td>\n",
       "      <td>NaN</td>\n",
       "      <td>NaN</td>\n",
       "      <td>NaN</td>\n",
       "      <td>NaN</td>\n",
       "      <td>NaN</td>\n",
       "    </tr>\n",
       "    <tr>\n",
       "      <th>25%</th>\n",
       "      <td>3.301333e+08</td>\n",
       "      <td>3.301333e+08</td>\n",
       "      <td>5000.000000</td>\n",
       "      <td>1077.420000</td>\n",
       "      <td>33.650000</td>\n",
       "      <td>2.000000</td>\n",
       "      <td>1.000000</td>\n",
       "      <td>310.000000</td>\n",
       "      <td>310.000000</td>\n",
       "      <td>2178.000000</td>\n",
       "      <td>NaN</td>\n",
       "      <td>689.910000</td>\n",
       "      <td>NaN</td>\n",
       "      <td>NaN</td>\n",
       "      <td>NaN</td>\n",
       "      <td>NaN</td>\n",
       "      <td>NaN</td>\n",
       "    </tr>\n",
       "    <tr>\n",
       "      <th>50%</th>\n",
       "      <td>5.074561e+08</td>\n",
       "      <td>5.074561e+08</td>\n",
       "      <td>7500.000000</td>\n",
       "      <td>3184.860000</td>\n",
       "      <td>87.900000</td>\n",
       "      <td>5.000000</td>\n",
       "      <td>1.000000</td>\n",
       "      <td>535.000000</td>\n",
       "      <td>535.000000</td>\n",
       "      <td>4733.000000</td>\n",
       "      <td>NaN</td>\n",
       "      <td>2451.760000</td>\n",
       "      <td>NaN</td>\n",
       "      <td>NaN</td>\n",
       "      <td>NaN</td>\n",
       "      <td>NaN</td>\n",
       "      <td>NaN</td>\n",
       "    </tr>\n",
       "    <tr>\n",
       "      <th>75%</th>\n",
       "      <td>7.676200e+08</td>\n",
       "      <td>7.676200e+08</td>\n",
       "      <td>15000.000000</td>\n",
       "      <td>7500.000000</td>\n",
       "      <td>191.480000</td>\n",
       "      <td>9.000000</td>\n",
       "      <td>1.000000</td>\n",
       "      <td>785.000000</td>\n",
       "      <td>785.000000</td>\n",
       "      <td>7338.000000</td>\n",
       "      <td>NaN</td>\n",
       "      <td>5291.095000</td>\n",
       "      <td>NaN</td>\n",
       "      <td>NaN</td>\n",
       "      <td>NaN</td>\n",
       "      <td>NaN</td>\n",
       "      <td>NaN</td>\n",
       "    </tr>\n",
       "    <tr>\n",
       "      <th>max</th>\n",
       "      <td>9.993896e+08</td>\n",
       "      <td>9.993896e+08</td>\n",
       "      <td>50000.000000</td>\n",
       "      <td>50000.000000</td>\n",
       "      <td>2011.540000</td>\n",
       "      <td>90.000000</td>\n",
       "      <td>99.000000</td>\n",
       "      <td>998.000000</td>\n",
       "      <td>998.000000</td>\n",
       "      <td>9998.000000</td>\n",
       "      <td>NaN</td>\n",
       "      <td>47498.810000</td>\n",
       "      <td>NaN</td>\n",
       "      <td>NaN</td>\n",
       "      <td>NaN</td>\n",
       "      <td>NaN</td>\n",
       "      <td>NaN</td>\n",
       "    </tr>\n",
       "  </tbody>\n",
       "</table>\n",
       "</div>"
      ],
      "text/plain": [
       "       accountNumber    customerId    creditLimit  availableMoney  \\\n",
       "count   7.863630e+05  7.863630e+05  786363.000000   786363.000000   \n",
       "mean    5.372326e+08  5.372326e+08   10759.464459     6250.725369   \n",
       "std     2.554211e+08  2.554211e+08   11636.174890     8880.783989   \n",
       "min     1.000881e+08  1.000881e+08     250.000000    -1005.630000   \n",
       "25%     3.301333e+08  3.301333e+08    5000.000000     1077.420000   \n",
       "50%     5.074561e+08  5.074561e+08    7500.000000     3184.860000   \n",
       "75%     7.676200e+08  7.676200e+08   15000.000000     7500.000000   \n",
       "max     9.993896e+08  9.993896e+08   50000.000000    50000.000000   \n",
       "\n",
       "       transactionAmount   posEntryMode  posConditionCode        cardCVV  \\\n",
       "count      786363.000000  782309.000000     785954.000000  786363.000000   \n",
       "mean          136.985791       9.049943          3.271980     544.467338   \n",
       "std           147.725569      16.774130          9.809023     261.524220   \n",
       "min             0.000000       2.000000          1.000000     100.000000   \n",
       "25%            33.650000       2.000000          1.000000     310.000000   \n",
       "50%            87.900000       5.000000          1.000000     535.000000   \n",
       "75%           191.480000       9.000000          1.000000     785.000000   \n",
       "max          2011.540000      90.000000         99.000000     998.000000   \n",
       "\n",
       "          enteredCVV  cardLast4Digits  echoBuffer  currentBalance  \\\n",
       "count  786363.000000    786363.000000         0.0   786363.000000   \n",
       "mean      544.183857      4757.417799         NaN     4508.739089   \n",
       "std       261.551254      2996.583810         NaN     6457.442068   \n",
       "min         0.000000         0.000000         NaN        0.000000   \n",
       "25%       310.000000      2178.000000         NaN      689.910000   \n",
       "50%       535.000000      4733.000000         NaN     2451.760000   \n",
       "75%       785.000000      7338.000000         NaN     5291.095000   \n",
       "max       998.000000      9998.000000         NaN    47498.810000   \n",
       "\n",
       "       merchantCity  merchantState  merchantZip  posOnPremises  \\\n",
       "count           0.0            0.0          0.0            0.0   \n",
       "mean            NaN            NaN          NaN            NaN   \n",
       "std             NaN            NaN          NaN            NaN   \n",
       "min             NaN            NaN          NaN            NaN   \n",
       "25%             NaN            NaN          NaN            NaN   \n",
       "50%             NaN            NaN          NaN            NaN   \n",
       "75%             NaN            NaN          NaN            NaN   \n",
       "max             NaN            NaN          NaN            NaN   \n",
       "\n",
       "       recurringAuthInd  \n",
       "count               0.0  \n",
       "mean                NaN  \n",
       "std                 NaN  \n",
       "min                 NaN  \n",
       "25%                 NaN  \n",
       "50%                 NaN  \n",
       "75%                 NaN  \n",
       "max                 NaN  "
      ]
     },
     "execution_count": 182,
     "metadata": {},
     "output_type": "execute_result"
    }
   ],
   "source": [
    "trxn.describe(include=np.number) # 5 point Summary for all Numberical data"
   ]
  },
  {
   "cell_type": "code",
   "execution_count": 183,
   "metadata": {},
   "outputs": [
    {
     "data": {
      "text/html": [
       "<div>\n",
       "<style scoped>\n",
       "    .dataframe tbody tr th:only-of-type {\n",
       "        vertical-align: middle;\n",
       "    }\n",
       "\n",
       "    .dataframe tbody tr th {\n",
       "        vertical-align: top;\n",
       "    }\n",
       "\n",
       "    .dataframe thead th {\n",
       "        text-align: right;\n",
       "    }\n",
       "</style>\n",
       "<table border=\"1\" class=\"dataframe\">\n",
       "  <thead>\n",
       "    <tr style=\"text-align: right;\">\n",
       "      <th></th>\n",
       "      <th>transactionDateTime</th>\n",
       "      <th>merchantName</th>\n",
       "      <th>acqCountry</th>\n",
       "      <th>merchantCountryCode</th>\n",
       "      <th>merchantCategoryCode</th>\n",
       "      <th>currentExpDate</th>\n",
       "      <th>accountOpenDate</th>\n",
       "      <th>dateOfLastAddressChange</th>\n",
       "      <th>transactionType</th>\n",
       "      <th>cardPresent</th>\n",
       "      <th>expirationDateKeyInMatch</th>\n",
       "      <th>isFraud</th>\n",
       "    </tr>\n",
       "  </thead>\n",
       "  <tbody>\n",
       "    <tr>\n",
       "      <th>count</th>\n",
       "      <td>786363</td>\n",
       "      <td>786363</td>\n",
       "      <td>781801</td>\n",
       "      <td>785639</td>\n",
       "      <td>786363</td>\n",
       "      <td>786363</td>\n",
       "      <td>786363</td>\n",
       "      <td>786363</td>\n",
       "      <td>785665</td>\n",
       "      <td>786363</td>\n",
       "      <td>786363</td>\n",
       "      <td>786363</td>\n",
       "    </tr>\n",
       "    <tr>\n",
       "      <th>unique</th>\n",
       "      <td>776637</td>\n",
       "      <td>2490</td>\n",
       "      <td>4</td>\n",
       "      <td>4</td>\n",
       "      <td>19</td>\n",
       "      <td>165</td>\n",
       "      <td>1820</td>\n",
       "      <td>2184</td>\n",
       "      <td>3</td>\n",
       "      <td>2</td>\n",
       "      <td>2</td>\n",
       "      <td>2</td>\n",
       "    </tr>\n",
       "    <tr>\n",
       "      <th>top</th>\n",
       "      <td>2016-12-25T14:04:15</td>\n",
       "      <td>Uber</td>\n",
       "      <td>US</td>\n",
       "      <td>US</td>\n",
       "      <td>online_retail</td>\n",
       "      <td>03/2029</td>\n",
       "      <td>2014-06-21</td>\n",
       "      <td>2016-03-15</td>\n",
       "      <td>PURCHASE</td>\n",
       "      <td>False</td>\n",
       "      <td>False</td>\n",
       "      <td>False</td>\n",
       "    </tr>\n",
       "    <tr>\n",
       "      <th>freq</th>\n",
       "      <td>4</td>\n",
       "      <td>25613</td>\n",
       "      <td>774709</td>\n",
       "      <td>778511</td>\n",
       "      <td>202156</td>\n",
       "      <td>5103</td>\n",
       "      <td>33623</td>\n",
       "      <td>3819</td>\n",
       "      <td>745193</td>\n",
       "      <td>433495</td>\n",
       "      <td>785320</td>\n",
       "      <td>773946</td>\n",
       "    </tr>\n",
       "  </tbody>\n",
       "</table>\n",
       "</div>"
      ],
      "text/plain": [
       "        transactionDateTime merchantName acqCountry merchantCountryCode  \\\n",
       "count                786363       786363     781801              785639   \n",
       "unique               776637         2490          4                   4   \n",
       "top     2016-12-25T14:04:15         Uber         US                  US   \n",
       "freq                      4        25613     774709              778511   \n",
       "\n",
       "       merchantCategoryCode currentExpDate accountOpenDate  \\\n",
       "count                786363         786363          786363   \n",
       "unique                   19            165            1820   \n",
       "top           online_retail        03/2029      2014-06-21   \n",
       "freq                 202156           5103           33623   \n",
       "\n",
       "       dateOfLastAddressChange transactionType cardPresent  \\\n",
       "count                   786363          785665      786363   \n",
       "unique                    2184               3           2   \n",
       "top                 2016-03-15        PURCHASE       False   \n",
       "freq                      3819          745193      433495   \n",
       "\n",
       "       expirationDateKeyInMatch isFraud  \n",
       "count                    786363  786363  \n",
       "unique                        2       2  \n",
       "top                       False   False  \n",
       "freq                     785320  773946  "
      ]
     },
     "execution_count": 183,
     "metadata": {},
     "output_type": "execute_result"
    }
   ],
   "source": [
    "trxn.describe(exclude=np.number) # 5 Point summary of all categorical data "
   ]
  },
  {
   "cell_type": "code",
   "execution_count": 184,
   "metadata": {},
   "outputs": [
    {
     "name": "stdout",
     "output_type": "stream",
     "text": [
      "<class 'pandas.core.frame.DataFrame'>\n",
      "RangeIndex: 786363 entries, 0 to 786362\n",
      "Data columns (total 29 columns):\n",
      " #   Column                    Non-Null Count   Dtype  \n",
      "---  ------                    --------------   -----  \n",
      " 0   accountNumber             786363 non-null  int64  \n",
      " 1   customerId                786363 non-null  int64  \n",
      " 2   creditLimit               786363 non-null  float64\n",
      " 3   availableMoney            786363 non-null  float64\n",
      " 4   transactionDateTime       786363 non-null  object \n",
      " 5   transactionAmount         786363 non-null  float64\n",
      " 6   merchantName              786363 non-null  object \n",
      " 7   acqCountry                781801 non-null  object \n",
      " 8   merchantCountryCode       785639 non-null  object \n",
      " 9   posEntryMode              782309 non-null  float64\n",
      " 10  posConditionCode          785954 non-null  float64\n",
      " 11  merchantCategoryCode      786363 non-null  object \n",
      " 12  currentExpDate            786363 non-null  object \n",
      " 13  accountOpenDate           786363 non-null  object \n",
      " 14  dateOfLastAddressChange   786363 non-null  object \n",
      " 15  cardCVV                   786363 non-null  int64  \n",
      " 16  enteredCVV                786363 non-null  int64  \n",
      " 17  cardLast4Digits           786363 non-null  int64  \n",
      " 18  transactionType           785665 non-null  object \n",
      " 19  echoBuffer                0 non-null       float64\n",
      " 20  currentBalance            786363 non-null  float64\n",
      " 21  merchantCity              0 non-null       float64\n",
      " 22  merchantState             0 non-null       float64\n",
      " 23  merchantZip               0 non-null       float64\n",
      " 24  cardPresent               786363 non-null  bool   \n",
      " 25  posOnPremises             0 non-null       float64\n",
      " 26  recurringAuthInd          0 non-null       float64\n",
      " 27  expirationDateKeyInMatch  786363 non-null  bool   \n",
      " 28  isFraud                   786363 non-null  bool   \n",
      "dtypes: bool(3), float64(12), int64(5), object(9)\n",
      "memory usage: 158.2+ MB\n"
     ]
    }
   ],
   "source": [
    "trxn.info()\n",
    "#prints information Dataset index dtype and columns, non-null values & memory usage"
   ]
  },
  {
   "cell_type": "code",
   "execution_count": 185,
   "metadata": {},
   "outputs": [
    {
     "data": {
      "text/html": [
       "<div>\n",
       "<style scoped>\n",
       "    .dataframe tbody tr th:only-of-type {\n",
       "        vertical-align: middle;\n",
       "    }\n",
       "\n",
       "    .dataframe tbody tr th {\n",
       "        vertical-align: top;\n",
       "    }\n",
       "\n",
       "    .dataframe thead th {\n",
       "        text-align: right;\n",
       "    }\n",
       "</style>\n",
       "<table border=\"1\" class=\"dataframe\">\n",
       "  <thead>\n",
       "    <tr style=\"text-align: right;\">\n",
       "      <th></th>\n",
       "      <th>accountNumber</th>\n",
       "      <th>customerId</th>\n",
       "      <th>creditLimit</th>\n",
       "      <th>availableMoney</th>\n",
       "      <th>transactionDateTime</th>\n",
       "      <th>transactionAmount</th>\n",
       "      <th>merchantName</th>\n",
       "      <th>acqCountry</th>\n",
       "      <th>merchantCountryCode</th>\n",
       "      <th>posEntryMode</th>\n",
       "      <th>posConditionCode</th>\n",
       "      <th>merchantCategoryCode</th>\n",
       "      <th>currentExpDate</th>\n",
       "      <th>accountOpenDate</th>\n",
       "      <th>dateOfLastAddressChange</th>\n",
       "      <th>cardCVV</th>\n",
       "      <th>enteredCVV</th>\n",
       "      <th>cardLast4Digits</th>\n",
       "      <th>transactionType</th>\n",
       "      <th>echoBuffer</th>\n",
       "      <th>currentBalance</th>\n",
       "      <th>merchantCity</th>\n",
       "      <th>merchantState</th>\n",
       "      <th>merchantZip</th>\n",
       "      <th>cardPresent</th>\n",
       "      <th>posOnPremises</th>\n",
       "      <th>recurringAuthInd</th>\n",
       "      <th>expirationDateKeyInMatch</th>\n",
       "      <th>isFraud</th>\n",
       "    </tr>\n",
       "  </thead>\n",
       "  <tbody>\n",
       "    <tr>\n",
       "      <th>0</th>\n",
       "      <td>737265056</td>\n",
       "      <td>737265056</td>\n",
       "      <td>5000.0</td>\n",
       "      <td>5000.0</td>\n",
       "      <td>2016-08-13T14:27:32</td>\n",
       "      <td>98.55</td>\n",
       "      <td>Uber</td>\n",
       "      <td>US</td>\n",
       "      <td>US</td>\n",
       "      <td>2.0</td>\n",
       "      <td>1.0</td>\n",
       "      <td>rideshare</td>\n",
       "      <td>06/2023</td>\n",
       "      <td>2015-03-14</td>\n",
       "      <td>2015-03-14</td>\n",
       "      <td>414</td>\n",
       "      <td>414</td>\n",
       "      <td>1803</td>\n",
       "      <td>PURCHASE</td>\n",
       "      <td>NaN</td>\n",
       "      <td>0.0</td>\n",
       "      <td>NaN</td>\n",
       "      <td>NaN</td>\n",
       "      <td>NaN</td>\n",
       "      <td>False</td>\n",
       "      <td>NaN</td>\n",
       "      <td>NaN</td>\n",
       "      <td>False</td>\n",
       "      <td>False</td>\n",
       "    </tr>\n",
       "    <tr>\n",
       "      <th>1</th>\n",
       "      <td>737265056</td>\n",
       "      <td>737265056</td>\n",
       "      <td>5000.0</td>\n",
       "      <td>5000.0</td>\n",
       "      <td>2016-10-11T05:05:54</td>\n",
       "      <td>74.51</td>\n",
       "      <td>AMC #191138</td>\n",
       "      <td>US</td>\n",
       "      <td>US</td>\n",
       "      <td>9.0</td>\n",
       "      <td>1.0</td>\n",
       "      <td>entertainment</td>\n",
       "      <td>02/2024</td>\n",
       "      <td>2015-03-14</td>\n",
       "      <td>2015-03-14</td>\n",
       "      <td>486</td>\n",
       "      <td>486</td>\n",
       "      <td>767</td>\n",
       "      <td>PURCHASE</td>\n",
       "      <td>NaN</td>\n",
       "      <td>0.0</td>\n",
       "      <td>NaN</td>\n",
       "      <td>NaN</td>\n",
       "      <td>NaN</td>\n",
       "      <td>True</td>\n",
       "      <td>NaN</td>\n",
       "      <td>NaN</td>\n",
       "      <td>False</td>\n",
       "      <td>False</td>\n",
       "    </tr>\n",
       "    <tr>\n",
       "      <th>2</th>\n",
       "      <td>737265056</td>\n",
       "      <td>737265056</td>\n",
       "      <td>5000.0</td>\n",
       "      <td>5000.0</td>\n",
       "      <td>2016-11-08T09:18:39</td>\n",
       "      <td>7.47</td>\n",
       "      <td>Play Store</td>\n",
       "      <td>US</td>\n",
       "      <td>US</td>\n",
       "      <td>9.0</td>\n",
       "      <td>1.0</td>\n",
       "      <td>mobileapps</td>\n",
       "      <td>08/2025</td>\n",
       "      <td>2015-03-14</td>\n",
       "      <td>2015-03-14</td>\n",
       "      <td>486</td>\n",
       "      <td>486</td>\n",
       "      <td>767</td>\n",
       "      <td>PURCHASE</td>\n",
       "      <td>NaN</td>\n",
       "      <td>0.0</td>\n",
       "      <td>NaN</td>\n",
       "      <td>NaN</td>\n",
       "      <td>NaN</td>\n",
       "      <td>False</td>\n",
       "      <td>NaN</td>\n",
       "      <td>NaN</td>\n",
       "      <td>False</td>\n",
       "      <td>False</td>\n",
       "    </tr>\n",
       "    <tr>\n",
       "      <th>3</th>\n",
       "      <td>737265056</td>\n",
       "      <td>737265056</td>\n",
       "      <td>5000.0</td>\n",
       "      <td>5000.0</td>\n",
       "      <td>2016-12-10T02:14:50</td>\n",
       "      <td>7.47</td>\n",
       "      <td>Play Store</td>\n",
       "      <td>US</td>\n",
       "      <td>US</td>\n",
       "      <td>9.0</td>\n",
       "      <td>1.0</td>\n",
       "      <td>mobileapps</td>\n",
       "      <td>08/2025</td>\n",
       "      <td>2015-03-14</td>\n",
       "      <td>2015-03-14</td>\n",
       "      <td>486</td>\n",
       "      <td>486</td>\n",
       "      <td>767</td>\n",
       "      <td>PURCHASE</td>\n",
       "      <td>NaN</td>\n",
       "      <td>0.0</td>\n",
       "      <td>NaN</td>\n",
       "      <td>NaN</td>\n",
       "      <td>NaN</td>\n",
       "      <td>False</td>\n",
       "      <td>NaN</td>\n",
       "      <td>NaN</td>\n",
       "      <td>False</td>\n",
       "      <td>False</td>\n",
       "    </tr>\n",
       "    <tr>\n",
       "      <th>4</th>\n",
       "      <td>830329091</td>\n",
       "      <td>830329091</td>\n",
       "      <td>5000.0</td>\n",
       "      <td>5000.0</td>\n",
       "      <td>2016-03-24T21:04:46</td>\n",
       "      <td>71.18</td>\n",
       "      <td>Tim Hortons #947751</td>\n",
       "      <td>US</td>\n",
       "      <td>US</td>\n",
       "      <td>2.0</td>\n",
       "      <td>1.0</td>\n",
       "      <td>fastfood</td>\n",
       "      <td>10/2029</td>\n",
       "      <td>2015-08-06</td>\n",
       "      <td>2015-08-06</td>\n",
       "      <td>885</td>\n",
       "      <td>885</td>\n",
       "      <td>3143</td>\n",
       "      <td>PURCHASE</td>\n",
       "      <td>NaN</td>\n",
       "      <td>0.0</td>\n",
       "      <td>NaN</td>\n",
       "      <td>NaN</td>\n",
       "      <td>NaN</td>\n",
       "      <td>True</td>\n",
       "      <td>NaN</td>\n",
       "      <td>NaN</td>\n",
       "      <td>False</td>\n",
       "      <td>False</td>\n",
       "    </tr>\n",
       "  </tbody>\n",
       "</table>\n",
       "</div>"
      ],
      "text/plain": [
       "   accountNumber  customerId  creditLimit  availableMoney  \\\n",
       "0      737265056   737265056       5000.0          5000.0   \n",
       "1      737265056   737265056       5000.0          5000.0   \n",
       "2      737265056   737265056       5000.0          5000.0   \n",
       "3      737265056   737265056       5000.0          5000.0   \n",
       "4      830329091   830329091       5000.0          5000.0   \n",
       "\n",
       "   transactionDateTime  transactionAmount         merchantName acqCountry  \\\n",
       "0  2016-08-13T14:27:32              98.55                 Uber         US   \n",
       "1  2016-10-11T05:05:54              74.51          AMC #191138         US   \n",
       "2  2016-11-08T09:18:39               7.47           Play Store         US   \n",
       "3  2016-12-10T02:14:50               7.47           Play Store         US   \n",
       "4  2016-03-24T21:04:46              71.18  Tim Hortons #947751         US   \n",
       "\n",
       "  merchantCountryCode  posEntryMode  posConditionCode merchantCategoryCode  \\\n",
       "0                  US           2.0               1.0            rideshare   \n",
       "1                  US           9.0               1.0        entertainment   \n",
       "2                  US           9.0               1.0           mobileapps   \n",
       "3                  US           9.0               1.0           mobileapps   \n",
       "4                  US           2.0               1.0             fastfood   \n",
       "\n",
       "  currentExpDate accountOpenDate dateOfLastAddressChange  cardCVV  enteredCVV  \\\n",
       "0        06/2023      2015-03-14              2015-03-14      414         414   \n",
       "1        02/2024      2015-03-14              2015-03-14      486         486   \n",
       "2        08/2025      2015-03-14              2015-03-14      486         486   \n",
       "3        08/2025      2015-03-14              2015-03-14      486         486   \n",
       "4        10/2029      2015-08-06              2015-08-06      885         885   \n",
       "\n",
       "   cardLast4Digits transactionType  echoBuffer  currentBalance  merchantCity  \\\n",
       "0             1803        PURCHASE         NaN             0.0           NaN   \n",
       "1              767        PURCHASE         NaN             0.0           NaN   \n",
       "2              767        PURCHASE         NaN             0.0           NaN   \n",
       "3              767        PURCHASE         NaN             0.0           NaN   \n",
       "4             3143        PURCHASE         NaN             0.0           NaN   \n",
       "\n",
       "   merchantState  merchantZip  cardPresent  posOnPremises  recurringAuthInd  \\\n",
       "0            NaN          NaN        False            NaN               NaN   \n",
       "1            NaN          NaN         True            NaN               NaN   \n",
       "2            NaN          NaN        False            NaN               NaN   \n",
       "3            NaN          NaN        False            NaN               NaN   \n",
       "4            NaN          NaN         True            NaN               NaN   \n",
       "\n",
       "   expirationDateKeyInMatch  isFraud  \n",
       "0                     False    False  \n",
       "1                     False    False  \n",
       "2                     False    False  \n",
       "3                     False    False  \n",
       "4                     False    False  "
      ]
     },
     "execution_count": 185,
     "metadata": {},
     "output_type": "execute_result"
    }
   ],
   "source": [
    "trxn.head() #Prints the first 5 Observation & all Varaibles in the dataset"
   ]
  },
  {
   "cell_type": "code",
   "execution_count": 186,
   "metadata": {},
   "outputs": [],
   "source": [
    "trxn.rename(columns={'currentExpDate': 'CardExpiryMonth&Year'},inplace=True)"
   ]
  },
  {
   "cell_type": "code",
   "execution_count": 187,
   "metadata": {},
   "outputs": [],
   "source": [
    "trxn_columns = trxn.columns.to_list() #Prints the All Columns Names in the dataset \n",
    "# can be used to validate with dataset glossary"
   ]
  },
  {
   "cell_type": "code",
   "execution_count": 188,
   "metadata": {},
   "outputs": [
    {
     "data": {
      "text/plain": [
       "['accountNumber',\n",
       " 'customerId',\n",
       " 'creditLimit',\n",
       " 'availableMoney',\n",
       " 'transactionDateTime',\n",
       " 'transactionAmount',\n",
       " 'merchantName',\n",
       " 'acqCountry',\n",
       " 'merchantCountryCode',\n",
       " 'posEntryMode',\n",
       " 'posConditionCode',\n",
       " 'merchantCategoryCode',\n",
       " 'CardExpiryMonth&Year',\n",
       " 'accountOpenDate',\n",
       " 'dateOfLastAddressChange',\n",
       " 'cardCVV',\n",
       " 'enteredCVV',\n",
       " 'cardLast4Digits',\n",
       " 'transactionType',\n",
       " 'echoBuffer',\n",
       " 'currentBalance',\n",
       " 'merchantCity',\n",
       " 'merchantState',\n",
       " 'merchantZip',\n",
       " 'cardPresent',\n",
       " 'posOnPremises',\n",
       " 'recurringAuthInd',\n",
       " 'expirationDateKeyInMatch',\n",
       " 'isFraud']"
      ]
     },
     "execution_count": 188,
     "metadata": {},
     "output_type": "execute_result"
    }
   ],
   "source": [
    "trxn_columns"
   ]
  },
  {
   "cell_type": "code",
   "execution_count": 189,
   "metadata": {},
   "outputs": [
    {
     "data": {
      "text/plain": [
       "0"
      ]
     },
     "execution_count": 189,
     "metadata": {},
     "output_type": "execute_result"
    }
   ],
   "source": [
    "trxn.duplicated().sum() # to view any duplicated columns or rows in the dataset"
   ]
  },
  {
   "cell_type": "code",
   "execution_count": 190,
   "metadata": {},
   "outputs": [
    {
     "data": {
      "text/plain": [
       "False    98.420958\n",
       "True      1.579042\n",
       "Name: isFraud, dtype: float64"
      ]
     },
     "execution_count": 190,
     "metadata": {},
     "output_type": "execute_result"
    }
   ],
   "source": [
    "trxn['isFraud'].value_counts(normalize=True)*100"
   ]
  },
  {
   "cell_type": "markdown",
   "metadata": {},
   "source": [
    "## Data Prepration"
   ]
  },
  {
   "cell_type": "markdown",
   "metadata": {},
   "source": [
    "> Creating copy of Orginal Dataset"
   ]
  },
  {
   "cell_type": "markdown",
   "metadata": {},
   "source": [
    "    -> From Now we will working only in copy of the Original Datasets\n",
    " \n",
    "    # we are creating a copy  of datasets so mulitple techniques can used on the dataset"
   ]
  },
  {
   "cell_type": "code",
   "execution_count": 191,
   "metadata": {},
   "outputs": [],
   "source": [
    "trxn_c1 =  trxn.copy()"
   ]
  },
  {
   "cell_type": "code",
   "execution_count": 192,
   "metadata": {},
   "outputs": [
    {
     "data": {
      "text/html": [
       "<div>\n",
       "<style scoped>\n",
       "    .dataframe tbody tr th:only-of-type {\n",
       "        vertical-align: middle;\n",
       "    }\n",
       "\n",
       "    .dataframe tbody tr th {\n",
       "        vertical-align: top;\n",
       "    }\n",
       "\n",
       "    .dataframe thead th {\n",
       "        text-align: right;\n",
       "    }\n",
       "</style>\n",
       "<table border=\"1\" class=\"dataframe\">\n",
       "  <thead>\n",
       "    <tr style=\"text-align: right;\">\n",
       "      <th></th>\n",
       "      <th>accountNumber</th>\n",
       "      <th>customerId</th>\n",
       "      <th>creditLimit</th>\n",
       "      <th>availableMoney</th>\n",
       "      <th>transactionDateTime</th>\n",
       "      <th>transactionAmount</th>\n",
       "      <th>merchantName</th>\n",
       "      <th>acqCountry</th>\n",
       "      <th>merchantCountryCode</th>\n",
       "      <th>posEntryMode</th>\n",
       "      <th>posConditionCode</th>\n",
       "      <th>merchantCategoryCode</th>\n",
       "      <th>CardExpiryMonth&amp;Year</th>\n",
       "      <th>accountOpenDate</th>\n",
       "      <th>dateOfLastAddressChange</th>\n",
       "      <th>cardCVV</th>\n",
       "      <th>enteredCVV</th>\n",
       "      <th>cardLast4Digits</th>\n",
       "      <th>transactionType</th>\n",
       "      <th>echoBuffer</th>\n",
       "      <th>currentBalance</th>\n",
       "      <th>merchantCity</th>\n",
       "      <th>merchantState</th>\n",
       "      <th>merchantZip</th>\n",
       "      <th>cardPresent</th>\n",
       "      <th>posOnPremises</th>\n",
       "      <th>recurringAuthInd</th>\n",
       "      <th>expirationDateKeyInMatch</th>\n",
       "      <th>isFraud</th>\n",
       "    </tr>\n",
       "  </thead>\n",
       "  <tbody>\n",
       "    <tr>\n",
       "      <th>0</th>\n",
       "      <td>737265056</td>\n",
       "      <td>737265056</td>\n",
       "      <td>5000.0</td>\n",
       "      <td>5000.0</td>\n",
       "      <td>2016-08-13T14:27:32</td>\n",
       "      <td>98.55</td>\n",
       "      <td>Uber</td>\n",
       "      <td>US</td>\n",
       "      <td>US</td>\n",
       "      <td>2.0</td>\n",
       "      <td>1.0</td>\n",
       "      <td>rideshare</td>\n",
       "      <td>06/2023</td>\n",
       "      <td>2015-03-14</td>\n",
       "      <td>2015-03-14</td>\n",
       "      <td>414</td>\n",
       "      <td>414</td>\n",
       "      <td>1803</td>\n",
       "      <td>PURCHASE</td>\n",
       "      <td>NaN</td>\n",
       "      <td>0.0</td>\n",
       "      <td>NaN</td>\n",
       "      <td>NaN</td>\n",
       "      <td>NaN</td>\n",
       "      <td>False</td>\n",
       "      <td>NaN</td>\n",
       "      <td>NaN</td>\n",
       "      <td>False</td>\n",
       "      <td>False</td>\n",
       "    </tr>\n",
       "    <tr>\n",
       "      <th>1</th>\n",
       "      <td>737265056</td>\n",
       "      <td>737265056</td>\n",
       "      <td>5000.0</td>\n",
       "      <td>5000.0</td>\n",
       "      <td>2016-10-11T05:05:54</td>\n",
       "      <td>74.51</td>\n",
       "      <td>AMC #191138</td>\n",
       "      <td>US</td>\n",
       "      <td>US</td>\n",
       "      <td>9.0</td>\n",
       "      <td>1.0</td>\n",
       "      <td>entertainment</td>\n",
       "      <td>02/2024</td>\n",
       "      <td>2015-03-14</td>\n",
       "      <td>2015-03-14</td>\n",
       "      <td>486</td>\n",
       "      <td>486</td>\n",
       "      <td>767</td>\n",
       "      <td>PURCHASE</td>\n",
       "      <td>NaN</td>\n",
       "      <td>0.0</td>\n",
       "      <td>NaN</td>\n",
       "      <td>NaN</td>\n",
       "      <td>NaN</td>\n",
       "      <td>True</td>\n",
       "      <td>NaN</td>\n",
       "      <td>NaN</td>\n",
       "      <td>False</td>\n",
       "      <td>False</td>\n",
       "    </tr>\n",
       "    <tr>\n",
       "      <th>2</th>\n",
       "      <td>737265056</td>\n",
       "      <td>737265056</td>\n",
       "      <td>5000.0</td>\n",
       "      <td>5000.0</td>\n",
       "      <td>2016-11-08T09:18:39</td>\n",
       "      <td>7.47</td>\n",
       "      <td>Play Store</td>\n",
       "      <td>US</td>\n",
       "      <td>US</td>\n",
       "      <td>9.0</td>\n",
       "      <td>1.0</td>\n",
       "      <td>mobileapps</td>\n",
       "      <td>08/2025</td>\n",
       "      <td>2015-03-14</td>\n",
       "      <td>2015-03-14</td>\n",
       "      <td>486</td>\n",
       "      <td>486</td>\n",
       "      <td>767</td>\n",
       "      <td>PURCHASE</td>\n",
       "      <td>NaN</td>\n",
       "      <td>0.0</td>\n",
       "      <td>NaN</td>\n",
       "      <td>NaN</td>\n",
       "      <td>NaN</td>\n",
       "      <td>False</td>\n",
       "      <td>NaN</td>\n",
       "      <td>NaN</td>\n",
       "      <td>False</td>\n",
       "      <td>False</td>\n",
       "    </tr>\n",
       "    <tr>\n",
       "      <th>3</th>\n",
       "      <td>737265056</td>\n",
       "      <td>737265056</td>\n",
       "      <td>5000.0</td>\n",
       "      <td>5000.0</td>\n",
       "      <td>2016-12-10T02:14:50</td>\n",
       "      <td>7.47</td>\n",
       "      <td>Play Store</td>\n",
       "      <td>US</td>\n",
       "      <td>US</td>\n",
       "      <td>9.0</td>\n",
       "      <td>1.0</td>\n",
       "      <td>mobileapps</td>\n",
       "      <td>08/2025</td>\n",
       "      <td>2015-03-14</td>\n",
       "      <td>2015-03-14</td>\n",
       "      <td>486</td>\n",
       "      <td>486</td>\n",
       "      <td>767</td>\n",
       "      <td>PURCHASE</td>\n",
       "      <td>NaN</td>\n",
       "      <td>0.0</td>\n",
       "      <td>NaN</td>\n",
       "      <td>NaN</td>\n",
       "      <td>NaN</td>\n",
       "      <td>False</td>\n",
       "      <td>NaN</td>\n",
       "      <td>NaN</td>\n",
       "      <td>False</td>\n",
       "      <td>False</td>\n",
       "    </tr>\n",
       "    <tr>\n",
       "      <th>4</th>\n",
       "      <td>830329091</td>\n",
       "      <td>830329091</td>\n",
       "      <td>5000.0</td>\n",
       "      <td>5000.0</td>\n",
       "      <td>2016-03-24T21:04:46</td>\n",
       "      <td>71.18</td>\n",
       "      <td>Tim Hortons #947751</td>\n",
       "      <td>US</td>\n",
       "      <td>US</td>\n",
       "      <td>2.0</td>\n",
       "      <td>1.0</td>\n",
       "      <td>fastfood</td>\n",
       "      <td>10/2029</td>\n",
       "      <td>2015-08-06</td>\n",
       "      <td>2015-08-06</td>\n",
       "      <td>885</td>\n",
       "      <td>885</td>\n",
       "      <td>3143</td>\n",
       "      <td>PURCHASE</td>\n",
       "      <td>NaN</td>\n",
       "      <td>0.0</td>\n",
       "      <td>NaN</td>\n",
       "      <td>NaN</td>\n",
       "      <td>NaN</td>\n",
       "      <td>True</td>\n",
       "      <td>NaN</td>\n",
       "      <td>NaN</td>\n",
       "      <td>False</td>\n",
       "      <td>False</td>\n",
       "    </tr>\n",
       "  </tbody>\n",
       "</table>\n",
       "</div>"
      ],
      "text/plain": [
       "   accountNumber  customerId  creditLimit  availableMoney  \\\n",
       "0      737265056   737265056       5000.0          5000.0   \n",
       "1      737265056   737265056       5000.0          5000.0   \n",
       "2      737265056   737265056       5000.0          5000.0   \n",
       "3      737265056   737265056       5000.0          5000.0   \n",
       "4      830329091   830329091       5000.0          5000.0   \n",
       "\n",
       "   transactionDateTime  transactionAmount         merchantName acqCountry  \\\n",
       "0  2016-08-13T14:27:32              98.55                 Uber         US   \n",
       "1  2016-10-11T05:05:54              74.51          AMC #191138         US   \n",
       "2  2016-11-08T09:18:39               7.47           Play Store         US   \n",
       "3  2016-12-10T02:14:50               7.47           Play Store         US   \n",
       "4  2016-03-24T21:04:46              71.18  Tim Hortons #947751         US   \n",
       "\n",
       "  merchantCountryCode  posEntryMode  posConditionCode merchantCategoryCode  \\\n",
       "0                  US           2.0               1.0            rideshare   \n",
       "1                  US           9.0               1.0        entertainment   \n",
       "2                  US           9.0               1.0           mobileapps   \n",
       "3                  US           9.0               1.0           mobileapps   \n",
       "4                  US           2.0               1.0             fastfood   \n",
       "\n",
       "  CardExpiryMonth&Year accountOpenDate dateOfLastAddressChange  cardCVV  \\\n",
       "0              06/2023      2015-03-14              2015-03-14      414   \n",
       "1              02/2024      2015-03-14              2015-03-14      486   \n",
       "2              08/2025      2015-03-14              2015-03-14      486   \n",
       "3              08/2025      2015-03-14              2015-03-14      486   \n",
       "4              10/2029      2015-08-06              2015-08-06      885   \n",
       "\n",
       "   enteredCVV  cardLast4Digits transactionType  echoBuffer  currentBalance  \\\n",
       "0         414             1803        PURCHASE         NaN             0.0   \n",
       "1         486              767        PURCHASE         NaN             0.0   \n",
       "2         486              767        PURCHASE         NaN             0.0   \n",
       "3         486              767        PURCHASE         NaN             0.0   \n",
       "4         885             3143        PURCHASE         NaN             0.0   \n",
       "\n",
       "   merchantCity  merchantState  merchantZip  cardPresent  posOnPremises  \\\n",
       "0           NaN            NaN          NaN        False            NaN   \n",
       "1           NaN            NaN          NaN         True            NaN   \n",
       "2           NaN            NaN          NaN        False            NaN   \n",
       "3           NaN            NaN          NaN        False            NaN   \n",
       "4           NaN            NaN          NaN         True            NaN   \n",
       "\n",
       "   recurringAuthInd  expirationDateKeyInMatch  isFraud  \n",
       "0               NaN                     False    False  \n",
       "1               NaN                     False    False  \n",
       "2               NaN                     False    False  \n",
       "3               NaN                     False    False  \n",
       "4               NaN                     False    False  "
      ]
     },
     "execution_count": 192,
     "metadata": {},
     "output_type": "execute_result"
    }
   ],
   "source": [
    "trxn_c1.head()"
   ]
  },
  {
   "cell_type": "markdown",
   "metadata": {},
   "source": [
    "## Missing Value Imputation"
   ]
  },
  {
   "cell_type": "code",
   "execution_count": 193,
   "metadata": {},
   "outputs": [],
   "source": [
    "def missing_zero_values_table(df):\n",
    "        zero_val = (df == 0.00).astype(int).sum(axis=0)\n",
    "        mis_val = df.isnull().sum()\n",
    "        mis_val_percent = 100 * df.isnull().sum() / len(df)\n",
    "        mz_table = pd.concat([zero_val, mis_val, mis_val_percent], axis=1)\n",
    "        mz_table = mz_table.rename(\n",
    "        columns = {0 : 'Zero Values', 1 : 'Missing Values', 2 : '% of Total Values'})\n",
    "        mz_table['Total Zero & Missing Values'] = mz_table['Zero Values'] + mz_table['Missing Values']\n",
    "        mz_table['% Total Zero & Missing Values'] = 100 * mz_table['Total Zero & Missing Values'] / len(df)\n",
    "        mz_table['Data Type'] = df.dtypes\n",
    "        mz_table = mz_table[\n",
    "            mz_table.iloc[:,1] != 0].sort_values(\n",
    "        '% of Total Values', ascending=False).round(1)\n",
    "        print (\"Your selected dataframe has \" + str(df.shape[1]) + \" columns and \" + str(df.shape[0]) + \" Rows.\\n\"      \n",
    "            \"There are \" + str(mz_table.shape[0]) +\n",
    "              \" columns that have missing values.\")\n",
    "#         mz_table.to_excel('D:/sampledata/missing_and_zero_values.xlsx', freeze_panes=(1,0), index = False)\n",
    "        return mz_table"
   ]
  },
  {
   "cell_type": "code",
   "execution_count": 194,
   "metadata": {},
   "outputs": [
    {
     "name": "stdout",
     "output_type": "stream",
     "text": [
      "Your selected dataframe has 29 columns and 786363 Rows.\n",
      "There are 11 columns that have missing values.\n"
     ]
    },
    {
     "data": {
      "text/html": [
       "<div>\n",
       "<style scoped>\n",
       "    .dataframe tbody tr th:only-of-type {\n",
       "        vertical-align: middle;\n",
       "    }\n",
       "\n",
       "    .dataframe tbody tr th {\n",
       "        vertical-align: top;\n",
       "    }\n",
       "\n",
       "    .dataframe thead th {\n",
       "        text-align: right;\n",
       "    }\n",
       "</style>\n",
       "<table border=\"1\" class=\"dataframe\">\n",
       "  <thead>\n",
       "    <tr style=\"text-align: right;\">\n",
       "      <th></th>\n",
       "      <th>Zero Values</th>\n",
       "      <th>Missing Values</th>\n",
       "      <th>% of Total Values</th>\n",
       "      <th>Total Zero &amp; Missing Values</th>\n",
       "      <th>% Total Zero &amp; Missing Values</th>\n",
       "      <th>Data Type</th>\n",
       "    </tr>\n",
       "  </thead>\n",
       "  <tbody>\n",
       "    <tr>\n",
       "      <th>echoBuffer</th>\n",
       "      <td>0</td>\n",
       "      <td>786363</td>\n",
       "      <td>100.0</td>\n",
       "      <td>786363</td>\n",
       "      <td>100.0</td>\n",
       "      <td>float64</td>\n",
       "    </tr>\n",
       "    <tr>\n",
       "      <th>merchantCity</th>\n",
       "      <td>0</td>\n",
       "      <td>786363</td>\n",
       "      <td>100.0</td>\n",
       "      <td>786363</td>\n",
       "      <td>100.0</td>\n",
       "      <td>float64</td>\n",
       "    </tr>\n",
       "    <tr>\n",
       "      <th>merchantState</th>\n",
       "      <td>0</td>\n",
       "      <td>786363</td>\n",
       "      <td>100.0</td>\n",
       "      <td>786363</td>\n",
       "      <td>100.0</td>\n",
       "      <td>float64</td>\n",
       "    </tr>\n",
       "    <tr>\n",
       "      <th>merchantZip</th>\n",
       "      <td>0</td>\n",
       "      <td>786363</td>\n",
       "      <td>100.0</td>\n",
       "      <td>786363</td>\n",
       "      <td>100.0</td>\n",
       "      <td>float64</td>\n",
       "    </tr>\n",
       "    <tr>\n",
       "      <th>posOnPremises</th>\n",
       "      <td>0</td>\n",
       "      <td>786363</td>\n",
       "      <td>100.0</td>\n",
       "      <td>786363</td>\n",
       "      <td>100.0</td>\n",
       "      <td>float64</td>\n",
       "    </tr>\n",
       "    <tr>\n",
       "      <th>recurringAuthInd</th>\n",
       "      <td>0</td>\n",
       "      <td>786363</td>\n",
       "      <td>100.0</td>\n",
       "      <td>786363</td>\n",
       "      <td>100.0</td>\n",
       "      <td>float64</td>\n",
       "    </tr>\n",
       "    <tr>\n",
       "      <th>acqCountry</th>\n",
       "      <td>0</td>\n",
       "      <td>4562</td>\n",
       "      <td>0.6</td>\n",
       "      <td>4562</td>\n",
       "      <td>0.6</td>\n",
       "      <td>object</td>\n",
       "    </tr>\n",
       "    <tr>\n",
       "      <th>posEntryMode</th>\n",
       "      <td>0</td>\n",
       "      <td>4054</td>\n",
       "      <td>0.5</td>\n",
       "      <td>4054</td>\n",
       "      <td>0.5</td>\n",
       "      <td>float64</td>\n",
       "    </tr>\n",
       "    <tr>\n",
       "      <th>merchantCountryCode</th>\n",
       "      <td>0</td>\n",
       "      <td>724</td>\n",
       "      <td>0.1</td>\n",
       "      <td>724</td>\n",
       "      <td>0.1</td>\n",
       "      <td>object</td>\n",
       "    </tr>\n",
       "    <tr>\n",
       "      <th>transactionType</th>\n",
       "      <td>0</td>\n",
       "      <td>698</td>\n",
       "      <td>0.1</td>\n",
       "      <td>698</td>\n",
       "      <td>0.1</td>\n",
       "      <td>object</td>\n",
       "    </tr>\n",
       "    <tr>\n",
       "      <th>posConditionCode</th>\n",
       "      <td>0</td>\n",
       "      <td>409</td>\n",
       "      <td>0.1</td>\n",
       "      <td>409</td>\n",
       "      <td>0.1</td>\n",
       "      <td>float64</td>\n",
       "    </tr>\n",
       "  </tbody>\n",
       "</table>\n",
       "</div>"
      ],
      "text/plain": [
       "                     Zero Values  Missing Values  % of Total Values  \\\n",
       "echoBuffer                     0          786363              100.0   \n",
       "merchantCity                   0          786363              100.0   \n",
       "merchantState                  0          786363              100.0   \n",
       "merchantZip                    0          786363              100.0   \n",
       "posOnPremises                  0          786363              100.0   \n",
       "recurringAuthInd               0          786363              100.0   \n",
       "acqCountry                     0            4562                0.6   \n",
       "posEntryMode                   0            4054                0.5   \n",
       "merchantCountryCode            0             724                0.1   \n",
       "transactionType                0             698                0.1   \n",
       "posConditionCode               0             409                0.1   \n",
       "\n",
       "                     Total Zero & Missing Values  \\\n",
       "echoBuffer                                786363   \n",
       "merchantCity                              786363   \n",
       "merchantState                             786363   \n",
       "merchantZip                               786363   \n",
       "posOnPremises                             786363   \n",
       "recurringAuthInd                          786363   \n",
       "acqCountry                                  4562   \n",
       "posEntryMode                                4054   \n",
       "merchantCountryCode                          724   \n",
       "transactionType                              698   \n",
       "posConditionCode                             409   \n",
       "\n",
       "                     % Total Zero & Missing Values Data Type  \n",
       "echoBuffer                                   100.0   float64  \n",
       "merchantCity                                 100.0   float64  \n",
       "merchantState                                100.0   float64  \n",
       "merchantZip                                  100.0   float64  \n",
       "posOnPremises                                100.0   float64  \n",
       "recurringAuthInd                             100.0   float64  \n",
       "acqCountry                                     0.6    object  \n",
       "posEntryMode                                   0.5   float64  \n",
       "merchantCountryCode                            0.1    object  \n",
       "transactionType                                0.1    object  \n",
       "posConditionCode                               0.1   float64  "
      ]
     },
     "execution_count": 194,
     "metadata": {},
     "output_type": "execute_result"
    }
   ],
   "source": [
    "missing_zero_values_table(trxn_c1)"
   ]
  },
  {
   "cell_type": "code",
   "execution_count": 195,
   "metadata": {},
   "outputs": [
    {
     "data": {
      "text/html": [
       "<div>\n",
       "<style scoped>\n",
       "    .dataframe tbody tr th:only-of-type {\n",
       "        vertical-align: middle;\n",
       "    }\n",
       "\n",
       "    .dataframe tbody tr th {\n",
       "        vertical-align: top;\n",
       "    }\n",
       "\n",
       "    .dataframe thead th {\n",
       "        text-align: right;\n",
       "    }\n",
       "</style>\n",
       "<table border=\"1\" class=\"dataframe\">\n",
       "  <thead>\n",
       "    <tr style=\"text-align: right;\">\n",
       "      <th></th>\n",
       "      <th>accountNumber</th>\n",
       "      <th>customerId</th>\n",
       "      <th>creditLimit</th>\n",
       "      <th>availableMoney</th>\n",
       "      <th>transactionDateTime</th>\n",
       "      <th>transactionAmount</th>\n",
       "      <th>merchantName</th>\n",
       "      <th>acqCountry</th>\n",
       "      <th>merchantCountryCode</th>\n",
       "      <th>posEntryMode</th>\n",
       "      <th>posConditionCode</th>\n",
       "      <th>merchantCategoryCode</th>\n",
       "      <th>CardExpiryMonth&amp;Year</th>\n",
       "      <th>accountOpenDate</th>\n",
       "      <th>dateOfLastAddressChange</th>\n",
       "      <th>cardCVV</th>\n",
       "      <th>enteredCVV</th>\n",
       "      <th>cardLast4Digits</th>\n",
       "      <th>transactionType</th>\n",
       "      <th>echoBuffer</th>\n",
       "      <th>currentBalance</th>\n",
       "      <th>merchantCity</th>\n",
       "      <th>merchantState</th>\n",
       "      <th>merchantZip</th>\n",
       "      <th>cardPresent</th>\n",
       "      <th>posOnPremises</th>\n",
       "      <th>recurringAuthInd</th>\n",
       "      <th>expirationDateKeyInMatch</th>\n",
       "      <th>isFraud</th>\n",
       "    </tr>\n",
       "  </thead>\n",
       "  <tbody>\n",
       "    <tr>\n",
       "      <th>8</th>\n",
       "      <td>830329091</td>\n",
       "      <td>830329091</td>\n",
       "      <td>5000.0</td>\n",
       "      <td>4990.63</td>\n",
       "      <td>2016-06-10T01:21:46</td>\n",
       "      <td>523.67</td>\n",
       "      <td>Burger King #486122</td>\n",
       "      <td>NaN</td>\n",
       "      <td>US</td>\n",
       "      <td>2.0</td>\n",
       "      <td>1.0</td>\n",
       "      <td>fastfood</td>\n",
       "      <td>08/2032</td>\n",
       "      <td>2015-08-06</td>\n",
       "      <td>2015-08-06</td>\n",
       "      <td>885</td>\n",
       "      <td>885</td>\n",
       "      <td>3143</td>\n",
       "      <td>PURCHASE</td>\n",
       "      <td>NaN</td>\n",
       "      <td>9.37</td>\n",
       "      <td>NaN</td>\n",
       "      <td>NaN</td>\n",
       "      <td>NaN</td>\n",
       "      <td>True</td>\n",
       "      <td>NaN</td>\n",
       "      <td>NaN</td>\n",
       "      <td>False</td>\n",
       "      <td>False</td>\n",
       "    </tr>\n",
       "    <tr>\n",
       "      <th>470</th>\n",
       "      <td>984504651</td>\n",
       "      <td>984504651</td>\n",
       "      <td>50000.0</td>\n",
       "      <td>12077.98</td>\n",
       "      <td>2016-06-06T06:42:23</td>\n",
       "      <td>12.41</td>\n",
       "      <td>NYSC #331326</td>\n",
       "      <td>NaN</td>\n",
       "      <td>US</td>\n",
       "      <td>5.0</td>\n",
       "      <td>99.0</td>\n",
       "      <td>health</td>\n",
       "      <td>05/2024</td>\n",
       "      <td>2015-07-27</td>\n",
       "      <td>2016-05-05</td>\n",
       "      <td>640</td>\n",
       "      <td>640</td>\n",
       "      <td>8332</td>\n",
       "      <td>PURCHASE</td>\n",
       "      <td>NaN</td>\n",
       "      <td>37922.02</td>\n",
       "      <td>NaN</td>\n",
       "      <td>NaN</td>\n",
       "      <td>NaN</td>\n",
       "      <td>False</td>\n",
       "      <td>NaN</td>\n",
       "      <td>NaN</td>\n",
       "      <td>False</td>\n",
       "      <td>False</td>\n",
       "    </tr>\n",
       "    <tr>\n",
       "      <th>490</th>\n",
       "      <td>984504651</td>\n",
       "      <td>984504651</td>\n",
       "      <td>50000.0</td>\n",
       "      <td>8510.42</td>\n",
       "      <td>2016-06-13T08:54:40</td>\n",
       "      <td>12.28</td>\n",
       "      <td>Golds Gym #752210</td>\n",
       "      <td>NaN</td>\n",
       "      <td>NaN</td>\n",
       "      <td>2.0</td>\n",
       "      <td>1.0</td>\n",
       "      <td>health</td>\n",
       "      <td>03/2030</td>\n",
       "      <td>2015-07-27</td>\n",
       "      <td>2016-05-05</td>\n",
       "      <td>640</td>\n",
       "      <td>640</td>\n",
       "      <td>8332</td>\n",
       "      <td>PURCHASE</td>\n",
       "      <td>NaN</td>\n",
       "      <td>41489.58</td>\n",
       "      <td>NaN</td>\n",
       "      <td>NaN</td>\n",
       "      <td>NaN</td>\n",
       "      <td>False</td>\n",
       "      <td>NaN</td>\n",
       "      <td>NaN</td>\n",
       "      <td>False</td>\n",
       "      <td>False</td>\n",
       "    </tr>\n",
       "    <tr>\n",
       "      <th>523</th>\n",
       "      <td>984504651</td>\n",
       "      <td>984504651</td>\n",
       "      <td>50000.0</td>\n",
       "      <td>3680.02</td>\n",
       "      <td>2016-06-29T02:02:53</td>\n",
       "      <td>94.52</td>\n",
       "      <td>WSC #257352</td>\n",
       "      <td>US</td>\n",
       "      <td>PR</td>\n",
       "      <td>2.0</td>\n",
       "      <td>1.0</td>\n",
       "      <td>health</td>\n",
       "      <td>11/2031</td>\n",
       "      <td>2015-07-27</td>\n",
       "      <td>2016-06-25</td>\n",
       "      <td>640</td>\n",
       "      <td>640</td>\n",
       "      <td>8332</td>\n",
       "      <td>PURCHASE</td>\n",
       "      <td>NaN</td>\n",
       "      <td>46319.98</td>\n",
       "      <td>NaN</td>\n",
       "      <td>NaN</td>\n",
       "      <td>NaN</td>\n",
       "      <td>False</td>\n",
       "      <td>NaN</td>\n",
       "      <td>NaN</td>\n",
       "      <td>False</td>\n",
       "      <td>False</td>\n",
       "    </tr>\n",
       "    <tr>\n",
       "      <th>832</th>\n",
       "      <td>984504651</td>\n",
       "      <td>984504651</td>\n",
       "      <td>50000.0</td>\n",
       "      <td>34747.32</td>\n",
       "      <td>2016-11-09T21:27:45</td>\n",
       "      <td>46.10</td>\n",
       "      <td>Planet Fitness #221810</td>\n",
       "      <td>NaN</td>\n",
       "      <td>US</td>\n",
       "      <td>2.0</td>\n",
       "      <td>1.0</td>\n",
       "      <td>health</td>\n",
       "      <td>08/2021</td>\n",
       "      <td>2015-07-27</td>\n",
       "      <td>2016-10-19</td>\n",
       "      <td>640</td>\n",
       "      <td>640</td>\n",
       "      <td>8332</td>\n",
       "      <td>PURCHASE</td>\n",
       "      <td>NaN</td>\n",
       "      <td>15252.68</td>\n",
       "      <td>NaN</td>\n",
       "      <td>NaN</td>\n",
       "      <td>NaN</td>\n",
       "      <td>False</td>\n",
       "      <td>NaN</td>\n",
       "      <td>NaN</td>\n",
       "      <td>False</td>\n",
       "      <td>False</td>\n",
       "    </tr>\n",
       "    <tr>\n",
       "      <th>...</th>\n",
       "      <td>...</td>\n",
       "      <td>...</td>\n",
       "      <td>...</td>\n",
       "      <td>...</td>\n",
       "      <td>...</td>\n",
       "      <td>...</td>\n",
       "      <td>...</td>\n",
       "      <td>...</td>\n",
       "      <td>...</td>\n",
       "      <td>...</td>\n",
       "      <td>...</td>\n",
       "      <td>...</td>\n",
       "      <td>...</td>\n",
       "      <td>...</td>\n",
       "      <td>...</td>\n",
       "      <td>...</td>\n",
       "      <td>...</td>\n",
       "      <td>...</td>\n",
       "      <td>...</td>\n",
       "      <td>...</td>\n",
       "      <td>...</td>\n",
       "      <td>...</td>\n",
       "      <td>...</td>\n",
       "      <td>...</td>\n",
       "      <td>...</td>\n",
       "      <td>...</td>\n",
       "      <td>...</td>\n",
       "      <td>...</td>\n",
       "      <td>...</td>\n",
       "    </tr>\n",
       "    <tr>\n",
       "      <th>785745</th>\n",
       "      <td>207667444</td>\n",
       "      <td>207667444</td>\n",
       "      <td>7500.0</td>\n",
       "      <td>1027.23</td>\n",
       "      <td>2016-09-09T08:28:13</td>\n",
       "      <td>169.24</td>\n",
       "      <td>discount.com</td>\n",
       "      <td>NaN</td>\n",
       "      <td>US</td>\n",
       "      <td>5.0</td>\n",
       "      <td>1.0</td>\n",
       "      <td>online_retail</td>\n",
       "      <td>07/2029</td>\n",
       "      <td>2011-12-12</td>\n",
       "      <td>2016-08-16</td>\n",
       "      <td>235</td>\n",
       "      <td>235</td>\n",
       "      <td>9853</td>\n",
       "      <td>PURCHASE</td>\n",
       "      <td>NaN</td>\n",
       "      <td>6472.77</td>\n",
       "      <td>NaN</td>\n",
       "      <td>NaN</td>\n",
       "      <td>NaN</td>\n",
       "      <td>False</td>\n",
       "      <td>NaN</td>\n",
       "      <td>NaN</td>\n",
       "      <td>False</td>\n",
       "      <td>False</td>\n",
       "    </tr>\n",
       "    <tr>\n",
       "      <th>785771</th>\n",
       "      <td>207667444</td>\n",
       "      <td>207667444</td>\n",
       "      <td>7500.0</td>\n",
       "      <td>5224.61</td>\n",
       "      <td>2016-11-15T02:22:30</td>\n",
       "      <td>47.21</td>\n",
       "      <td>Popeyes #220449</td>\n",
       "      <td>NaN</td>\n",
       "      <td>US</td>\n",
       "      <td>5.0</td>\n",
       "      <td>1.0</td>\n",
       "      <td>fastfood</td>\n",
       "      <td>05/2020</td>\n",
       "      <td>2011-12-12</td>\n",
       "      <td>2016-08-16</td>\n",
       "      <td>235</td>\n",
       "      <td>235</td>\n",
       "      <td>9853</td>\n",
       "      <td>PURCHASE</td>\n",
       "      <td>NaN</td>\n",
       "      <td>2275.39</td>\n",
       "      <td>NaN</td>\n",
       "      <td>NaN</td>\n",
       "      <td>NaN</td>\n",
       "      <td>True</td>\n",
       "      <td>NaN</td>\n",
       "      <td>NaN</td>\n",
       "      <td>False</td>\n",
       "      <td>False</td>\n",
       "    </tr>\n",
       "    <tr>\n",
       "      <th>785858</th>\n",
       "      <td>428856030</td>\n",
       "      <td>428856030</td>\n",
       "      <td>250.0</td>\n",
       "      <td>151.10</td>\n",
       "      <td>2016-06-01T19:49:51</td>\n",
       "      <td>169.09</td>\n",
       "      <td>Rodeway Inn #105130</td>\n",
       "      <td>NaN</td>\n",
       "      <td>US</td>\n",
       "      <td>9.0</td>\n",
       "      <td>8.0</td>\n",
       "      <td>hotels</td>\n",
       "      <td>08/2029</td>\n",
       "      <td>2009-08-17</td>\n",
       "      <td>2009-08-17</td>\n",
       "      <td>990</td>\n",
       "      <td>990</td>\n",
       "      <td>7660</td>\n",
       "      <td>PURCHASE</td>\n",
       "      <td>NaN</td>\n",
       "      <td>98.90</td>\n",
       "      <td>NaN</td>\n",
       "      <td>NaN</td>\n",
       "      <td>NaN</td>\n",
       "      <td>True</td>\n",
       "      <td>NaN</td>\n",
       "      <td>NaN</td>\n",
       "      <td>False</td>\n",
       "      <td>False</td>\n",
       "    </tr>\n",
       "    <tr>\n",
       "      <th>786140</th>\n",
       "      <td>638498773</td>\n",
       "      <td>638498773</td>\n",
       "      <td>10000.0</td>\n",
       "      <td>5069.06</td>\n",
       "      <td>2016-04-07T16:04:55</td>\n",
       "      <td>82.59</td>\n",
       "      <td>KFC #237284</td>\n",
       "      <td>NaN</td>\n",
       "      <td>US</td>\n",
       "      <td>9.0</td>\n",
       "      <td>1.0</td>\n",
       "      <td>fastfood</td>\n",
       "      <td>06/2028</td>\n",
       "      <td>2014-11-17</td>\n",
       "      <td>2014-11-17</td>\n",
       "      <td>175</td>\n",
       "      <td>175</td>\n",
       "      <td>321</td>\n",
       "      <td>PURCHASE</td>\n",
       "      <td>NaN</td>\n",
       "      <td>4930.94</td>\n",
       "      <td>NaN</td>\n",
       "      <td>NaN</td>\n",
       "      <td>NaN</td>\n",
       "      <td>True</td>\n",
       "      <td>NaN</td>\n",
       "      <td>NaN</td>\n",
       "      <td>False</td>\n",
       "      <td>False</td>\n",
       "    </tr>\n",
       "    <tr>\n",
       "      <th>786147</th>\n",
       "      <td>638498773</td>\n",
       "      <td>638498773</td>\n",
       "      <td>10000.0</td>\n",
       "      <td>4416.46</td>\n",
       "      <td>2016-04-24T06:39:06</td>\n",
       "      <td>65.05</td>\n",
       "      <td>Five Guys #953952</td>\n",
       "      <td>NaN</td>\n",
       "      <td>US</td>\n",
       "      <td>9.0</td>\n",
       "      <td>1.0</td>\n",
       "      <td>fastfood</td>\n",
       "      <td>05/2030</td>\n",
       "      <td>2014-11-17</td>\n",
       "      <td>2014-11-17</td>\n",
       "      <td>175</td>\n",
       "      <td>175</td>\n",
       "      <td>321</td>\n",
       "      <td>PURCHASE</td>\n",
       "      <td>NaN</td>\n",
       "      <td>5583.54</td>\n",
       "      <td>NaN</td>\n",
       "      <td>NaN</td>\n",
       "      <td>NaN</td>\n",
       "      <td>True</td>\n",
       "      <td>NaN</td>\n",
       "      <td>NaN</td>\n",
       "      <td>False</td>\n",
       "      <td>False</td>\n",
       "    </tr>\n",
       "  </tbody>\n",
       "</table>\n",
       "<p>4632 rows × 29 columns</p>\n",
       "</div>"
      ],
      "text/plain": [
       "        accountNumber  customerId  creditLimit  availableMoney  \\\n",
       "8           830329091   830329091       5000.0         4990.63   \n",
       "470         984504651   984504651      50000.0        12077.98   \n",
       "490         984504651   984504651      50000.0         8510.42   \n",
       "523         984504651   984504651      50000.0         3680.02   \n",
       "832         984504651   984504651      50000.0        34747.32   \n",
       "...               ...         ...          ...             ...   \n",
       "785745      207667444   207667444       7500.0         1027.23   \n",
       "785771      207667444   207667444       7500.0         5224.61   \n",
       "785858      428856030   428856030        250.0          151.10   \n",
       "786140      638498773   638498773      10000.0         5069.06   \n",
       "786147      638498773   638498773      10000.0         4416.46   \n",
       "\n",
       "        transactionDateTime  transactionAmount            merchantName  \\\n",
       "8       2016-06-10T01:21:46             523.67     Burger King #486122   \n",
       "470     2016-06-06T06:42:23              12.41            NYSC #331326   \n",
       "490     2016-06-13T08:54:40              12.28       Golds Gym #752210   \n",
       "523     2016-06-29T02:02:53              94.52             WSC #257352   \n",
       "832     2016-11-09T21:27:45              46.10  Planet Fitness #221810   \n",
       "...                     ...                ...                     ...   \n",
       "785745  2016-09-09T08:28:13             169.24            discount.com   \n",
       "785771  2016-11-15T02:22:30              47.21         Popeyes #220449   \n",
       "785858  2016-06-01T19:49:51             169.09     Rodeway Inn #105130   \n",
       "786140  2016-04-07T16:04:55              82.59             KFC #237284   \n",
       "786147  2016-04-24T06:39:06              65.05       Five Guys #953952   \n",
       "\n",
       "       acqCountry merchantCountryCode  posEntryMode  posConditionCode  \\\n",
       "8             NaN                  US           2.0               1.0   \n",
       "470           NaN                  US           5.0              99.0   \n",
       "490           NaN                 NaN           2.0               1.0   \n",
       "523            US                  PR           2.0               1.0   \n",
       "832           NaN                  US           2.0               1.0   \n",
       "...           ...                 ...           ...               ...   \n",
       "785745        NaN                  US           5.0               1.0   \n",
       "785771        NaN                  US           5.0               1.0   \n",
       "785858        NaN                  US           9.0               8.0   \n",
       "786140        NaN                  US           9.0               1.0   \n",
       "786147        NaN                  US           9.0               1.0   \n",
       "\n",
       "       merchantCategoryCode CardExpiryMonth&Year accountOpenDate  \\\n",
       "8                  fastfood              08/2032      2015-08-06   \n",
       "470                  health              05/2024      2015-07-27   \n",
       "490                  health              03/2030      2015-07-27   \n",
       "523                  health              11/2031      2015-07-27   \n",
       "832                  health              08/2021      2015-07-27   \n",
       "...                     ...                  ...             ...   \n",
       "785745        online_retail              07/2029      2011-12-12   \n",
       "785771             fastfood              05/2020      2011-12-12   \n",
       "785858               hotels              08/2029      2009-08-17   \n",
       "786140             fastfood              06/2028      2014-11-17   \n",
       "786147             fastfood              05/2030      2014-11-17   \n",
       "\n",
       "       dateOfLastAddressChange  cardCVV  enteredCVV  cardLast4Digits  \\\n",
       "8                   2015-08-06      885         885             3143   \n",
       "470                 2016-05-05      640         640             8332   \n",
       "490                 2016-05-05      640         640             8332   \n",
       "523                 2016-06-25      640         640             8332   \n",
       "832                 2016-10-19      640         640             8332   \n",
       "...                        ...      ...         ...              ...   \n",
       "785745              2016-08-16      235         235             9853   \n",
       "785771              2016-08-16      235         235             9853   \n",
       "785858              2009-08-17      990         990             7660   \n",
       "786140              2014-11-17      175         175              321   \n",
       "786147              2014-11-17      175         175              321   \n",
       "\n",
       "       transactionType  echoBuffer  currentBalance  merchantCity  \\\n",
       "8             PURCHASE         NaN            9.37           NaN   \n",
       "470           PURCHASE         NaN        37922.02           NaN   \n",
       "490           PURCHASE         NaN        41489.58           NaN   \n",
       "523           PURCHASE         NaN        46319.98           NaN   \n",
       "832           PURCHASE         NaN        15252.68           NaN   \n",
       "...                ...         ...             ...           ...   \n",
       "785745        PURCHASE         NaN         6472.77           NaN   \n",
       "785771        PURCHASE         NaN         2275.39           NaN   \n",
       "785858        PURCHASE         NaN           98.90           NaN   \n",
       "786140        PURCHASE         NaN         4930.94           NaN   \n",
       "786147        PURCHASE         NaN         5583.54           NaN   \n",
       "\n",
       "        merchantState  merchantZip  cardPresent  posOnPremises  \\\n",
       "8                 NaN          NaN         True            NaN   \n",
       "470               NaN          NaN        False            NaN   \n",
       "490               NaN          NaN        False            NaN   \n",
       "523               NaN          NaN        False            NaN   \n",
       "832               NaN          NaN        False            NaN   \n",
       "...               ...          ...          ...            ...   \n",
       "785745            NaN          NaN        False            NaN   \n",
       "785771            NaN          NaN         True            NaN   \n",
       "785858            NaN          NaN         True            NaN   \n",
       "786140            NaN          NaN         True            NaN   \n",
       "786147            NaN          NaN         True            NaN   \n",
       "\n",
       "        recurringAuthInd  expirationDateKeyInMatch  isFraud  \n",
       "8                    NaN                     False    False  \n",
       "470                  NaN                     False    False  \n",
       "490                  NaN                     False    False  \n",
       "523                  NaN                     False    False  \n",
       "832                  NaN                     False    False  \n",
       "...                  ...                       ...      ...  \n",
       "785745               NaN                     False    False  \n",
       "785771               NaN                     False    False  \n",
       "785858               NaN                     False    False  \n",
       "786140               NaN                     False    False  \n",
       "786147               NaN                     False    False  \n",
       "\n",
       "[4632 rows x 29 columns]"
      ]
     },
     "execution_count": 195,
     "metadata": {},
     "output_type": "execute_result"
    }
   ],
   "source": [
    "trxn_c1.loc[trxn_c1['acqCountry'] != trxn_c1['merchantCountryCode'], :]"
   ]
  },
  {
   "cell_type": "markdown",
   "metadata": {},
   "source": [
    "### Observation\n",
    "\n",
    "Both 'acqCountry' & 'merchantCountryCode' are different. \n",
    "\n",
    "Look at the line 4\n",
    "50000.0\t3680.02\t2016-06-29T02:02:53\t94.52\tWSC #257352\tUS\tPR\t02\t\n",
    "\n",
    "* Here  'acqCountry' is US, the country where The merchant is located\n",
    "* merchantCountryCode' is PR - Puerto Rico, the country code for The specific merchant"
   ]
  },
  {
   "cell_type": "markdown",
   "metadata": {},
   "source": [
    "> Imputing the Missing Values Using Mode and Varaibles a that Need to Impute are in Category Data type, THus We have Opted for Most Common Method "
   ]
  },
  {
   "cell_type": "code",
   "execution_count": 196,
   "metadata": {},
   "outputs": [],
   "source": [
    "trxn_c1.fillna(trxn_c1.select_dtypes(include='object').mode().iloc[0],inplace=True)"
   ]
  },
  {
   "cell_type": "markdown",
   "metadata": {},
   "source": [
    "> only posEntryMode & posConditionCode are in the from Pre Encoded Values however the data types is in float thus we change the Data type to Integer and Change Object Data Type  "
   ]
  },
  {
   "cell_type": "markdown",
   "metadata": {},
   "source": [
    "> Imputing Varaibles which are Prencoded as Numerical Category \n",
    "\n",
    "> Changing the Datatypes of variables That are Incorretctly Read"
   ]
  },
  {
   "cell_type": "code",
   "execution_count": 197,
   "metadata": {},
   "outputs": [],
   "source": [
    "# Imputing Varaibles which are Prencoded as Numerical Category \n",
    "# Changing the Datatypes of variables That are Incorretctly Read\n",
    "to_impute = ['posEntryMode','posConditionCode']\n",
    "\n",
    "for i in to_impute:\n",
    "    value_of_mode = trxn_c1[i].mode()[0]\n",
    "    trxn_c1[i] = trxn_c1[i].fillna(value_of_mode)\n",
    "    trxn_c1[i] = trxn_c1[i].astype('int')\n",
    "    trxn_c1[i] = trxn_c1[i].astype('object')"
   ]
  },
  {
   "cell_type": "code",
   "execution_count": 198,
   "metadata": {},
   "outputs": [
    {
     "name": "stdout",
     "output_type": "stream",
     "text": [
      "Your selected dataframe has 29 columns and 786363 Rows.\n",
      "There are 6 columns that have missing values.\n"
     ]
    },
    {
     "data": {
      "text/html": [
       "<div>\n",
       "<style scoped>\n",
       "    .dataframe tbody tr th:only-of-type {\n",
       "        vertical-align: middle;\n",
       "    }\n",
       "\n",
       "    .dataframe tbody tr th {\n",
       "        vertical-align: top;\n",
       "    }\n",
       "\n",
       "    .dataframe thead th {\n",
       "        text-align: right;\n",
       "    }\n",
       "</style>\n",
       "<table border=\"1\" class=\"dataframe\">\n",
       "  <thead>\n",
       "    <tr style=\"text-align: right;\">\n",
       "      <th></th>\n",
       "      <th>Zero Values</th>\n",
       "      <th>Missing Values</th>\n",
       "      <th>% of Total Values</th>\n",
       "      <th>Total Zero &amp; Missing Values</th>\n",
       "      <th>% Total Zero &amp; Missing Values</th>\n",
       "      <th>Data Type</th>\n",
       "    </tr>\n",
       "  </thead>\n",
       "  <tbody>\n",
       "    <tr>\n",
       "      <th>echoBuffer</th>\n",
       "      <td>0</td>\n",
       "      <td>786363</td>\n",
       "      <td>100.0</td>\n",
       "      <td>786363</td>\n",
       "      <td>100.0</td>\n",
       "      <td>float64</td>\n",
       "    </tr>\n",
       "    <tr>\n",
       "      <th>merchantCity</th>\n",
       "      <td>0</td>\n",
       "      <td>786363</td>\n",
       "      <td>100.0</td>\n",
       "      <td>786363</td>\n",
       "      <td>100.0</td>\n",
       "      <td>float64</td>\n",
       "    </tr>\n",
       "    <tr>\n",
       "      <th>merchantState</th>\n",
       "      <td>0</td>\n",
       "      <td>786363</td>\n",
       "      <td>100.0</td>\n",
       "      <td>786363</td>\n",
       "      <td>100.0</td>\n",
       "      <td>float64</td>\n",
       "    </tr>\n",
       "    <tr>\n",
       "      <th>merchantZip</th>\n",
       "      <td>0</td>\n",
       "      <td>786363</td>\n",
       "      <td>100.0</td>\n",
       "      <td>786363</td>\n",
       "      <td>100.0</td>\n",
       "      <td>float64</td>\n",
       "    </tr>\n",
       "    <tr>\n",
       "      <th>posOnPremises</th>\n",
       "      <td>0</td>\n",
       "      <td>786363</td>\n",
       "      <td>100.0</td>\n",
       "      <td>786363</td>\n",
       "      <td>100.0</td>\n",
       "      <td>float64</td>\n",
       "    </tr>\n",
       "    <tr>\n",
       "      <th>recurringAuthInd</th>\n",
       "      <td>0</td>\n",
       "      <td>786363</td>\n",
       "      <td>100.0</td>\n",
       "      <td>786363</td>\n",
       "      <td>100.0</td>\n",
       "      <td>float64</td>\n",
       "    </tr>\n",
       "  </tbody>\n",
       "</table>\n",
       "</div>"
      ],
      "text/plain": [
       "                  Zero Values  Missing Values  % of Total Values  \\\n",
       "echoBuffer                  0          786363              100.0   \n",
       "merchantCity                0          786363              100.0   \n",
       "merchantState               0          786363              100.0   \n",
       "merchantZip                 0          786363              100.0   \n",
       "posOnPremises               0          786363              100.0   \n",
       "recurringAuthInd            0          786363              100.0   \n",
       "\n",
       "                  Total Zero & Missing Values  % Total Zero & Missing Values  \\\n",
       "echoBuffer                             786363                          100.0   \n",
       "merchantCity                           786363                          100.0   \n",
       "merchantState                          786363                          100.0   \n",
       "merchantZip                            786363                          100.0   \n",
       "posOnPremises                          786363                          100.0   \n",
       "recurringAuthInd                       786363                          100.0   \n",
       "\n",
       "                 Data Type  \n",
       "echoBuffer         float64  \n",
       "merchantCity       float64  \n",
       "merchantState      float64  \n",
       "merchantZip        float64  \n",
       "posOnPremises      float64  \n",
       "recurringAuthInd   float64  "
      ]
     },
     "execution_count": 198,
     "metadata": {},
     "output_type": "execute_result"
    }
   ],
   "source": [
    "missing_zero_values_table(trxn_c1)"
   ]
  },
  {
   "cell_type": "markdown",
   "metadata": {},
   "source": [
    "> Imputing Missing Values Using Random Forest Classifer \n",
    "\n",
    "> Where We will Use Random Forest Prediction Method to Impute The Missing \n",
    "\n",
    "> All Varaibles with Non Missing Values will Be Treated as X and Varaibles with Missing Value will be Treated as Y  "
   ]
  },
  {
   "cell_type": "code",
   "execution_count": 199,
   "metadata": {},
   "outputs": [],
   "source": [
    "trxn_c2 =  trxn.copy()  #Random Forest Classification Imputation Method"
   ]
  },
  {
   "cell_type": "markdown",
   "metadata": {},
   "source": [
    "> Removing Missing Values from The Dataset "
   ]
  },
  {
   "cell_type": "code",
   "execution_count": 200,
   "metadata": {},
   "outputs": [],
   "source": [
    "trxn_c3 =  trxn.copy()  #Removing Missing Values from The Dataset "
   ]
  },
  {
   "cell_type": "markdown",
   "metadata": {},
   "source": [
    "> Droping Varaibles with null values with 100%"
   ]
  },
  {
   "cell_type": "code",
   "execution_count": 201,
   "metadata": {},
   "outputs": [
    {
     "name": "stdout",
     "output_type": "stream",
     "text": [
      "['echoBuffer', 'merchantCity', 'merchantState', 'merchantZip', 'posOnPremises', 'recurringAuthInd']\n"
     ]
    }
   ],
   "source": [
    "#Droping Columns using for loop\n",
    "columns_to_drop = []\n",
    "\n",
    "for i in trxn_columns:\n",
    "    if trxn_c1[i].isnull().sum() / len(trxn_c1[i]) > 0.4:\n",
    "        columns_to_drop.append(i)\n",
    "    else:\n",
    "        pass\n",
    "    \n",
    "print(columns_to_drop)\n",
    "\n",
    "trxn_c1 = trxn_c1.drop(columns=columns_to_drop)"
   ]
  },
  {
   "cell_type": "code",
   "execution_count": 202,
   "metadata": {},
   "outputs": [
    {
     "data": {
      "text/plain": [
       "Index(['accountNumber', 'customerId', 'creditLimit', 'availableMoney',\n",
       "       'transactionDateTime', 'transactionAmount', 'merchantName',\n",
       "       'acqCountry', 'merchantCountryCode', 'posEntryMode', 'posConditionCode',\n",
       "       'merchantCategoryCode', 'CardExpiryMonth&Year', 'accountOpenDate',\n",
       "       'dateOfLastAddressChange', 'cardCVV', 'enteredCVV', 'cardLast4Digits',\n",
       "       'transactionType', 'currentBalance', 'cardPresent',\n",
       "       'expirationDateKeyInMatch', 'isFraud'],\n",
       "      dtype='object')"
      ]
     },
     "execution_count": 202,
     "metadata": {},
     "output_type": "execute_result"
    }
   ],
   "source": [
    "trxn_c1.columns"
   ]
  },
  {
   "cell_type": "markdown",
   "metadata": {},
   "source": [
    "> Dropping Variables that are irrevelant to the target and also that create confusion during Model Building\n",
    "\n",
    "> However we check for statistically collinearity with  the target varaible for the variables we are dropping that we have decided it is irrevelant  to the target variables\n",
    "\n",
    "> Dropping unwanted variables such as ID or Date variables "
   ]
  },
  {
   "cell_type": "code",
   "execution_count": 203,
   "metadata": {},
   "outputs": [],
   "source": [
    "col_to_irr_drop = ['merchantName','accountNumber','customerId','cardLast4Digits']"
   ]
  },
  {
   "cell_type": "code",
   "execution_count": 204,
   "metadata": {},
   "outputs": [],
   "source": [
    "for i in col_to_irr_drop:\n",
    "    trxn_c1 =  trxn_c1.drop(columns=[i])\n",
    "# We dropped the columns"
   ]
  },
  {
   "cell_type": "code",
   "execution_count": 205,
   "metadata": {},
   "outputs": [
    {
     "data": {
      "text/html": [
       "<div>\n",
       "<style scoped>\n",
       "    .dataframe tbody tr th:only-of-type {\n",
       "        vertical-align: middle;\n",
       "    }\n",
       "\n",
       "    .dataframe tbody tr th {\n",
       "        vertical-align: top;\n",
       "    }\n",
       "\n",
       "    .dataframe thead th {\n",
       "        text-align: right;\n",
       "    }\n",
       "</style>\n",
       "<table border=\"1\" class=\"dataframe\">\n",
       "  <thead>\n",
       "    <tr style=\"text-align: right;\">\n",
       "      <th></th>\n",
       "      <th>creditLimit</th>\n",
       "      <th>availableMoney</th>\n",
       "      <th>transactionDateTime</th>\n",
       "      <th>transactionAmount</th>\n",
       "      <th>acqCountry</th>\n",
       "      <th>merchantCountryCode</th>\n",
       "      <th>posEntryMode</th>\n",
       "      <th>posConditionCode</th>\n",
       "      <th>merchantCategoryCode</th>\n",
       "      <th>CardExpiryMonth&amp;Year</th>\n",
       "      <th>accountOpenDate</th>\n",
       "      <th>dateOfLastAddressChange</th>\n",
       "      <th>cardCVV</th>\n",
       "      <th>enteredCVV</th>\n",
       "      <th>transactionType</th>\n",
       "      <th>currentBalance</th>\n",
       "      <th>cardPresent</th>\n",
       "      <th>expirationDateKeyInMatch</th>\n",
       "      <th>isFraud</th>\n",
       "    </tr>\n",
       "  </thead>\n",
       "  <tbody>\n",
       "    <tr>\n",
       "      <th>0</th>\n",
       "      <td>5000.0</td>\n",
       "      <td>5000.0</td>\n",
       "      <td>2016-08-13T14:27:32</td>\n",
       "      <td>98.55</td>\n",
       "      <td>US</td>\n",
       "      <td>US</td>\n",
       "      <td>2</td>\n",
       "      <td>1</td>\n",
       "      <td>rideshare</td>\n",
       "      <td>06/2023</td>\n",
       "      <td>2015-03-14</td>\n",
       "      <td>2015-03-14</td>\n",
       "      <td>414</td>\n",
       "      <td>414</td>\n",
       "      <td>PURCHASE</td>\n",
       "      <td>0.0</td>\n",
       "      <td>False</td>\n",
       "      <td>False</td>\n",
       "      <td>False</td>\n",
       "    </tr>\n",
       "    <tr>\n",
       "      <th>1</th>\n",
       "      <td>5000.0</td>\n",
       "      <td>5000.0</td>\n",
       "      <td>2016-10-11T05:05:54</td>\n",
       "      <td>74.51</td>\n",
       "      <td>US</td>\n",
       "      <td>US</td>\n",
       "      <td>9</td>\n",
       "      <td>1</td>\n",
       "      <td>entertainment</td>\n",
       "      <td>02/2024</td>\n",
       "      <td>2015-03-14</td>\n",
       "      <td>2015-03-14</td>\n",
       "      <td>486</td>\n",
       "      <td>486</td>\n",
       "      <td>PURCHASE</td>\n",
       "      <td>0.0</td>\n",
       "      <td>True</td>\n",
       "      <td>False</td>\n",
       "      <td>False</td>\n",
       "    </tr>\n",
       "    <tr>\n",
       "      <th>2</th>\n",
       "      <td>5000.0</td>\n",
       "      <td>5000.0</td>\n",
       "      <td>2016-11-08T09:18:39</td>\n",
       "      <td>7.47</td>\n",
       "      <td>US</td>\n",
       "      <td>US</td>\n",
       "      <td>9</td>\n",
       "      <td>1</td>\n",
       "      <td>mobileapps</td>\n",
       "      <td>08/2025</td>\n",
       "      <td>2015-03-14</td>\n",
       "      <td>2015-03-14</td>\n",
       "      <td>486</td>\n",
       "      <td>486</td>\n",
       "      <td>PURCHASE</td>\n",
       "      <td>0.0</td>\n",
       "      <td>False</td>\n",
       "      <td>False</td>\n",
       "      <td>False</td>\n",
       "    </tr>\n",
       "    <tr>\n",
       "      <th>3</th>\n",
       "      <td>5000.0</td>\n",
       "      <td>5000.0</td>\n",
       "      <td>2016-12-10T02:14:50</td>\n",
       "      <td>7.47</td>\n",
       "      <td>US</td>\n",
       "      <td>US</td>\n",
       "      <td>9</td>\n",
       "      <td>1</td>\n",
       "      <td>mobileapps</td>\n",
       "      <td>08/2025</td>\n",
       "      <td>2015-03-14</td>\n",
       "      <td>2015-03-14</td>\n",
       "      <td>486</td>\n",
       "      <td>486</td>\n",
       "      <td>PURCHASE</td>\n",
       "      <td>0.0</td>\n",
       "      <td>False</td>\n",
       "      <td>False</td>\n",
       "      <td>False</td>\n",
       "    </tr>\n",
       "    <tr>\n",
       "      <th>4</th>\n",
       "      <td>5000.0</td>\n",
       "      <td>5000.0</td>\n",
       "      <td>2016-03-24T21:04:46</td>\n",
       "      <td>71.18</td>\n",
       "      <td>US</td>\n",
       "      <td>US</td>\n",
       "      <td>2</td>\n",
       "      <td>1</td>\n",
       "      <td>fastfood</td>\n",
       "      <td>10/2029</td>\n",
       "      <td>2015-08-06</td>\n",
       "      <td>2015-08-06</td>\n",
       "      <td>885</td>\n",
       "      <td>885</td>\n",
       "      <td>PURCHASE</td>\n",
       "      <td>0.0</td>\n",
       "      <td>True</td>\n",
       "      <td>False</td>\n",
       "      <td>False</td>\n",
       "    </tr>\n",
       "  </tbody>\n",
       "</table>\n",
       "</div>"
      ],
      "text/plain": [
       "   creditLimit  availableMoney  transactionDateTime  transactionAmount  \\\n",
       "0       5000.0          5000.0  2016-08-13T14:27:32              98.55   \n",
       "1       5000.0          5000.0  2016-10-11T05:05:54              74.51   \n",
       "2       5000.0          5000.0  2016-11-08T09:18:39               7.47   \n",
       "3       5000.0          5000.0  2016-12-10T02:14:50               7.47   \n",
       "4       5000.0          5000.0  2016-03-24T21:04:46              71.18   \n",
       "\n",
       "  acqCountry merchantCountryCode posEntryMode posConditionCode  \\\n",
       "0         US                  US            2                1   \n",
       "1         US                  US            9                1   \n",
       "2         US                  US            9                1   \n",
       "3         US                  US            9                1   \n",
       "4         US                  US            2                1   \n",
       "\n",
       "  merchantCategoryCode CardExpiryMonth&Year accountOpenDate  \\\n",
       "0            rideshare              06/2023      2015-03-14   \n",
       "1        entertainment              02/2024      2015-03-14   \n",
       "2           mobileapps              08/2025      2015-03-14   \n",
       "3           mobileapps              08/2025      2015-03-14   \n",
       "4             fastfood              10/2029      2015-08-06   \n",
       "\n",
       "  dateOfLastAddressChange  cardCVV  enteredCVV transactionType  \\\n",
       "0              2015-03-14      414         414        PURCHASE   \n",
       "1              2015-03-14      486         486        PURCHASE   \n",
       "2              2015-03-14      486         486        PURCHASE   \n",
       "3              2015-03-14      486         486        PURCHASE   \n",
       "4              2015-08-06      885         885        PURCHASE   \n",
       "\n",
       "   currentBalance  cardPresent  expirationDateKeyInMatch  isFraud  \n",
       "0             0.0        False                     False    False  \n",
       "1             0.0         True                     False    False  \n",
       "2             0.0        False                     False    False  \n",
       "3             0.0        False                     False    False  \n",
       "4             0.0         True                     False    False  "
      ]
     },
     "execution_count": 205,
     "metadata": {},
     "output_type": "execute_result"
    }
   ],
   "source": [
    "trxn_c1.head()"
   ]
  },
  {
   "cell_type": "markdown",
   "metadata": {},
   "source": [
    "## Feature Engineering"
   ]
  },
  {
   "cell_type": "markdown",
   "metadata": {},
   "source": [
    "> We Have created new Feature Engineering variables \n",
    "\n",
    "        - From Transaction Date Time to Transcation month, Transaction Date\n",
    "        \n",
    "        - From cardCVV and enteredCVV we have derived CVV_Match \n",
    "\n",
    "        - From Transaction Date Time and Date of Last Address Change Date Difference Days is Been Extracted"
   ]
  },
  {
   "cell_type": "code",
   "execution_count": 206,
   "metadata": {},
   "outputs": [],
   "source": [
    "trxn_c1[['transcation_month','transcation_date']] = trxn_c1['transactionDateTime'].str.extract('-(\\d{2})-(\\d{2})').astype('object')"
   ]
  },
  {
   "cell_type": "code",
   "execution_count": 207,
   "metadata": {},
   "outputs": [],
   "source": [
    "trxn_c1['cvv_match']= trxn_c1['cardCVV'] == trxn_c1['enteredCVV']"
   ]
  },
  {
   "cell_type": "code",
   "execution_count": 208,
   "metadata": {},
   "outputs": [
    {
     "data": {
      "text/plain": [
       "True     779348\n",
       "False      7015\n",
       "Name: cvv_match, dtype: int64"
      ]
     },
     "execution_count": 208,
     "metadata": {},
     "output_type": "execute_result"
    }
   ],
   "source": [
    "trxn_c1['cvv_match'].value_counts()"
   ]
  },
  {
   "cell_type": "code",
   "execution_count": 209,
   "metadata": {},
   "outputs": [],
   "source": [
    "trxn_c1['Days_after_Last Address Change'] = pd.to_datetime(trxn_c1['transactionDateTime']) - pd.to_datetime(trxn_c1['dateOfLastAddressChange']) #Date of Last Address Change and Account Ope Date"
   ]
  },
  {
   "cell_type": "markdown",
   "metadata": {},
   "source": [
    "transactionDateTime"
   ]
  },
  {
   "cell_type": "code",
   "execution_count": 210,
   "metadata": {},
   "outputs": [],
   "source": [
    "trxn_c1['Days_after_Last Address Change']  = trxn_c1['Days_after_Last Address Change'].dt.days"
   ]
  },
  {
   "cell_type": "code",
   "execution_count": 211,
   "metadata": {},
   "outputs": [],
   "source": [
    "trxn_c1.drop(columns=['transactionDateTime', 'cardCVV', 'enteredCVV' , 'CardExpiryMonth&Year','dateOfLastAddressChange','accountOpenDate'],inplace=True)"
   ]
  },
  {
   "cell_type": "code",
   "execution_count": 212,
   "metadata": {},
   "outputs": [
    {
     "data": {
      "text/html": [
       "<div>\n",
       "<style scoped>\n",
       "    .dataframe tbody tr th:only-of-type {\n",
       "        vertical-align: middle;\n",
       "    }\n",
       "\n",
       "    .dataframe tbody tr th {\n",
       "        vertical-align: top;\n",
       "    }\n",
       "\n",
       "    .dataframe thead th {\n",
       "        text-align: right;\n",
       "    }\n",
       "</style>\n",
       "<table border=\"1\" class=\"dataframe\">\n",
       "  <thead>\n",
       "    <tr style=\"text-align: right;\">\n",
       "      <th></th>\n",
       "      <th>creditLimit</th>\n",
       "      <th>availableMoney</th>\n",
       "      <th>transactionAmount</th>\n",
       "      <th>acqCountry</th>\n",
       "      <th>merchantCountryCode</th>\n",
       "      <th>posEntryMode</th>\n",
       "      <th>posConditionCode</th>\n",
       "      <th>merchantCategoryCode</th>\n",
       "      <th>transactionType</th>\n",
       "      <th>currentBalance</th>\n",
       "      <th>cardPresent</th>\n",
       "      <th>expirationDateKeyInMatch</th>\n",
       "      <th>isFraud</th>\n",
       "      <th>transcation_month</th>\n",
       "      <th>transcation_date</th>\n",
       "      <th>cvv_match</th>\n",
       "      <th>Days_after_Last Address Change</th>\n",
       "    </tr>\n",
       "  </thead>\n",
       "  <tbody>\n",
       "    <tr>\n",
       "      <th>0</th>\n",
       "      <td>5000.0</td>\n",
       "      <td>5000.0</td>\n",
       "      <td>98.55</td>\n",
       "      <td>US</td>\n",
       "      <td>US</td>\n",
       "      <td>2</td>\n",
       "      <td>1</td>\n",
       "      <td>rideshare</td>\n",
       "      <td>PURCHASE</td>\n",
       "      <td>0.0</td>\n",
       "      <td>False</td>\n",
       "      <td>False</td>\n",
       "      <td>False</td>\n",
       "      <td>08</td>\n",
       "      <td>13</td>\n",
       "      <td>True</td>\n",
       "      <td>518</td>\n",
       "    </tr>\n",
       "    <tr>\n",
       "      <th>1</th>\n",
       "      <td>5000.0</td>\n",
       "      <td>5000.0</td>\n",
       "      <td>74.51</td>\n",
       "      <td>US</td>\n",
       "      <td>US</td>\n",
       "      <td>9</td>\n",
       "      <td>1</td>\n",
       "      <td>entertainment</td>\n",
       "      <td>PURCHASE</td>\n",
       "      <td>0.0</td>\n",
       "      <td>True</td>\n",
       "      <td>False</td>\n",
       "      <td>False</td>\n",
       "      <td>10</td>\n",
       "      <td>11</td>\n",
       "      <td>True</td>\n",
       "      <td>577</td>\n",
       "    </tr>\n",
       "    <tr>\n",
       "      <th>2</th>\n",
       "      <td>5000.0</td>\n",
       "      <td>5000.0</td>\n",
       "      <td>7.47</td>\n",
       "      <td>US</td>\n",
       "      <td>US</td>\n",
       "      <td>9</td>\n",
       "      <td>1</td>\n",
       "      <td>mobileapps</td>\n",
       "      <td>PURCHASE</td>\n",
       "      <td>0.0</td>\n",
       "      <td>False</td>\n",
       "      <td>False</td>\n",
       "      <td>False</td>\n",
       "      <td>11</td>\n",
       "      <td>08</td>\n",
       "      <td>True</td>\n",
       "      <td>605</td>\n",
       "    </tr>\n",
       "    <tr>\n",
       "      <th>3</th>\n",
       "      <td>5000.0</td>\n",
       "      <td>5000.0</td>\n",
       "      <td>7.47</td>\n",
       "      <td>US</td>\n",
       "      <td>US</td>\n",
       "      <td>9</td>\n",
       "      <td>1</td>\n",
       "      <td>mobileapps</td>\n",
       "      <td>PURCHASE</td>\n",
       "      <td>0.0</td>\n",
       "      <td>False</td>\n",
       "      <td>False</td>\n",
       "      <td>False</td>\n",
       "      <td>12</td>\n",
       "      <td>10</td>\n",
       "      <td>True</td>\n",
       "      <td>637</td>\n",
       "    </tr>\n",
       "    <tr>\n",
       "      <th>4</th>\n",
       "      <td>5000.0</td>\n",
       "      <td>5000.0</td>\n",
       "      <td>71.18</td>\n",
       "      <td>US</td>\n",
       "      <td>US</td>\n",
       "      <td>2</td>\n",
       "      <td>1</td>\n",
       "      <td>fastfood</td>\n",
       "      <td>PURCHASE</td>\n",
       "      <td>0.0</td>\n",
       "      <td>True</td>\n",
       "      <td>False</td>\n",
       "      <td>False</td>\n",
       "      <td>03</td>\n",
       "      <td>24</td>\n",
       "      <td>True</td>\n",
       "      <td>231</td>\n",
       "    </tr>\n",
       "  </tbody>\n",
       "</table>\n",
       "</div>"
      ],
      "text/plain": [
       "   creditLimit  availableMoney  transactionAmount acqCountry  \\\n",
       "0       5000.0          5000.0              98.55         US   \n",
       "1       5000.0          5000.0              74.51         US   \n",
       "2       5000.0          5000.0               7.47         US   \n",
       "3       5000.0          5000.0               7.47         US   \n",
       "4       5000.0          5000.0              71.18         US   \n",
       "\n",
       "  merchantCountryCode posEntryMode posConditionCode merchantCategoryCode  \\\n",
       "0                  US            2                1            rideshare   \n",
       "1                  US            9                1        entertainment   \n",
       "2                  US            9                1           mobileapps   \n",
       "3                  US            9                1           mobileapps   \n",
       "4                  US            2                1             fastfood   \n",
       "\n",
       "  transactionType  currentBalance  cardPresent  expirationDateKeyInMatch  \\\n",
       "0        PURCHASE             0.0        False                     False   \n",
       "1        PURCHASE             0.0         True                     False   \n",
       "2        PURCHASE             0.0        False                     False   \n",
       "3        PURCHASE             0.0        False                     False   \n",
       "4        PURCHASE             0.0         True                     False   \n",
       "\n",
       "   isFraud transcation_month transcation_date  cvv_match  \\\n",
       "0    False                08               13       True   \n",
       "1    False                10               11       True   \n",
       "2    False                11               08       True   \n",
       "3    False                12               10       True   \n",
       "4    False                03               24       True   \n",
       "\n",
       "   Days_after_Last Address Change  \n",
       "0                             518  \n",
       "1                             577  \n",
       "2                             605  \n",
       "3                             637  \n",
       "4                             231  "
      ]
     },
     "execution_count": 212,
     "metadata": {},
     "output_type": "execute_result"
    }
   ],
   "source": [
    "trxn_c1.head()"
   ]
  },
  {
   "cell_type": "markdown",
   "metadata": {},
   "source": [
    "## Changing The Data Type and its Type of Variable"
   ]
  },
  {
   "cell_type": "code",
   "execution_count": 213,
   "metadata": {},
   "outputs": [],
   "source": [
    "trxn_c1[['acqCountry','posEntryMode','posConditionCode','merchantCategoryCode','transactionType']] = trxn_c1[['acqCountry','posEntryMode','posConditionCode','merchantCategoryCode','transactionType']].astype('category')"
   ]
  },
  {
   "cell_type": "code",
   "execution_count": 214,
   "metadata": {},
   "outputs": [],
   "source": [
    "trxn_c1[['cardPresent','expirationDateKeyInMatch','cvv_match','isFraud']] = trxn_c1[['cardPresent','expirationDateKeyInMatch','cvv_match','isFraud']].astype('object')"
   ]
  },
  {
   "cell_type": "markdown",
   "metadata": {},
   "source": [
    "## Spilting the Num and Cat Variables"
   ]
  },
  {
   "cell_type": "code",
   "execution_count": 215,
   "metadata": {},
   "outputs": [],
   "source": [
    "trxn_num = trxn_c1.select_dtypes(include=np.number).columns.to_list()\n",
    "trxn_cat = trxn_c1.select_dtypes(exclude=np.number).columns.to_list()"
   ]
  },
  {
   "cell_type": "code",
   "execution_count": 216,
   "metadata": {},
   "outputs": [
    {
     "data": {
      "text/plain": [
       "['creditLimit',\n",
       " 'availableMoney',\n",
       " 'transactionAmount',\n",
       " 'currentBalance',\n",
       " 'Days_after_Last Address Change']"
      ]
     },
     "execution_count": 216,
     "metadata": {},
     "output_type": "execute_result"
    }
   ],
   "source": [
    "trxn_num"
   ]
  },
  {
   "cell_type": "code",
   "execution_count": 217,
   "metadata": {},
   "outputs": [
    {
     "data": {
      "text/plain": [
       "['acqCountry',\n",
       " 'merchantCountryCode',\n",
       " 'posEntryMode',\n",
       " 'posConditionCode',\n",
       " 'merchantCategoryCode',\n",
       " 'transactionType',\n",
       " 'cardPresent',\n",
       " 'expirationDateKeyInMatch',\n",
       " 'isFraud',\n",
       " 'transcation_month',\n",
       " 'transcation_date',\n",
       " 'cvv_match']"
      ]
     },
     "execution_count": 217,
     "metadata": {},
     "output_type": "execute_result"
    }
   ],
   "source": [
    "trxn_cat"
   ]
  },
  {
   "cell_type": "markdown",
   "metadata": {},
   "source": [
    "> Finding The Important Feature Using Random Forest Classifier\n",
    "\n",
    "> However we Create Copy of trxn_c1 so While Performing EDA Analysis the Orginal Varaible arent Changed \n",
    "\n",
    "> Creating Inference is  Much Simpler and Understandable\n",
    "\n",
    "> Also we are Encoding the Categorical Varaibles "
   ]
  },
  {
   "cell_type": "code",
   "execution_count": 218,
   "metadata": {},
   "outputs": [],
   "source": [
    "trxc_important_feature = trxn_c1.copy()"
   ]
  },
  {
   "cell_type": "code",
   "execution_count": 219,
   "metadata": {},
   "outputs": [],
   "source": [
    "trxc_important_feature_name = trxc_important_feature.columns.to_list()"
   ]
  },
  {
   "cell_type": "code",
   "execution_count": 220,
   "metadata": {},
   "outputs": [],
   "source": [
    "LE  =  LabelEncoder()\n",
    "for i in trxc_important_feature_name:\n",
    "    trxc_important_feature[i] = LE.fit_transform(trxc_important_feature[i])"
   ]
  },
  {
   "cell_type": "code",
   "execution_count": 221,
   "metadata": {},
   "outputs": [],
   "source": [
    "# # https://machinelearningmastery.com/calculate-feature-importance-with-python/\n",
    "\n",
    "# # define the model\n",
    "# model    =  RandomForestClassifier()\n",
    "# X        =  trxc_important_feature.drop(columns=['isFraud'],axis=1)\n",
    "# y        =  trxc_important_feature['isFraud']\n",
    "# # fit the model\n",
    "# model.fit(X, y)\n",
    "# # get importance\n",
    "# importance    =  model.feature_importances_\n",
    "# feature_names  =  trxc_important_feature.columns"
   ]
  },
  {
   "cell_type": "code",
   "execution_count": 222,
   "metadata": {},
   "outputs": [],
   "source": [
    "importance = np.array([0.03437781, 0.18369845, 0.19314966, 0.00166228, 0.00166431,\n",
    "       0.01527315, 0.01346835, 0.03406533, 0.00506857, 0.18317961,\n",
    "       0.00388732, 0.00028118, 0.06794109, 0.09653201, 0.00244737,\n",
    "       0.16330352])"
   ]
  },
  {
   "cell_type": "code",
   "execution_count": 223,
   "metadata": {},
   "outputs": [
    {
     "data": {
      "text/plain": [
       "Index(['accountNumber', 'customerId', 'creditLimit', 'availableMoney',\n",
       "       'transactionDateTime', 'transactionAmount', 'merchantName',\n",
       "       'acqCountry', 'merchantCountryCode', 'posEntryMode', 'posConditionCode',\n",
       "       'merchantCategoryCode', 'CardExpiryMonth&Year', 'accountOpenDate',\n",
       "       'dateOfLastAddressChange', 'cardCVV', 'enteredCVV', 'cardLast4Digits',\n",
       "       'transactionType', 'echoBuffer', 'currentBalance', 'merchantCity',\n",
       "       'merchantState', 'merchantZip', 'cardPresent', 'posOnPremises',\n",
       "       'recurringAuthInd', 'expirationDateKeyInMatch', 'isFraud'],\n",
       "      dtype='object')"
      ]
     },
     "execution_count": 223,
     "metadata": {},
     "output_type": "execute_result"
    }
   ],
   "source": [
    "trxn.columns"
   ]
  },
  {
   "cell_type": "code",
   "execution_count": 224,
   "metadata": {},
   "outputs": [],
   "source": [
    "feature_names = ['creditLimit',\n",
    " 'availableMoney',\n",
    " 'transactionAmount',\n",
    " 'acqCountry',\n",
    " 'merchantCountryCode',\n",
    " 'posEntryMode',\n",
    " 'posConditionCode',\n",
    " 'merchantCategoryCode',\n",
    " 'transactionType',\n",
    " 'currentBalance',\n",
    " 'cardPresent',\n",
    " 'expirationDateKeyInMatch',\n",
    " 'transcation_month',\n",
    " 'transcation_date',\n",
    " 'cvv_match',\n",
    " 'Days_after_Last Address Change']"
   ]
  },
  {
   "cell_type": "code",
   "execution_count": 225,
   "metadata": {},
   "outputs": [
    {
     "data": {
      "image/png": "[encoded data removed]",
      "text/plain": [
       "<Figure size 1200x800 with 1 Axes>"
      ]
     },
     "metadata": {},
     "output_type": "display_data"
    }
   ],
   "source": [
    "# Sort feature importances in descending order\n",
    "indices = np.argsort(importance)  \n",
    "# Create the feature importances plot\n",
    "plt.figure(figsize=(12, 8))  # Adjust the figure size as needed\n",
    "plt.title('Feature Importances')\n",
    "plt.barh(range(len(indices)), importance[indices], color='b', align='center')\n",
    "plt.yticks(range(len(indices)), [feature_names[i] for i in indices])\n",
    "plt.xlabel('Relative Importance')\n",
    "plt.tight_layout()\n",
    "plt.show()"
   ]
  },
  {
   "cell_type": "markdown",
   "metadata": {},
   "source": [
    "## Analysis "
   ]
  },
  {
   "cell_type": "markdown",
   "metadata": {},
   "source": [
    "> Univariate Analysis"
   ]
  },
  {
   "cell_type": "code",
   "execution_count": 226,
   "metadata": {},
   "outputs": [
    {
     "name": "stdout",
     "output_type": "stream",
     "text": [
      "['creditLimit', 'availableMoney', 'transactionAmount', 'acqCountry', 'merchantCountryCode', 'posEntryMode', 'posConditionCode', 'merchantCategoryCode', 'transactionType', 'currentBalance', 'cardPresent', 'expirationDateKeyInMatch', 'transcation_month', 'transcation_date', 'cvv_match', 'Days_after_Last Address Change']\n"
     ]
    }
   ],
   "source": [
    "# Extracting Columns for analysis \n",
    "\n",
    "trxn_c1col =  trxn_c1.columns.to_list()\n",
    "trxn_c1col.remove('isFraud')\n",
    "print(trxn_c1col)"
   ]
  },
  {
   "cell_type": "code",
   "execution_count": 227,
   "metadata": {},
   "outputs": [
    {
     "name": "stdout",
     "output_type": "stream",
     "text": [
      "<class 'pandas.core.frame.DataFrame'>\n",
      "RangeIndex: 786363 entries, 0 to 786362\n",
      "Data columns (total 17 columns):\n",
      " #   Column                          Non-Null Count   Dtype   \n",
      "---  ------                          --------------   -----   \n",
      " 0   creditLimit                     786363 non-null  float64 \n",
      " 1   availableMoney                  786363 non-null  float64 \n",
      " 2   transactionAmount               786363 non-null  float64 \n",
      " 3   acqCountry                      786363 non-null  category\n",
      " 4   merchantCountryCode             786363 non-null  object  \n",
      " 5   posEntryMode                    786363 non-null  category\n",
      " 6   posConditionCode                786363 non-null  category\n",
      " 7   merchantCategoryCode            786363 non-null  category\n",
      " 8   transactionType                 786363 non-null  category\n",
      " 9   currentBalance                  786363 non-null  float64 \n",
      " 10  cardPresent                     786363 non-null  object  \n",
      " 11  expirationDateKeyInMatch        786363 non-null  object  \n",
      " 12  isFraud                         786363 non-null  object  \n",
      " 13  transcation_month               786363 non-null  object  \n",
      " 14  transcation_date                786363 non-null  object  \n",
      " 15  cvv_match                       786363 non-null  object  \n",
      " 16  Days_after_Last Address Change  786363 non-null  int64   \n",
      "dtypes: category(5), float64(4), int64(1), object(7)\n",
      "memory usage: 75.7+ MB\n"
     ]
    }
   ],
   "source": [
    "trxn_c1.info()"
   ]
  },
  {
   "cell_type": "code",
   "execution_count": 228,
   "metadata": {},
   "outputs": [
    {
     "data": {
      "text/plain": [
       "online_retail           202156\n",
       "fastfood                112138\n",
       "entertainment            80098\n",
       "food                     75490\n",
       "online_gifts             66238\n",
       "rideshare                51136\n",
       "hotels                   34097\n",
       "fuel                     23910\n",
       "subscriptions            22901\n",
       "auto                     21651\n",
       "health                   19092\n",
       "personal care            18964\n",
       "airline                  15412\n",
       "mobileapps               14990\n",
       "online_subscriptions     11067\n",
       "furniture                 7432\n",
       "food_delivery             6000\n",
       "gym                       2209\n",
       "cable/phone               1382\n",
       "Name: merchantCategoryCode, dtype: int64"
      ]
     },
     "execution_count": 228,
     "metadata": {},
     "output_type": "execute_result"
    }
   ],
   "source": [
    "trxn_c1['merchantCategoryCode'].value_counts()"
   ]
  },
  {
   "cell_type": "code",
   "execution_count": 229,
   "metadata": {},
   "outputs": [
    {
     "data": {
      "text/plain": [
       "17"
      ]
     },
     "execution_count": 229,
     "metadata": {},
     "output_type": "execute_result"
    }
   ],
   "source": [
    "len(trxn_c1.columns.to_list())"
   ]
  },
  {
   "cell_type": "code",
   "execution_count": 230,
   "metadata": {},
   "outputs": [],
   "source": [
    "# fig, ax=plt.subplots(4,4, figsize=(25,25))\n",
    "\n",
    "# for i, subplot in zip(trxn_c1col,ax.flatten()):\n",
    "#     if pd.api.types.is_bool_dtype(trxn_c1[i]):\n",
    "#         sns.countplot(data =trxn_c1, x=i, ax=subplot)\n",
    "#         subplot.set_title(i)\n",
    "        \n",
    "#     elif pd.api.types.is_categorical_dtype(trxn_c1[i]):\n",
    "#         sns.countplot(data =trxn_c1, x=i, ax=subplot)\n",
    "#         subplot.set_title(i)\n",
    "        \n",
    "#     elif pd.api.types.is_object_dtype(trxn_c1[i]):\n",
    "#         sns.countplot(data =trxn_c1, x=i, ax=subplot)\n",
    "#         subplot.set_title(i) \n",
    "        \n",
    "#     elif pd.api.types.is_numeric_dtype(trxn_c1[i]):\n",
    "#         sns.distplot(trxn_c1[i], ax=subplot,kde=True)\n",
    "#         subplot.set_title(i)\n",
    "        \n",
    "  \n",
    "\n",
    "# plt.tight_layout()\n",
    "# plt.show()  "
   ]
  },
  {
   "cell_type": "markdown",
   "metadata": {},
   "source": [
    "## Bivariate Analysis (Num Vs Target) Variables"
   ]
  },
  {
   "cell_type": "code",
   "execution_count": 231,
   "metadata": {},
   "outputs": [],
   "source": [
    "# sns.heatmap(trxn_c1.corr(),annot=True,mask=np.triu(trxn_c1.corr(),+1),cmap='plasma')"
   ]
  },
  {
   "cell_type": "markdown",
   "metadata": {},
   "source": [
    "> Displaying Outliers on Numerical Variables in the Dataset"
   ]
  },
  {
   "cell_type": "code",
   "execution_count": 232,
   "metadata": {},
   "outputs": [],
   "source": [
    "# fig, ax = plt.subplots(3, 2, figsize=(25, 15))\n",
    "\n",
    "# for i, subplot in zip(trxn_num, ax.flatten()):\n",
    "#     sns.boxplot(data=trxn_c1, x=i, ax=subplot)\n",
    "#     subplot.set_title(i)\n",
    "\n",
    "# plt.tight_layout()\n",
    "# plt.show()"
   ]
  },
  {
   "cell_type": "markdown",
   "metadata": {},
   "source": [
    "> Bivariate :1 Numerical Vs Target Varaible"
   ]
  },
  {
   "cell_type": "code",
   "execution_count": 233,
   "metadata": {},
   "outputs": [],
   "source": [
    "# fig, ax = plt.subplots(3, 2, figsize = (14, 15)) \n",
    "# for indx, (column, axes) in list(enumerate(list(zip(trxn_num, ax.flatten())))): \n",
    "#     sns.kdeplot(ax = axes, x = trxn_c1[column],hue = trxn_c1['isFraud'], \n",
    "#     palette = 'magma', alpha = 0.8, multiple = 'fill') \n",
    "#     legend = axes.get_legend()\n",
    "#     handles = legend.legendHandles \n",
    "#     legend.remove() \n",
    "#     axes.legend(handles, [False, True], title = 'isFraud', loc = 'upper right') \n",
    "#     Quantiles = np.quantile(trxn_c1[column], [0, 0.25, 0.50, 0.75, 1]) \n",
    "#     for q in Quantiles: axes.axvline(x = q, linewidth = 0.75, color = 'r') \n",
    "# plt.tight_layout() \n",
    "# plt.show()"
   ]
  },
  {
   "cell_type": "markdown",
   "metadata": {},
   "source": [
    "> "
   ]
  },
  {
   "cell_type": "markdown",
   "metadata": {},
   "source": [
    "## Bivariate Analysis (Cat Vs Target) Variables"
   ]
  },
  {
   "cell_type": "markdown",
   "metadata": {},
   "source": [
    "> Performing Satats test for all cat variables vs Target Variables"
   ]
  },
  {
   "cell_type": "markdown",
   "metadata": {},
   "source": []
  },
  {
   "cell_type": "code",
   "execution_count": 234,
   "metadata": {},
   "outputs": [],
   "source": [
    "# alpha = 0.05\n",
    "# p_values_df = pd.DataFrame(columns=['Column', 'p-value chi2_contingency', 'result'])\n",
    "\n",
    "# for i in trxn_cat:\n",
    "#     chi2, p_value, _, _ = stats.chi2_contingency(pd.crosstab(trxn_c1[i], trxn_c1['isFraud']))\n",
    "#     if p_value < alpha:\n",
    "#         result_1 = f\"There is significant association between the two variables and we reject the null hypothesis\"\n",
    "#     else:\n",
    "#         result_1 = f\"There is no significant association between the two variables and we fail to reject the null hypothesis\"\n",
    "#     p_values_df = p_values_df.append({'Column': i, 'p-value chi2_contingency': f'{p_value:.4f}', 'result': result_1 }, ignore_index=True)"
   ]
  },
  {
   "cell_type": "code",
   "execution_count": 235,
   "metadata": {},
   "outputs": [],
   "source": [
    "# p_values_df #Storing P values in Dataframe and Result to check the Significance between the Independent Variables and Target Varaibles "
   ]
  },
  {
   "cell_type": "code",
   "execution_count": 236,
   "metadata": {},
   "outputs": [],
   "source": [
    "# p_values_df.to_csv('p_values_df.csv', index=True)"
   ]
  },
  {
   "cell_type": "markdown",
   "metadata": {},
   "source": [
    "> AcqCountry Vs Fraud"
   ]
  },
  {
   "cell_type": "code",
   "execution_count": 237,
   "metadata": {},
   "outputs": [],
   "source": [
    "# plt.rcParams['figure.figsize'] = (18, 5) \n",
    "# Y = pd.crosstab(trxn_c1['acqCountry'], trxn_c1['isFraud']) \n",
    "# Y.div(Y.sum(1).astype(float), axis = 0).plot(kind = 'bar', stacked = True,color=['lightblue','orange']) \n",
    "# plt.title('AcqCountry Vs Fraud', fontweight = 30, fontsize = 20) \n",
    "# plt.legend(loc=\"upper right\") \n",
    "# plt.show()\n"
   ]
  },
  {
   "cell_type": "markdown",
   "metadata": {},
   "source": [
    "> Pos Entry Mode Transaction Vs Fraud"
   ]
  },
  {
   "cell_type": "code",
   "execution_count": 238,
   "metadata": {},
   "outputs": [],
   "source": [
    "# plt.rcParams['figure.figsize'] = (18, 5) \n",
    "# Y = pd.crosstab(trxn_c1['posEntryMode'], trxn_c1['isFraud']) \n",
    "# Y.div(Y.sum(1).astype(float), axis = 0).plot(kind = 'bar', stacked = True,color=['green', 'orange']) \n",
    "# plt.title('posEntryMode Vs Fraud', fontweight = 30, fontsize = 20) \n",
    "# plt.legend(loc=\"upper right\") \n",
    "# plt.show()"
   ]
  },
  {
   "cell_type": "markdown",
   "metadata": {},
   "source": [
    "> Pos Condition Code Vs Fraud"
   ]
  },
  {
   "cell_type": "code",
   "execution_count": 239,
   "metadata": {},
   "outputs": [],
   "source": [
    "# plt.rcParams['figure.figsize'] = (18, 5) \n",
    "# Y = pd.crosstab(trxn_c1['posConditionCode'], trxn_c1['isFraud']) \n",
    "# Y.div(Y.sum(1).astype(float), axis = 0).plot(kind = 'bar', stacked = True,color=['pink', 'purple']) \n",
    "# plt.title('posConditionCode Vs Fraud', fontweight = 30, fontsize = 20) \n",
    "# plt.legend(loc=\"upper right\") \n",
    "# plt.show()"
   ]
  },
  {
   "cell_type": "markdown",
   "metadata": {},
   "source": [
    "Merchant Category Code vs Fraud"
   ]
  },
  {
   "cell_type": "code",
   "execution_count": 240,
   "metadata": {},
   "outputs": [],
   "source": [
    "# # Create subplots with 1 row and 2 columns\n",
    "# fig, axes = plt.subplots(1, 2, figsize=(25, 20))\n",
    "\n",
    "# counts = trxn_c1.groupby(['merchantCategoryCode', 'isFraud']).size().unstack(fill_value=0)\n",
    "\n",
    "# # Define the explode values for specific categories\n",
    "# explode_true = [0.1 if cat in ['Category1', 'Category2'] else 0 for cat in counts[True].index]\n",
    "# explode_false = [0.1 if cat in ['Category1', 'Category2'] else 0 for cat in counts[False].index]\n",
    "\n",
    "# # Create the first pie chart for 'True' values\n",
    "# _, texts, autotextst = axes[0].pie(counts[True], explode=explode_true, autopct='%1.0f%%', startangle=90)\n",
    "# axes[0].set_title(\"True Values\")\n",
    "# axes[0].axis('equal')\n",
    "\n",
    "# # Create the second pie chart for 'False' values\n",
    "# _, texts, autotextsf = axes[1].pie(counts[False], explode=explode_false, autopct='%1.0f%%', startangle=90)\n",
    "# axes[1].set_title(\"False Values\")\n",
    "# axes[1].axis('equal')\n",
    "\n",
    "# # Extract autopct values and merchant categories for 'True' and 'False' values\n",
    "# autopct_true = [autotextst.get_text() for autotextst in autotextst]\n",
    "# autopct_false = [autotextsf.get_text() for autotextsf in autotextsf]\n",
    "\n",
    "# merchant_categories = counts.index\n",
    "\n",
    "# # Store autopct values with merchant categories for 'True' and 'False' values\n",
    "# autopct_values_true = list(zip(merchant_categories, autopct_true))\n",
    "# autopct_values_false = list(zip(merchant_categories, autopct_false))\n",
    "\n",
    "# # Print autopct values for 'True' and 'False' values\n",
    "# print(\"Autopct Values for 'True' Values:\")\n",
    "# for category, autopct in autopct_values_true:\n",
    "#     print(f\"{category}: {autopct}\")\n",
    "\n",
    "# print(\"\\nAutopct Values for 'False' Values:\")\n",
    "# for category, autopct in autopct_values_false:\n",
    "#     print(f\"{category}: {autopct}\")\n",
    "\n",
    "# # Add legends\n",
    "# axes[0].legend(labels=counts[True].index, title=\"Merchant Categories\")\n",
    "# axes[1].legend(labels=counts[False].index, title=\"Merchant Categories\")\n",
    "\n",
    "# # Set a common title for the entire figure\n",
    "# fig.suptitle(\"Two Pie Charts: True vs. False\", fontsize=16)\n",
    "\n",
    "# plt.show()\n"
   ]
  },
  {
   "cell_type": "code",
   "execution_count": 241,
   "metadata": {},
   "outputs": [],
   "source": [
    "# import pandas as pd\n",
    "\n",
    "# # Create a DataFrame for 'True' values\n",
    "# df_true = pd.DataFrame(autopct_values_true, columns=[\"Category\", \"Merchant Fraud Percentage  (True)\"])\n",
    "\n",
    "# # Create a DataFrame for 'False' values\n",
    "# df_false = pd.DataFrame(autopct_values_false, columns=[\"Category\", \"Merchant Fraud Percentage  (False)\"])\n",
    "\n",
    "# result_df = pd.merge(df_true, df_false, on=\"Category\")\n",
    "\n",
    "# result_df"
   ]
  },
  {
   "cell_type": "markdown",
   "metadata": {},
   "source": [
    "> Transaction Type Vs Fraud "
   ]
  },
  {
   "cell_type": "code",
   "execution_count": 242,
   "metadata": {},
   "outputs": [],
   "source": [
    "# cross_tab = pd.crosstab(trxn_c1['transactionType'], trxn_c1['isFraud'])\n",
    "# plt.figure(figsize=(8, 6))\n",
    "# sns.heatmap(cross_tab, annot=True, cmap=\"YlGnBu\", fmt=\"d\")\n",
    "# plt.title(\"Heatmap: Cross-Tabulation of Transaction Type and Is Fraud\")\n",
    "# plt.show()"
   ]
  },
  {
   "cell_type": "markdown",
   "metadata": {},
   "source": [
    "> Card Present vs Fraud"
   ]
  },
  {
   "cell_type": "code",
   "execution_count": 243,
   "metadata": {},
   "outputs": [],
   "source": [
    "# plt.figure(figsize=(8, 6))\n",
    "# sns.countplot(data=trxn_c1, x=\"cardPresent\", hue=\"isFraud\")\n",
    "# plt.title(\"Count Bar Plot: cardPresent va fraud\")\n",
    "# plt.gca().yaxis.set_minor_locator(tck.AutoMinorLocator())\n",
    "# plt.grid()\n",
    "# plt.show()"
   ]
  },
  {
   "cell_type": "code",
   "execution_count": 244,
   "metadata": {},
   "outputs": [],
   "source": [
    "dl_list = ['transcation_date','transcation_month','cvv_match']"
   ]
  },
  {
   "cell_type": "code",
   "execution_count": 245,
   "metadata": {},
   "outputs": [],
   "source": [
    "fraudulent_merchants = trxn_c1[trxn_c1['isFraud'] == True]"
   ]
  },
  {
   "cell_type": "code",
   "execution_count": 246,
   "metadata": {},
   "outputs": [],
   "source": [
    "non_fraudulent_merchants = trxn_c1[trxn_c1['isFraud'] == False]"
   ]
  },
  {
   "cell_type": "code",
   "execution_count": 247,
   "metadata": {},
   "outputs": [
    {
     "data": {
      "image/png": "[encoded data removed]",
      "text/plain": [
       "<Figure size 1200x1800 with 6 Axes>"
      ]
     },
     "metadata": {},
     "output_type": "display_data"
    }
   ],
   "source": [
    "import pandas as pd\n",
    "import matplotlib.pyplot as plt\n",
    "\n",
    "# Create subplots with two columns (fraudulent and non-fraudulent)\n",
    "fig, axes = plt.subplots(nrows=len(dl_list), ncols=2, figsize=(12, 6 * len(dl_list)))\n",
    "\n",
    "# Assuming fraudulent_merchants and non_fraudulent_merchants are DataFrames\n",
    "for index, i in enumerate(dl_list):\n",
    "    # Create crosstabs for fraudulent and non-fraudulent transactions\n",
    "    crosstab_fraudulent = pd.crosstab(fraudulent_merchants[i], fraudulent_merchants['isFraud'])\n",
    "    crosstab_non_fraudulent = pd.crosstab(non_fraudulent_merchants[i], non_fraudulent_merchants['isFraud'])\n",
    "    \n",
    "    # Plot the bar charts side by side\n",
    "    ax1 = crosstab_fraudulent.plot(kind='bar', ax=axes[index, 0], legend=False,color='orange')\n",
    "    ax1.set_title(f'Fraudulent {i} vs. isFraud')\n",
    "    ax1.set_xlabel(i)\n",
    "    ax1.set_ylabel('Count')\n",
    "    \n",
    "    ax2 = crosstab_non_fraudulent.plot(kind='bar', ax=axes[index, 1], legend=False)\n",
    "    ax2.set_title(f'Non-Fraudulent {i} vs. isFraud')\n",
    "    ax2.set_xlabel(i)\n",
    "    ax2.set_ylabel('Count')\n",
    "\n",
    "# Adjust layout spacing\n",
    "plt.tight_layout()\n",
    "\n",
    "# Show the plots\n",
    "plt.show()"
   ]
  },
  {
   "cell_type": "markdown",
   "metadata": {},
   "source": [
    "## Multivariate Analysis"
   ]
  },
  {
   "cell_type": "markdown",
   "metadata": {},
   "source": [
    "> Relation Between Transcation Type vs Current Balance Vs Is Fraud"
   ]
  },
  {
   "cell_type": "code",
   "execution_count": 248,
   "metadata": {},
   "outputs": [],
   "source": [
    "def append_stat_result(name_of_stat, result_df, f_statistic, p_value, result):\n",
    "    \"\"\"\n",
    "    Appends statistical results to the given DataFrame.\n",
    "\n",
    "    Parameters:\n",
    "    - name_of_stat (str): The name of the statistical test.\n",
    "    - result_df (pd.DataFrame): The DataFrame to which the results will be appended.\n",
    "    - f_statistic (float): The F-Statistic value.\n",
    "    - p_value (float): The P-Value.\n",
    "    - result (str): The result description.\n",
    "\n",
    "    Returns:\n",
    "    - pd.DataFrame: The updated DataFrame.\n",
    "    \"\"\"\n",
    "    new_row = {'name_of_stat': name_of_stat, 'F-Statistic': f'{f_statistic:.4f}', 'P-Value': f'{p_value:.4f}', 'Result': result}\n",
    "    result_df = result_df.append(new_row, ignore_index=True)\n",
    "    return result_df"
   ]
  },
  {
   "cell_type": "code",
   "execution_count": 249,
   "metadata": {},
   "outputs": [],
   "source": [
    "result_df = pd.DataFrame(columns=['name_of_stat', 'F-Statistic', 'P-Value', 'Result'])"
   ]
  },
  {
   "cell_type": "code",
   "execution_count": 250,
   "metadata": {},
   "outputs": [],
   "source": [
    "# Calculate F-statistic and p-value\n",
    "f_statistic, p_value = stats.f_oneway(\n",
    "    trxn_c1['currentBalance'][(trxn_c1['transactionType'] == 'PURCHASE') & (trxn_c1['isFraud'] == False)],\n",
    "    trxn_c1['currentBalance'][(trxn_c1['transactionType'] == 'ADDRESS_VERIFICATION') & (trxn_c1['isFraud'] == False)],\n",
    "    trxn_c1['currentBalance'][(trxn_c1['transactionType'] == 'REVERSAL') & (trxn_c1['isFraud'] == False)],\n",
    "    trxn_c1['currentBalance'][(trxn_c1['transactionType'] == 'PURCHASE') & (trxn_c1['isFraud'] == True)],\n",
    "    trxn_c1['currentBalance'][(trxn_c1['transactionType'] == 'ADDRESS_VERIFICATION') & (trxn_c1['isFraud'] == True)],\n",
    "    trxn_c1['currentBalance'][(trxn_c1['transactionType'] == 'REVERSAL') & (trxn_c1['isFraud'] == True)]\n",
    ")\n",
    "\n",
    "# Interpret the results\n",
    "alpha = 0.05\n",
    "if p_value < alpha:\n",
    "    result = f\"There is significant association among the variables and we reject the null hypothesis\"\n",
    "else:\n",
    "    result = f\"There is no significant association among the variables variables and we fail to reject the null hypothesis\""
   ]
  },
  {
   "cell_type": "code",
   "execution_count": 251,
   "metadata": {},
   "outputs": [
    {
     "data": {
      "text/html": [
       "<div>\n",
       "<style scoped>\n",
       "    .dataframe tbody tr th:only-of-type {\n",
       "        vertical-align: middle;\n",
       "    }\n",
       "\n",
       "    .dataframe tbody tr th {\n",
       "        vertical-align: top;\n",
       "    }\n",
       "\n",
       "    .dataframe thead th {\n",
       "        text-align: right;\n",
       "    }\n",
       "</style>\n",
       "<table border=\"1\" class=\"dataframe\">\n",
       "  <thead>\n",
       "    <tr style=\"text-align: right;\">\n",
       "      <th></th>\n",
       "      <th>name_of_stat</th>\n",
       "      <th>F-Statistic</th>\n",
       "      <th>P-Value</th>\n",
       "      <th>Result</th>\n",
       "    </tr>\n",
       "  </thead>\n",
       "  <tbody>\n",
       "    <tr>\n",
       "      <th>0</th>\n",
       "      <td>Transaction Type Vs Current Balance Vs Fraud</td>\n",
       "      <td>23.1160</td>\n",
       "      <td>0.0000</td>\n",
       "      <td>There is significant association among the var...</td>\n",
       "    </tr>\n",
       "  </tbody>\n",
       "</table>\n",
       "</div>"
      ],
      "text/plain": [
       "                                   name_of_stat F-Statistic P-Value  \\\n",
       "0  Transaction Type Vs Current Balance Vs Fraud     23.1160  0.0000   \n",
       "\n",
       "                                              Result  \n",
       "0  There is significant association among the var...  "
      ]
     },
     "execution_count": 251,
     "metadata": {},
     "output_type": "execute_result"
    }
   ],
   "source": [
    "# Append the results to the DataFrame\n",
    "result_df = append_stat_result('Transaction Type Vs Current Balance Vs Fraud', result_df, f_statistic, p_value, result)\n",
    "\n",
    "# Print the DataFrame with the results\n",
    "result_df"
   ]
  },
  {
   "cell_type": "code",
   "execution_count": 252,
   "metadata": {},
   "outputs": [],
   "source": [
    "# plot , ax = plt.subplots(3 , 1 , figsize=(15,15)) \n",
    "# sns.histplot(data = trxn_c1.loc[trxn_c1['transactionType']=='PURCHASE'] , x = \"currentBalance\" , hue = \"isFraud\",binwidth=5,ax = ax[0],palette = sns.color_palette([\"blue\" , \"orange\"]),multiple = \"stack\",log_scale=(False, True)).set_title(\"Purchase_isFraud\") \n",
    "# sns.histplot(data = trxn_c1.loc[trxn_c1['transactionType']=='REVERSAL'] , x = \"currentBalance\" , hue = \"isFraud\",binwidth=5,ax = ax[1],palette = sns.color_palette([\"blue\" , \"orange\"]),multiple = \"stack\",log_scale=(False, True)).set_title(\"Reversal_isFraud\") \n",
    "# sns.histplot(data = trxn_c1.loc[trxn_c1['transactionType']=='ADDRESS_VERIFICATION'] , x = \"currentBalance\" , hue = \"isFraud\",binwidth=5,ax = ax[2],palette = sns.color_palette([\"blue\" , \"orange\"]),multiple = \"stack\",log_scale=(False, True)).set_title(\"Address_isFraud\") \n",
    "# plt.show()\n"
   ]
  },
  {
   "cell_type": "code",
   "execution_count": 253,
   "metadata": {},
   "outputs": [],
   "source": [
    "# Specify the path to the image file\n",
    "# image_path = r'G:\\Great Lakes April 2023\\Capstone Project\\GL Capstone\\Fraud70\\visualization_images\\Multi\\Multi (Transaction TYpe vs Current Balance vs Fraud).png'\n",
    "\n",
    "# Display the image\n",
    "# Image(filename=image_path)\n"
   ]
  },
  {
   "cell_type": "markdown",
   "metadata": {},
   "source": [
    "> Relation Card Expriy Month vs Fraud Vs Card Expiry Year"
   ]
  },
  {
   "cell_type": "code",
   "execution_count": 254,
   "metadata": {},
   "outputs": [
    {
     "data": {
      "text/html": [
       "<div>\n",
       "<style scoped>\n",
       "    .dataframe tbody tr th:only-of-type {\n",
       "        vertical-align: middle;\n",
       "    }\n",
       "\n",
       "    .dataframe tbody tr th {\n",
       "        vertical-align: top;\n",
       "    }\n",
       "\n",
       "    .dataframe thead th {\n",
       "        text-align: right;\n",
       "    }\n",
       "</style>\n",
       "<table border=\"1\" class=\"dataframe\">\n",
       "  <thead>\n",
       "    <tr style=\"text-align: right;\">\n",
       "      <th></th>\n",
       "      <th>creditLimit</th>\n",
       "      <th>availableMoney</th>\n",
       "      <th>transactionAmount</th>\n",
       "      <th>acqCountry</th>\n",
       "      <th>merchantCountryCode</th>\n",
       "      <th>posEntryMode</th>\n",
       "      <th>posConditionCode</th>\n",
       "      <th>merchantCategoryCode</th>\n",
       "      <th>transactionType</th>\n",
       "      <th>currentBalance</th>\n",
       "      <th>cardPresent</th>\n",
       "      <th>expirationDateKeyInMatch</th>\n",
       "      <th>isFraud</th>\n",
       "      <th>transcation_month</th>\n",
       "      <th>transcation_date</th>\n",
       "      <th>cvv_match</th>\n",
       "      <th>Days_after_Last Address Change</th>\n",
       "    </tr>\n",
       "  </thead>\n",
       "  <tbody>\n",
       "    <tr>\n",
       "      <th>0</th>\n",
       "      <td>5000.0</td>\n",
       "      <td>5000.00</td>\n",
       "      <td>98.55</td>\n",
       "      <td>US</td>\n",
       "      <td>US</td>\n",
       "      <td>2</td>\n",
       "      <td>1</td>\n",
       "      <td>rideshare</td>\n",
       "      <td>PURCHASE</td>\n",
       "      <td>0.00</td>\n",
       "      <td>False</td>\n",
       "      <td>False</td>\n",
       "      <td>False</td>\n",
       "      <td>08</td>\n",
       "      <td>13</td>\n",
       "      <td>True</td>\n",
       "      <td>518</td>\n",
       "    </tr>\n",
       "    <tr>\n",
       "      <th>1</th>\n",
       "      <td>5000.0</td>\n",
       "      <td>5000.00</td>\n",
       "      <td>74.51</td>\n",
       "      <td>US</td>\n",
       "      <td>US</td>\n",
       "      <td>9</td>\n",
       "      <td>1</td>\n",
       "      <td>entertainment</td>\n",
       "      <td>PURCHASE</td>\n",
       "      <td>0.00</td>\n",
       "      <td>True</td>\n",
       "      <td>False</td>\n",
       "      <td>False</td>\n",
       "      <td>10</td>\n",
       "      <td>11</td>\n",
       "      <td>True</td>\n",
       "      <td>577</td>\n",
       "    </tr>\n",
       "    <tr>\n",
       "      <th>2</th>\n",
       "      <td>5000.0</td>\n",
       "      <td>5000.00</td>\n",
       "      <td>7.47</td>\n",
       "      <td>US</td>\n",
       "      <td>US</td>\n",
       "      <td>9</td>\n",
       "      <td>1</td>\n",
       "      <td>mobileapps</td>\n",
       "      <td>PURCHASE</td>\n",
       "      <td>0.00</td>\n",
       "      <td>False</td>\n",
       "      <td>False</td>\n",
       "      <td>False</td>\n",
       "      <td>11</td>\n",
       "      <td>08</td>\n",
       "      <td>True</td>\n",
       "      <td>605</td>\n",
       "    </tr>\n",
       "    <tr>\n",
       "      <th>3</th>\n",
       "      <td>5000.0</td>\n",
       "      <td>5000.00</td>\n",
       "      <td>7.47</td>\n",
       "      <td>US</td>\n",
       "      <td>US</td>\n",
       "      <td>9</td>\n",
       "      <td>1</td>\n",
       "      <td>mobileapps</td>\n",
       "      <td>PURCHASE</td>\n",
       "      <td>0.00</td>\n",
       "      <td>False</td>\n",
       "      <td>False</td>\n",
       "      <td>False</td>\n",
       "      <td>12</td>\n",
       "      <td>10</td>\n",
       "      <td>True</td>\n",
       "      <td>637</td>\n",
       "    </tr>\n",
       "    <tr>\n",
       "      <th>4</th>\n",
       "      <td>5000.0</td>\n",
       "      <td>5000.00</td>\n",
       "      <td>71.18</td>\n",
       "      <td>US</td>\n",
       "      <td>US</td>\n",
       "      <td>2</td>\n",
       "      <td>1</td>\n",
       "      <td>fastfood</td>\n",
       "      <td>PURCHASE</td>\n",
       "      <td>0.00</td>\n",
       "      <td>True</td>\n",
       "      <td>False</td>\n",
       "      <td>False</td>\n",
       "      <td>03</td>\n",
       "      <td>24</td>\n",
       "      <td>True</td>\n",
       "      <td>231</td>\n",
       "    </tr>\n",
       "    <tr>\n",
       "      <th>...</th>\n",
       "      <td>...</td>\n",
       "      <td>...</td>\n",
       "      <td>...</td>\n",
       "      <td>...</td>\n",
       "      <td>...</td>\n",
       "      <td>...</td>\n",
       "      <td>...</td>\n",
       "      <td>...</td>\n",
       "      <td>...</td>\n",
       "      <td>...</td>\n",
       "      <td>...</td>\n",
       "      <td>...</td>\n",
       "      <td>...</td>\n",
       "      <td>...</td>\n",
       "      <td>...</td>\n",
       "      <td>...</td>\n",
       "      <td>...</td>\n",
       "    </tr>\n",
       "    <tr>\n",
       "      <th>786358</th>\n",
       "      <td>50000.0</td>\n",
       "      <td>48904.96</td>\n",
       "      <td>119.92</td>\n",
       "      <td>US</td>\n",
       "      <td>US</td>\n",
       "      <td>90</td>\n",
       "      <td>1</td>\n",
       "      <td>rideshare</td>\n",
       "      <td>PURCHASE</td>\n",
       "      <td>1095.04</td>\n",
       "      <td>False</td>\n",
       "      <td>False</td>\n",
       "      <td>False</td>\n",
       "      <td>12</td>\n",
       "      <td>22</td>\n",
       "      <td>True</td>\n",
       "      <td>1582</td>\n",
       "    </tr>\n",
       "    <tr>\n",
       "      <th>786359</th>\n",
       "      <td>50000.0</td>\n",
       "      <td>48785.04</td>\n",
       "      <td>18.89</td>\n",
       "      <td>US</td>\n",
       "      <td>US</td>\n",
       "      <td>9</td>\n",
       "      <td>1</td>\n",
       "      <td>online_subscriptions</td>\n",
       "      <td>PURCHASE</td>\n",
       "      <td>1214.96</td>\n",
       "      <td>False</td>\n",
       "      <td>False</td>\n",
       "      <td>False</td>\n",
       "      <td>12</td>\n",
       "      <td>25</td>\n",
       "      <td>True</td>\n",
       "      <td>1585</td>\n",
       "    </tr>\n",
       "    <tr>\n",
       "      <th>786360</th>\n",
       "      <td>50000.0</td>\n",
       "      <td>48766.15</td>\n",
       "      <td>49.43</td>\n",
       "      <td>US</td>\n",
       "      <td>US</td>\n",
       "      <td>2</td>\n",
       "      <td>1</td>\n",
       "      <td>rideshare</td>\n",
       "      <td>PURCHASE</td>\n",
       "      <td>1233.85</td>\n",
       "      <td>False</td>\n",
       "      <td>False</td>\n",
       "      <td>False</td>\n",
       "      <td>12</td>\n",
       "      <td>27</td>\n",
       "      <td>True</td>\n",
       "      <td>1587</td>\n",
       "    </tr>\n",
       "    <tr>\n",
       "      <th>786361</th>\n",
       "      <td>50000.0</td>\n",
       "      <td>48716.72</td>\n",
       "      <td>49.89</td>\n",
       "      <td>US</td>\n",
       "      <td>US</td>\n",
       "      <td>9</td>\n",
       "      <td>99</td>\n",
       "      <td>online_retail</td>\n",
       "      <td>PURCHASE</td>\n",
       "      <td>1283.28</td>\n",
       "      <td>False</td>\n",
       "      <td>False</td>\n",
       "      <td>False</td>\n",
       "      <td>12</td>\n",
       "      <td>29</td>\n",
       "      <td>True</td>\n",
       "      <td>1589</td>\n",
       "    </tr>\n",
       "    <tr>\n",
       "      <th>786362</th>\n",
       "      <td>50000.0</td>\n",
       "      <td>48666.83</td>\n",
       "      <td>72.18</td>\n",
       "      <td>US</td>\n",
       "      <td>US</td>\n",
       "      <td>5</td>\n",
       "      <td>1</td>\n",
       "      <td>rideshare</td>\n",
       "      <td>PURCHASE</td>\n",
       "      <td>1333.17</td>\n",
       "      <td>False</td>\n",
       "      <td>False</td>\n",
       "      <td>False</td>\n",
       "      <td>12</td>\n",
       "      <td>30</td>\n",
       "      <td>True</td>\n",
       "      <td>1590</td>\n",
       "    </tr>\n",
       "  </tbody>\n",
       "</table>\n",
       "<p>786363 rows × 17 columns</p>\n",
       "</div>"
      ],
      "text/plain": [
       "        creditLimit  availableMoney  transactionAmount acqCountry  \\\n",
       "0            5000.0         5000.00              98.55         US   \n",
       "1            5000.0         5000.00              74.51         US   \n",
       "2            5000.0         5000.00               7.47         US   \n",
       "3            5000.0         5000.00               7.47         US   \n",
       "4            5000.0         5000.00              71.18         US   \n",
       "...             ...             ...                ...        ...   \n",
       "786358      50000.0        48904.96             119.92         US   \n",
       "786359      50000.0        48785.04              18.89         US   \n",
       "786360      50000.0        48766.15              49.43         US   \n",
       "786361      50000.0        48716.72              49.89         US   \n",
       "786362      50000.0        48666.83              72.18         US   \n",
       "\n",
       "       merchantCountryCode posEntryMode posConditionCode  \\\n",
       "0                       US            2                1   \n",
       "1                       US            9                1   \n",
       "2                       US            9                1   \n",
       "3                       US            9                1   \n",
       "4                       US            2                1   \n",
       "...                    ...          ...              ...   \n",
       "786358                  US           90                1   \n",
       "786359                  US            9                1   \n",
       "786360                  US            2                1   \n",
       "786361                  US            9               99   \n",
       "786362                  US            5                1   \n",
       "\n",
       "        merchantCategoryCode transactionType  currentBalance cardPresent  \\\n",
       "0                  rideshare        PURCHASE            0.00       False   \n",
       "1              entertainment        PURCHASE            0.00        True   \n",
       "2                 mobileapps        PURCHASE            0.00       False   \n",
       "3                 mobileapps        PURCHASE            0.00       False   \n",
       "4                   fastfood        PURCHASE            0.00        True   \n",
       "...                      ...             ...             ...         ...   \n",
       "786358             rideshare        PURCHASE         1095.04       False   \n",
       "786359  online_subscriptions        PURCHASE         1214.96       False   \n",
       "786360             rideshare        PURCHASE         1233.85       False   \n",
       "786361         online_retail        PURCHASE         1283.28       False   \n",
       "786362             rideshare        PURCHASE         1333.17       False   \n",
       "\n",
       "       expirationDateKeyInMatch isFraud transcation_month transcation_date  \\\n",
       "0                         False   False                08               13   \n",
       "1                         False   False                10               11   \n",
       "2                         False   False                11               08   \n",
       "3                         False   False                12               10   \n",
       "4                         False   False                03               24   \n",
       "...                         ...     ...               ...              ...   \n",
       "786358                    False   False                12               22   \n",
       "786359                    False   False                12               25   \n",
       "786360                    False   False                12               27   \n",
       "786361                    False   False                12               29   \n",
       "786362                    False   False                12               30   \n",
       "\n",
       "       cvv_match  Days_after_Last Address Change  \n",
       "0           True                             518  \n",
       "1           True                             577  \n",
       "2           True                             605  \n",
       "3           True                             637  \n",
       "4           True                             231  \n",
       "...          ...                             ...  \n",
       "786358      True                            1582  \n",
       "786359      True                            1585  \n",
       "786360      True                            1587  \n",
       "786361      True                            1589  \n",
       "786362      True                            1590  \n",
       "\n",
       "[786363 rows x 17 columns]"
      ]
     },
     "execution_count": 254,
     "metadata": {},
     "output_type": "execute_result"
    }
   ],
   "source": [
    "trxn_c1"
   ]
  },
  {
   "cell_type": "markdown",
   "metadata": {},
   "source": [
    "> Relation Between Expiration Date Key In Match Vs Fraud Vs CVV Match"
   ]
  },
  {
   "cell_type": "code",
   "execution_count": 255,
   "metadata": {},
   "outputs": [],
   "source": [
    "# Calculate F-statistic and p-value\n",
    "ct = pd.crosstab(trxn_c1['expirationDateKeyInMatch'], [trxn_c1['isFraud'], trxn_c1['cvv_match']])\n",
    "f_statistic, p_value, _, _ = stats.chi2_contingency(ct)\n",
    "\n",
    "# Interpret the results\n",
    "alpha = 0.05\n",
    "if p_value < alpha:\n",
    "    result = f\"There is significant association among the variables and we reject the null hypothesis\"\n",
    "else:\n",
    "    result = f\"There is no significant association among the variables variables and we fail to reject the null hypothesis\""
   ]
  },
  {
   "cell_type": "code",
   "execution_count": 256,
   "metadata": {},
   "outputs": [
    {
     "data": {
      "text/html": [
       "<div>\n",
       "<style scoped>\n",
       "    .dataframe tbody tr th:only-of-type {\n",
       "        vertical-align: middle;\n",
       "    }\n",
       "\n",
       "    .dataframe tbody tr th {\n",
       "        vertical-align: top;\n",
       "    }\n",
       "\n",
       "    .dataframe thead th {\n",
       "        text-align: right;\n",
       "    }\n",
       "</style>\n",
       "<table border=\"1\" class=\"dataframe\">\n",
       "  <thead>\n",
       "    <tr style=\"text-align: right;\">\n",
       "      <th></th>\n",
       "      <th>name_of_stat</th>\n",
       "      <th>F-Statistic</th>\n",
       "      <th>P-Value</th>\n",
       "      <th>Result</th>\n",
       "    </tr>\n",
       "  </thead>\n",
       "  <tbody>\n",
       "    <tr>\n",
       "      <th>0</th>\n",
       "      <td>Transaction Type Vs Current Balance Vs Fraud</td>\n",
       "      <td>23.1160</td>\n",
       "      <td>0.0000</td>\n",
       "      <td>There is significant association among the var...</td>\n",
       "    </tr>\n",
       "    <tr>\n",
       "      <th>1</th>\n",
       "      <td>Expiration Date Key In Match Vs cvv_match Vs F...</td>\n",
       "      <td>0.9148</td>\n",
       "      <td>0.8218</td>\n",
       "      <td>There is no significant association among the ...</td>\n",
       "    </tr>\n",
       "  </tbody>\n",
       "</table>\n",
       "</div>"
      ],
      "text/plain": [
       "                                        name_of_stat F-Statistic P-Value  \\\n",
       "0       Transaction Type Vs Current Balance Vs Fraud     23.1160  0.0000   \n",
       "1  Expiration Date Key In Match Vs cvv_match Vs F...      0.9148  0.8218   \n",
       "\n",
       "                                              Result  \n",
       "0  There is significant association among the var...  \n",
       "1  There is no significant association among the ...  "
      ]
     },
     "execution_count": 256,
     "metadata": {},
     "output_type": "execute_result"
    }
   ],
   "source": [
    "# Append the results to the DataFrame\n",
    "result_df = append_stat_result('Expiration Date Key In Match Vs cvv_match Vs Fraud', result_df, f_statistic, p_value, result)\n",
    "\n",
    "# Print the DataFrame with the results\n",
    "result_df"
   ]
  },
  {
   "cell_type": "code",
   "execution_count": 257,
   "metadata": {},
   "outputs": [
    {
     "data": {
      "text/plain": [
       "<Figure size 1000x600 with 0 Axes>"
      ]
     },
     "metadata": {},
     "output_type": "display_data"
    },
    {
     "data": {
      "image/png": "[encoded data removed]",
      "text/plain": [
       "<Figure size 1000x1000 with 4 Axes>"
      ]
     },
     "metadata": {},
     "output_type": "display_data"
    }
   ],
   "source": [
    "data = trxn_c1[[\"expirationDateKeyInMatch\", \"isFraud\", \"cvv_match\"]]\n",
    "\n",
    "# Pivot the DataFrame for clustering\n",
    "pivot_data = data.pivot_table(index=\"expirationDateKeyInMatch\", columns=\"isFraud\", values=\"cvv_match\", aggfunc=\"count\", fill_value=0)\n",
    "\n",
    "# Create a cluster map\n",
    "plt.figure(figsize=(10, 6))\n",
    "sns.clustermap(pivot_data, cmap=\"coolwarm\", annot=True, fmt=\"d\")\n",
    "plt.title(\"Clustered Heatmap: expirationDateKeyInMatch vs. isFraud Vs cvv_match\")\n",
    "plt.show()"
   ]
  },
  {
   "cell_type": "markdown",
   "metadata": {},
   "source": [
    "> Relation in Acquired Country Vs Transaction Amount Vs Fraud"
   ]
  },
  {
   "cell_type": "code",
   "execution_count": 258,
   "metadata": {},
   "outputs": [
    {
     "data": {
      "text/plain": [
       "['US', 'CAN', 'MEX', 'PR']\n",
       "Categories (4, object): ['CAN', 'MEX', 'PR', 'US']"
      ]
     },
     "execution_count": 258,
     "metadata": {},
     "output_type": "execute_result"
    }
   ],
   "source": [
    "trxn_c1['acqCountry'].unique()"
   ]
  },
  {
   "cell_type": "code",
   "execution_count": 259,
   "metadata": {},
   "outputs": [],
   "source": [
    "# Calculate F-statistic and p-value\n",
    "f_statistic, p_value = stats.f_oneway(\n",
    "    trxn_c1['transactionAmount'][(trxn_c1['acqCountry'] == 'US') & (trxn_c1['isFraud'] == False)],\n",
    "    trxn_c1['transactionAmount'][(trxn_c1['acqCountry'] == 'CAN') & (trxn_c1['isFraud'] == False)],\n",
    "    trxn_c1['transactionAmount'][(trxn_c1['acqCountry'] == 'MEX') & (trxn_c1['isFraud'] == False)],\n",
    "    trxn_c1['transactionAmount'][(trxn_c1['acqCountry'] == 'PR') & (trxn_c1['isFraud'] == False)],\n",
    "    trxn_c1['transactionAmount'][(trxn_c1['acqCountry'] == 'US') & (trxn_c1['isFraud'] == True)],\n",
    "    trxn_c1['transactionAmount'][(trxn_c1['acqCountry'] == 'CAN') & (trxn_c1['isFraud'] == True)],\n",
    "    trxn_c1['transactionAmount'][(trxn_c1['acqCountry'] == 'MEX') & (trxn_c1['isFraud'] == True)],\n",
    "    trxn_c1['transactionAmount'][(trxn_c1['acqCountry'] == 'PR') & (trxn_c1['isFraud'] == True)]\n",
    "    \n",
    ")\n",
    "\n",
    "# Interpret the results\n",
    "alpha = 0.05\n",
    "if p_value < alpha:\n",
    "    result = f\"There is significant association among the variables and we reject the null hypothesis\"\n",
    "else:\n",
    "    result = f\"There is no significant association among the variables variables and we fail to reject the null hypothesis\""
   ]
  },
  {
   "cell_type": "code",
   "execution_count": 260,
   "metadata": {},
   "outputs": [
    {
     "data": {
      "text/html": [
       "<div>\n",
       "<style scoped>\n",
       "    .dataframe tbody tr th:only-of-type {\n",
       "        vertical-align: middle;\n",
       "    }\n",
       "\n",
       "    .dataframe tbody tr th {\n",
       "        vertical-align: top;\n",
       "    }\n",
       "\n",
       "    .dataframe thead th {\n",
       "        text-align: right;\n",
       "    }\n",
       "</style>\n",
       "<table border=\"1\" class=\"dataframe\">\n",
       "  <thead>\n",
       "    <tr style=\"text-align: right;\">\n",
       "      <th></th>\n",
       "      <th>name_of_stat</th>\n",
       "      <th>F-Statistic</th>\n",
       "      <th>P-Value</th>\n",
       "      <th>Result</th>\n",
       "    </tr>\n",
       "  </thead>\n",
       "  <tbody>\n",
       "    <tr>\n",
       "      <th>0</th>\n",
       "      <td>Transaction Type Vs Current Balance Vs Fraud</td>\n",
       "      <td>23.1160</td>\n",
       "      <td>0.0000</td>\n",
       "      <td>There is significant association among the var...</td>\n",
       "    </tr>\n",
       "    <tr>\n",
       "      <th>1</th>\n",
       "      <td>Expiration Date Key In Match Vs cvv_match Vs F...</td>\n",
       "      <td>0.9148</td>\n",
       "      <td>0.8218</td>\n",
       "      <td>There is no significant association among the ...</td>\n",
       "    </tr>\n",
       "    <tr>\n",
       "      <th>2</th>\n",
       "      <td>Transaction Amount Vs Acq Country Vs Fraud</td>\n",
       "      <td>647.0067</td>\n",
       "      <td>0.0000</td>\n",
       "      <td>There is significant association among the var...</td>\n",
       "    </tr>\n",
       "  </tbody>\n",
       "</table>\n",
       "</div>"
      ],
      "text/plain": [
       "                                        name_of_stat F-Statistic P-Value  \\\n",
       "0       Transaction Type Vs Current Balance Vs Fraud     23.1160  0.0000   \n",
       "1  Expiration Date Key In Match Vs cvv_match Vs F...      0.9148  0.8218   \n",
       "2         Transaction Amount Vs Acq Country Vs Fraud    647.0067  0.0000   \n",
       "\n",
       "                                              Result  \n",
       "0  There is significant association among the var...  \n",
       "1  There is no significant association among the ...  \n",
       "2  There is significant association among the var...  "
      ]
     },
     "execution_count": 260,
     "metadata": {},
     "output_type": "execute_result"
    }
   ],
   "source": [
    "# Append the results to the DataFrame\n",
    "result_df = append_stat_result('Transaction Amount Vs Acq Country Vs Fraud', result_df, f_statistic, p_value, result)\n",
    "\n",
    "# Print the DataFrame with the results\n",
    "result_df"
   ]
  },
  {
   "cell_type": "code",
   "execution_count": 261,
   "metadata": {},
   "outputs": [
    {
     "data": {
      "image/png": "[encoded data removed]",
      "text/plain": [
       "<Figure size 800x600 with 1 Axes>"
      ]
     },
     "metadata": {},
     "output_type": "display_data"
    }
   ],
   "source": [
    "plt.figure(figsize=(8, 6))\n",
    "sns.pointplot(data=trxn_c1, x=\"acqCountry\", y=\"transactionAmount\", hue=\"isFraud\", dodge=True, markers=[\"o\", \"s\"])\n",
    "plt.title(\"Mean transaction amount by Acq country  and Fraud\")\n",
    "plt.xlabel(\"Acq country\")\n",
    "plt.ylabel(\"Mean Transaction Amount\")\n",
    "plt.show()\n"
   ]
  },
  {
   "cell_type": "markdown",
   "metadata": {},
   "source": [
    "> Relation in Acquired Country Vs Available Money Vs Fraud"
   ]
  },
  {
   "cell_type": "code",
   "execution_count": 262,
   "metadata": {},
   "outputs": [],
   "source": [
    "# Calculate F-statistic and p-value\n",
    "f_statistic, p_value = stats.f_oneway(\n",
    "    trxn_c1['availableMoney'][(trxn_c1['acqCountry'] == 'US') & (trxn_c1['isFraud'] == False)],\n",
    "    trxn_c1['availableMoney'][(trxn_c1['acqCountry'] == 'CAN') & (trxn_c1['isFraud'] == False)],\n",
    "    trxn_c1['availableMoney'][(trxn_c1['acqCountry'] == 'MEX') & (trxn_c1['isFraud'] == False)],\n",
    "    trxn_c1['availableMoney'][(trxn_c1['acqCountry'] == 'PR') & (trxn_c1['isFraud'] == False)],\n",
    "    trxn_c1['availableMoney'][(trxn_c1['acqCountry'] == 'US') & (trxn_c1['isFraud'] == True)],\n",
    "    trxn_c1['availableMoney'][(trxn_c1['acqCountry'] == 'CAN') & (trxn_c1['isFraud'] == True)],\n",
    "    trxn_c1['availableMoney'][(trxn_c1['acqCountry'] == 'MEX') & (trxn_c1['isFraud'] == True)],\n",
    "    trxn_c1['availableMoney'][(trxn_c1['acqCountry'] == 'PR') & (trxn_c1['isFraud'] == True)]\n",
    "    \n",
    ")\n",
    "\n",
    "# Interpret the results\n",
    "alpha = 0.05\n",
    "if p_value < alpha:\n",
    "    result = f\"There is significant association among the variables and we reject the null hypothesis\"\n",
    "else:\n",
    "    result = f\"There is no significant association among the variables variables and we fail to reject the null hypothesis\""
   ]
  },
  {
   "cell_type": "code",
   "execution_count": 263,
   "metadata": {},
   "outputs": [
    {
     "data": {
      "text/html": [
       "<div>\n",
       "<style scoped>\n",
       "    .dataframe tbody tr th:only-of-type {\n",
       "        vertical-align: middle;\n",
       "    }\n",
       "\n",
       "    .dataframe tbody tr th {\n",
       "        vertical-align: top;\n",
       "    }\n",
       "\n",
       "    .dataframe thead th {\n",
       "        text-align: right;\n",
       "    }\n",
       "</style>\n",
       "<table border=\"1\" class=\"dataframe\">\n",
       "  <thead>\n",
       "    <tr style=\"text-align: right;\">\n",
       "      <th></th>\n",
       "      <th>name_of_stat</th>\n",
       "      <th>F-Statistic</th>\n",
       "      <th>P-Value</th>\n",
       "      <th>Result</th>\n",
       "    </tr>\n",
       "  </thead>\n",
       "  <tbody>\n",
       "    <tr>\n",
       "      <th>0</th>\n",
       "      <td>Transaction Type Vs Current Balance Vs Fraud</td>\n",
       "      <td>23.1160</td>\n",
       "      <td>0.0000</td>\n",
       "      <td>There is significant association among the var...</td>\n",
       "    </tr>\n",
       "    <tr>\n",
       "      <th>1</th>\n",
       "      <td>Expiration Date Key In Match Vs cvv_match Vs F...</td>\n",
       "      <td>0.9148</td>\n",
       "      <td>0.8218</td>\n",
       "      <td>There is no significant association among the ...</td>\n",
       "    </tr>\n",
       "    <tr>\n",
       "      <th>2</th>\n",
       "      <td>Transaction Amount Vs Acq Country Vs Fraud</td>\n",
       "      <td>647.0067</td>\n",
       "      <td>0.0000</td>\n",
       "      <td>There is significant association among the var...</td>\n",
       "    </tr>\n",
       "    <tr>\n",
       "      <th>3</th>\n",
       "      <td>Available Money Vs Acq Country Vs Fraud</td>\n",
       "      <td>1.6843</td>\n",
       "      <td>0.1077</td>\n",
       "      <td>There is no significant association among the ...</td>\n",
       "    </tr>\n",
       "  </tbody>\n",
       "</table>\n",
       "</div>"
      ],
      "text/plain": [
       "                                        name_of_stat F-Statistic P-Value  \\\n",
       "0       Transaction Type Vs Current Balance Vs Fraud     23.1160  0.0000   \n",
       "1  Expiration Date Key In Match Vs cvv_match Vs F...      0.9148  0.8218   \n",
       "2         Transaction Amount Vs Acq Country Vs Fraud    647.0067  0.0000   \n",
       "3            Available Money Vs Acq Country Vs Fraud      1.6843  0.1077   \n",
       "\n",
       "                                              Result  \n",
       "0  There is significant association among the var...  \n",
       "1  There is no significant association among the ...  \n",
       "2  There is significant association among the var...  \n",
       "3  There is no significant association among the ...  "
      ]
     },
     "execution_count": 263,
     "metadata": {},
     "output_type": "execute_result"
    }
   ],
   "source": [
    "# Append the results to the DataFrame\n",
    "result_df = append_stat_result('Available Money Vs Acq Country Vs Fraud', result_df, f_statistic, p_value, result)\n",
    "\n",
    "# Print the DataFrame with the results\n",
    "result_df"
   ]
  },
  {
   "cell_type": "code",
   "execution_count": 264,
   "metadata": {},
   "outputs": [
    {
     "data": {
      "image/png": "[encoded data removed]",
      "text/plain": [
       "<Figure size 800x600 with 1 Axes>"
      ]
     },
     "metadata": {},
     "output_type": "display_data"
    }
   ],
   "source": [
    "plt.figure(figsize=(8, 6))\n",
    "sns.violinplot(data=trxn_c1, x=\"acqCountry\", y=\"availableMoney\", hue=\"isFraud\", split=True)\n",
    "plt.title(\"Distribution of availableMoney by Acq Country & Fraud\")\n",
    "plt.xlabel(\"Acq country\")\n",
    "plt.ylabel(\"Available Money\")\n",
    "plt.show()"
   ]
  },
  {
   "cell_type": "markdown",
   "metadata": {},
   "source": [
    "> Multivaraiate Statisticall Test"
   ]
  },
  {
   "cell_type": "code",
   "execution_count": 265,
   "metadata": {},
   "outputs": [
    {
     "data": {
      "text/html": [
       "<div>\n",
       "<style scoped>\n",
       "    .dataframe tbody tr th:only-of-type {\n",
       "        vertical-align: middle;\n",
       "    }\n",
       "\n",
       "    .dataframe tbody tr th {\n",
       "        vertical-align: top;\n",
       "    }\n",
       "\n",
       "    .dataframe thead th {\n",
       "        text-align: right;\n",
       "    }\n",
       "</style>\n",
       "<table border=\"1\" class=\"dataframe\">\n",
       "  <thead>\n",
       "    <tr style=\"text-align: right;\">\n",
       "      <th></th>\n",
       "      <th>name_of_stat</th>\n",
       "      <th>F-Statistic</th>\n",
       "      <th>P-Value</th>\n",
       "      <th>Result</th>\n",
       "    </tr>\n",
       "  </thead>\n",
       "  <tbody>\n",
       "    <tr>\n",
       "      <th>0</th>\n",
       "      <td>Transaction Type Vs Current Balance Vs Fraud</td>\n",
       "      <td>23.1160</td>\n",
       "      <td>0.0000</td>\n",
       "      <td>There is significant association among the var...</td>\n",
       "    </tr>\n",
       "    <tr>\n",
       "      <th>1</th>\n",
       "      <td>Expiration Date Key In Match Vs cvv_match Vs F...</td>\n",
       "      <td>0.9148</td>\n",
       "      <td>0.8218</td>\n",
       "      <td>There is no significant association among the ...</td>\n",
       "    </tr>\n",
       "    <tr>\n",
       "      <th>2</th>\n",
       "      <td>Transaction Amount Vs Acq Country Vs Fraud</td>\n",
       "      <td>647.0067</td>\n",
       "      <td>0.0000</td>\n",
       "      <td>There is significant association among the var...</td>\n",
       "    </tr>\n",
       "    <tr>\n",
       "      <th>3</th>\n",
       "      <td>Available Money Vs Acq Country Vs Fraud</td>\n",
       "      <td>1.6843</td>\n",
       "      <td>0.1077</td>\n",
       "      <td>There is no significant association among the ...</td>\n",
       "    </tr>\n",
       "  </tbody>\n",
       "</table>\n",
       "</div>"
      ],
      "text/plain": [
       "                                        name_of_stat F-Statistic P-Value  \\\n",
       "0       Transaction Type Vs Current Balance Vs Fraud     23.1160  0.0000   \n",
       "1  Expiration Date Key In Match Vs cvv_match Vs F...      0.9148  0.8218   \n",
       "2         Transaction Amount Vs Acq Country Vs Fraud    647.0067  0.0000   \n",
       "3            Available Money Vs Acq Country Vs Fraud      1.6843  0.1077   \n",
       "\n",
       "                                              Result  \n",
       "0  There is significant association among the var...  \n",
       "1  There is no significant association among the ...  \n",
       "2  There is significant association among the var...  \n",
       "3  There is no significant association among the ...  "
      ]
     },
     "execution_count": 265,
     "metadata": {},
     "output_type": "execute_result"
    }
   ],
   "source": [
    "result_df"
   ]
  },
  {
   "cell_type": "code",
   "execution_count": 266,
   "metadata": {},
   "outputs": [],
   "source": [
    "result_df.to_csv('Multivaraiate Statisticall Test.csv',index=False)"
   ]
  },
  {
   "cell_type": "markdown",
   "metadata": {},
   "source": [
    "## Scaling the Data"
   ]
  },
  {
   "cell_type": "code",
   "execution_count": 267,
   "metadata": {},
   "outputs": [],
   "source": [
    "ss = StandardScaler ()"
   ]
  },
  {
   "cell_type": "code",
   "execution_count": 268,
   "metadata": {},
   "outputs": [
    {
     "data": {
      "text/plain": [
       "['creditLimit',\n",
       " 'availableMoney',\n",
       " 'transactionAmount',\n",
       " 'currentBalance',\n",
       " 'Days_after_Last Address Change']"
      ]
     },
     "execution_count": 268,
     "metadata": {},
     "output_type": "execute_result"
    }
   ],
   "source": [
    "trxn_num"
   ]
  },
  {
   "cell_type": "code",
   "execution_count": 269,
   "metadata": {},
   "outputs": [],
   "source": [
    "for i in trxn_num: \n",
    "    trxn_c1[i] =  ss.fit_transform(trxn_c1[[i]])"
   ]
  },
  {
   "cell_type": "code",
   "execution_count": 270,
   "metadata": {},
   "outputs": [
    {
     "data": {
      "image/png": "[encoded data removed]",
      "text/plain": [
       "<Figure size 2500x1500 with 6 Axes>"
      ]
     },
     "metadata": {},
     "output_type": "display_data"
    }
   ],
   "source": [
    "fig, ax = plt.subplots(3, 2, figsize=(25, 15))\n",
    "\n",
    "for i, subplot in zip(trxn_num, ax.flatten()):\n",
    "    sns.boxplot(trxn_c1[i], ax=subplot)\n",
    "    subplot.set_title(i)\n",
    "\n",
    "plt.tight_layout()\n",
    "plt.show()"
   ]
  },
  {
   "cell_type": "code",
   "execution_count": null,
   "metadata": {},
   "outputs": [],
   "source": []
  },
  {
   "cell_type": "markdown",
   "metadata": {},
   "source": [
    "## **Model building**"
   ]
  },
  {
   "cell_type": "markdown",
   "metadata": {},
   "source": [
    "> Base Model"
   ]
  },
  {
   "cell_type": "markdown",
   "metadata": {},
   "source": [
    "> Stratified Sampling with Random State 3 "
   ]
  },
  {
   "cell_type": "code",
   "execution_count": 271,
   "metadata": {},
   "outputs": [
    {
     "data": {
      "text/html": [
       "<div>\n",
       "<style scoped>\n",
       "    .dataframe tbody tr th:only-of-type {\n",
       "        vertical-align: middle;\n",
       "    }\n",
       "\n",
       "    .dataframe tbody tr th {\n",
       "        vertical-align: top;\n",
       "    }\n",
       "\n",
       "    .dataframe thead th {\n",
       "        text-align: right;\n",
       "    }\n",
       "</style>\n",
       "<table border=\"1\" class=\"dataframe\">\n",
       "  <thead>\n",
       "    <tr style=\"text-align: right;\">\n",
       "      <th></th>\n",
       "      <th>creditLimit</th>\n",
       "      <th>availableMoney</th>\n",
       "      <th>transactionAmount</th>\n",
       "      <th>acqCountry</th>\n",
       "      <th>merchantCountryCode</th>\n",
       "      <th>posEntryMode</th>\n",
       "      <th>posConditionCode</th>\n",
       "      <th>merchantCategoryCode</th>\n",
       "      <th>transactionType</th>\n",
       "      <th>currentBalance</th>\n",
       "      <th>cardPresent</th>\n",
       "      <th>expirationDateKeyInMatch</th>\n",
       "      <th>isFraud</th>\n",
       "      <th>transcation_month</th>\n",
       "      <th>transcation_date</th>\n",
       "      <th>cvv_match</th>\n",
       "      <th>Days_after_Last Address Change</th>\n",
       "    </tr>\n",
       "  </thead>\n",
       "  <tbody>\n",
       "    <tr>\n",
       "      <th>0</th>\n",
       "      <td>-0.280115</td>\n",
       "      <td>0.016866</td>\n",
       "      <td>-0.228233</td>\n",
       "      <td>US</td>\n",
       "      <td>US</td>\n",
       "      <td>2</td>\n",
       "      <td>8</td>\n",
       "      <td>online_retail</td>\n",
       "      <td>PURCHASE</td>\n",
       "      <td>-0.527957</td>\n",
       "      <td>False</td>\n",
       "      <td>False</td>\n",
       "      <td>False</td>\n",
       "      <td>07</td>\n",
       "      <td>07</td>\n",
       "      <td>True</td>\n",
       "      <td>0.002562</td>\n",
       "    </tr>\n",
       "    <tr>\n",
       "      <th>1</th>\n",
       "      <td>-0.709810</td>\n",
       "      <td>-0.512280</td>\n",
       "      <td>-0.770455</td>\n",
       "      <td>US</td>\n",
       "      <td>US</td>\n",
       "      <td>5</td>\n",
       "      <td>8</td>\n",
       "      <td>online_retail</td>\n",
       "      <td>PURCHASE</td>\n",
       "      <td>-0.574534</td>\n",
       "      <td>False</td>\n",
       "      <td>False</td>\n",
       "      <td>False</td>\n",
       "      <td>02</td>\n",
       "      <td>09</td>\n",
       "      <td>True</td>\n",
       "      <td>-0.643815</td>\n",
       "    </tr>\n",
       "    <tr>\n",
       "      <th>2</th>\n",
       "      <td>0.794122</td>\n",
       "      <td>-0.334239</td>\n",
       "      <td>-0.474636</td>\n",
       "      <td>US</td>\n",
       "      <td>US</td>\n",
       "      <td>9</td>\n",
       "      <td>1</td>\n",
       "      <td>online_retail</td>\n",
       "      <td>PURCHASE</td>\n",
       "      <td>1.890663</td>\n",
       "      <td>False</td>\n",
       "      <td>False</td>\n",
       "      <td>False</td>\n",
       "      <td>06</td>\n",
       "      <td>30</td>\n",
       "      <td>True</td>\n",
       "      <td>0.309930</td>\n",
       "    </tr>\n",
       "    <tr>\n",
       "      <th>3</th>\n",
       "      <td>-0.280115</td>\n",
       "      <td>0.140672</td>\n",
       "      <td>0.053980</td>\n",
       "      <td>US</td>\n",
       "      <td>US</td>\n",
       "      <td>5</td>\n",
       "      <td>1</td>\n",
       "      <td>online_retail</td>\n",
       "      <td>PURCHASE</td>\n",
       "      <td>-0.698224</td>\n",
       "      <td>False</td>\n",
       "      <td>False</td>\n",
       "      <td>False</td>\n",
       "      <td>04</td>\n",
       "      <td>02</td>\n",
       "      <td>True</td>\n",
       "      <td>-0.649842</td>\n",
       "    </tr>\n",
       "    <tr>\n",
       "      <th>4</th>\n",
       "      <td>0.794122</td>\n",
       "      <td>0.917492</td>\n",
       "      <td>3.212203</td>\n",
       "      <td>US</td>\n",
       "      <td>US</td>\n",
       "      <td>9</td>\n",
       "      <td>1</td>\n",
       "      <td>online_retail</td>\n",
       "      <td>PURCHASE</td>\n",
       "      <td>0.169183</td>\n",
       "      <td>False</td>\n",
       "      <td>False</td>\n",
       "      <td>False</td>\n",
       "      <td>03</td>\n",
       "      <td>24</td>\n",
       "      <td>True</td>\n",
       "      <td>0.258702</td>\n",
       "    </tr>\n",
       "  </tbody>\n",
       "</table>\n",
       "</div>"
      ],
      "text/plain": [
       "   creditLimit  availableMoney  transactionAmount acqCountry  \\\n",
       "0    -0.280115        0.016866          -0.228233         US   \n",
       "1    -0.709810       -0.512280          -0.770455         US   \n",
       "2     0.794122       -0.334239          -0.474636         US   \n",
       "3    -0.280115        0.140672           0.053980         US   \n",
       "4     0.794122        0.917492           3.212203         US   \n",
       "\n",
       "  merchantCountryCode posEntryMode posConditionCode merchantCategoryCode  \\\n",
       "0                  US            2                8        online_retail   \n",
       "1                  US            5                8        online_retail   \n",
       "2                  US            9                1        online_retail   \n",
       "3                  US            5                1        online_retail   \n",
       "4                  US            9                1        online_retail   \n",
       "\n",
       "  transactionType  currentBalance cardPresent expirationDateKeyInMatch  \\\n",
       "0        PURCHASE       -0.527957       False                    False   \n",
       "1        PURCHASE       -0.574534       False                    False   \n",
       "2        PURCHASE        1.890663       False                    False   \n",
       "3        PURCHASE       -0.698224       False                    False   \n",
       "4        PURCHASE        0.169183       False                    False   \n",
       "\n",
       "  isFraud transcation_month transcation_date cvv_match  \\\n",
       "0   False                07               07      True   \n",
       "1   False                02               09      True   \n",
       "2   False                06               30      True   \n",
       "3   False                04               02      True   \n",
       "4   False                03               24      True   \n",
       "\n",
       "   Days_after_Last Address Change  \n",
       "0                        0.002562  \n",
       "1                       -0.643815  \n",
       "2                        0.309930  \n",
       "3                       -0.649842  \n",
       "4                        0.258702  "
      ]
     },
     "execution_count": 271,
     "metadata": {},
     "output_type": "execute_result"
    }
   ],
   "source": [
    "# RANDOM STATE = 3\n",
    "# Calculate the sample size for each stratum\n",
    "stratum_sizes = trxn_c1['merchantCategoryCode'].value_counts()\n",
    "sample_sizes = (stratum_sizes / stratum_sizes.sum() * stratum_sizes).astype(int)\n",
    "\n",
    "# Initialize an empty DataFrame for the stratified sample\n",
    "trxn_stratified_rs3 = pd.DataFrame()\n",
    "\n",
    "# Perform stratified sampling for each stratum\n",
    "for stratum, sample_size in sample_sizes.iteritems():\n",
    "    stratum_data = trxn_c1[trxn_c1['merchantCategoryCode'] == stratum]\n",
    "    stratum_sample = stratum_data.sample(sample_size, random_state=3)  \n",
    "    trxn_stratified_rs3 = pd.concat([trxn_stratified_rs3, stratum_sample])\n",
    "\n",
    "# Reset the index of the trxn_stratified_rs3 DataFrame\n",
    "trxn_stratified_rs3.reset_index(drop=True, inplace=True)\n",
    "\n",
    "# 'trxn_stratified_rs3' now contains the stratified sample with the desired total sample size\n",
    "trxn_stratified_rs3.head()"
   ]
  },
  {
   "cell_type": "markdown",
   "metadata": {},
   "source": [
    "## Proof Reading if My Sample Target Variable have the Similar Porportion to Target Variable of Sample Population"
   ]
  },
  {
   "cell_type": "code",
   "execution_count": 272,
   "metadata": {},
   "outputs": [
    {
     "data": {
      "text/plain": [
       "False    98.100902\n",
       "True      1.899098\n",
       "Name: isFraud, dtype: float64"
      ]
     },
     "execution_count": 272,
     "metadata": {},
     "output_type": "execute_result"
    }
   ],
   "source": [
    "trxn_stratified_rs3['isFraud'].value_counts(normalize=True)*100"
   ]
  },
  {
   "cell_type": "markdown",
   "metadata": {},
   "source": [
    "> yes it Is Similar to Sample Poppulation"
   ]
  },
  {
   "cell_type": "code",
   "execution_count": 273,
   "metadata": {},
   "outputs": [
    {
     "data": {
      "text/plain": [
       "(97520, 17)"
      ]
     },
     "execution_count": 273,
     "metadata": {},
     "output_type": "execute_result"
    }
   ],
   "source": [
    "trxn_stratified_rs3.shape"
   ]
  },
  {
   "cell_type": "markdown",
   "metadata": {},
   "source": [
    "## Encoding Sample of Random State 3 Before SMOTE"
   ]
  },
  {
   "cell_type": "code",
   "execution_count": 274,
   "metadata": {},
   "outputs": [],
   "source": [
    "LE = LabelEncoder()"
   ]
  },
  {
   "cell_type": "code",
   "execution_count": 275,
   "metadata": {},
   "outputs": [
    {
     "data": {
      "text/html": [
       "<div>\n",
       "<style scoped>\n",
       "    .dataframe tbody tr th:only-of-type {\n",
       "        vertical-align: middle;\n",
       "    }\n",
       "\n",
       "    .dataframe tbody tr th {\n",
       "        vertical-align: top;\n",
       "    }\n",
       "\n",
       "    .dataframe thead th {\n",
       "        text-align: right;\n",
       "    }\n",
       "</style>\n",
       "<table border=\"1\" class=\"dataframe\">\n",
       "  <thead>\n",
       "    <tr style=\"text-align: right;\">\n",
       "      <th></th>\n",
       "      <th>creditLimit</th>\n",
       "      <th>availableMoney</th>\n",
       "      <th>transactionAmount</th>\n",
       "      <th>acqCountry</th>\n",
       "      <th>merchantCountryCode</th>\n",
       "      <th>posEntryMode</th>\n",
       "      <th>posConditionCode</th>\n",
       "      <th>merchantCategoryCode</th>\n",
       "      <th>transactionType</th>\n",
       "      <th>currentBalance</th>\n",
       "      <th>cardPresent</th>\n",
       "      <th>expirationDateKeyInMatch</th>\n",
       "      <th>isFraud</th>\n",
       "      <th>transcation_month</th>\n",
       "      <th>transcation_date</th>\n",
       "      <th>cvv_match</th>\n",
       "      <th>Days_after_Last Address Change</th>\n",
       "    </tr>\n",
       "  </thead>\n",
       "  <tbody>\n",
       "    <tr>\n",
       "      <th>0</th>\n",
       "      <td>-0.280115</td>\n",
       "      <td>0.016866</td>\n",
       "      <td>-0.228233</td>\n",
       "      <td>US</td>\n",
       "      <td>US</td>\n",
       "      <td>2</td>\n",
       "      <td>8</td>\n",
       "      <td>online_retail</td>\n",
       "      <td>PURCHASE</td>\n",
       "      <td>-0.527957</td>\n",
       "      <td>False</td>\n",
       "      <td>False</td>\n",
       "      <td>False</td>\n",
       "      <td>07</td>\n",
       "      <td>07</td>\n",
       "      <td>True</td>\n",
       "      <td>0.002562</td>\n",
       "    </tr>\n",
       "    <tr>\n",
       "      <th>1</th>\n",
       "      <td>-0.709810</td>\n",
       "      <td>-0.512280</td>\n",
       "      <td>-0.770455</td>\n",
       "      <td>US</td>\n",
       "      <td>US</td>\n",
       "      <td>5</td>\n",
       "      <td>8</td>\n",
       "      <td>online_retail</td>\n",
       "      <td>PURCHASE</td>\n",
       "      <td>-0.574534</td>\n",
       "      <td>False</td>\n",
       "      <td>False</td>\n",
       "      <td>False</td>\n",
       "      <td>02</td>\n",
       "      <td>09</td>\n",
       "      <td>True</td>\n",
       "      <td>-0.643815</td>\n",
       "    </tr>\n",
       "    <tr>\n",
       "      <th>2</th>\n",
       "      <td>0.794122</td>\n",
       "      <td>-0.334239</td>\n",
       "      <td>-0.474636</td>\n",
       "      <td>US</td>\n",
       "      <td>US</td>\n",
       "      <td>9</td>\n",
       "      <td>1</td>\n",
       "      <td>online_retail</td>\n",
       "      <td>PURCHASE</td>\n",
       "      <td>1.890663</td>\n",
       "      <td>False</td>\n",
       "      <td>False</td>\n",
       "      <td>False</td>\n",
       "      <td>06</td>\n",
       "      <td>30</td>\n",
       "      <td>True</td>\n",
       "      <td>0.309930</td>\n",
       "    </tr>\n",
       "    <tr>\n",
       "      <th>3</th>\n",
       "      <td>-0.280115</td>\n",
       "      <td>0.140672</td>\n",
       "      <td>0.053980</td>\n",
       "      <td>US</td>\n",
       "      <td>US</td>\n",
       "      <td>5</td>\n",
       "      <td>1</td>\n",
       "      <td>online_retail</td>\n",
       "      <td>PURCHASE</td>\n",
       "      <td>-0.698224</td>\n",
       "      <td>False</td>\n",
       "      <td>False</td>\n",
       "      <td>False</td>\n",
       "      <td>04</td>\n",
       "      <td>02</td>\n",
       "      <td>True</td>\n",
       "      <td>-0.649842</td>\n",
       "    </tr>\n",
       "    <tr>\n",
       "      <th>4</th>\n",
       "      <td>0.794122</td>\n",
       "      <td>0.917492</td>\n",
       "      <td>3.212203</td>\n",
       "      <td>US</td>\n",
       "      <td>US</td>\n",
       "      <td>9</td>\n",
       "      <td>1</td>\n",
       "      <td>online_retail</td>\n",
       "      <td>PURCHASE</td>\n",
       "      <td>0.169183</td>\n",
       "      <td>False</td>\n",
       "      <td>False</td>\n",
       "      <td>False</td>\n",
       "      <td>03</td>\n",
       "      <td>24</td>\n",
       "      <td>True</td>\n",
       "      <td>0.258702</td>\n",
       "    </tr>\n",
       "  </tbody>\n",
       "</table>\n",
       "</div>"
      ],
      "text/plain": [
       "   creditLimit  availableMoney  transactionAmount acqCountry  \\\n",
       "0    -0.280115        0.016866          -0.228233         US   \n",
       "1    -0.709810       -0.512280          -0.770455         US   \n",
       "2     0.794122       -0.334239          -0.474636         US   \n",
       "3    -0.280115        0.140672           0.053980         US   \n",
       "4     0.794122        0.917492           3.212203         US   \n",
       "\n",
       "  merchantCountryCode posEntryMode posConditionCode merchantCategoryCode  \\\n",
       "0                  US            2                8        online_retail   \n",
       "1                  US            5                8        online_retail   \n",
       "2                  US            9                1        online_retail   \n",
       "3                  US            5                1        online_retail   \n",
       "4                  US            9                1        online_retail   \n",
       "\n",
       "  transactionType  currentBalance cardPresent expirationDateKeyInMatch  \\\n",
       "0        PURCHASE       -0.527957       False                    False   \n",
       "1        PURCHASE       -0.574534       False                    False   \n",
       "2        PURCHASE        1.890663       False                    False   \n",
       "3        PURCHASE       -0.698224       False                    False   \n",
       "4        PURCHASE        0.169183       False                    False   \n",
       "\n",
       "  isFraud transcation_month transcation_date cvv_match  \\\n",
       "0   False                07               07      True   \n",
       "1   False                02               09      True   \n",
       "2   False                06               30      True   \n",
       "3   False                04               02      True   \n",
       "4   False                03               24      True   \n",
       "\n",
       "   Days_after_Last Address Change  \n",
       "0                        0.002562  \n",
       "1                       -0.643815  \n",
       "2                        0.309930  \n",
       "3                       -0.649842  \n",
       "4                        0.258702  "
      ]
     },
     "execution_count": 275,
     "metadata": {},
     "output_type": "execute_result"
    }
   ],
   "source": [
    "trxn_stratified_rs3.head()"
   ]
  },
  {
   "cell_type": "code",
   "execution_count": 276,
   "metadata": {},
   "outputs": [],
   "source": [
    "to_encode = ['acqCountry','merchantCategoryCode','merchantCountryCode','transactionType','cardPresent','expirationDateKeyInMatch','isFraud','cvv_match']"
   ]
  },
  {
   "cell_type": "code",
   "execution_count": 277,
   "metadata": {},
   "outputs": [],
   "source": [
    "for i in to_encode:\n",
    "    trxn_stratified_rs3[i] = LE.fit_transform(trxn_stratified_rs3[i])"
   ]
  },
  {
   "cell_type": "code",
   "execution_count": 278,
   "metadata": {},
   "outputs": [
    {
     "data": {
      "text/html": [
       "<div>\n",
       "<style scoped>\n",
       "    .dataframe tbody tr th:only-of-type {\n",
       "        vertical-align: middle;\n",
       "    }\n",
       "\n",
       "    .dataframe tbody tr th {\n",
       "        vertical-align: top;\n",
       "    }\n",
       "\n",
       "    .dataframe thead th {\n",
       "        text-align: right;\n",
       "    }\n",
       "</style>\n",
       "<table border=\"1\" class=\"dataframe\">\n",
       "  <thead>\n",
       "    <tr style=\"text-align: right;\">\n",
       "      <th></th>\n",
       "      <th>acqCountry</th>\n",
       "      <th>merchantCategoryCode</th>\n",
       "      <th>merchantCountryCode</th>\n",
       "      <th>transactionType</th>\n",
       "      <th>cardPresent</th>\n",
       "      <th>expirationDateKeyInMatch</th>\n",
       "      <th>isFraud</th>\n",
       "      <th>cvv_match</th>\n",
       "    </tr>\n",
       "  </thead>\n",
       "  <tbody>\n",
       "    <tr>\n",
       "      <th>0</th>\n",
       "      <td>3</td>\n",
       "      <td>14</td>\n",
       "      <td>3</td>\n",
       "      <td>1</td>\n",
       "      <td>0</td>\n",
       "      <td>0</td>\n",
       "      <td>0</td>\n",
       "      <td>1</td>\n",
       "    </tr>\n",
       "    <tr>\n",
       "      <th>1</th>\n",
       "      <td>3</td>\n",
       "      <td>14</td>\n",
       "      <td>3</td>\n",
       "      <td>1</td>\n",
       "      <td>0</td>\n",
       "      <td>0</td>\n",
       "      <td>0</td>\n",
       "      <td>1</td>\n",
       "    </tr>\n",
       "    <tr>\n",
       "      <th>2</th>\n",
       "      <td>3</td>\n",
       "      <td>14</td>\n",
       "      <td>3</td>\n",
       "      <td>1</td>\n",
       "      <td>0</td>\n",
       "      <td>0</td>\n",
       "      <td>0</td>\n",
       "      <td>1</td>\n",
       "    </tr>\n",
       "    <tr>\n",
       "      <th>3</th>\n",
       "      <td>3</td>\n",
       "      <td>14</td>\n",
       "      <td>3</td>\n",
       "      <td>1</td>\n",
       "      <td>0</td>\n",
       "      <td>0</td>\n",
       "      <td>0</td>\n",
       "      <td>1</td>\n",
       "    </tr>\n",
       "    <tr>\n",
       "      <th>4</th>\n",
       "      <td>3</td>\n",
       "      <td>14</td>\n",
       "      <td>3</td>\n",
       "      <td>1</td>\n",
       "      <td>0</td>\n",
       "      <td>0</td>\n",
       "      <td>0</td>\n",
       "      <td>1</td>\n",
       "    </tr>\n",
       "  </tbody>\n",
       "</table>\n",
       "</div>"
      ],
      "text/plain": [
       "   acqCountry  merchantCategoryCode  merchantCountryCode  transactionType  \\\n",
       "0           3                    14                    3                1   \n",
       "1           3                    14                    3                1   \n",
       "2           3                    14                    3                1   \n",
       "3           3                    14                    3                1   \n",
       "4           3                    14                    3                1   \n",
       "\n",
       "   cardPresent  expirationDateKeyInMatch  isFraud  cvv_match  \n",
       "0            0                         0        0          1  \n",
       "1            0                         0        0          1  \n",
       "2            0                         0        0          1  \n",
       "3            0                         0        0          1  \n",
       "4            0                         0        0          1  "
      ]
     },
     "execution_count": 278,
     "metadata": {},
     "output_type": "execute_result"
    }
   ],
   "source": [
    "trxn_stratified_rs3[['acqCountry','merchantCategoryCode','merchantCountryCode','transactionType','cardPresent','expirationDateKeyInMatch','isFraud','cvv_match']].head()"
   ]
  },
  {
   "cell_type": "markdown",
   "metadata": {},
   "source": [
    "> Proof Reading if all my Variables are encoded"
   ]
  },
  {
   "cell_type": "code",
   "execution_count": 279,
   "metadata": {},
   "outputs": [
    {
     "data": {
      "text/html": [
       "<div>\n",
       "<style scoped>\n",
       "    .dataframe tbody tr th:only-of-type {\n",
       "        vertical-align: middle;\n",
       "    }\n",
       "\n",
       "    .dataframe tbody tr th {\n",
       "        vertical-align: top;\n",
       "    }\n",
       "\n",
       "    .dataframe thead th {\n",
       "        text-align: right;\n",
       "    }\n",
       "</style>\n",
       "<table border=\"1\" class=\"dataframe\">\n",
       "  <thead>\n",
       "    <tr style=\"text-align: right;\">\n",
       "      <th></th>\n",
       "      <th>creditLimit</th>\n",
       "      <th>availableMoney</th>\n",
       "      <th>transactionAmount</th>\n",
       "      <th>acqCountry</th>\n",
       "      <th>merchantCountryCode</th>\n",
       "      <th>posEntryMode</th>\n",
       "      <th>posConditionCode</th>\n",
       "      <th>merchantCategoryCode</th>\n",
       "      <th>transactionType</th>\n",
       "      <th>currentBalance</th>\n",
       "      <th>cardPresent</th>\n",
       "      <th>expirationDateKeyInMatch</th>\n",
       "      <th>isFraud</th>\n",
       "      <th>transcation_month</th>\n",
       "      <th>transcation_date</th>\n",
       "      <th>cvv_match</th>\n",
       "      <th>Days_after_Last Address Change</th>\n",
       "    </tr>\n",
       "  </thead>\n",
       "  <tbody>\n",
       "    <tr>\n",
       "      <th>0</th>\n",
       "      <td>-0.280115</td>\n",
       "      <td>0.016866</td>\n",
       "      <td>-0.228233</td>\n",
       "      <td>3</td>\n",
       "      <td>3</td>\n",
       "      <td>2</td>\n",
       "      <td>8</td>\n",
       "      <td>14</td>\n",
       "      <td>1</td>\n",
       "      <td>-0.527957</td>\n",
       "      <td>0</td>\n",
       "      <td>0</td>\n",
       "      <td>0</td>\n",
       "      <td>07</td>\n",
       "      <td>07</td>\n",
       "      <td>1</td>\n",
       "      <td>0.002562</td>\n",
       "    </tr>\n",
       "    <tr>\n",
       "      <th>1</th>\n",
       "      <td>-0.709810</td>\n",
       "      <td>-0.512280</td>\n",
       "      <td>-0.770455</td>\n",
       "      <td>3</td>\n",
       "      <td>3</td>\n",
       "      <td>5</td>\n",
       "      <td>8</td>\n",
       "      <td>14</td>\n",
       "      <td>1</td>\n",
       "      <td>-0.574534</td>\n",
       "      <td>0</td>\n",
       "      <td>0</td>\n",
       "      <td>0</td>\n",
       "      <td>02</td>\n",
       "      <td>09</td>\n",
       "      <td>1</td>\n",
       "      <td>-0.643815</td>\n",
       "    </tr>\n",
       "    <tr>\n",
       "      <th>2</th>\n",
       "      <td>0.794122</td>\n",
       "      <td>-0.334239</td>\n",
       "      <td>-0.474636</td>\n",
       "      <td>3</td>\n",
       "      <td>3</td>\n",
       "      <td>9</td>\n",
       "      <td>1</td>\n",
       "      <td>14</td>\n",
       "      <td>1</td>\n",
       "      <td>1.890663</td>\n",
       "      <td>0</td>\n",
       "      <td>0</td>\n",
       "      <td>0</td>\n",
       "      <td>06</td>\n",
       "      <td>30</td>\n",
       "      <td>1</td>\n",
       "      <td>0.309930</td>\n",
       "    </tr>\n",
       "    <tr>\n",
       "      <th>3</th>\n",
       "      <td>-0.280115</td>\n",
       "      <td>0.140672</td>\n",
       "      <td>0.053980</td>\n",
       "      <td>3</td>\n",
       "      <td>3</td>\n",
       "      <td>5</td>\n",
       "      <td>1</td>\n",
       "      <td>14</td>\n",
       "      <td>1</td>\n",
       "      <td>-0.698224</td>\n",
       "      <td>0</td>\n",
       "      <td>0</td>\n",
       "      <td>0</td>\n",
       "      <td>04</td>\n",
       "      <td>02</td>\n",
       "      <td>1</td>\n",
       "      <td>-0.649842</td>\n",
       "    </tr>\n",
       "    <tr>\n",
       "      <th>4</th>\n",
       "      <td>0.794122</td>\n",
       "      <td>0.917492</td>\n",
       "      <td>3.212203</td>\n",
       "      <td>3</td>\n",
       "      <td>3</td>\n",
       "      <td>9</td>\n",
       "      <td>1</td>\n",
       "      <td>14</td>\n",
       "      <td>1</td>\n",
       "      <td>0.169183</td>\n",
       "      <td>0</td>\n",
       "      <td>0</td>\n",
       "      <td>0</td>\n",
       "      <td>03</td>\n",
       "      <td>24</td>\n",
       "      <td>1</td>\n",
       "      <td>0.258702</td>\n",
       "    </tr>\n",
       "  </tbody>\n",
       "</table>\n",
       "</div>"
      ],
      "text/plain": [
       "   creditLimit  availableMoney  transactionAmount  acqCountry  \\\n",
       "0    -0.280115        0.016866          -0.228233           3   \n",
       "1    -0.709810       -0.512280          -0.770455           3   \n",
       "2     0.794122       -0.334239          -0.474636           3   \n",
       "3    -0.280115        0.140672           0.053980           3   \n",
       "4     0.794122        0.917492           3.212203           3   \n",
       "\n",
       "   merchantCountryCode posEntryMode posConditionCode  merchantCategoryCode  \\\n",
       "0                    3            2                8                    14   \n",
       "1                    3            5                8                    14   \n",
       "2                    3            9                1                    14   \n",
       "3                    3            5                1                    14   \n",
       "4                    3            9                1                    14   \n",
       "\n",
       "   transactionType  currentBalance  cardPresent  expirationDateKeyInMatch  \\\n",
       "0                1       -0.527957            0                         0   \n",
       "1                1       -0.574534            0                         0   \n",
       "2                1        1.890663            0                         0   \n",
       "3                1       -0.698224            0                         0   \n",
       "4                1        0.169183            0                         0   \n",
       "\n",
       "   isFraud transcation_month transcation_date  cvv_match  \\\n",
       "0        0                07               07          1   \n",
       "1        0                02               09          1   \n",
       "2        0                06               30          1   \n",
       "3        0                04               02          1   \n",
       "4        0                03               24          1   \n",
       "\n",
       "   Days_after_Last Address Change  \n",
       "0                        0.002562  \n",
       "1                       -0.643815  \n",
       "2                        0.309930  \n",
       "3                       -0.649842  \n",
       "4                        0.258702  "
      ]
     },
     "execution_count": 279,
     "metadata": {},
     "output_type": "execute_result"
    }
   ],
   "source": [
    "trxn_stratified_rs3.head()"
   ]
  },
  {
   "cell_type": "markdown",
   "metadata": {},
   "source": [
    "> Since we Converted our Pre Encoded Independent Varaible to Category and Object for our Analysis purposes now we change them back to Numerical Format for Model Building\n",
    "\n",
    "> Also Based on our Analysis and Logical understanding There is no Relationship with **Feature Engineered Varibale(Related to Date,Month,Year)** & **Target Varaible**  we will also remove them from our **Stratified Sample**"
   ]
  },
  {
   "cell_type": "markdown",
   "metadata": {},
   "source": [
    "> Change the Variable to int "
   ]
  },
  {
   "cell_type": "code",
   "execution_count": 280,
   "metadata": {},
   "outputs": [
    {
     "data": {
      "text/html": [
       "<div>\n",
       "<style scoped>\n",
       "    .dataframe tbody tr th:only-of-type {\n",
       "        vertical-align: middle;\n",
       "    }\n",
       "\n",
       "    .dataframe tbody tr th {\n",
       "        vertical-align: top;\n",
       "    }\n",
       "\n",
       "    .dataframe thead th {\n",
       "        text-align: right;\n",
       "    }\n",
       "</style>\n",
       "<table border=\"1\" class=\"dataframe\">\n",
       "  <thead>\n",
       "    <tr style=\"text-align: right;\">\n",
       "      <th></th>\n",
       "      <th>creditLimit</th>\n",
       "      <th>availableMoney</th>\n",
       "      <th>transactionAmount</th>\n",
       "      <th>acqCountry</th>\n",
       "      <th>merchantCountryCode</th>\n",
       "      <th>posEntryMode</th>\n",
       "      <th>posConditionCode</th>\n",
       "      <th>merchantCategoryCode</th>\n",
       "      <th>transactionType</th>\n",
       "      <th>currentBalance</th>\n",
       "      <th>cardPresent</th>\n",
       "      <th>expirationDateKeyInMatch</th>\n",
       "      <th>isFraud</th>\n",
       "      <th>transcation_month</th>\n",
       "      <th>transcation_date</th>\n",
       "      <th>cvv_match</th>\n",
       "      <th>Days_after_Last Address Change</th>\n",
       "    </tr>\n",
       "  </thead>\n",
       "  <tbody>\n",
       "    <tr>\n",
       "      <th>0</th>\n",
       "      <td>-0.280115</td>\n",
       "      <td>0.016866</td>\n",
       "      <td>-0.228233</td>\n",
       "      <td>3</td>\n",
       "      <td>3</td>\n",
       "      <td>2</td>\n",
       "      <td>8</td>\n",
       "      <td>14</td>\n",
       "      <td>1</td>\n",
       "      <td>-0.527957</td>\n",
       "      <td>0</td>\n",
       "      <td>0</td>\n",
       "      <td>0</td>\n",
       "      <td>07</td>\n",
       "      <td>07</td>\n",
       "      <td>1</td>\n",
       "      <td>0.002562</td>\n",
       "    </tr>\n",
       "    <tr>\n",
       "      <th>1</th>\n",
       "      <td>-0.709810</td>\n",
       "      <td>-0.512280</td>\n",
       "      <td>-0.770455</td>\n",
       "      <td>3</td>\n",
       "      <td>3</td>\n",
       "      <td>5</td>\n",
       "      <td>8</td>\n",
       "      <td>14</td>\n",
       "      <td>1</td>\n",
       "      <td>-0.574534</td>\n",
       "      <td>0</td>\n",
       "      <td>0</td>\n",
       "      <td>0</td>\n",
       "      <td>02</td>\n",
       "      <td>09</td>\n",
       "      <td>1</td>\n",
       "      <td>-0.643815</td>\n",
       "    </tr>\n",
       "    <tr>\n",
       "      <th>2</th>\n",
       "      <td>0.794122</td>\n",
       "      <td>-0.334239</td>\n",
       "      <td>-0.474636</td>\n",
       "      <td>3</td>\n",
       "      <td>3</td>\n",
       "      <td>9</td>\n",
       "      <td>1</td>\n",
       "      <td>14</td>\n",
       "      <td>1</td>\n",
       "      <td>1.890663</td>\n",
       "      <td>0</td>\n",
       "      <td>0</td>\n",
       "      <td>0</td>\n",
       "      <td>06</td>\n",
       "      <td>30</td>\n",
       "      <td>1</td>\n",
       "      <td>0.309930</td>\n",
       "    </tr>\n",
       "    <tr>\n",
       "      <th>3</th>\n",
       "      <td>-0.280115</td>\n",
       "      <td>0.140672</td>\n",
       "      <td>0.053980</td>\n",
       "      <td>3</td>\n",
       "      <td>3</td>\n",
       "      <td>5</td>\n",
       "      <td>1</td>\n",
       "      <td>14</td>\n",
       "      <td>1</td>\n",
       "      <td>-0.698224</td>\n",
       "      <td>0</td>\n",
       "      <td>0</td>\n",
       "      <td>0</td>\n",
       "      <td>04</td>\n",
       "      <td>02</td>\n",
       "      <td>1</td>\n",
       "      <td>-0.649842</td>\n",
       "    </tr>\n",
       "    <tr>\n",
       "      <th>4</th>\n",
       "      <td>0.794122</td>\n",
       "      <td>0.917492</td>\n",
       "      <td>3.212203</td>\n",
       "      <td>3</td>\n",
       "      <td>3</td>\n",
       "      <td>9</td>\n",
       "      <td>1</td>\n",
       "      <td>14</td>\n",
       "      <td>1</td>\n",
       "      <td>0.169183</td>\n",
       "      <td>0</td>\n",
       "      <td>0</td>\n",
       "      <td>0</td>\n",
       "      <td>03</td>\n",
       "      <td>24</td>\n",
       "      <td>1</td>\n",
       "      <td>0.258702</td>\n",
       "    </tr>\n",
       "  </tbody>\n",
       "</table>\n",
       "</div>"
      ],
      "text/plain": [
       "   creditLimit  availableMoney  transactionAmount  acqCountry  \\\n",
       "0    -0.280115        0.016866          -0.228233           3   \n",
       "1    -0.709810       -0.512280          -0.770455           3   \n",
       "2     0.794122       -0.334239          -0.474636           3   \n",
       "3    -0.280115        0.140672           0.053980           3   \n",
       "4     0.794122        0.917492           3.212203           3   \n",
       "\n",
       "   merchantCountryCode posEntryMode posConditionCode  merchantCategoryCode  \\\n",
       "0                    3            2                8                    14   \n",
       "1                    3            5                8                    14   \n",
       "2                    3            9                1                    14   \n",
       "3                    3            5                1                    14   \n",
       "4                    3            9                1                    14   \n",
       "\n",
       "   transactionType  currentBalance  cardPresent  expirationDateKeyInMatch  \\\n",
       "0                1       -0.527957            0                         0   \n",
       "1                1       -0.574534            0                         0   \n",
       "2                1        1.890663            0                         0   \n",
       "3                1       -0.698224            0                         0   \n",
       "4                1        0.169183            0                         0   \n",
       "\n",
       "   isFraud transcation_month transcation_date  cvv_match  \\\n",
       "0        0                07               07          1   \n",
       "1        0                02               09          1   \n",
       "2        0                06               30          1   \n",
       "3        0                04               02          1   \n",
       "4        0                03               24          1   \n",
       "\n",
       "   Days_after_Last Address Change  \n",
       "0                        0.002562  \n",
       "1                       -0.643815  \n",
       "2                        0.309930  \n",
       "3                       -0.649842  \n",
       "4                        0.258702  "
      ]
     },
     "execution_count": 280,
     "metadata": {},
     "output_type": "execute_result"
    }
   ],
   "source": [
    "trxn_stratified_rs3.head()"
   ]
  },
  {
   "cell_type": "code",
   "execution_count": 281,
   "metadata": {},
   "outputs": [],
   "source": [
    "dtype_to_change = ['posEntryMode', 'posConditionCode', 'transcation_month', 'transcation_date' ]\n",
    "\n",
    "for i in dtype_to_change:\n",
    "    trxn_stratified_rs3[i] = trxn_stratified_rs3[i].astype('int')"
   ]
  },
  {
   "cell_type": "code",
   "execution_count": 282,
   "metadata": {},
   "outputs": [
    {
     "name": "stdout",
     "output_type": "stream",
     "text": [
      "<class 'pandas.core.frame.DataFrame'>\n",
      "RangeIndex: 97520 entries, 0 to 97519\n",
      "Data columns (total 17 columns):\n",
      " #   Column                          Non-Null Count  Dtype  \n",
      "---  ------                          --------------  -----  \n",
      " 0   creditLimit                     97520 non-null  float64\n",
      " 1   availableMoney                  97520 non-null  float64\n",
      " 2   transactionAmount               97520 non-null  float64\n",
      " 3   acqCountry                      97520 non-null  int32  \n",
      " 4   merchantCountryCode             97520 non-null  int32  \n",
      " 5   posEntryMode                    97520 non-null  int32  \n",
      " 6   posConditionCode                97520 non-null  int32  \n",
      " 7   merchantCategoryCode            97520 non-null  int32  \n",
      " 8   transactionType                 97520 non-null  int32  \n",
      " 9   currentBalance                  97520 non-null  float64\n",
      " 10  cardPresent                     97520 non-null  int32  \n",
      " 11  expirationDateKeyInMatch        97520 non-null  int32  \n",
      " 12  isFraud                         97520 non-null  int32  \n",
      " 13  transcation_month               97520 non-null  int32  \n",
      " 14  transcation_date                97520 non-null  int32  \n",
      " 15  cvv_match                       97520 non-null  int32  \n",
      " 16  Days_after_Last Address Change  97520 non-null  float64\n",
      "dtypes: float64(5), int32(12)\n",
      "memory usage: 8.2 MB\n"
     ]
    }
   ],
   "source": [
    "trxn_stratified_rs3.info()"
   ]
  },
  {
   "cell_type": "markdown",
   "metadata": {},
   "source": [
    "> Variable for Storing the All Model Performance Here on  "
   ]
  },
  {
   "cell_type": "code",
   "execution_count": 283,
   "metadata": {},
   "outputs": [],
   "source": [
    "perf_score = pd.DataFrame(columns=[\"Model\",'test_size',\"Accuracy\",\"Recall\",\"Precision\",\"F1 Score\"] )"
   ]
  },
  {
   "cell_type": "code",
   "execution_count": 284,
   "metadata": {},
   "outputs": [],
   "source": [
    "def per_measures(model,test,pred):\n",
    "    accuracy    =accuracy_score(test,pred)\n",
    "    f1score     =f1_score(test,pred)\n",
    "    recall      =recall_score(test,pred)\n",
    "    precision   =precision_score(test,pred)\n",
    "    # aic         =model.aic\n",
    "    # reliability = cohen_kappa_score(test,pred)\n",
    "    return(accuracy,recall,precision,f1score)"
   ]
  },
  {
   "cell_type": "code",
   "execution_count": 285,
   "metadata": {},
   "outputs": [],
   "source": [
    "def update_performance (name,\n",
    "                        test_size,\n",
    "                        model,\n",
    "                        test,\n",
    "                        pred\n",
    "                           ):\n",
    "\n",
    "    # assign 'comp_perf' as global variable\n",
    "    global perf_score\n",
    "\n",
    "\n",
    "    # append the results to the dataframe 'score_card'\n",
    "    # 'ignore_index = True' do not consider the index labels\n",
    "    perf_score = perf_score.append({'Model'       : name,\n",
    "                                    'test_size'   : test_size,\n",
    "                                    'Accuracy'    : per_measures(model,test,pred)[0],\n",
    "                                    'Recall'      : per_measures(model,test,pred)[1],\n",
    "                                    'Precision'   : per_measures(model,test,pred)[2],\n",
    "                                    'F1 Score'    : per_measures(model,test,pred)[3]\n",
    "                                    # 'AIC'         : per_measures(model,ytest,ypred)[4],\n",
    "                                    # 'Reliability' : per_measures(model,ytest,ypred)[5]\n",
    "\n",
    "                                     },\n",
    "                                   ignore_index = True)"
   ]
  },
  {
   "cell_type": "markdown",
   "metadata": {},
   "source": [
    "##  Before We Jump to Model building We are Now Check for Assumption Logisting Regression "
   ]
  },
  {
   "cell_type": "markdown",
   "metadata": {},
   "source": [
    "> Binary or ordinal outcome variable: The dependent variable in logistic regression must be binary (two outcomes) or ordinal (multiple outcomes with a natural order).\n",
    "\n",
    "> No multicollinearity: The independent variables should not be too highly correlated with each other.\n",
    "\n",
    "> Independence of observations: The observations in the dataset should be independent of each other.\n",
    "\n",
    ">Sufficiently large sample size: The sample size should be large enough to produce reliable results."
   ]
  },
  {
   "cell_type": "code",
   "execution_count": 286,
   "metadata": {},
   "outputs": [
    {
     "data": {
      "image/png": "[encoded data removed]",
      "text/plain": [
       "<Figure size 1000x800 with 2 Axes>"
      ]
     },
     "metadata": {},
     "output_type": "display_data"
    },
    {
     "data": {
      "text/html": [
       "<div>\n",
       "<style scoped>\n",
       "    .dataframe tbody tr th:only-of-type {\n",
       "        vertical-align: middle;\n",
       "    }\n",
       "\n",
       "    .dataframe tbody tr th {\n",
       "        vertical-align: top;\n",
       "    }\n",
       "\n",
       "    .dataframe thead th {\n",
       "        text-align: right;\n",
       "    }\n",
       "</style>\n",
       "<table border=\"1\" class=\"dataframe\">\n",
       "  <thead>\n",
       "    <tr style=\"text-align: right;\">\n",
       "      <th></th>\n",
       "      <th>Assumption</th>\n",
       "      <th>Result</th>\n",
       "    </tr>\n",
       "  </thead>\n",
       "  <tbody>\n",
       "    <tr>\n",
       "      <th>0</th>\n",
       "      <td>Binary Outcome Variable</td>\n",
       "      <td>The outcome variable is binary.</td>\n",
       "    </tr>\n",
       "    <tr>\n",
       "      <th>1</th>\n",
       "      <td>Sufficiently Large Sample Size</td>\n",
       "      <td>Sample size is sufficiently large.</td>\n",
       "    </tr>\n",
       "  </tbody>\n",
       "</table>\n",
       "</div>"
      ],
      "text/plain": [
       "                       Assumption                              Result\n",
       "0         Binary Outcome Variable     The outcome variable is binary.\n",
       "1  Sufficiently Large Sample Size  Sample size is sufficiently large."
      ]
     },
     "execution_count": 286,
     "metadata": {},
     "output_type": "execute_result"
    }
   ],
   "source": [
    "# Define the dependent and independent variables\n",
    "y = trxn_stratified_rs3['isFraud']\n",
    "X = trxn_stratified_rs3.drop('isFraud', axis=1)\n",
    "\n",
    "# Create a logistic regression model\n",
    "model = LogisticRegression()\n",
    "\n",
    "# Fit the model to the data\n",
    "model.fit(X, y)\n",
    "\n",
    "# Check the assumptions of logistic regression\n",
    "assumption_results = []\n",
    "\n",
    "# 1. Binary or ordinal outcome variable\n",
    "if len(y.unique()) != 2:\n",
    "    outcome_var_result = 'The outcome variable is not binary.'\n",
    "else:\n",
    "    outcome_var_result = 'The outcome variable is binary.'\n",
    "    \n",
    "# 3. No multicollinearity (Usually assessed before modeling)\n",
    "correlation_matrix = X.corr()\n",
    "\n",
    "# Visualize the correlation matrix as a heatmap\n",
    "import seaborn as sns\n",
    "import matplotlib.pyplot as plt\n",
    "\n",
    "plt.figure(figsize=(10, 8))\n",
    "sns.heatmap(correlation_matrix, annot=True, cmap='coolwarm', fmt=\".2f\",mask=np.triu(correlation_matrix,+1))\n",
    "plt.title('Correlation Matrix')\n",
    "plt.show()\n",
    "\n",
    "# 5. Sufficiently large sample size (Assess before modeling)\n",
    "sample_size = int(100 * (1 - model.score(X, y)) / (model.score(X, y) * 0.20**2))\n",
    "sample_size_result = 'Sample size is sufficiently large.' if len(y) > sample_size else 'Sample size may not be sufficiently large.'\n",
    "\n",
    "# Store the results in the DataFrame\n",
    "assumption_results.append({\n",
    "    'Assumption': 'Binary Outcome Variable',\n",
    "    'Result': outcome_var_result\n",
    "})\n",
    "\n",
    "\n",
    "assumption_results.append({\n",
    "    'Assumption': 'Sufficiently Large Sample Size',\n",
    "    'Result': sample_size_result\n",
    "})\n",
    "\n",
    "# Create a DataFrame from the results\n",
    "assumption_df = pd.DataFrame(assumption_results)\n",
    "\n",
    "# Display the DataFrame\n",
    "assumption_df\n"
   ]
  },
  {
   "cell_type": "code",
   "execution_count": 287,
   "metadata": {},
   "outputs": [
    {
     "data": {
      "text/plain": [
       "48"
      ]
     },
     "execution_count": 287,
     "metadata": {},
     "output_type": "execute_result"
    }
   ],
   "source": [
    "sample_size"
   ]
  },
  {
   "cell_type": "code",
   "execution_count": 288,
   "metadata": {},
   "outputs": [
    {
     "data": {
      "text/plain": [
       "97520"
      ]
     },
     "execution_count": 288,
     "metadata": {},
     "output_type": "execute_result"
    }
   ],
   "source": [
    "len(y)"
   ]
  },
  {
   "cell_type": "code",
   "execution_count": 289,
   "metadata": {},
   "outputs": [
    {
     "data": {
      "text/plain": [
       "0.019001230516817014"
      ]
     },
     "execution_count": 289,
     "metadata": {},
     "output_type": "execute_result"
    }
   ],
   "source": [
    "1 - model.score(X, y)"
   ]
  },
  {
   "cell_type": "code",
   "execution_count": 290,
   "metadata": {},
   "outputs": [],
   "source": [
    "# assumption_df.to_csv('Assumption Check for Logistic Regression.csv',index=True)"
   ]
  },
  {
   "cell_type": "markdown",
   "metadata": {},
   "source": [
    "## Applying SMOTE only for Training Data for Random State 3"
   ]
  },
  {
   "cell_type": "code",
   "execution_count": 291,
   "metadata": {},
   "outputs": [],
   "source": [
    "# Instantiate SMOTE\n",
    "smote = SMOTE(random_state=3)"
   ]
  },
  {
   "cell_type": "code",
   "execution_count": 292,
   "metadata": {},
   "outputs": [],
   "source": [
    "x3 = trxn_stratified_rs3.drop(columns=['isFraud'],axis=1)\n",
    "y3 = trxn_stratified_rs3['isFraud']"
   ]
  },
  {
   "cell_type": "markdown",
   "metadata": {},
   "source": [
    "> Spliting The Data "
   ]
  },
  {
   "cell_type": "code",
   "execution_count": 293,
   "metadata": {},
   "outputs": [],
   "source": [
    "xtrain3,xtest3,ytrain3,ytest3 = train_test_split(x3,y3, test_size=0.2, random_state=3)"
   ]
  },
  {
   "cell_type": "code",
   "execution_count": 294,
   "metadata": {},
   "outputs": [
    {
     "name": "stdout",
     "output_type": "stream",
     "text": [
      "(78016, 16) (19504, 16) (78016,) (19504,)\n"
     ]
    }
   ],
   "source": [
    "#Shape Of the Split Before Applying SMOTE\n",
    "print(xtrain3.shape,xtest3.shape,ytrain3.shape,ytest3.shape)"
   ]
  },
  {
   "cell_type": "code",
   "execution_count": 295,
   "metadata": {},
   "outputs": [],
   "source": [
    "xtrain3,ytrain3 = smote.fit_resample(xtrain3,ytrain3)"
   ]
  },
  {
   "cell_type": "code",
   "execution_count": 296,
   "metadata": {},
   "outputs": [
    {
     "name": "stdout",
     "output_type": "stream",
     "text": [
      "(153048, 16) (19504, 16) (153048,) (19504,)\n"
     ]
    }
   ],
   "source": [
    "#Shape Of the Split After Applying SMOTE\n",
    "print(xtrain3.shape,xtest3.shape,ytrain3.shape,ytest3.shape)"
   ]
  },
  {
   "cell_type": "markdown",
   "metadata": {},
   "source": [
    "## Base Model Logistic Regression with Random State 3"
   ]
  },
  {
   "cell_type": "code",
   "execution_count": 297,
   "metadata": {},
   "outputs": [],
   "source": [
    "LR3 = LogisticRegression()"
   ]
  },
  {
   "cell_type": "code",
   "execution_count": 298,
   "metadata": {},
   "outputs": [],
   "source": [
    "model_rs3_1 = LR3.fit(xtrain3,ytrain3)"
   ]
  },
  {
   "cell_type": "code",
   "execution_count": 299,
   "metadata": {},
   "outputs": [],
   "source": [
    "ypred_train_rs3_1 = model_rs3_1.predict(xtrain3)\n",
    "ypred_test_rs3_1 = model_rs3_1.predict(xtest3)"
   ]
  },
  {
   "cell_type": "code",
   "execution_count": 300,
   "metadata": {},
   "outputs": [
    {
     "data": {
      "text/html": [
       "<div>\n",
       "<style scoped>\n",
       "    .dataframe tbody tr th:only-of-type {\n",
       "        vertical-align: middle;\n",
       "    }\n",
       "\n",
       "    .dataframe tbody tr th {\n",
       "        vertical-align: top;\n",
       "    }\n",
       "\n",
       "    .dataframe thead th {\n",
       "        text-align: right;\n",
       "    }\n",
       "</style>\n",
       "<table border=\"1\" class=\"dataframe\">\n",
       "  <thead>\n",
       "    <tr style=\"text-align: right;\">\n",
       "      <th></th>\n",
       "      <th>Model</th>\n",
       "      <th>test_size</th>\n",
       "      <th>Accuracy</th>\n",
       "      <th>Recall</th>\n",
       "      <th>Precision</th>\n",
       "      <th>F1 Score</th>\n",
       "    </tr>\n",
       "  </thead>\n",
       "  <tbody>\n",
       "    <tr>\n",
       "      <th>0</th>\n",
       "      <td>Logistic Regression RS 3 Train</td>\n",
       "      <td>0.2</td>\n",
       "      <td>0.653978</td>\n",
       "      <td>0.624458</td>\n",
       "      <td>0.663639</td>\n",
       "      <td>0.643453</td>\n",
       "    </tr>\n",
       "  </tbody>\n",
       "</table>\n",
       "</div>"
      ],
      "text/plain": [
       "                            Model  test_size  Accuracy    Recall  Precision  \\\n",
       "0  Logistic Regression RS 3 Train        0.2  0.653978  0.624458   0.663639   \n",
       "\n",
       "   F1 Score  \n",
       "0  0.643453  "
      ]
     },
     "execution_count": 300,
     "metadata": {},
     "output_type": "execute_result"
    }
   ],
   "source": [
    "update_performance(name='Logistic Regression RS 3 Train',test_size = 0.2,model=LR3,test=ytrain3,pred=ypred_train_rs3_1)\n",
    "\n",
    "perf_score"
   ]
  },
  {
   "cell_type": "code",
   "execution_count": 301,
   "metadata": {},
   "outputs": [
    {
     "data": {
      "text/html": [
       "<div>\n",
       "<style scoped>\n",
       "    .dataframe tbody tr th:only-of-type {\n",
       "        vertical-align: middle;\n",
       "    }\n",
       "\n",
       "    .dataframe tbody tr th {\n",
       "        vertical-align: top;\n",
       "    }\n",
       "\n",
       "    .dataframe thead th {\n",
       "        text-align: right;\n",
       "    }\n",
       "</style>\n",
       "<table border=\"1\" class=\"dataframe\">\n",
       "  <thead>\n",
       "    <tr style=\"text-align: right;\">\n",
       "      <th></th>\n",
       "      <th>Model</th>\n",
       "      <th>test_size</th>\n",
       "      <th>Accuracy</th>\n",
       "      <th>Recall</th>\n",
       "      <th>Precision</th>\n",
       "      <th>F1 Score</th>\n",
       "    </tr>\n",
       "  </thead>\n",
       "  <tbody>\n",
       "    <tr>\n",
       "      <th>0</th>\n",
       "      <td>Logistic Regression RS 3 Train</td>\n",
       "      <td>0.2</td>\n",
       "      <td>0.653978</td>\n",
       "      <td>0.624458</td>\n",
       "      <td>0.663639</td>\n",
       "      <td>0.643453</td>\n",
       "    </tr>\n",
       "    <tr>\n",
       "      <th>1</th>\n",
       "      <td>Logistic Regression RS 3 Test</td>\n",
       "      <td>0.2</td>\n",
       "      <td>0.676118</td>\n",
       "      <td>0.591667</td>\n",
       "      <td>0.033370</td>\n",
       "      <td>0.063177</td>\n",
       "    </tr>\n",
       "  </tbody>\n",
       "</table>\n",
       "</div>"
      ],
      "text/plain": [
       "                            Model  test_size  Accuracy    Recall  Precision  \\\n",
       "0  Logistic Regression RS 3 Train        0.2  0.653978  0.624458   0.663639   \n",
       "1   Logistic Regression RS 3 Test        0.2  0.676118  0.591667   0.033370   \n",
       "\n",
       "   F1 Score  \n",
       "0  0.643453  \n",
       "1  0.063177  "
      ]
     },
     "execution_count": 301,
     "metadata": {},
     "output_type": "execute_result"
    }
   ],
   "source": [
    "update_performance(name='Logistic Regression RS 3 Test',test_size = 0.2 ,model=LR3,test=ytest3,pred=ypred_test_rs3_1)\n",
    "\n",
    "perf_score"
   ]
  },
  {
   "cell_type": "code",
   "execution_count": 303,
   "metadata": {},
   "outputs": [],
   "source": [
    "# Saving all the Performance scores in CSV \n",
    "perf_score.to_csv('Fraud Model Performance Score.csv',index=False)"
   ]
  },
  {
   "cell_type": "code",
   "execution_count": 309,
   "metadata": {},
   "outputs": [
    {
     "name": "stdout",
     "output_type": "stream",
     "text": [
      "(153048, 16)\n",
      "(19504, 16)\n",
      "(153048,)\n",
      "(19504,)\n"
     ]
    }
   ],
   "source": [
    "print(xtrain3.shape)\n",
    "print(xtest3.shape)\n",
    "print(ytrain3.shape)\n",
    "print(ytest3.shape)"
   ]
  },
  {
   "cell_type": "markdown",
   "metadata": {},
   "source": [
    "## DT MODEL, DT WITH SOME PARAMETER, RF MODEL RF MODEL WITH SOME PRAMETER\n",
    "## WITH AND WITHOUT SMOTE"
   ]
  },
  {
   "cell_type": "markdown",
   "metadata": {},
   "source": [
    "## Decision Tree"
   ]
  },
  {
   "cell_type": "code",
   "execution_count": 310,
   "metadata": {},
   "outputs": [],
   "source": [
    "from sklearn.tree import DecisionTreeClassifier\n",
    "from sklearn.model_selection import GridSearchCV"
   ]
  },
  {
   "cell_type": "code",
   "execution_count": 311,
   "metadata": {},
   "outputs": [],
   "source": [
    "decision_tree_classification = DecisionTreeClassifier(criterion = 'gini', random_state = 10)\n",
    "\n",
    "decision_tree = decision_tree_classification.fit(xtrain3, ytrain3)"
   ]
  },
  {
   "cell_type": "code",
   "execution_count": 312,
   "metadata": {},
   "outputs": [
    {
     "name": "stdout",
     "output_type": "stream",
     "text": [
      "              precision    recall  f1-score   support\n",
      "\n",
      "           0       1.00      1.00      1.00     76524\n",
      "           1       1.00      1.00      1.00     76524\n",
      "\n",
      "    accuracy                           1.00    153048\n",
      "   macro avg       1.00      1.00      1.00    153048\n",
      "weighted avg       1.00      1.00      1.00    153048\n",
      "\n"
     ]
    }
   ],
   "source": [
    "train_pred = decision_tree_classification.predict(xtrain3)\n",
    "print(classification_report(ytrain3, train_pred))"
   ]
  },
  {
   "cell_type": "code",
   "execution_count": 313,
   "metadata": {},
   "outputs": [],
   "source": [
    "# Overfitting"
   ]
  },
  {
   "cell_type": "code",
   "execution_count": null,
   "metadata": {},
   "outputs": [],
   "source": []
  },
  {
   "cell_type": "code",
   "execution_count": 314,
   "metadata": {},
   "outputs": [
    {
     "name": "stdout",
     "output_type": "stream",
     "text": [
      "              precision    recall  f1-score   support\n",
      "\n",
      "           0       0.92      0.94      0.93     76524\n",
      "           1       0.94      0.92      0.93     76524\n",
      "\n",
      "    accuracy                           0.93    153048\n",
      "   macro avg       0.93      0.93      0.93    153048\n",
      "weighted avg       0.93      0.93      0.93    153048\n",
      "\n"
     ]
    }
   ],
   "source": [
    "decision_tree_classification = DecisionTreeClassifier(criterion = 'entropy', random_state = 10,min_samples_split = 50,min_samples_leaf = 50)\n",
    "\n",
    "decision_tree = decision_tree_classification.fit(xtrain3, ytrain3)\n",
    "\n",
    "train_pred = decision_tree_classification.predict(xtrain3)\n",
    "print(classification_report(ytrain3, train_pred))"
   ]
  },
  {
   "cell_type": "code",
   "execution_count": 315,
   "metadata": {},
   "outputs": [
    {
     "data": {
      "text/plain": [
       "25"
      ]
     },
     "execution_count": 315,
     "metadata": {},
     "output_type": "execute_result"
    }
   ],
   "source": [
    "decision_tree_classification.get_depth()"
   ]
  },
  {
   "cell_type": "code",
   "execution_count": 316,
   "metadata": {},
   "outputs": [],
   "source": [
    "# Grid Search"
   ]
  },
  {
   "cell_type": "code",
   "execution_count": 317,
   "metadata": {},
   "outputs": [],
   "source": [
    "# tuned_paramaters = [{'criterion': ['entropy', 'gini'], \n",
    "#                      'max_depth': [30,35,40],\n",
    "#                      'min_samples_split': range(50,100,10),\n",
    "#                      'min_samples_leaf': range(10,50,10),\n",
    "#                     }]\n",
    " \n",
    "# decision_tree_classification = DecisionTreeClassifier(random_state = 10)\n",
    "\n",
    "# tree_grid = GridSearchCV(estimator = decision_tree_classification, \n",
    "#                          param_grid = tuned_paramaters, \n",
    "#                          cv = 5)\n",
    "\n",
    "# tree_grid_model = tree_grid.fit(xtrain3, ytrain3)\n",
    "# print('Best parameters for decision tree classifier: ', tree_grid_model.best_params_, '\\n')"
   ]
  },
  {
   "cell_type": "markdown",
   "metadata": {},
   "source": [
    "Best parameters for decision tree classifier:  {'criterion': 'entropy', 'max_depth': 35, 'min_samples_leaf': 10, 'min_samples_split': 50} "
   ]
  },
  {
   "cell_type": "code",
   "execution_count": 318,
   "metadata": {},
   "outputs": [
    {
     "name": "stdout",
     "output_type": "stream",
     "text": [
      "              precision    recall  f1-score   support\n",
      "\n",
      "           0       0.96      0.96      0.96     76524\n",
      "           1       0.96      0.96      0.96     76524\n",
      "\n",
      "    accuracy                           0.96    153048\n",
      "   macro avg       0.96      0.96      0.96    153048\n",
      "weighted avg       0.96      0.96      0.96    153048\n",
      "\n"
     ]
    }
   ],
   "source": [
    "decision_tree_classification = DecisionTreeClassifier(criterion = 'entropy', random_state = 10,max_depth= 39,min_samples_split = 50,min_samples_leaf = 10)\n",
    "\n",
    "decision_tree = decision_tree_classification.fit(xtrain3, ytrain3)\n",
    "\n",
    "train_pred = decision_tree_classification.predict(xtrain3)\n",
    "print(classification_report(ytrain3, train_pred))"
   ]
  },
  {
   "cell_type": "markdown",
   "metadata": {},
   "source": [
    "## Random Forest Model"
   ]
  },
  {
   "cell_type": "code",
   "execution_count": 319,
   "metadata": {},
   "outputs": [],
   "source": [
    "from sklearn.ensemble import RandomForestClassifier"
   ]
  },
  {
   "cell_type": "code",
   "execution_count": 320,
   "metadata": {},
   "outputs": [
    {
     "name": "stdout",
     "output_type": "stream",
     "text": [
      "              precision    recall  f1-score   support\n",
      "\n",
      "           0       0.92      0.92      0.92     76524\n",
      "           1       0.92      0.93      0.92     76524\n",
      "\n",
      "    accuracy                           0.92    153048\n",
      "   macro avg       0.92      0.92      0.92    153048\n",
      "weighted avg       0.92      0.92      0.92    153048\n",
      "\n"
     ]
    }
   ],
   "source": [
    "randomforest_classification = RandomForestClassifier(n_estimators=100,criterion = 'entropy', random_state = 10,min_samples_split = 50,min_samples_leaf = 50)\n",
    "\n",
    "decision_tree = randomforest_classification.fit(xtrain3, ytrain3)\n",
    "\n",
    "train_pred = randomforest_classification.predict(xtrain3)\n",
    "print(classification_report(ytrain3, train_pred))"
   ]
  },
  {
   "cell_type": "code",
   "execution_count": 321,
   "metadata": {},
   "outputs": [
    {
     "name": "stdout",
     "output_type": "stream",
     "text": [
      "              precision    recall  f1-score   support\n",
      "\n",
      "           0       1.00      1.00      1.00     76524\n",
      "           1       1.00      1.00      1.00     76524\n",
      "\n",
      "    accuracy                           1.00    153048\n",
      "   macro avg       1.00      1.00      1.00    153048\n",
      "weighted avg       1.00      1.00      1.00    153048\n",
      "\n"
     ]
    }
   ],
   "source": [
    "# withour parameter\n",
    "randomforest_classification = RandomForestClassifier()\n",
    "decision_tree = randomforest_classification.fit(xtrain3, ytrain3)\n",
    "\n",
    "train_pred = randomforest_classification.predict(xtrain3)\n",
    "print(classification_report(ytrain3, train_pred))"
   ]
  },
  {
   "cell_type": "code",
   "execution_count": null,
   "metadata": {},
   "outputs": [],
   "source": []
  },
  {
   "cell_type": "markdown",
   "metadata": {},
   "source": [
    "# Trying Without SMOTE"
   ]
  },
  {
   "cell_type": "code",
   "execution_count": 322,
   "metadata": {},
   "outputs": [],
   "source": [
    "y = trxn_stratified_rs3['isFraud']\n",
    "X = trxn_stratified_rs3.drop('isFraud', axis=1)\n",
    "xtrain3,xtest3,ytrain3,ytest3 = train_test_split(X,y, test_size=0.2, random_state=3)\n",
    "\n",
    "# did not change the name xtrain3,xtest3,ytrain3,ytest3 so that i could use the previuos codes"
   ]
  },
  {
   "cell_type": "code",
   "execution_count": 323,
   "metadata": {},
   "outputs": [
    {
     "name": "stdout",
     "output_type": "stream",
     "text": [
      "(78016, 16)\n",
      "(19504, 16)\n",
      "(78016,)\n",
      "(19504,)\n"
     ]
    }
   ],
   "source": [
    "print(xtrain3.shape)\n",
    "print(xtest3.shape)\n",
    "print(ytrain3.shape)\n",
    "print(ytest3.shape)"
   ]
  },
  {
   "cell_type": "markdown",
   "metadata": {},
   "source": [
    "## Base Model Logistic Regression with Random State 3"
   ]
  },
  {
   "cell_type": "code",
   "execution_count": 324,
   "metadata": {},
   "outputs": [],
   "source": [
    "LR3 = LogisticRegression()"
   ]
  },
  {
   "cell_type": "code",
   "execution_count": 156,
   "metadata": {},
   "outputs": [],
   "source": [
    "model_rs3_1 = LR3.fit(xtrain3,ytrain3)"
   ]
  },
  {
   "cell_type": "code",
   "execution_count": 157,
   "metadata": {},
   "outputs": [],
   "source": [
    "ypred_train_rs3_1 = model_rs3_1.predict(xtrain3)\n",
    "ypred_test_rs3_1 = model_rs3_1.predict(xtest3)"
   ]
  },
  {
   "cell_type": "code",
   "execution_count": 158,
   "metadata": {},
   "outputs": [
    {
     "data": {
      "text/html": [
       "<div>\n",
       "<style scoped>\n",
       "    .dataframe tbody tr th:only-of-type {\n",
       "        vertical-align: middle;\n",
       "    }\n",
       "\n",
       "    .dataframe tbody tr th {\n",
       "        vertical-align: top;\n",
       "    }\n",
       "\n",
       "    .dataframe thead th {\n",
       "        text-align: right;\n",
       "    }\n",
       "</style>\n",
       "<table border=\"1\" class=\"dataframe\">\n",
       "  <thead>\n",
       "    <tr style=\"text-align: right;\">\n",
       "      <th></th>\n",
       "      <th>Model</th>\n",
       "      <th>test_size</th>\n",
       "      <th>Accuracy</th>\n",
       "      <th>Recall</th>\n",
       "      <th>Precision</th>\n",
       "      <th>F1 Score</th>\n",
       "    </tr>\n",
       "  </thead>\n",
       "  <tbody>\n",
       "    <tr>\n",
       "      <th>0</th>\n",
       "      <td>Logistic Regression RS 3 Train</td>\n",
       "      <td>0.2</td>\n",
       "      <td>0.653978</td>\n",
       "      <td>0.624458</td>\n",
       "      <td>0.663639</td>\n",
       "      <td>0.643453</td>\n",
       "    </tr>\n",
       "    <tr>\n",
       "      <th>1</th>\n",
       "      <td>Logistic Regression RS 3 Test</td>\n",
       "      <td>0.2</td>\n",
       "      <td>0.676118</td>\n",
       "      <td>0.591667</td>\n",
       "      <td>0.033370</td>\n",
       "      <td>0.063177</td>\n",
       "    </tr>\n",
       "    <tr>\n",
       "      <th>2</th>\n",
       "      <td>Logistic Regression RS 3 Test</td>\n",
       "      <td>0.2</td>\n",
       "      <td>0.676118</td>\n",
       "      <td>0.591667</td>\n",
       "      <td>0.033370</td>\n",
       "      <td>0.063177</td>\n",
       "    </tr>\n",
       "    <tr>\n",
       "      <th>3</th>\n",
       "      <td>Logistic Regression RS 3 Train</td>\n",
       "      <td>0.2</td>\n",
       "      <td>0.980863</td>\n",
       "      <td>0.000000</td>\n",
       "      <td>0.000000</td>\n",
       "      <td>0.000000</td>\n",
       "    </tr>\n",
       "  </tbody>\n",
       "</table>\n",
       "</div>"
      ],
      "text/plain": [
       "                            Model  test_size  Accuracy    Recall  Precision  \\\n",
       "0  Logistic Regression RS 3 Train        0.2  0.653978  0.624458   0.663639   \n",
       "1   Logistic Regression RS 3 Test        0.2  0.676118  0.591667   0.033370   \n",
       "2   Logistic Regression RS 3 Test        0.2  0.676118  0.591667   0.033370   \n",
       "3  Logistic Regression RS 3 Train        0.2  0.980863  0.000000   0.000000   \n",
       "\n",
       "   F1 Score  \n",
       "0  0.643453  \n",
       "1  0.063177  \n",
       "2  0.063177  \n",
       "3  0.000000  "
      ]
     },
     "execution_count": 158,
     "metadata": {},
     "output_type": "execute_result"
    }
   ],
   "source": [
    "update_performance(name='Logistic Regression RS 3 Train',test_size = 0.2,model=LR3,test=ytrain3,pred=ypred_train_rs3_1)\n",
    "\n",
    "perf_score"
   ]
  },
  {
   "cell_type": "code",
   "execution_count": 159,
   "metadata": {},
   "outputs": [
    {
     "data": {
      "text/html": [
       "<div>\n",
       "<style scoped>\n",
       "    .dataframe tbody tr th:only-of-type {\n",
       "        vertical-align: middle;\n",
       "    }\n",
       "\n",
       "    .dataframe tbody tr th {\n",
       "        vertical-align: top;\n",
       "    }\n",
       "\n",
       "    .dataframe thead th {\n",
       "        text-align: right;\n",
       "    }\n",
       "</style>\n",
       "<table border=\"1\" class=\"dataframe\">\n",
       "  <thead>\n",
       "    <tr style=\"text-align: right;\">\n",
       "      <th></th>\n",
       "      <th>Model</th>\n",
       "      <th>test_size</th>\n",
       "      <th>Accuracy</th>\n",
       "      <th>Recall</th>\n",
       "      <th>Precision</th>\n",
       "      <th>F1 Score</th>\n",
       "    </tr>\n",
       "  </thead>\n",
       "  <tbody>\n",
       "    <tr>\n",
       "      <th>0</th>\n",
       "      <td>Logistic Regression RS 3 Train</td>\n",
       "      <td>0.2</td>\n",
       "      <td>0.653978</td>\n",
       "      <td>0.624458</td>\n",
       "      <td>0.663639</td>\n",
       "      <td>0.643453</td>\n",
       "    </tr>\n",
       "    <tr>\n",
       "      <th>1</th>\n",
       "      <td>Logistic Regression RS 3 Test</td>\n",
       "      <td>0.2</td>\n",
       "      <td>0.676118</td>\n",
       "      <td>0.591667</td>\n",
       "      <td>0.033370</td>\n",
       "      <td>0.063177</td>\n",
       "    </tr>\n",
       "    <tr>\n",
       "      <th>2</th>\n",
       "      <td>Logistic Regression RS 3 Test</td>\n",
       "      <td>0.2</td>\n",
       "      <td>0.676118</td>\n",
       "      <td>0.591667</td>\n",
       "      <td>0.033370</td>\n",
       "      <td>0.063177</td>\n",
       "    </tr>\n",
       "    <tr>\n",
       "      <th>3</th>\n",
       "      <td>Logistic Regression RS 3 Train</td>\n",
       "      <td>0.2</td>\n",
       "      <td>0.980863</td>\n",
       "      <td>0.000000</td>\n",
       "      <td>0.000000</td>\n",
       "      <td>0.000000</td>\n",
       "    </tr>\n",
       "    <tr>\n",
       "      <th>4</th>\n",
       "      <td>Logistic Regression RS 3 Test</td>\n",
       "      <td>0.2</td>\n",
       "      <td>0.981542</td>\n",
       "      <td>0.000000</td>\n",
       "      <td>0.000000</td>\n",
       "      <td>0.000000</td>\n",
       "    </tr>\n",
       "  </tbody>\n",
       "</table>\n",
       "</div>"
      ],
      "text/plain": [
       "                            Model  test_size  Accuracy    Recall  Precision  \\\n",
       "0  Logistic Regression RS 3 Train        0.2  0.653978  0.624458   0.663639   \n",
       "1   Logistic Regression RS 3 Test        0.2  0.676118  0.591667   0.033370   \n",
       "2   Logistic Regression RS 3 Test        0.2  0.676118  0.591667   0.033370   \n",
       "3  Logistic Regression RS 3 Train        0.2  0.980863  0.000000   0.000000   \n",
       "4   Logistic Regression RS 3 Test        0.2  0.981542  0.000000   0.000000   \n",
       "\n",
       "   F1 Score  \n",
       "0  0.643453  \n",
       "1  0.063177  \n",
       "2  0.063177  \n",
       "3  0.000000  \n",
       "4  0.000000  "
      ]
     },
     "execution_count": 159,
     "metadata": {},
     "output_type": "execute_result"
    }
   ],
   "source": [
    "update_performance(name='Logistic Regression RS 3 Test',test_size = 0.2 ,model=LR3,test=ytest3,pred=ypred_test_rs3_1)\n",
    "\n",
    "perf_score"
   ]
  },
  {
   "cell_type": "code",
   "execution_count": 160,
   "metadata": {},
   "outputs": [],
   "source": [
    "# Saving all the Performance scores in CSV \n",
    "perf_score.to_csv('Fraud Model Performance Score.csv',index=False)"
   ]
  },
  {
   "cell_type": "markdown",
   "metadata": {},
   "source": [
    "## Decision Tree"
   ]
  },
  {
   "cell_type": "code",
   "execution_count": 161,
   "metadata": {},
   "outputs": [],
   "source": [
    "from sklearn.tree import DecisionTreeClassifier\n",
    "from sklearn.model_selection import GridSearchCV"
   ]
  },
  {
   "cell_type": "code",
   "execution_count": 162,
   "metadata": {},
   "outputs": [],
   "source": [
    "decision_tree_classification = DecisionTreeClassifier(criterion = 'gini', random_state = 10)\n",
    "\n",
    "decision_tree = decision_tree_classification.fit(xtrain3, ytrain3)"
   ]
  },
  {
   "cell_type": "code",
   "execution_count": 163,
   "metadata": {},
   "outputs": [
    {
     "name": "stdout",
     "output_type": "stream",
     "text": [
      "              precision    recall  f1-score   support\n",
      "\n",
      "           0       1.00      1.00      1.00     76524\n",
      "           1       1.00      1.00      1.00      1492\n",
      "\n",
      "    accuracy                           1.00     78016\n",
      "   macro avg       1.00      1.00      1.00     78016\n",
      "weighted avg       1.00      1.00      1.00     78016\n",
      "\n"
     ]
    }
   ],
   "source": [
    "train_pred = decision_tree_classification.predict(xtrain3)\n",
    "print(classification_report(ytrain3, train_pred))"
   ]
  },
  {
   "cell_type": "code",
   "execution_count": 164,
   "metadata": {},
   "outputs": [],
   "source": [
    "# Overfitting"
   ]
  },
  {
   "cell_type": "code",
   "execution_count": 166,
   "metadata": {},
   "outputs": [
    {
     "name": "stdout",
     "output_type": "stream",
     "text": [
      "              precision    recall  f1-score   support\n",
      "\n",
      "           0       0.98      1.00      0.99     76524\n",
      "           1       0.00      0.00      0.00      1492\n",
      "\n",
      "    accuracy                           0.98     78016\n",
      "   macro avg       0.49      0.50      0.50     78016\n",
      "weighted avg       0.96      0.98      0.97     78016\n",
      "\n"
     ]
    }
   ],
   "source": [
    "decision_tree_classification = DecisionTreeClassifier(criterion = 'entropy', random_state = 10,min_samples_split = 50,min_samples_leaf = 50)\n",
    "\n",
    "decision_tree = decision_tree_classification.fit(xtrain3, ytrain3)\n",
    "\n",
    "train_pred = decision_tree_classification.predict(xtrain3)\n",
    "print(classification_report(ytrain3, train_pred))"
   ]
  },
  {
   "cell_type": "code",
   "execution_count": 167,
   "metadata": {},
   "outputs": [
    {
     "data": {
      "text/plain": [
       "29"
      ]
     },
     "execution_count": 167,
     "metadata": {},
     "output_type": "execute_result"
    }
   ],
   "source": [
    "decision_tree_classification.get_depth()"
   ]
  },
  {
   "cell_type": "markdown",
   "metadata": {},
   "source": [
    "Best parameters for decision tree classifier:  {'criterion': 'entropy', 'max_depth': 35, 'min_samples_leaf': 10, 'min_samples_split': 50} "
   ]
  },
  {
   "cell_type": "code",
   "execution_count": 170,
   "metadata": {},
   "outputs": [
    {
     "name": "stdout",
     "output_type": "stream",
     "text": [
      "              precision    recall  f1-score   support\n",
      "\n",
      "           0       0.98      1.00      0.99     76524\n",
      "           1       0.00      0.00      0.00      1492\n",
      "\n",
      "    accuracy                           0.98     78016\n",
      "   macro avg       0.49      0.50      0.50     78016\n",
      "weighted avg       0.96      0.98      0.97     78016\n",
      "\n"
     ]
    }
   ],
   "source": [
    "decision_tree_classification = DecisionTreeClassifier(criterion = 'entropy', random_state = 10,max_depth= 39,min_samples_split = 50,min_samples_leaf = 10)\n",
    "\n",
    "decision_tree = decision_tree_classification.fit(xtrain3, ytrain3)\n",
    "\n",
    "train_pred = decision_tree_classification.predict(xtrain3)\n",
    "print(classification_report(ytrain3, train_pred))"
   ]
  },
  {
   "cell_type": "markdown",
   "metadata": {},
   "source": [
    "## Random Forest Model"
   ]
  },
  {
   "cell_type": "code",
   "execution_count": 171,
   "metadata": {},
   "outputs": [],
   "source": [
    "from sklearn.ensemble import RandomForestClassifier"
   ]
  },
  {
   "cell_type": "code",
   "execution_count": 172,
   "metadata": {},
   "outputs": [
    {
     "name": "stdout",
     "output_type": "stream",
     "text": [
      "              precision    recall  f1-score   support\n",
      "\n",
      "           0       0.98      1.00      0.99     76524\n",
      "           1       0.00      0.00      0.00      1492\n",
      "\n",
      "    accuracy                           0.98     78016\n",
      "   macro avg       0.49      0.50      0.50     78016\n",
      "weighted avg       0.96      0.98      0.97     78016\n",
      "\n"
     ]
    }
   ],
   "source": [
    "randomforest_classification = RandomForestClassifier(n_estimators=100,criterion = 'entropy', random_state = 10,min_samples_split = 50,min_samples_leaf = 50)\n",
    "\n",
    "decision_tree = randomforest_classification.fit(xtrain3, ytrain3)\n",
    "\n",
    "train_pred = randomforest_classification.predict(xtrain3)\n",
    "print(classification_report(ytrain3, train_pred))"
   ]
  },
  {
   "cell_type": "code",
   "execution_count": 173,
   "metadata": {},
   "outputs": [
    {
     "name": "stdout",
     "output_type": "stream",
     "text": [
      "              precision    recall  f1-score   support\n",
      "\n",
      "           0       1.00      1.00      1.00     76524\n",
      "           1       1.00      1.00      1.00      1492\n",
      "\n",
      "    accuracy                           1.00     78016\n",
      "   macro avg       1.00      1.00      1.00     78016\n",
      "weighted avg       1.00      1.00      1.00     78016\n",
      "\n"
     ]
    }
   ],
   "source": [
    "# withour parameter\n",
    "randomforest_classification = RandomForestClassifier()\n",
    "decision_tree = randomforest_classification.fit(xtrain3, ytrain3)\n",
    "\n",
    "train_pred = randomforest_classification.predict(xtrain3)\n",
    "print(classification_report(ytrain3, train_pred))"
   ]
  },
  {
   "cell_type": "code",
   "execution_count": null,
   "metadata": {},
   "outputs": [],
   "source": []
  }
 ],
 "metadata": {
  "kernelspec": {
   "display_name": "Python 3 (ipykernel)",
   "language": "python",
   "name": "python3"
  },
  "language_info": {
   "codemirror_mode": {
    "name": "ipython",
    "version": 3
   },
   "file_extension": ".py",
   "mimetype": "text/x-python",
   "name": "python",
   "nbconvert_exporter": "python",
   "pygments_lexer": "ipython3",
   "version": "3.10.9"
  }
 },
 "nbformat": 4,
 "nbformat_minor": 2
}
