{
 "cells": [
  {
   "cell_type": "code",
   "execution_count": 1,
   "id": "b52fa88d",
   "metadata": {},
   "outputs": [],
   "source": [
    "import pandas as pd\n",
    "import numpy as np\n",
    "import seaborn as sns\n",
    "import matplotlib.pyplot as plt\n",
    "\n",
    "import scipy.stats as ss\n",
    "from sklearn.impute import KNNImputer\n",
    "\n",
    "import warnings \n",
    "warnings.filterwarnings(\"ignore\")\n",
    "\n",
    "sns.set_style('darkgrid')"
   ]
  },
  {
   "cell_type": "code",
   "execution_count": 2,
   "id": "980772e3",
   "metadata": {},
   "outputs": [],
   "source": [
    "df = pd.read_csv('Fraud_Real.csv')"
   ]
  },
  {
   "cell_type": "code",
   "execution_count": 4,
   "id": "93e93c2c",
   "metadata": {},
   "outputs": [],
   "source": [
    "num = df.select_dtypes(include = np.number)\n",
    "cat = df"
   ]
  },
  {
   "cell_type": "code",
   "execution_count": 21,
   "id": "9cf4fb06",
   "metadata": {},
   "outputs": [],
   "source": [
    "# num.columns"
   ]
  },
  {
   "cell_type": "code",
   "execution_count": 20,
   "id": "8979cac9",
   "metadata": {},
   "outputs": [],
   "source": [
    "# unique_data = pd.DataFrame(columns = ['Feature', 'nunique'])\n",
    "# for i in df.columns:\n",
    "#     new_row = {'Feature': i, 'nunique': df[i].nunique()}\n",
    "#     unique_data = unique_data.append(new_row, ignore_index=True)\n",
    "# unique_data"
   ]
  },
  {
   "cell_type": "code",
   "execution_count": null,
   "id": "92478d68",
   "metadata": {},
   "outputs": [],
   "source": []
  }
 ],
 "metadata": {
  "kernelspec": {
   "display_name": "Python 3 (ipykernel)",
   "language": "python",
   "name": "python3"
  },
  "language_info": {
   "codemirror_mode": {
    "name": "ipython",
    "version": 3
   },
   "file_extension": ".py",
   "mimetype": "text/x-python",
   "name": "python",
   "nbconvert_exporter": "python",
   "pygments_lexer": "ipython3",
   "version": "3.10.9"
  }
 },
 "nbformat": 4,
 "nbformat_minor": 5
}
