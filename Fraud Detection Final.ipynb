{
 "cells": [
  {
   "cell_type": "markdown",
   "metadata": {
    "id": "o3nrIxHDTGky"
   },
   "source": [
    "## Problem Statment (Objective, Overview of Dataset, Solution & Conclusion)"
   ]
  },
  {
   "cell_type": "markdown",
   "metadata": {
    "id": "An5H1Z6QTGk4"
   },
   "source": [
    "- The primary objective is to detect fraudulent transactions within the dataset accurately. This involves identifying transactions that are not legitimate and distinguishing them from legitimate ones.\n",
    "\n",
    "- The dataset contains transaction data with 786,363 records and 29 features. It includes details such as account and customer identifiers, transaction amounts, merchant information, and indicators of fraudulent     transactions. The \"isFraud\" column indicates whether a transaction is fraudulent, with approximately 1.58% of transactions labeled as fraud. Missing data is observed in several columns, including \"acqCountry,\" \"posEntryMode\" and \"transactionType.\" Additionally, a subset of 12,417 records pertains to fraudulent transactions.\n",
    "  \n",
    "- Most businesses use rule-based systems and supervised learning models for fraud detection. These models require substantial labeled data, which can be expensive and timeconsuming to collect.\n",
    "\n",
    "- This project proposes a semi-supervised approach, utilizing a combination of labeled fraud data and a larger pool of unlabeled data. By leveraging the unlabeled data, the model can learn broader fraud patterns and adapt to new ones efficiently.\n",
    "\n",
    "- By analyzing transaction features and patterns, the model can help financial institutions take proactive measures to prevent fraud and minimize losses."
   ]
  },
  {
   "cell_type": "markdown",
   "metadata": {
    "id": "xNbcOk7HTGk5"
   },
   "source": [
    "> Python Version"
   ]
  },
  {
   "cell_type": "code",
   "execution_count": 50,
   "metadata": {
    "colab": {
     "base_uri": "https://localhost:8080/",
     "height": 0
    },
    "executionInfo": {
     "elapsed": 7,
     "status": "ok",
     "timestamp": 1697353743828,
     "user": {
      "displayName": "Pandu Ranga",
      "userId": "14910295832513512865"
     },
     "user_tz": -330
    },
    "id": "O6WLIeylTGk6",
    "outputId": "72dfad47-8941-4b49-b3fd-9beae4d85c92"
   },
   "outputs": [
    {
     "data": {
      "text/plain": [
       "'3.10.9 | packaged by Anaconda, Inc. | (main, Mar  1 2023, 18:18:15) [MSC v.1916 64 bit (AMD64)]'"
      ]
     },
     "execution_count": 50,
     "metadata": {},
     "output_type": "execute_result"
    }
   ],
   "source": [
    "import sys\n",
    "sys.version"
   ]
  },
  {
   "cell_type": "markdown",
   "metadata": {
    "id": "zQy8XdxpTGk8"
   },
   "source": [
    "## Importing Library"
   ]
  },
  {
   "cell_type": "code",
   "execution_count": 51,
   "metadata": {
    "executionInfo": {
     "elapsed": 3241,
     "status": "ok",
     "timestamp": 1697353747065,
     "user": {
      "displayName": "Pandu Ranga",
      "userId": "14910295832513512865"
     },
     "user_tz": -330
    },
    "id": "M4rbSsd0TGk9"
   },
   "outputs": [],
   "source": [
    "import pandas as pd #Python data Analysis Lib\n",
    "import numpy as np #Numerical Python Lib\n",
    "import scipy  # Scientific & Technical Python Lib\n",
    "import sklearn #Supervisied Machine Learning Python Lib\n",
    "import matplotlib.pyplot as plt #Visulization Python Lib\n",
    "import seaborn as sns  #Visulization Python Lib\n",
    "import re #Regular Expression Lib\n",
    "import matplotlib.ticker as tck\n",
    "import random\n",
    "import statsmodels.api as sma\n",
    "import plotly.express as px"
   ]
  },
  {
   "cell_type": "code",
   "execution_count": 52,
   "metadata": {
    "executionInfo": {
     "elapsed": 1111,
     "status": "ok",
     "timestamp": 1697353748173,
     "user": {
      "displayName": "Pandu Ranga",
      "userId": "14910295832513512865"
     },
     "user_tz": -330
    },
    "id": "XicB40FsTGk9"
   },
   "outputs": [],
   "source": [
    "from scipy import stats\n",
    "from statsmodels.stats.outliers_influence import variance_inflation_factor\n",
    "from wordcloud import WordCloud\n",
    "from IPython.display import Image\n",
    "from sklearn.model_selection import train_test_split\n",
    "from sklearn.linear_model import LogisticRegression\n",
    "import statsmodels.api as sm\n",
    "from sklearn.metrics import confusion_matrix, accuracy_score, classification_report,log_loss,roc_curve, roc_auc_score,cohen_kappa_score,f1_score,recall_score,precision_score\n",
    "from imblearn.over_sampling import SMOTE\n",
    "from sklearn.preprocessing import LabelEncoder, StandardScaler\n",
    "from sklearn.ensemble import RandomForestClassifier\n",
    "from statsmodels.stats.outliers_influence import variance_inflation_factor\n"
   ]
  },
  {
   "cell_type": "code",
   "execution_count": 53,
   "metadata": {
    "executionInfo": {
     "elapsed": 3,
     "status": "ok",
     "timestamp": 1697353748173,
     "user": {
      "displayName": "Pandu Ranga",
      "userId": "14910295832513512865"
     },
     "user_tz": -330
    },
    "id": "xalTcc99TGk-"
   },
   "outputs": [],
   "source": [
    "## Prefixing the Display Asthetics\n",
    "pd.set_option('display.max_columns', None)\n",
    "\n",
    "import warnings\n",
    "warnings.filterwarnings('ignore')\n",
    "\n",
    "plt.rcParams['figure.figsize'] = [15, 10]"
   ]
  },
  {
   "cell_type": "code",
   "execution_count": 54,
   "metadata": {
    "executionInfo": {
     "elapsed": 3,
     "status": "ok",
     "timestamp": 1697353748173,
     "user": {
      "displayName": "Pandu Ranga",
      "userId": "14910295832513512865"
     },
     "user_tz": -330
    },
    "id": "h2OR7_ytv6k-"
   },
   "outputs": [],
   "source": [
    "perf_score = pd.DataFrame(columns=[\"Model\", \"Accuracy\", \"Recall\", \"Precision\", \"F1 Score\", \"TN\", \"FN\", \"FP\", \"TP\"])\n",
    "\n",
    "def per_measures(model, test, pred):\n",
    "    accuracy = accuracy_score(test, pred)\n",
    "    f1score = f1_score(test, pred, average='weighted')  # Set average to 'weighted'\n",
    "    recall = recall_score(test, pred, average='weighted')  # Set average to 'weighted'\n",
    "    precision = precision_score(test, pred, average='weighted')  # Set average to 'weighted'\n",
    "    cm = confusion_matrix(test, pred)\n",
    "\n",
    "    # Extract values from the confusion matrix for each class\n",
    "    tn = cm[0, 0]\n",
    "    fn = cm[1, 0]\n",
    "    fp = cm[0, 1]\n",
    "    tp = cm[1, 1]\n",
    "\n",
    "    return accuracy, recall, precision, f1score, tn, fn, fp, tp\n",
    "\n",
    "def update_performance(name, model, test, pred):\n",
    "    global perf_score\n",
    "    accuracy, recall, precision, f1score, tn, fn, fp, tp = per_measures(model, test, pred)\n",
    "    perf_score = perf_score.append({'Model': name,\n",
    "                                    'Accuracy': accuracy,\n",
    "                                    'Recall': recall,\n",
    "                                    'Precision': precision,\n",
    "                                    'F1 Score': f1score,\n",
    "                                    'TN': tn,\n",
    "                                    'FN': fn,\n",
    "                                    'FP': fp,\n",
    "                                    'TP': tp},\n",
    "                                   ignore_index=True)"
   ]
  },
  {
   "cell_type": "markdown",
   "metadata": {
    "id": "wg-t1jvHTGk_"
   },
   "source": [
    "## Loading the Dataset"
   ]
  },
  {
   "cell_type": "code",
   "execution_count": 55,
   "metadata": {
    "colab": {
     "base_uri": "https://localhost:8080/"
    },
    "executionInfo": {
     "elapsed": 21037,
     "status": "ok",
     "timestamp": 1697353769207,
     "user": {
      "displayName": "Pandu Ranga",
      "userId": "14910295832513512865"
     },
     "user_tz": -330
    },
    "id": "hMf9AufmyMD-",
    "outputId": "be57ceff-0e89-49b7-9c96-b351fefb3f41"
   },
   "outputs": [],
   "source": [
    "# from google.colab import drive\n",
    "# drive.mount('/content/drive')"
   ]
  },
  {
   "cell_type": "code",
   "execution_count": 56,
   "metadata": {
    "executionInfo": {
     "elapsed": 1653,
     "status": "ok",
     "timestamp": 1697353770858,
     "user": {
      "displayName": "Pandu Ranga",
      "userId": "14910295832513512865"
     },
     "user_tz": -330
    },
    "id": "_ZkvEeTWTGk_"
   },
   "outputs": [],
   "source": [
    "#trxn_stratified_rs3 = pd.read_csv(r'trxn_stratified_rs3 (1).csv')"
   ]
  },
  {
   "cell_type": "code",
   "execution_count": 57,
   "metadata": {},
   "outputs": [
    {
     "data": {
      "text/html": [
       "<div>\n",
       "<style scoped>\n",
       "    .dataframe tbody tr th:only-of-type {\n",
       "        vertical-align: middle;\n",
       "    }\n",
       "\n",
       "    .dataframe tbody tr th {\n",
       "        vertical-align: top;\n",
       "    }\n",
       "\n",
       "    .dataframe thead th {\n",
       "        text-align: right;\n",
       "    }\n",
       "</style>\n",
       "<table border=\"1\" class=\"dataframe\">\n",
       "  <thead>\n",
       "    <tr style=\"text-align: right;\">\n",
       "      <th></th>\n",
       "      <th>creditLimit</th>\n",
       "      <th>availableMoney</th>\n",
       "      <th>transactionAmount</th>\n",
       "      <th>acqCountry</th>\n",
       "      <th>merchantCountryCode</th>\n",
       "      <th>posEntryMode</th>\n",
       "      <th>posConditionCode</th>\n",
       "      <th>merchantCategoryCode</th>\n",
       "      <th>transactionType</th>\n",
       "      <th>currentBalance</th>\n",
       "      <th>cardPresent</th>\n",
       "      <th>expirationDateKeyInMatch</th>\n",
       "      <th>isFraud</th>\n",
       "      <th>transcation_month</th>\n",
       "      <th>transcation_date</th>\n",
       "      <th>cvv_match</th>\n",
       "      <th>Days_after_Last Address Change</th>\n",
       "    </tr>\n",
       "  </thead>\n",
       "  <tbody>\n",
       "    <tr>\n",
       "      <th>0</th>\n",
       "      <td>7500</td>\n",
       "      <td>6400.51</td>\n",
       "      <td>103.27</td>\n",
       "      <td>3</td>\n",
       "      <td>3</td>\n",
       "      <td>2</td>\n",
       "      <td>8</td>\n",
       "      <td>14</td>\n",
       "      <td>1</td>\n",
       "      <td>1099.49</td>\n",
       "      <td>0</td>\n",
       "      <td>0</td>\n",
       "      <td>0</td>\n",
       "      <td>7</td>\n",
       "      <td>7</td>\n",
       "      <td>1</td>\n",
       "      <td>450</td>\n",
       "    </tr>\n",
       "    <tr>\n",
       "      <th>1</th>\n",
       "      <td>2500</td>\n",
       "      <td>1701.28</td>\n",
       "      <td>23.17</td>\n",
       "      <td>3</td>\n",
       "      <td>3</td>\n",
       "      <td>5</td>\n",
       "      <td>8</td>\n",
       "      <td>14</td>\n",
       "      <td>1</td>\n",
       "      <td>798.72</td>\n",
       "      <td>0</td>\n",
       "      <td>0</td>\n",
       "      <td>0</td>\n",
       "      <td>2</td>\n",
       "      <td>9</td>\n",
       "      <td>1</td>\n",
       "      <td>21</td>\n",
       "    </tr>\n",
       "    <tr>\n",
       "      <th>2</th>\n",
       "      <td>20000</td>\n",
       "      <td>3282.42</td>\n",
       "      <td>66.87</td>\n",
       "      <td>3</td>\n",
       "      <td>3</td>\n",
       "      <td>9</td>\n",
       "      <td>1</td>\n",
       "      <td>14</td>\n",
       "      <td>1</td>\n",
       "      <td>16717.58</td>\n",
       "      <td>0</td>\n",
       "      <td>0</td>\n",
       "      <td>0</td>\n",
       "      <td>6</td>\n",
       "      <td>30</td>\n",
       "      <td>1</td>\n",
       "      <td>654</td>\n",
       "    </tr>\n",
       "    <tr>\n",
       "      <th>3</th>\n",
       "      <td>7500</td>\n",
       "      <td>7500.00</td>\n",
       "      <td>144.96</td>\n",
       "      <td>3</td>\n",
       "      <td>3</td>\n",
       "      <td>5</td>\n",
       "      <td>1</td>\n",
       "      <td>14</td>\n",
       "      <td>1</td>\n",
       "      <td>0.00</td>\n",
       "      <td>0</td>\n",
       "      <td>0</td>\n",
       "      <td>0</td>\n",
       "      <td>4</td>\n",
       "      <td>2</td>\n",
       "      <td>1</td>\n",
       "      <td>17</td>\n",
       "    </tr>\n",
       "    <tr>\n",
       "      <th>4</th>\n",
       "      <td>20000</td>\n",
       "      <td>14398.77</td>\n",
       "      <td>611.51</td>\n",
       "      <td>3</td>\n",
       "      <td>3</td>\n",
       "      <td>9</td>\n",
       "      <td>1</td>\n",
       "      <td>14</td>\n",
       "      <td>1</td>\n",
       "      <td>5601.23</td>\n",
       "      <td>0</td>\n",
       "      <td>0</td>\n",
       "      <td>0</td>\n",
       "      <td>3</td>\n",
       "      <td>24</td>\n",
       "      <td>1</td>\n",
       "      <td>620</td>\n",
       "    </tr>\n",
       "  </tbody>\n",
       "</table>\n",
       "</div>"
      ],
      "text/plain": [
       "   creditLimit  availableMoney  transactionAmount  acqCountry  \\\n",
       "0         7500         6400.51             103.27           3   \n",
       "1         2500         1701.28              23.17           3   \n",
       "2        20000         3282.42              66.87           3   \n",
       "3         7500         7500.00             144.96           3   \n",
       "4        20000        14398.77             611.51           3   \n",
       "\n",
       "   merchantCountryCode  posEntryMode  posConditionCode  merchantCategoryCode  \\\n",
       "0                    3             2                 8                    14   \n",
       "1                    3             5                 8                    14   \n",
       "2                    3             9                 1                    14   \n",
       "3                    3             5                 1                    14   \n",
       "4                    3             9                 1                    14   \n",
       "\n",
       "   transactionType  currentBalance  cardPresent  expirationDateKeyInMatch  \\\n",
       "0                1         1099.49            0                         0   \n",
       "1                1          798.72            0                         0   \n",
       "2                1        16717.58            0                         0   \n",
       "3                1            0.00            0                         0   \n",
       "4                1         5601.23            0                         0   \n",
       "\n",
       "   isFraud  transcation_month  transcation_date  cvv_match  \\\n",
       "0        0                  7                 7          1   \n",
       "1        0                  2                 9          1   \n",
       "2        0                  6                30          1   \n",
       "3        0                  4                 2          1   \n",
       "4        0                  3                24          1   \n",
       "\n",
       "   Days_after_Last Address Change  \n",
       "0                             450  \n",
       "1                              21  \n",
       "2                             654  \n",
       "3                              17  \n",
       "4                             620  "
      ]
     },
     "execution_count": 57,
     "metadata": {},
     "output_type": "execute_result"
    }
   ],
   "source": [
    "trxn_stratified_rs3 = pd.read_csv(r\"G:\\Great Lakes April 2023\\Capstone Project\\GL Capstone\\Fraud70\\trxn_stratified_rs3.csv\")\n",
    "trxn_stratified_rs3.head()"
   ]
  },
  {
   "cell_type": "markdown",
   "metadata": {
    "id": "Jc93cXA2TGlj"
   },
   "source": [
    "## **Model building**"
   ]
  },
  {
   "cell_type": "markdown",
   "metadata": {
    "id": "28lEmI-JTGlk"
   },
   "source": [
    "> Base Model"
   ]
  },
  {
   "cell_type": "markdown",
   "metadata": {
    "id": "jtYsqfkITGlk"
   },
   "source": [
    "## Proof Reading if My Sample Target Variable have the Similar Porportion to Target Variable of Sample Population"
   ]
  },
  {
   "cell_type": "code",
   "execution_count": 58,
   "metadata": {
    "colab": {
     "base_uri": "https://localhost:8080/"
    },
    "executionInfo": {
     "elapsed": 9,
     "status": "ok",
     "timestamp": 1697353770858,
     "user": {
      "displayName": "Pandu Ranga",
      "userId": "14910295832513512865"
     },
     "user_tz": -330
    },
    "id": "tvy8hOtATGlk",
    "outputId": "c664d2e8-95c7-48da-8447-f5522a1dc61a"
   },
   "outputs": [
    {
     "data": {
      "text/plain": [
       "0    98.100902\n",
       "1     1.899098\n",
       "Name: isFraud, dtype: float64"
      ]
     },
     "execution_count": 58,
     "metadata": {},
     "output_type": "execute_result"
    }
   ],
   "source": [
    "trxn_stratified_rs3['isFraud'].value_counts(normalize=True)*100"
   ]
  },
  {
   "cell_type": "markdown",
   "metadata": {
    "id": "757F3Xs2TGlk"
   },
   "source": [
    "> yes it Is Similar to Sample Poppulation"
   ]
  },
  {
   "cell_type": "code",
   "execution_count": 59,
   "metadata": {
    "colab": {
     "base_uri": "https://localhost:8080/"
    },
    "executionInfo": {
     "elapsed": 7,
     "status": "ok",
     "timestamp": 1697353770859,
     "user": {
      "displayName": "Pandu Ranga",
      "userId": "14910295832513512865"
     },
     "user_tz": -330
    },
    "id": "3ofdhM7WTGll",
    "outputId": "56c7f1e9-52a9-4cde-e317-60caf2f8fdfa"
   },
   "outputs": [
    {
     "data": {
      "text/plain": [
       "(97520, 17)"
      ]
     },
     "execution_count": 59,
     "metadata": {},
     "output_type": "execute_result"
    }
   ],
   "source": [
    "trxn_stratified_rs3.shape"
   ]
  },
  {
   "cell_type": "markdown",
   "metadata": {
    "id": "wa0IKzk9TGll"
   },
   "source": [
    "## Encoding Sample of Random State 3 Before SMOTE"
   ]
  },
  {
   "cell_type": "code",
   "execution_count": 60,
   "metadata": {
    "executionInfo": {
     "elapsed": 7,
     "status": "ok",
     "timestamp": 1697353770859,
     "user": {
      "displayName": "Pandu Ranga",
      "userId": "14910295832513512865"
     },
     "user_tz": -330
    },
    "id": "4R0sJRNRTGll"
   },
   "outputs": [],
   "source": [
    "LE = LabelEncoder()"
   ]
  },
  {
   "cell_type": "code",
   "execution_count": 61,
   "metadata": {
    "colab": {
     "base_uri": "https://localhost:8080/",
     "height": 243
    },
    "executionInfo": {
     "elapsed": 7,
     "status": "ok",
     "timestamp": 1697353770859,
     "user": {
      "displayName": "Pandu Ranga",
      "userId": "14910295832513512865"
     },
     "user_tz": -330
    },
    "id": "7kFNmM4oTGll",
    "outputId": "67caa7aa-9bb1-4563-f6ef-e3785902b178"
   },
   "outputs": [
    {
     "data": {
      "text/html": [
       "<div>\n",
       "<style scoped>\n",
       "    .dataframe tbody tr th:only-of-type {\n",
       "        vertical-align: middle;\n",
       "    }\n",
       "\n",
       "    .dataframe tbody tr th {\n",
       "        vertical-align: top;\n",
       "    }\n",
       "\n",
       "    .dataframe thead th {\n",
       "        text-align: right;\n",
       "    }\n",
       "</style>\n",
       "<table border=\"1\" class=\"dataframe\">\n",
       "  <thead>\n",
       "    <tr style=\"text-align: right;\">\n",
       "      <th></th>\n",
       "      <th>creditLimit</th>\n",
       "      <th>availableMoney</th>\n",
       "      <th>transactionAmount</th>\n",
       "      <th>acqCountry</th>\n",
       "      <th>merchantCountryCode</th>\n",
       "      <th>posEntryMode</th>\n",
       "      <th>posConditionCode</th>\n",
       "      <th>merchantCategoryCode</th>\n",
       "      <th>transactionType</th>\n",
       "      <th>currentBalance</th>\n",
       "      <th>cardPresent</th>\n",
       "      <th>expirationDateKeyInMatch</th>\n",
       "      <th>isFraud</th>\n",
       "      <th>transcation_month</th>\n",
       "      <th>transcation_date</th>\n",
       "      <th>cvv_match</th>\n",
       "      <th>Days_after_Last Address Change</th>\n",
       "    </tr>\n",
       "  </thead>\n",
       "  <tbody>\n",
       "    <tr>\n",
       "      <th>0</th>\n",
       "      <td>7500</td>\n",
       "      <td>6400.51</td>\n",
       "      <td>103.27</td>\n",
       "      <td>3</td>\n",
       "      <td>3</td>\n",
       "      <td>2</td>\n",
       "      <td>8</td>\n",
       "      <td>14</td>\n",
       "      <td>1</td>\n",
       "      <td>1099.49</td>\n",
       "      <td>0</td>\n",
       "      <td>0</td>\n",
       "      <td>0</td>\n",
       "      <td>7</td>\n",
       "      <td>7</td>\n",
       "      <td>1</td>\n",
       "      <td>450</td>\n",
       "    </tr>\n",
       "    <tr>\n",
       "      <th>1</th>\n",
       "      <td>2500</td>\n",
       "      <td>1701.28</td>\n",
       "      <td>23.17</td>\n",
       "      <td>3</td>\n",
       "      <td>3</td>\n",
       "      <td>5</td>\n",
       "      <td>8</td>\n",
       "      <td>14</td>\n",
       "      <td>1</td>\n",
       "      <td>798.72</td>\n",
       "      <td>0</td>\n",
       "      <td>0</td>\n",
       "      <td>0</td>\n",
       "      <td>2</td>\n",
       "      <td>9</td>\n",
       "      <td>1</td>\n",
       "      <td>21</td>\n",
       "    </tr>\n",
       "    <tr>\n",
       "      <th>2</th>\n",
       "      <td>20000</td>\n",
       "      <td>3282.42</td>\n",
       "      <td>66.87</td>\n",
       "      <td>3</td>\n",
       "      <td>3</td>\n",
       "      <td>9</td>\n",
       "      <td>1</td>\n",
       "      <td>14</td>\n",
       "      <td>1</td>\n",
       "      <td>16717.58</td>\n",
       "      <td>0</td>\n",
       "      <td>0</td>\n",
       "      <td>0</td>\n",
       "      <td>6</td>\n",
       "      <td>30</td>\n",
       "      <td>1</td>\n",
       "      <td>654</td>\n",
       "    </tr>\n",
       "    <tr>\n",
       "      <th>3</th>\n",
       "      <td>7500</td>\n",
       "      <td>7500.00</td>\n",
       "      <td>144.96</td>\n",
       "      <td>3</td>\n",
       "      <td>3</td>\n",
       "      <td>5</td>\n",
       "      <td>1</td>\n",
       "      <td>14</td>\n",
       "      <td>1</td>\n",
       "      <td>0.00</td>\n",
       "      <td>0</td>\n",
       "      <td>0</td>\n",
       "      <td>0</td>\n",
       "      <td>4</td>\n",
       "      <td>2</td>\n",
       "      <td>1</td>\n",
       "      <td>17</td>\n",
       "    </tr>\n",
       "    <tr>\n",
       "      <th>4</th>\n",
       "      <td>20000</td>\n",
       "      <td>14398.77</td>\n",
       "      <td>611.51</td>\n",
       "      <td>3</td>\n",
       "      <td>3</td>\n",
       "      <td>9</td>\n",
       "      <td>1</td>\n",
       "      <td>14</td>\n",
       "      <td>1</td>\n",
       "      <td>5601.23</td>\n",
       "      <td>0</td>\n",
       "      <td>0</td>\n",
       "      <td>0</td>\n",
       "      <td>3</td>\n",
       "      <td>24</td>\n",
       "      <td>1</td>\n",
       "      <td>620</td>\n",
       "    </tr>\n",
       "  </tbody>\n",
       "</table>\n",
       "</div>"
      ],
      "text/plain": [
       "   creditLimit  availableMoney  transactionAmount  acqCountry  \\\n",
       "0         7500         6400.51             103.27           3   \n",
       "1         2500         1701.28              23.17           3   \n",
       "2        20000         3282.42              66.87           3   \n",
       "3         7500         7500.00             144.96           3   \n",
       "4        20000        14398.77             611.51           3   \n",
       "\n",
       "   merchantCountryCode  posEntryMode  posConditionCode  merchantCategoryCode  \\\n",
       "0                    3             2                 8                    14   \n",
       "1                    3             5                 8                    14   \n",
       "2                    3             9                 1                    14   \n",
       "3                    3             5                 1                    14   \n",
       "4                    3             9                 1                    14   \n",
       "\n",
       "   transactionType  currentBalance  cardPresent  expirationDateKeyInMatch  \\\n",
       "0                1         1099.49            0                         0   \n",
       "1                1          798.72            0                         0   \n",
       "2                1        16717.58            0                         0   \n",
       "3                1            0.00            0                         0   \n",
       "4                1         5601.23            0                         0   \n",
       "\n",
       "   isFraud  transcation_month  transcation_date  cvv_match  \\\n",
       "0        0                  7                 7          1   \n",
       "1        0                  2                 9          1   \n",
       "2        0                  6                30          1   \n",
       "3        0                  4                 2          1   \n",
       "4        0                  3                24          1   \n",
       "\n",
       "   Days_after_Last Address Change  \n",
       "0                             450  \n",
       "1                              21  \n",
       "2                             654  \n",
       "3                              17  \n",
       "4                             620  "
      ]
     },
     "execution_count": 61,
     "metadata": {},
     "output_type": "execute_result"
    }
   ],
   "source": [
    "trxn_stratified_rs3.head()"
   ]
  },
  {
   "cell_type": "code",
   "execution_count": 62,
   "metadata": {
    "executionInfo": {
     "elapsed": 6,
     "status": "ok",
     "timestamp": 1697353770859,
     "user": {
      "displayName": "Pandu Ranga",
      "userId": "14910295832513512865"
     },
     "user_tz": -330
    },
    "id": "XHT-zdydTGll"
   },
   "outputs": [],
   "source": [
    "to_encode = ['acqCountry','merchantCategoryCode','merchantCountryCode','transactionType','cardPresent','expirationDateKeyInMatch','isFraud','cvv_match']"
   ]
  },
  {
   "cell_type": "code",
   "execution_count": 63,
   "metadata": {
    "executionInfo": {
     "elapsed": 1131,
     "status": "ok",
     "timestamp": 1697353771984,
     "user": {
      "displayName": "Pandu Ranga",
      "userId": "14910295832513512865"
     },
     "user_tz": -330
    },
    "id": "THZrXYQ1TGll"
   },
   "outputs": [],
   "source": [
    "for i in to_encode:\n",
    "    trxn_stratified_rs3[i] = LE.fit_transform(trxn_stratified_rs3[i])"
   ]
  },
  {
   "cell_type": "code",
   "execution_count": 64,
   "metadata": {
    "colab": {
     "base_uri": "https://localhost:8080/",
     "height": 206
    },
    "executionInfo": {
     "elapsed": 12,
     "status": "ok",
     "timestamp": 1697353771984,
     "user": {
      "displayName": "Pandu Ranga",
      "userId": "14910295832513512865"
     },
     "user_tz": -330
    },
    "id": "7xdGsPa8TGll",
    "outputId": "b0a5c80f-249b-46c9-d21f-78133a2887e4"
   },
   "outputs": [
    {
     "data": {
      "text/html": [
       "<div>\n",
       "<style scoped>\n",
       "    .dataframe tbody tr th:only-of-type {\n",
       "        vertical-align: middle;\n",
       "    }\n",
       "\n",
       "    .dataframe tbody tr th {\n",
       "        vertical-align: top;\n",
       "    }\n",
       "\n",
       "    .dataframe thead th {\n",
       "        text-align: right;\n",
       "    }\n",
       "</style>\n",
       "<table border=\"1\" class=\"dataframe\">\n",
       "  <thead>\n",
       "    <tr style=\"text-align: right;\">\n",
       "      <th></th>\n",
       "      <th>acqCountry</th>\n",
       "      <th>merchantCategoryCode</th>\n",
       "      <th>merchantCountryCode</th>\n",
       "      <th>transactionType</th>\n",
       "      <th>cardPresent</th>\n",
       "      <th>expirationDateKeyInMatch</th>\n",
       "      <th>isFraud</th>\n",
       "      <th>cvv_match</th>\n",
       "    </tr>\n",
       "  </thead>\n",
       "  <tbody>\n",
       "    <tr>\n",
       "      <th>0</th>\n",
       "      <td>3</td>\n",
       "      <td>14</td>\n",
       "      <td>3</td>\n",
       "      <td>1</td>\n",
       "      <td>0</td>\n",
       "      <td>0</td>\n",
       "      <td>0</td>\n",
       "      <td>1</td>\n",
       "    </tr>\n",
       "    <tr>\n",
       "      <th>1</th>\n",
       "      <td>3</td>\n",
       "      <td>14</td>\n",
       "      <td>3</td>\n",
       "      <td>1</td>\n",
       "      <td>0</td>\n",
       "      <td>0</td>\n",
       "      <td>0</td>\n",
       "      <td>1</td>\n",
       "    </tr>\n",
       "    <tr>\n",
       "      <th>2</th>\n",
       "      <td>3</td>\n",
       "      <td>14</td>\n",
       "      <td>3</td>\n",
       "      <td>1</td>\n",
       "      <td>0</td>\n",
       "      <td>0</td>\n",
       "      <td>0</td>\n",
       "      <td>1</td>\n",
       "    </tr>\n",
       "    <tr>\n",
       "      <th>3</th>\n",
       "      <td>3</td>\n",
       "      <td>14</td>\n",
       "      <td>3</td>\n",
       "      <td>1</td>\n",
       "      <td>0</td>\n",
       "      <td>0</td>\n",
       "      <td>0</td>\n",
       "      <td>1</td>\n",
       "    </tr>\n",
       "    <tr>\n",
       "      <th>4</th>\n",
       "      <td>3</td>\n",
       "      <td>14</td>\n",
       "      <td>3</td>\n",
       "      <td>1</td>\n",
       "      <td>0</td>\n",
       "      <td>0</td>\n",
       "      <td>0</td>\n",
       "      <td>1</td>\n",
       "    </tr>\n",
       "  </tbody>\n",
       "</table>\n",
       "</div>"
      ],
      "text/plain": [
       "   acqCountry  merchantCategoryCode  merchantCountryCode  transactionType  \\\n",
       "0           3                    14                    3                1   \n",
       "1           3                    14                    3                1   \n",
       "2           3                    14                    3                1   \n",
       "3           3                    14                    3                1   \n",
       "4           3                    14                    3                1   \n",
       "\n",
       "   cardPresent  expirationDateKeyInMatch  isFraud  cvv_match  \n",
       "0            0                         0        0          1  \n",
       "1            0                         0        0          1  \n",
       "2            0                         0        0          1  \n",
       "3            0                         0        0          1  \n",
       "4            0                         0        0          1  "
      ]
     },
     "execution_count": 64,
     "metadata": {},
     "output_type": "execute_result"
    }
   ],
   "source": [
    "trxn_stratified_rs3[['acqCountry','merchantCategoryCode','merchantCountryCode','transactionType','cardPresent','expirationDateKeyInMatch','isFraud','cvv_match']].head()"
   ]
  },
  {
   "cell_type": "code",
   "execution_count": 65,
   "metadata": {
    "executionInfo": {
     "elapsed": 11,
     "status": "ok",
     "timestamp": 1697353771984,
     "user": {
      "displayName": "Pandu Ranga",
      "userId": "14910295832513512865"
     },
     "user_tz": -330
    },
    "id": "2sjDyGpnTGlm"
   },
   "outputs": [],
   "source": [
    "for i in to_encode:\n",
    "    trxn_stratified_rs3[i] = LE.fit_transform(trxn_stratified_rs3[i])"
   ]
  },
  {
   "cell_type": "code",
   "execution_count": 66,
   "metadata": {
    "colab": {
     "base_uri": "https://localhost:8080/",
     "height": 206
    },
    "executionInfo": {
     "elapsed": 11,
     "status": "ok",
     "timestamp": 1697353771984,
     "user": {
      "displayName": "Pandu Ranga",
      "userId": "14910295832513512865"
     },
     "user_tz": -330
    },
    "id": "AIlD-UaATGlm",
    "outputId": "00255890-8254-451a-b5fa-714d72bce1eb"
   },
   "outputs": [
    {
     "data": {
      "text/html": [
       "<div>\n",
       "<style scoped>\n",
       "    .dataframe tbody tr th:only-of-type {\n",
       "        vertical-align: middle;\n",
       "    }\n",
       "\n",
       "    .dataframe tbody tr th {\n",
       "        vertical-align: top;\n",
       "    }\n",
       "\n",
       "    .dataframe thead th {\n",
       "        text-align: right;\n",
       "    }\n",
       "</style>\n",
       "<table border=\"1\" class=\"dataframe\">\n",
       "  <thead>\n",
       "    <tr style=\"text-align: right;\">\n",
       "      <th></th>\n",
       "      <th>acqCountry</th>\n",
       "      <th>merchantCategoryCode</th>\n",
       "      <th>merchantCountryCode</th>\n",
       "      <th>transactionType</th>\n",
       "      <th>cardPresent</th>\n",
       "      <th>expirationDateKeyInMatch</th>\n",
       "      <th>isFraud</th>\n",
       "      <th>cvv_match</th>\n",
       "    </tr>\n",
       "  </thead>\n",
       "  <tbody>\n",
       "    <tr>\n",
       "      <th>0</th>\n",
       "      <td>3</td>\n",
       "      <td>14</td>\n",
       "      <td>3</td>\n",
       "      <td>1</td>\n",
       "      <td>0</td>\n",
       "      <td>0</td>\n",
       "      <td>0</td>\n",
       "      <td>1</td>\n",
       "    </tr>\n",
       "    <tr>\n",
       "      <th>1</th>\n",
       "      <td>3</td>\n",
       "      <td>14</td>\n",
       "      <td>3</td>\n",
       "      <td>1</td>\n",
       "      <td>0</td>\n",
       "      <td>0</td>\n",
       "      <td>0</td>\n",
       "      <td>1</td>\n",
       "    </tr>\n",
       "    <tr>\n",
       "      <th>2</th>\n",
       "      <td>3</td>\n",
       "      <td>14</td>\n",
       "      <td>3</td>\n",
       "      <td>1</td>\n",
       "      <td>0</td>\n",
       "      <td>0</td>\n",
       "      <td>0</td>\n",
       "      <td>1</td>\n",
       "    </tr>\n",
       "    <tr>\n",
       "      <th>3</th>\n",
       "      <td>3</td>\n",
       "      <td>14</td>\n",
       "      <td>3</td>\n",
       "      <td>1</td>\n",
       "      <td>0</td>\n",
       "      <td>0</td>\n",
       "      <td>0</td>\n",
       "      <td>1</td>\n",
       "    </tr>\n",
       "    <tr>\n",
       "      <th>4</th>\n",
       "      <td>3</td>\n",
       "      <td>14</td>\n",
       "      <td>3</td>\n",
       "      <td>1</td>\n",
       "      <td>0</td>\n",
       "      <td>0</td>\n",
       "      <td>0</td>\n",
       "      <td>1</td>\n",
       "    </tr>\n",
       "  </tbody>\n",
       "</table>\n",
       "</div>"
      ],
      "text/plain": [
       "   acqCountry  merchantCategoryCode  merchantCountryCode  transactionType  \\\n",
       "0           3                    14                    3                1   \n",
       "1           3                    14                    3                1   \n",
       "2           3                    14                    3                1   \n",
       "3           3                    14                    3                1   \n",
       "4           3                    14                    3                1   \n",
       "\n",
       "   cardPresent  expirationDateKeyInMatch  isFraud  cvv_match  \n",
       "0            0                         0        0          1  \n",
       "1            0                         0        0          1  \n",
       "2            0                         0        0          1  \n",
       "3            0                         0        0          1  \n",
       "4            0                         0        0          1  "
      ]
     },
     "execution_count": 66,
     "metadata": {},
     "output_type": "execute_result"
    }
   ],
   "source": [
    "trxn_stratified_rs3[['acqCountry','merchantCategoryCode','merchantCountryCode','transactionType','cardPresent','expirationDateKeyInMatch','isFraud','cvv_match']].head()"
   ]
  },
  {
   "cell_type": "markdown",
   "metadata": {
    "id": "uWY9YtZ2TGlm"
   },
   "source": [
    "> Proof Reading if all my Variables are encoded"
   ]
  },
  {
   "cell_type": "code",
   "execution_count": 67,
   "metadata": {
    "colab": {
     "base_uri": "https://localhost:8080/",
     "height": 243
    },
    "executionInfo": {
     "elapsed": 10,
     "status": "ok",
     "timestamp": 1697353771984,
     "user": {
      "displayName": "Pandu Ranga",
      "userId": "14910295832513512865"
     },
     "user_tz": -330
    },
    "id": "MFJJCN-yTGlm",
    "outputId": "65657045-d9f9-4803-a746-0b74fac9150f"
   },
   "outputs": [
    {
     "data": {
      "text/html": [
       "<div>\n",
       "<style scoped>\n",
       "    .dataframe tbody tr th:only-of-type {\n",
       "        vertical-align: middle;\n",
       "    }\n",
       "\n",
       "    .dataframe tbody tr th {\n",
       "        vertical-align: top;\n",
       "    }\n",
       "\n",
       "    .dataframe thead th {\n",
       "        text-align: right;\n",
       "    }\n",
       "</style>\n",
       "<table border=\"1\" class=\"dataframe\">\n",
       "  <thead>\n",
       "    <tr style=\"text-align: right;\">\n",
       "      <th></th>\n",
       "      <th>creditLimit</th>\n",
       "      <th>availableMoney</th>\n",
       "      <th>transactionAmount</th>\n",
       "      <th>acqCountry</th>\n",
       "      <th>merchantCountryCode</th>\n",
       "      <th>posEntryMode</th>\n",
       "      <th>posConditionCode</th>\n",
       "      <th>merchantCategoryCode</th>\n",
       "      <th>transactionType</th>\n",
       "      <th>currentBalance</th>\n",
       "      <th>cardPresent</th>\n",
       "      <th>expirationDateKeyInMatch</th>\n",
       "      <th>isFraud</th>\n",
       "      <th>transcation_month</th>\n",
       "      <th>transcation_date</th>\n",
       "      <th>cvv_match</th>\n",
       "      <th>Days_after_Last Address Change</th>\n",
       "    </tr>\n",
       "  </thead>\n",
       "  <tbody>\n",
       "    <tr>\n",
       "      <th>0</th>\n",
       "      <td>7500</td>\n",
       "      <td>6400.51</td>\n",
       "      <td>103.27</td>\n",
       "      <td>3</td>\n",
       "      <td>3</td>\n",
       "      <td>2</td>\n",
       "      <td>8</td>\n",
       "      <td>14</td>\n",
       "      <td>1</td>\n",
       "      <td>1099.49</td>\n",
       "      <td>0</td>\n",
       "      <td>0</td>\n",
       "      <td>0</td>\n",
       "      <td>7</td>\n",
       "      <td>7</td>\n",
       "      <td>1</td>\n",
       "      <td>450</td>\n",
       "    </tr>\n",
       "    <tr>\n",
       "      <th>1</th>\n",
       "      <td>2500</td>\n",
       "      <td>1701.28</td>\n",
       "      <td>23.17</td>\n",
       "      <td>3</td>\n",
       "      <td>3</td>\n",
       "      <td>5</td>\n",
       "      <td>8</td>\n",
       "      <td>14</td>\n",
       "      <td>1</td>\n",
       "      <td>798.72</td>\n",
       "      <td>0</td>\n",
       "      <td>0</td>\n",
       "      <td>0</td>\n",
       "      <td>2</td>\n",
       "      <td>9</td>\n",
       "      <td>1</td>\n",
       "      <td>21</td>\n",
       "    </tr>\n",
       "    <tr>\n",
       "      <th>2</th>\n",
       "      <td>20000</td>\n",
       "      <td>3282.42</td>\n",
       "      <td>66.87</td>\n",
       "      <td>3</td>\n",
       "      <td>3</td>\n",
       "      <td>9</td>\n",
       "      <td>1</td>\n",
       "      <td>14</td>\n",
       "      <td>1</td>\n",
       "      <td>16717.58</td>\n",
       "      <td>0</td>\n",
       "      <td>0</td>\n",
       "      <td>0</td>\n",
       "      <td>6</td>\n",
       "      <td>30</td>\n",
       "      <td>1</td>\n",
       "      <td>654</td>\n",
       "    </tr>\n",
       "    <tr>\n",
       "      <th>3</th>\n",
       "      <td>7500</td>\n",
       "      <td>7500.00</td>\n",
       "      <td>144.96</td>\n",
       "      <td>3</td>\n",
       "      <td>3</td>\n",
       "      <td>5</td>\n",
       "      <td>1</td>\n",
       "      <td>14</td>\n",
       "      <td>1</td>\n",
       "      <td>0.00</td>\n",
       "      <td>0</td>\n",
       "      <td>0</td>\n",
       "      <td>0</td>\n",
       "      <td>4</td>\n",
       "      <td>2</td>\n",
       "      <td>1</td>\n",
       "      <td>17</td>\n",
       "    </tr>\n",
       "    <tr>\n",
       "      <th>4</th>\n",
       "      <td>20000</td>\n",
       "      <td>14398.77</td>\n",
       "      <td>611.51</td>\n",
       "      <td>3</td>\n",
       "      <td>3</td>\n",
       "      <td>9</td>\n",
       "      <td>1</td>\n",
       "      <td>14</td>\n",
       "      <td>1</td>\n",
       "      <td>5601.23</td>\n",
       "      <td>0</td>\n",
       "      <td>0</td>\n",
       "      <td>0</td>\n",
       "      <td>3</td>\n",
       "      <td>24</td>\n",
       "      <td>1</td>\n",
       "      <td>620</td>\n",
       "    </tr>\n",
       "  </tbody>\n",
       "</table>\n",
       "</div>"
      ],
      "text/plain": [
       "   creditLimit  availableMoney  transactionAmount  acqCountry  \\\n",
       "0         7500         6400.51             103.27           3   \n",
       "1         2500         1701.28              23.17           3   \n",
       "2        20000         3282.42              66.87           3   \n",
       "3         7500         7500.00             144.96           3   \n",
       "4        20000        14398.77             611.51           3   \n",
       "\n",
       "   merchantCountryCode  posEntryMode  posConditionCode  merchantCategoryCode  \\\n",
       "0                    3             2                 8                    14   \n",
       "1                    3             5                 8                    14   \n",
       "2                    3             9                 1                    14   \n",
       "3                    3             5                 1                    14   \n",
       "4                    3             9                 1                    14   \n",
       "\n",
       "   transactionType  currentBalance  cardPresent  expirationDateKeyInMatch  \\\n",
       "0                1         1099.49            0                         0   \n",
       "1                1          798.72            0                         0   \n",
       "2                1        16717.58            0                         0   \n",
       "3                1            0.00            0                         0   \n",
       "4                1         5601.23            0                         0   \n",
       "\n",
       "   isFraud  transcation_month  transcation_date  cvv_match  \\\n",
       "0        0                  7                 7          1   \n",
       "1        0                  2                 9          1   \n",
       "2        0                  6                30          1   \n",
       "3        0                  4                 2          1   \n",
       "4        0                  3                24          1   \n",
       "\n",
       "   Days_after_Last Address Change  \n",
       "0                             450  \n",
       "1                              21  \n",
       "2                             654  \n",
       "3                              17  \n",
       "4                             620  "
      ]
     },
     "execution_count": 67,
     "metadata": {},
     "output_type": "execute_result"
    }
   ],
   "source": [
    "trxn_stratified_rs3.head()"
   ]
  },
  {
   "cell_type": "markdown",
   "metadata": {
    "id": "YiMGI378TGlm"
   },
   "source": [
    "> Since we Converted our Pre Encoded Independent Varaible to Category and Object for our Analysis purposes now we change them back to Numerical Format for Model Building\n",
    "\n",
    "> Also Based on our Analysis and Logical understanding There is no Relationship with **Feature Engineered Varibale(Related to Date,Month,Year)** & **Target Varaible**  we will also remove them from our **Stratified Sample**"
   ]
  },
  {
   "cell_type": "markdown",
   "metadata": {
    "id": "RVODi52nTGlm"
   },
   "source": [
    "> Change the Variable to int"
   ]
  },
  {
   "cell_type": "code",
   "execution_count": 68,
   "metadata": {
    "executionInfo": {
     "elapsed": 10,
     "status": "ok",
     "timestamp": 1697353771985,
     "user": {
      "displayName": "Pandu Ranga",
      "userId": "14910295832513512865"
     },
     "user_tz": -330
    },
    "id": "wUnAS1ImTGlm"
   },
   "outputs": [],
   "source": [
    "to_change = ['posEntryMode', 'posConditionCode', 'transcation_month', 'transcation_date']\n",
    "\n",
    "for i in to_change:\n",
    "  trxn_stratified_rs3[i] = trxn_stratified_rs3[i].astype('int')"
   ]
  },
  {
   "cell_type": "code",
   "execution_count": 69,
   "metadata": {
    "colab": {
     "base_uri": "https://localhost:8080/"
    },
    "executionInfo": {
     "elapsed": 10,
     "status": "ok",
     "timestamp": 1697353771985,
     "user": {
      "displayName": "Pandu Ranga",
      "userId": "14910295832513512865"
     },
     "user_tz": -330
    },
    "id": "d3Lad3osTGln",
    "outputId": "dde9b8b6-2f92-46a6-ab9d-e25742151494"
   },
   "outputs": [
    {
     "name": "stdout",
     "output_type": "stream",
     "text": [
      "<class 'pandas.core.frame.DataFrame'>\n",
      "RangeIndex: 97520 entries, 0 to 97519\n",
      "Data columns (total 17 columns):\n",
      " #   Column                          Non-Null Count  Dtype  \n",
      "---  ------                          --------------  -----  \n",
      " 0   creditLimit                     97520 non-null  int64  \n",
      " 1   availableMoney                  97520 non-null  float64\n",
      " 2   transactionAmount               97520 non-null  float64\n",
      " 3   acqCountry                      97520 non-null  int64  \n",
      " 4   merchantCountryCode             97520 non-null  int64  \n",
      " 5   posEntryMode                    97520 non-null  int32  \n",
      " 6   posConditionCode                97520 non-null  int32  \n",
      " 7   merchantCategoryCode            97520 non-null  int64  \n",
      " 8   transactionType                 97520 non-null  int64  \n",
      " 9   currentBalance                  97520 non-null  float64\n",
      " 10  cardPresent                     97520 non-null  int64  \n",
      " 11  expirationDateKeyInMatch        97520 non-null  int64  \n",
      " 12  isFraud                         97520 non-null  int64  \n",
      " 13  transcation_month               97520 non-null  int32  \n",
      " 14  transcation_date                97520 non-null  int32  \n",
      " 15  cvv_match                       97520 non-null  int64  \n",
      " 16  Days_after_Last Address Change  97520 non-null  int64  \n",
      "dtypes: float64(3), int32(4), int64(10)\n",
      "memory usage: 11.2 MB\n"
     ]
    }
   ],
   "source": [
    "trxn_stratified_rs3.info()"
   ]
  },
  {
   "cell_type": "markdown",
   "metadata": {
    "id": "bo-vhkJrTGln"
   },
   "source": [
    "> Variable for Storing the All Model Performance Here on  "
   ]
  },
  {
   "cell_type": "markdown",
   "metadata": {
    "id": "Hz2CFZkUTGlo"
   },
   "source": [
    "## Applying SMOTE only for Training Data for Random State 3"
   ]
  },
  {
   "cell_type": "code",
   "execution_count": 70,
   "metadata": {
    "executionInfo": {
     "elapsed": 7,
     "status": "ok",
     "timestamp": 1697353771985,
     "user": {
      "displayName": "Pandu Ranga",
      "userId": "14910295832513512865"
     },
     "user_tz": -330
    },
    "id": "cWTiBqGRTGlo"
   },
   "outputs": [],
   "source": [
    "# Instantiate SMOTE\n",
    "smote = SMOTE(random_state=3)"
   ]
  },
  {
   "cell_type": "code",
   "execution_count": 71,
   "metadata": {
    "executionInfo": {
     "elapsed": 4,
     "status": "ok",
     "timestamp": 1697353772550,
     "user": {
      "displayName": "Pandu Ranga",
      "userId": "14910295832513512865"
     },
     "user_tz": -330
    },
    "id": "HZUvMwT2TGlo"
   },
   "outputs": [],
   "source": [
    "x3 = trxn_stratified_rs3.drop(columns=['isFraud'],axis=1)\n",
    "y3 = trxn_stratified_rs3['isFraud']"
   ]
  },
  {
   "cell_type": "markdown",
   "metadata": {
    "id": "ej8269htTGlp"
   },
   "source": [
    "> Spliting The Data"
   ]
  },
  {
   "cell_type": "code",
   "execution_count": 72,
   "metadata": {
    "executionInfo": {
     "elapsed": 4,
     "status": "ok",
     "timestamp": 1697353772551,
     "user": {
      "displayName": "Pandu Ranga",
      "userId": "14910295832513512865"
     },
     "user_tz": -330
    },
    "id": "kKR_CWzeTGlp"
   },
   "outputs": [],
   "source": [
    "xtrain3,xtest3,ytrain3,ytest3 = train_test_split(x3,y3, test_size=0.2, random_state=3)"
   ]
  },
  {
   "cell_type": "code",
   "execution_count": 73,
   "metadata": {
    "colab": {
     "base_uri": "https://localhost:8080/"
    },
    "executionInfo": {
     "elapsed": 4,
     "status": "ok",
     "timestamp": 1697353772551,
     "user": {
      "displayName": "Pandu Ranga",
      "userId": "14910295832513512865"
     },
     "user_tz": -330
    },
    "id": "bi0iP_SgTGlp",
    "outputId": "0c5a43a9-0f66-47db-84a9-f1397d17035a"
   },
   "outputs": [
    {
     "name": "stdout",
     "output_type": "stream",
     "text": [
      "(78016, 16) (19504, 16) (78016,) (19504,)\n"
     ]
    }
   ],
   "source": [
    "#Shape Of the Split Before Applying SMOTE\n",
    "print(xtrain3.shape,xtest3.shape,ytrain3.shape,ytest3.shape)"
   ]
  },
  {
   "cell_type": "code",
   "execution_count": 74,
   "metadata": {
    "executionInfo": {
     "elapsed": 1004,
     "status": "ok",
     "timestamp": 1697353773552,
     "user": {
      "displayName": "Pandu Ranga",
      "userId": "14910295832513512865"
     },
     "user_tz": -330
    },
    "id": "9z_QnPIqTGlq"
   },
   "outputs": [],
   "source": [
    "xtrain3,ytrain3 = smote.fit_resample(xtrain3,ytrain3)"
   ]
  },
  {
   "cell_type": "code",
   "execution_count": 75,
   "metadata": {
    "colab": {
     "base_uri": "https://localhost:8080/"
    },
    "executionInfo": {
     "elapsed": 3,
     "status": "ok",
     "timestamp": 1697353773552,
     "user": {
      "displayName": "Pandu Ranga",
      "userId": "14910295832513512865"
     },
     "user_tz": -330
    },
    "id": "qTtWJpHvTGlq",
    "outputId": "c0e9144e-6ebe-4d82-9314-8229eaeb0a9d"
   },
   "outputs": [
    {
     "name": "stdout",
     "output_type": "stream",
     "text": [
      "(153048, 16) (19504, 16) (153048,) (19504,)\n"
     ]
    }
   ],
   "source": [
    "#Shape Of the Split After Applying SMOTE\n",
    "print(xtrain3.shape,xtest3.shape,ytrain3.shape,ytest3.shape)"
   ]
  },
  {
   "cell_type": "code",
   "execution_count": 76,
   "metadata": {
    "executionInfo": {
     "elapsed": 682,
     "status": "ok",
     "timestamp": 1697353774232,
     "user": {
      "displayName": "Pandu Ranga",
      "userId": "14910295832513512865"
     },
     "user_tz": -330
    },
    "id": "UWerjxs1YAgw"
   },
   "outputs": [],
   "source": [
    "dtype_to_change = ['posEntryMode', 'posConditionCode', 'transcation_month', 'transcation_date','acqCountry','merchantCategoryCode','merchantCountryCode','transactionType','cardPresent','expirationDateKeyInMatch','cvv_match' ]\n",
    "\n",
    "for i in dtype_to_change:\n",
    "    xtrain3[i] = xtrain3[i].astype('category')\n",
    "    xtest3[i] = xtest3[i].astype('category')"
   ]
  },
  {
   "cell_type": "code",
   "execution_count": 77,
   "metadata": {
    "colab": {
     "base_uri": "https://localhost:8080/",
     "height": 243
    },
    "executionInfo": {
     "elapsed": 9,
     "status": "ok",
     "timestamp": 1697353774232,
     "user": {
      "displayName": "Pandu Ranga",
      "userId": "14910295832513512865"
     },
     "user_tz": -330
    },
    "id": "QZzxUWSdtNwO",
    "outputId": "f55321c3-1026-4343-8679-c80d95d0ce6d"
   },
   "outputs": [
    {
     "data": {
      "text/html": [
       "<div>\n",
       "<style scoped>\n",
       "    .dataframe tbody tr th:only-of-type {\n",
       "        vertical-align: middle;\n",
       "    }\n",
       "\n",
       "    .dataframe tbody tr th {\n",
       "        vertical-align: top;\n",
       "    }\n",
       "\n",
       "    .dataframe thead th {\n",
       "        text-align: right;\n",
       "    }\n",
       "</style>\n",
       "<table border=\"1\" class=\"dataframe\">\n",
       "  <thead>\n",
       "    <tr style=\"text-align: right;\">\n",
       "      <th></th>\n",
       "      <th>creditLimit</th>\n",
       "      <th>availableMoney</th>\n",
       "      <th>transactionAmount</th>\n",
       "      <th>acqCountry</th>\n",
       "      <th>merchantCountryCode</th>\n",
       "      <th>posEntryMode</th>\n",
       "      <th>posConditionCode</th>\n",
       "      <th>merchantCategoryCode</th>\n",
       "      <th>transactionType</th>\n",
       "      <th>currentBalance</th>\n",
       "      <th>cardPresent</th>\n",
       "      <th>expirationDateKeyInMatch</th>\n",
       "      <th>transcation_month</th>\n",
       "      <th>transcation_date</th>\n",
       "      <th>cvv_match</th>\n",
       "      <th>Days_after_Last Address Change</th>\n",
       "    </tr>\n",
       "  </thead>\n",
       "  <tbody>\n",
       "    <tr>\n",
       "      <th>0</th>\n",
       "      <td>500</td>\n",
       "      <td>54.53</td>\n",
       "      <td>367.03</td>\n",
       "      <td>3</td>\n",
       "      <td>3</td>\n",
       "      <td>9</td>\n",
       "      <td>1</td>\n",
       "      <td>14</td>\n",
       "      <td>1</td>\n",
       "      <td>445.47</td>\n",
       "      <td>0</td>\n",
       "      <td>0</td>\n",
       "      <td>2</td>\n",
       "      <td>14</td>\n",
       "      <td>1</td>\n",
       "      <td>813</td>\n",
       "    </tr>\n",
       "    <tr>\n",
       "      <th>1</th>\n",
       "      <td>15000</td>\n",
       "      <td>3280.01</td>\n",
       "      <td>122.95</td>\n",
       "      <td>3</td>\n",
       "      <td>3</td>\n",
       "      <td>5</td>\n",
       "      <td>1</td>\n",
       "      <td>3</td>\n",
       "      <td>1</td>\n",
       "      <td>11719.99</td>\n",
       "      <td>1</td>\n",
       "      <td>0</td>\n",
       "      <td>4</td>\n",
       "      <td>28</td>\n",
       "      <td>1</td>\n",
       "      <td>44</td>\n",
       "    </tr>\n",
       "    <tr>\n",
       "      <th>2</th>\n",
       "      <td>5000</td>\n",
       "      <td>4405.83</td>\n",
       "      <td>13.83</td>\n",
       "      <td>3</td>\n",
       "      <td>3</td>\n",
       "      <td>90</td>\n",
       "      <td>1</td>\n",
       "      <td>14</td>\n",
       "      <td>1</td>\n",
       "      <td>594.17</td>\n",
       "      <td>0</td>\n",
       "      <td>0</td>\n",
       "      <td>12</td>\n",
       "      <td>11</td>\n",
       "      <td>1</td>\n",
       "      <td>1805</td>\n",
       "    </tr>\n",
       "    <tr>\n",
       "      <th>3</th>\n",
       "      <td>250</td>\n",
       "      <td>250.00</td>\n",
       "      <td>0.00</td>\n",
       "      <td>3</td>\n",
       "      <td>3</td>\n",
       "      <td>5</td>\n",
       "      <td>1</td>\n",
       "      <td>17</td>\n",
       "      <td>0</td>\n",
       "      <td>0.00</td>\n",
       "      <td>0</td>\n",
       "      <td>0</td>\n",
       "      <td>2</td>\n",
       "      <td>27</td>\n",
       "      <td>1</td>\n",
       "      <td>34</td>\n",
       "    </tr>\n",
       "    <tr>\n",
       "      <th>4</th>\n",
       "      <td>7500</td>\n",
       "      <td>5314.00</td>\n",
       "      <td>0.00</td>\n",
       "      <td>3</td>\n",
       "      <td>3</td>\n",
       "      <td>2</td>\n",
       "      <td>8</td>\n",
       "      <td>4</td>\n",
       "      <td>0</td>\n",
       "      <td>2186.00</td>\n",
       "      <td>0</td>\n",
       "      <td>0</td>\n",
       "      <td>3</td>\n",
       "      <td>21</td>\n",
       "      <td>1</td>\n",
       "      <td>3</td>\n",
       "    </tr>\n",
       "  </tbody>\n",
       "</table>\n",
       "</div>"
      ],
      "text/plain": [
       "   creditLimit  availableMoney  transactionAmount acqCountry  \\\n",
       "0          500           54.53             367.03          3   \n",
       "1        15000         3280.01             122.95          3   \n",
       "2         5000         4405.83              13.83          3   \n",
       "3          250          250.00               0.00          3   \n",
       "4         7500         5314.00               0.00          3   \n",
       "\n",
       "  merchantCountryCode posEntryMode posConditionCode merchantCategoryCode  \\\n",
       "0                   3            9                1                   14   \n",
       "1                   3            5                1                    3   \n",
       "2                   3           90                1                   14   \n",
       "3                   3            5                1                   17   \n",
       "4                   3            2                8                    4   \n",
       "\n",
       "  transactionType  currentBalance cardPresent expirationDateKeyInMatch  \\\n",
       "0               1          445.47           0                        0   \n",
       "1               1        11719.99           1                        0   \n",
       "2               1          594.17           0                        0   \n",
       "3               0            0.00           0                        0   \n",
       "4               0         2186.00           0                        0   \n",
       "\n",
       "  transcation_month transcation_date cvv_match  Days_after_Last Address Change  \n",
       "0                 2               14         1                             813  \n",
       "1                 4               28         1                              44  \n",
       "2                12               11         1                            1805  \n",
       "3                 2               27         1                              34  \n",
       "4                 3               21         1                               3  "
      ]
     },
     "execution_count": 77,
     "metadata": {},
     "output_type": "execute_result"
    }
   ],
   "source": [
    "xtrain3.head()"
   ]
  },
  {
   "cell_type": "code",
   "execution_count": 78,
   "metadata": {
    "colab": {
     "base_uri": "https://localhost:8080/",
     "height": 243
    },
    "executionInfo": {
     "elapsed": 8,
     "status": "ok",
     "timestamp": 1697353774233,
     "user": {
      "displayName": "Pandu Ranga",
      "userId": "14910295832513512865"
     },
     "user_tz": -330
    },
    "id": "7XrTzaQdtRTt",
    "outputId": "c57b0bad-345b-4628-f7cf-7a4dd08a6090"
   },
   "outputs": [
    {
     "data": {
      "text/html": [
       "<div>\n",
       "<style scoped>\n",
       "    .dataframe tbody tr th:only-of-type {\n",
       "        vertical-align: middle;\n",
       "    }\n",
       "\n",
       "    .dataframe tbody tr th {\n",
       "        vertical-align: top;\n",
       "    }\n",
       "\n",
       "    .dataframe thead th {\n",
       "        text-align: right;\n",
       "    }\n",
       "</style>\n",
       "<table border=\"1\" class=\"dataframe\">\n",
       "  <thead>\n",
       "    <tr style=\"text-align: right;\">\n",
       "      <th></th>\n",
       "      <th>creditLimit</th>\n",
       "      <th>availableMoney</th>\n",
       "      <th>transactionAmount</th>\n",
       "      <th>acqCountry</th>\n",
       "      <th>merchantCountryCode</th>\n",
       "      <th>posEntryMode</th>\n",
       "      <th>posConditionCode</th>\n",
       "      <th>merchantCategoryCode</th>\n",
       "      <th>transactionType</th>\n",
       "      <th>currentBalance</th>\n",
       "      <th>cardPresent</th>\n",
       "      <th>expirationDateKeyInMatch</th>\n",
       "      <th>transcation_month</th>\n",
       "      <th>transcation_date</th>\n",
       "      <th>cvv_match</th>\n",
       "      <th>Days_after_Last Address Change</th>\n",
       "    </tr>\n",
       "  </thead>\n",
       "  <tbody>\n",
       "    <tr>\n",
       "      <th>35732</th>\n",
       "      <td>5000</td>\n",
       "      <td>759.82</td>\n",
       "      <td>5.48</td>\n",
       "      <td>3</td>\n",
       "      <td>3</td>\n",
       "      <td>5</td>\n",
       "      <td>1</td>\n",
       "      <td>14</td>\n",
       "      <td>1</td>\n",
       "      <td>4240.18</td>\n",
       "      <td>0</td>\n",
       "      <td>0</td>\n",
       "      <td>11</td>\n",
       "      <td>17</td>\n",
       "      <td>1</td>\n",
       "      <td>275</td>\n",
       "    </tr>\n",
       "    <tr>\n",
       "      <th>73534</th>\n",
       "      <td>5000</td>\n",
       "      <td>831.58</td>\n",
       "      <td>384.35</td>\n",
       "      <td>3</td>\n",
       "      <td>3</td>\n",
       "      <td>2</td>\n",
       "      <td>8</td>\n",
       "      <td>3</td>\n",
       "      <td>1</td>\n",
       "      <td>4168.42</td>\n",
       "      <td>1</td>\n",
       "      <td>0</td>\n",
       "      <td>6</td>\n",
       "      <td>25</td>\n",
       "      <td>1</td>\n",
       "      <td>247</td>\n",
       "    </tr>\n",
       "    <tr>\n",
       "      <th>87688</th>\n",
       "      <td>5000</td>\n",
       "      <td>2155.17</td>\n",
       "      <td>0.00</td>\n",
       "      <td>3</td>\n",
       "      <td>3</td>\n",
       "      <td>9</td>\n",
       "      <td>8</td>\n",
       "      <td>13</td>\n",
       "      <td>0</td>\n",
       "      <td>2844.83</td>\n",
       "      <td>0</td>\n",
       "      <td>0</td>\n",
       "      <td>10</td>\n",
       "      <td>19</td>\n",
       "      <td>1</td>\n",
       "      <td>436</td>\n",
       "    </tr>\n",
       "    <tr>\n",
       "      <th>27625</th>\n",
       "      <td>5000</td>\n",
       "      <td>1591.01</td>\n",
       "      <td>24.70</td>\n",
       "      <td>3</td>\n",
       "      <td>3</td>\n",
       "      <td>9</td>\n",
       "      <td>1</td>\n",
       "      <td>14</td>\n",
       "      <td>1</td>\n",
       "      <td>3408.99</td>\n",
       "      <td>0</td>\n",
       "      <td>0</td>\n",
       "      <td>4</td>\n",
       "      <td>22</td>\n",
       "      <td>1</td>\n",
       "      <td>-104</td>\n",
       "    </tr>\n",
       "    <tr>\n",
       "      <th>59295</th>\n",
       "      <td>2500</td>\n",
       "      <td>1059.89</td>\n",
       "      <td>135.77</td>\n",
       "      <td>3</td>\n",
       "      <td>3</td>\n",
       "      <td>5</td>\n",
       "      <td>1</td>\n",
       "      <td>4</td>\n",
       "      <td>1</td>\n",
       "      <td>1440.11</td>\n",
       "      <td>1</td>\n",
       "      <td>0</td>\n",
       "      <td>6</td>\n",
       "      <td>15</td>\n",
       "      <td>1</td>\n",
       "      <td>-21</td>\n",
       "    </tr>\n",
       "  </tbody>\n",
       "</table>\n",
       "</div>"
      ],
      "text/plain": [
       "       creditLimit  availableMoney  transactionAmount acqCountry  \\\n",
       "35732         5000          759.82               5.48          3   \n",
       "73534         5000          831.58             384.35          3   \n",
       "87688         5000         2155.17               0.00          3   \n",
       "27625         5000         1591.01              24.70          3   \n",
       "59295         2500         1059.89             135.77          3   \n",
       "\n",
       "      merchantCountryCode posEntryMode posConditionCode merchantCategoryCode  \\\n",
       "35732                   3            5                1                   14   \n",
       "73534                   3            2                8                    3   \n",
       "87688                   3            9                8                   13   \n",
       "27625                   3            9                1                   14   \n",
       "59295                   3            5                1                    4   \n",
       "\n",
       "      transactionType  currentBalance cardPresent expirationDateKeyInMatch  \\\n",
       "35732               1         4240.18           0                        0   \n",
       "73534               1         4168.42           1                        0   \n",
       "87688               0         2844.83           0                        0   \n",
       "27625               1         3408.99           0                        0   \n",
       "59295               1         1440.11           1                        0   \n",
       "\n",
       "      transcation_month transcation_date cvv_match  \\\n",
       "35732                11               17         1   \n",
       "73534                 6               25         1   \n",
       "87688                10               19         1   \n",
       "27625                 4               22         1   \n",
       "59295                 6               15         1   \n",
       "\n",
       "       Days_after_Last Address Change  \n",
       "35732                             275  \n",
       "73534                             247  \n",
       "87688                             436  \n",
       "27625                            -104  \n",
       "59295                             -21  "
      ]
     },
     "execution_count": 78,
     "metadata": {},
     "output_type": "execute_result"
    }
   ],
   "source": [
    "xtest3.head()"
   ]
  },
  {
   "cell_type": "code",
   "execution_count": 79,
   "metadata": {
    "colab": {
     "base_uri": "https://localhost:8080/"
    },
    "executionInfo": {
     "elapsed": 7,
     "status": "ok",
     "timestamp": 1697353774233,
     "user": {
      "displayName": "Pandu Ranga",
      "userId": "14910295832513512865"
     },
     "user_tz": -330
    },
    "id": "P_vsPB1YtWuu",
    "outputId": "97a596b5-9088-4165-fe62-5b3276af07ac"
   },
   "outputs": [
    {
     "name": "stdout",
     "output_type": "stream",
     "text": [
      "<class 'pandas.core.frame.DataFrame'>\n",
      "RangeIndex: 153048 entries, 0 to 153047\n",
      "Data columns (total 16 columns):\n",
      " #   Column                          Non-Null Count   Dtype   \n",
      "---  ------                          --------------   -----   \n",
      " 0   creditLimit                     153048 non-null  int64   \n",
      " 1   availableMoney                  153048 non-null  float64 \n",
      " 2   transactionAmount               153048 non-null  float64 \n",
      " 3   acqCountry                      153048 non-null  category\n",
      " 4   merchantCountryCode             153048 non-null  category\n",
      " 5   posEntryMode                    153048 non-null  category\n",
      " 6   posConditionCode                153048 non-null  category\n",
      " 7   merchantCategoryCode            153048 non-null  category\n",
      " 8   transactionType                 153048 non-null  category\n",
      " 9   currentBalance                  153048 non-null  float64 \n",
      " 10  cardPresent                     153048 non-null  category\n",
      " 11  expirationDateKeyInMatch        153048 non-null  category\n",
      " 12  transcation_month               153048 non-null  category\n",
      " 13  transcation_date                153048 non-null  category\n",
      " 14  cvv_match                       153048 non-null  category\n",
      " 15  Days_after_Last Address Change  153048 non-null  int64   \n",
      "dtypes: category(11), float64(3), int64(2)\n",
      "memory usage: 7.5 MB\n",
      "<class 'pandas.core.frame.DataFrame'>\n",
      "Int64Index: 19504 entries, 35732 to 26366\n",
      "Data columns (total 16 columns):\n",
      " #   Column                          Non-Null Count  Dtype   \n",
      "---  ------                          --------------  -----   \n",
      " 0   creditLimit                     19504 non-null  int64   \n",
      " 1   availableMoney                  19504 non-null  float64 \n",
      " 2   transactionAmount               19504 non-null  float64 \n",
      " 3   acqCountry                      19504 non-null  category\n",
      " 4   merchantCountryCode             19504 non-null  category\n",
      " 5   posEntryMode                    19504 non-null  category\n",
      " 6   posConditionCode                19504 non-null  category\n",
      " 7   merchantCategoryCode            19504 non-null  category\n",
      " 8   transactionType                 19504 non-null  category\n",
      " 9   currentBalance                  19504 non-null  float64 \n",
      " 10  cardPresent                     19504 non-null  category\n",
      " 11  expirationDateKeyInMatch        19504 non-null  category\n",
      " 12  transcation_month               19504 non-null  category\n",
      " 13  transcation_date                19504 non-null  category\n",
      " 14  cvv_match                       19504 non-null  category\n",
      " 15  Days_after_Last Address Change  19504 non-null  int64   \n",
      "dtypes: category(11), float64(3), int64(2)\n",
      "memory usage: 1.1 MB\n"
     ]
    },
    {
     "data": {
      "text/plain": [
       "(None, None)"
      ]
     },
     "execution_count": 79,
     "metadata": {},
     "output_type": "execute_result"
    }
   ],
   "source": [
    "xtrain3.info(),xtest3.info()"
   ]
  },
  {
   "cell_type": "markdown",
   "metadata": {
    "id": "Hob1BzxaTGlq"
   },
   "source": [
    "## Base Model Logistic Regression with Random State 3"
   ]
  },
  {
   "cell_type": "code",
   "execution_count": 80,
   "metadata": {
    "executionInfo": {
     "elapsed": 6,
     "status": "ok",
     "timestamp": 1697353774233,
     "user": {
      "displayName": "Pandu Ranga",
      "userId": "14910295832513512865"
     },
     "user_tz": -330
    },
    "id": "4hr1tjNHTGlq"
   },
   "outputs": [],
   "source": [
    "LR3 = LogisticRegression()"
   ]
  },
  {
   "cell_type": "code",
   "execution_count": 81,
   "metadata": {
    "executionInfo": {
     "elapsed": 5740,
     "status": "ok",
     "timestamp": 1697353779967,
     "user": {
      "displayName": "Pandu Ranga",
      "userId": "14910295832513512865"
     },
     "user_tz": -330
    },
    "id": "rPlKbH-MTGlq"
   },
   "outputs": [],
   "source": [
    "model_rs3_1 = LR3.fit(xtrain3,ytrain3)"
   ]
  },
  {
   "cell_type": "code",
   "execution_count": 82,
   "metadata": {
    "executionInfo": {
     "elapsed": 10,
     "status": "ok",
     "timestamp": 1697353779967,
     "user": {
      "displayName": "Pandu Ranga",
      "userId": "14910295832513512865"
     },
     "user_tz": -330
    },
    "id": "1zlP1OvXTGlq"
   },
   "outputs": [],
   "source": [
    "ypred_train_rs3_1 = model_rs3_1.predict(xtrain3)\n",
    "ypred_test_rs3_1 = model_rs3_1.predict(xtest3)"
   ]
  },
  {
   "cell_type": "code",
   "execution_count": 83,
   "metadata": {
    "colab": {
     "base_uri": "https://localhost:8080/",
     "height": 81
    },
    "executionInfo": {
     "elapsed": 1596,
     "status": "ok",
     "timestamp": 1697353781554,
     "user": {
      "displayName": "Pandu Ranga",
      "userId": "14910295832513512865"
     },
     "user_tz": -330
    },
    "id": "g8kGZsavTGlr",
    "outputId": "ee15a08c-06ff-4385-855d-5decd4482dab"
   },
   "outputs": [
    {
     "data": {
      "text/html": [
       "<div>\n",
       "<style scoped>\n",
       "    .dataframe tbody tr th:only-of-type {\n",
       "        vertical-align: middle;\n",
       "    }\n",
       "\n",
       "    .dataframe tbody tr th {\n",
       "        vertical-align: top;\n",
       "    }\n",
       "\n",
       "    .dataframe thead th {\n",
       "        text-align: right;\n",
       "    }\n",
       "</style>\n",
       "<table border=\"1\" class=\"dataframe\">\n",
       "  <thead>\n",
       "    <tr style=\"text-align: right;\">\n",
       "      <th></th>\n",
       "      <th>Model</th>\n",
       "      <th>Accuracy</th>\n",
       "      <th>Recall</th>\n",
       "      <th>Precision</th>\n",
       "      <th>F1 Score</th>\n",
       "      <th>TN</th>\n",
       "      <th>FN</th>\n",
       "      <th>FP</th>\n",
       "      <th>TP</th>\n",
       "    </tr>\n",
       "  </thead>\n",
       "  <tbody>\n",
       "    <tr>\n",
       "      <th>0</th>\n",
       "      <td>Logistic Regression RS 3 Train</td>\n",
       "      <td>0.615349</td>\n",
       "      <td>0.615349</td>\n",
       "      <td>0.6181</td>\n",
       "      <td>0.613097</td>\n",
       "      <td>52928</td>\n",
       "      <td>35274</td>\n",
       "      <td>23596</td>\n",
       "      <td>41250</td>\n",
       "    </tr>\n",
       "  </tbody>\n",
       "</table>\n",
       "</div>"
      ],
      "text/plain": [
       "                            Model  Accuracy    Recall  Precision  F1 Score  \\\n",
       "0  Logistic Regression RS 3 Train  0.615349  0.615349     0.6181  0.613097   \n",
       "\n",
       "      TN     FN     FP     TP  \n",
       "0  52928  35274  23596  41250  "
      ]
     },
     "execution_count": 83,
     "metadata": {},
     "output_type": "execute_result"
    }
   ],
   "source": [
    "update_performance(name='Logistic Regression RS 3 Train',model=LR3,test=ytrain3,pred=ypred_train_rs3_1)\n",
    "\n",
    "perf_score"
   ]
  },
  {
   "cell_type": "code",
   "execution_count": 84,
   "metadata": {
    "colab": {
     "base_uri": "https://localhost:8080/",
     "height": 112
    },
    "executionInfo": {
     "elapsed": 10,
     "status": "ok",
     "timestamp": 1697353781555,
     "user": {
      "displayName": "Pandu Ranga",
      "userId": "14910295832513512865"
     },
     "user_tz": -330
    },
    "id": "sCBoXKTGTGlr",
    "outputId": "4b84ff03-23ed-485e-fdd4-9568c1413e2b"
   },
   "outputs": [
    {
     "data": {
      "text/html": [
       "<div>\n",
       "<style scoped>\n",
       "    .dataframe tbody tr th:only-of-type {\n",
       "        vertical-align: middle;\n",
       "    }\n",
       "\n",
       "    .dataframe tbody tr th {\n",
       "        vertical-align: top;\n",
       "    }\n",
       "\n",
       "    .dataframe thead th {\n",
       "        text-align: right;\n",
       "    }\n",
       "</style>\n",
       "<table border=\"1\" class=\"dataframe\">\n",
       "  <thead>\n",
       "    <tr style=\"text-align: right;\">\n",
       "      <th></th>\n",
       "      <th>Model</th>\n",
       "      <th>Accuracy</th>\n",
       "      <th>Recall</th>\n",
       "      <th>Precision</th>\n",
       "      <th>F1 Score</th>\n",
       "      <th>TN</th>\n",
       "      <th>FN</th>\n",
       "      <th>FP</th>\n",
       "      <th>TP</th>\n",
       "    </tr>\n",
       "  </thead>\n",
       "  <tbody>\n",
       "    <tr>\n",
       "      <th>0</th>\n",
       "      <td>Logistic Regression RS 3 Train</td>\n",
       "      <td>0.615349</td>\n",
       "      <td>0.615349</td>\n",
       "      <td>0.618100</td>\n",
       "      <td>0.613097</td>\n",
       "      <td>52928</td>\n",
       "      <td>35274</td>\n",
       "      <td>23596</td>\n",
       "      <td>41250</td>\n",
       "    </tr>\n",
       "    <tr>\n",
       "      <th>1</th>\n",
       "      <td>Logistic Regression RS 3 Test</td>\n",
       "      <td>0.681553</td>\n",
       "      <td>0.681553</td>\n",
       "      <td>0.970283</td>\n",
       "      <td>0.794482</td>\n",
       "      <td>13093</td>\n",
       "      <td>160</td>\n",
       "      <td>6051</td>\n",
       "      <td>200</td>\n",
       "    </tr>\n",
       "  </tbody>\n",
       "</table>\n",
       "</div>"
      ],
      "text/plain": [
       "                            Model  Accuracy    Recall  Precision  F1 Score  \\\n",
       "0  Logistic Regression RS 3 Train  0.615349  0.615349   0.618100  0.613097   \n",
       "1   Logistic Regression RS 3 Test  0.681553  0.681553   0.970283  0.794482   \n",
       "\n",
       "      TN     FN     FP     TP  \n",
       "0  52928  35274  23596  41250  \n",
       "1  13093    160   6051    200  "
      ]
     },
     "execution_count": 84,
     "metadata": {},
     "output_type": "execute_result"
    }
   ],
   "source": [
    "update_performance(name='Logistic Regression RS 3 Test' ,model=LR3,test=ytest3,pred=ypred_test_rs3_1)\n",
    "\n",
    "perf_score"
   ]
  },
  {
   "cell_type": "code",
   "execution_count": null,
   "metadata": {
    "executionInfo": {
     "elapsed": 9,
     "status": "ok",
     "timestamp": 1697353781555,
     "user": {
      "displayName": "Pandu Ranga",
      "userId": "14910295832513512865"
     },
     "user_tz": -330
    },
    "id": "Gu2ixGDPTGls"
   },
   "outputs": [],
   "source": []
  },
  {
   "cell_type": "code",
   "execution_count": null,
   "metadata": {
    "executionInfo": {
     "elapsed": 9,
     "status": "ok",
     "timestamp": 1697353781555,
     "user": {
      "displayName": "Pandu Ranga",
      "userId": "14910295832513512865"
     },
     "user_tz": -330
    },
    "id": "tG4ShMleLe74"
   },
   "outputs": [],
   "source": [
    "\n"
   ]
  },
  {
   "cell_type": "code",
   "execution_count": null,
   "metadata": {
    "executionInfo": {
     "elapsed": 9,
     "status": "ok",
     "timestamp": 1697353781555,
     "user": {
      "displayName": "Pandu Ranga",
      "userId": "14910295832513512865"
     },
     "user_tz": -330
    },
    "id": "QLpY5S56L7FW"
   },
   "outputs": [],
   "source": []
  },
  {
   "cell_type": "markdown",
   "metadata": {
    "id": "mJqecheDLwk_"
   },
   "source": [
    "## Models Built\n",
    "* DT MODEL, DT WITH BEST PARAMETER(WITH AND WITHOUT SMOTE)\n",
    "* RF MODEL (WITH AND WITHOUT SMOTE)"
   ]
  },
  {
   "cell_type": "markdown",
   "metadata": {
    "id": "150w86YfLwk_"
   },
   "source": [
    "### With Smote Data (x3,y3)"
   ]
  },
  {
   "cell_type": "code",
   "execution_count": 85,
   "metadata": {
    "colab": {
     "base_uri": "https://localhost:8080/"
    },
    "executionInfo": {
     "elapsed": 8,
     "status": "ok",
     "timestamp": 1697353781555,
     "user": {
      "displayName": "Pandu Ranga",
      "userId": "14910295832513512865"
     },
     "user_tz": -330
    },
    "id": "XygGkyS9Lwk_",
    "outputId": "0d4f8298-708d-43bf-8930-08fabf2e9a17"
   },
   "outputs": [
    {
     "data": {
      "text/plain": [
       "(19504,)"
      ]
     },
     "execution_count": 85,
     "metadata": {},
     "output_type": "execute_result"
    }
   ],
   "source": [
    "ytest3.shape"
   ]
  },
  {
   "cell_type": "markdown",
   "metadata": {
    "id": "CvBiY4A4Lwk_"
   },
   "source": [
    "## Decision Tree"
   ]
  },
  {
   "cell_type": "code",
   "execution_count": 86,
   "metadata": {
    "executionInfo": {
     "elapsed": 6,
     "status": "ok",
     "timestamp": 1697353781555,
     "user": {
      "displayName": "Pandu Ranga",
      "userId": "14910295832513512865"
     },
     "user_tz": -330
    },
    "id": "-MZGGhTELwk_"
   },
   "outputs": [],
   "source": [
    "from sklearn.tree import DecisionTreeClassifier\n",
    "from sklearn.model_selection import GridSearchCV"
   ]
  },
  {
   "cell_type": "code",
   "execution_count": 87,
   "metadata": {
    "executionInfo": {
     "elapsed": 5198,
     "status": "ok",
     "timestamp": 1697353786747,
     "user": {
      "displayName": "Pandu Ranga",
      "userId": "14910295832513512865"
     },
     "user_tz": -330
    },
    "id": "EzQSd25yLwk_"
   },
   "outputs": [],
   "source": [
    "decision_tree_classification = DecisionTreeClassifier(random_state = 10)\n",
    "\n",
    "decision_tree = decision_tree_classification.fit(xtrain3, ytrain3)"
   ]
  },
  {
   "cell_type": "code",
   "execution_count": 88,
   "metadata": {
    "colab": {
     "base_uri": "https://localhost:8080/"
    },
    "executionInfo": {
     "elapsed": 1210,
     "status": "ok",
     "timestamp": 1697353787954,
     "user": {
      "displayName": "Pandu Ranga",
      "userId": "14910295832513512865"
     },
     "user_tz": -330
    },
    "id": "ErY2lV9LLwk_",
    "outputId": "96f74c04-5ab7-4fe4-cc93-a7c5ab194850"
   },
   "outputs": [
    {
     "name": "stdout",
     "output_type": "stream",
     "text": [
      "              precision    recall  f1-score   support\n",
      "\n",
      "           0       1.00      1.00      1.00     76524\n",
      "           1       1.00      1.00      1.00     76524\n",
      "\n",
      "    accuracy                           1.00    153048\n",
      "   macro avg       1.00      1.00      1.00    153048\n",
      "weighted avg       1.00      1.00      1.00    153048\n",
      "\n"
     ]
    }
   ],
   "source": [
    "train_pred_dt = decision_tree_classification.predict(xtrain3)\n",
    "print(classification_report(ytrain3, train_pred_dt))"
   ]
  },
  {
   "cell_type": "code",
   "execution_count": 89,
   "metadata": {
    "colab": {
     "base_uri": "https://localhost:8080/"
    },
    "executionInfo": {
     "elapsed": 4,
     "status": "ok",
     "timestamp": 1697353787954,
     "user": {
      "displayName": "Pandu Ranga",
      "userId": "14910295832513512865"
     },
     "user_tz": -330
    },
    "id": "ausSshTBLwk_",
    "outputId": "03f6e490-14b5-41fb-caa6-1b3cd5b9a468"
   },
   "outputs": [
    {
     "name": "stdout",
     "output_type": "stream",
     "text": [
      "              precision    recall  f1-score   support\n",
      "\n",
      "           0       0.98      0.94      0.96     19144\n",
      "           1       0.03      0.10      0.05       360\n",
      "\n",
      "    accuracy                           0.92     19504\n",
      "   macro avg       0.51      0.52      0.50     19504\n",
      "weighted avg       0.96      0.92      0.94     19504\n",
      "\n"
     ]
    }
   ],
   "source": [
    "test_pred_dt = decision_tree_classification.predict(xtest3)\n",
    "print(classification_report(ytest3, test_pred_dt))"
   ]
  },
  {
   "cell_type": "code",
   "execution_count": 90,
   "metadata": {
    "executionInfo": {
     "elapsed": 1612,
     "status": "ok",
     "timestamp": 1697353789564,
     "user": {
      "displayName": "Pandu Ranga",
      "userId": "14910295832513512865"
     },
     "user_tz": -330
    },
    "id": "V-wZ-pymLwlA"
   },
   "outputs": [],
   "source": [
    "update_performance(name='DT  Classifier Train' ,model=decision_tree_classification,test=ytrain3,pred=train_pred_dt)\n",
    "update_performance(name='DT  Classifier Test' ,model=decision_tree_classification,test=ytest3,pred=test_pred_dt)"
   ]
  },
  {
   "cell_type": "code",
   "execution_count": 91,
   "metadata": {
    "executionInfo": {
     "elapsed": 4,
     "status": "ok",
     "timestamp": 1697353789565,
     "user": {
      "displayName": "Pandu Ranga",
      "userId": "14910295832513512865"
     },
     "user_tz": -330
    },
    "id": "t9hr17O5LwlA"
   },
   "outputs": [],
   "source": [
    "# Clearly Overfitting"
   ]
  },
  {
   "cell_type": "markdown",
   "metadata": {
    "id": "dlkzyAMbLwlA"
   },
   "source": [
    "#### Grid Search CV for Decision Tree"
   ]
  },
  {
   "cell_type": "code",
   "execution_count": 92,
   "metadata": {
    "executionInfo": {
     "elapsed": 3,
     "status": "ok",
     "timestamp": 1697353789565,
     "user": {
      "displayName": "Pandu Ranga",
      "userId": "14910295832513512865"
     },
     "user_tz": -330
    },
    "id": "e25aKd4pLwlA"
   },
   "outputs": [],
   "source": [
    "#tuned_paramaters = [{'criterion': ['entropy', 'gini'],\n",
    "#                      'max_depth': [30,35,40],\n",
    "#                      'min_samples_split': range(50,100,10),\n",
    "#                      'min_samples_leaf': range(10,50,10),\n",
    "#                     }]\n",
    "\n",
    "#decision_tree_classification = DecisionTreeClassifier(random_state = 10)\n",
    "\n",
    "#tree_grid = GridSearchCV(estimator = decision_tree_classification,\n",
    "#                          param_grid = tuned_paramaters,\n",
    "#                          cv = 5)\n",
    "\n",
    "#tree_grid_model = tree_grid.fit(xtrain3, ytrain3)\n",
    "#print('Best parameters for decision tree classifier: ', tree_grid_model.best_params_, '\\n')"
   ]
  },
  {
   "cell_type": "markdown",
   "metadata": {
    "id": "2nLQODeWLwlA"
   },
   "source": [
    "Best parameters for decision tree classifier: {'criterion': 'entropy', 'max_depth': 35, 'min_samples_leaf': 10, 'min_samples_split': 50}"
   ]
  },
  {
   "cell_type": "markdown",
   "metadata": {
    "id": "N4YX5Md7LwlA"
   },
   "source": [
    "#### Model with best Parameter"
   ]
  },
  {
   "cell_type": "code",
   "execution_count": 93,
   "metadata": {
    "colab": {
     "base_uri": "https://localhost:8080/"
    },
    "executionInfo": {
     "elapsed": 4766,
     "status": "ok",
     "timestamp": 1697353794328,
     "user": {
      "displayName": "Pandu Ranga",
      "userId": "14910295832513512865"
     },
     "user_tz": -330
    },
    "id": "sHMnX2wvLwlA",
    "outputId": "bc1c4310-bc70-441c-de42-d672ddf8baf1"
   },
   "outputs": [
    {
     "name": "stdout",
     "output_type": "stream",
     "text": [
      "              precision    recall  f1-score   support\n",
      "\n",
      "           0       0.95      0.95      0.95     76524\n",
      "           1       0.95      0.95      0.95     76524\n",
      "\n",
      "    accuracy                           0.95    153048\n",
      "   macro avg       0.95      0.95      0.95    153048\n",
      "weighted avg       0.95      0.95      0.95    153048\n",
      "\n"
     ]
    }
   ],
   "source": [
    "decision_tree_classification = DecisionTreeClassifier(criterion = 'entropy', random_state = 10,max_depth= 35,min_samples_split = 50,min_samples_leaf = 10)\n",
    "\n",
    "decision_tree = decision_tree_classification.fit(xtrain3, ytrain3)\n",
    "\n",
    "train_pred_dt = decision_tree_classification.predict(xtrain3)\n",
    "print(classification_report(ytrain3, train_pred_dt))"
   ]
  },
  {
   "cell_type": "code",
   "execution_count": 94,
   "metadata": {
    "colab": {
     "base_uri": "https://localhost:8080/"
    },
    "executionInfo": {
     "elapsed": 5,
     "status": "ok",
     "timestamp": 1697353794328,
     "user": {
      "displayName": "Pandu Ranga",
      "userId": "14910295832513512865"
     },
     "user_tz": -330
    },
    "id": "QPHs1GrTLwlA",
    "outputId": "b0fda64e-eb76-460b-f7e2-139983127bce"
   },
   "outputs": [
    {
     "name": "stdout",
     "output_type": "stream",
     "text": [
      "              precision    recall  f1-score   support\n",
      "\n",
      "           0       0.98      0.93      0.95     19144\n",
      "           1       0.03      0.12      0.05       360\n",
      "\n",
      "    accuracy                           0.91     19504\n",
      "   macro avg       0.51      0.53      0.50     19504\n",
      "weighted avg       0.96      0.91      0.94     19504\n",
      "\n"
     ]
    }
   ],
   "source": [
    "test_pred_dt = decision_tree_classification.predict(xtest3)\n",
    "print(classification_report(ytest3, test_pred_dt))"
   ]
  },
  {
   "cell_type": "code",
   "execution_count": 95,
   "metadata": {
    "executionInfo": {
     "elapsed": 3,
     "status": "ok",
     "timestamp": 1697353794328,
     "user": {
      "displayName": "Pandu Ranga",
      "userId": "14910295832513512865"
     },
     "user_tz": -330
    },
    "id": "J-CJ89ZCLwlB"
   },
   "outputs": [],
   "source": [
    "# updating score\n",
    "update_performance(name='DT Classifier Train Best Param' ,model=decision_tree_classification,test=ytrain3,pred=train_pred_dt)\n",
    "update_performance(name='DT Classifier Test Best Param' ,model=decision_tree_classification,test=ytest3,pred=test_pred_dt)"
   ]
  },
  {
   "cell_type": "code",
   "execution_count": null,
   "metadata": {
    "executionInfo": {
     "elapsed": 3,
     "status": "ok",
     "timestamp": 1697353794328,
     "user": {
      "displayName": "Pandu Ranga",
      "userId": "14910295832513512865"
     },
     "user_tz": -330
    },
    "id": "dbo7oNCFLwlB"
   },
   "outputs": [],
   "source": []
  },
  {
   "cell_type": "markdown",
   "metadata": {},
   "source": [
    "# Decision Tree With Precision Scoring:"
   ]
  },
  {
   "cell_type": "code",
   "execution_count": 96,
   "metadata": {},
   "outputs": [],
   "source": [
    "#tuned_paramaters = [{'criterion': ['entropy', 'gini'],\n",
    "#                      'max_depth': [30,35,40],\n",
    "#                      'min_samples_split': range(50,100,10),\n",
    "#                      'min_samples_leaf': range(10,50,10),\n",
    "#                     }]\n",
    "\n",
    "#decision_tree_classification = DecisionTreeClassifier(random_state = 10)\n",
    "\n",
    "#tree_grid_pr = GridSearchCV(estimator = decision_tree_classification,\n",
    "#                          param_grid = tuned_paramaters,\n",
    "#                          cv = 5,scoring=\"precision\")\n",
    "\n",
    "#tree_grid_model = tree_grid_pr.fit(xtrain3, ytrain3)\n",
    "#print('Best parameters for decision tree classifier: ', tree_grid_model.best_params_, '\\n')"
   ]
  },
  {
   "cell_type": "markdown",
   "metadata": {},
   "source": [
    "# Model with Best Parameters :"
   ]
  },
  {
   "cell_type": "code",
   "execution_count": 97,
   "metadata": {},
   "outputs": [
    {
     "name": "stdout",
     "output_type": "stream",
     "text": [
      "              precision    recall  f1-score   support\n",
      "\n",
      "           0       0.94      0.94      0.94     76524\n",
      "           1       0.94      0.94      0.94     76524\n",
      "\n",
      "    accuracy                           0.94    153048\n",
      "   macro avg       0.94      0.94      0.94    153048\n",
      "weighted avg       0.94      0.94      0.94    153048\n",
      "\n"
     ]
    }
   ],
   "source": [
    "decision_tree_classification = DecisionTreeClassifier(criterion = 'gini', random_state = 10,max_depth= 30,min_samples_split = 50,min_samples_leaf = 10)\n",
    "\n",
    "decision_tree_pr_model = decision_tree_classification.fit(xtrain3, ytrain3)\n",
    "\n",
    "train_pred_dt_pr = decision_tree_pr_model.predict(xtrain3)\n",
    "print(classification_report(ytrain3, train_pred_dt_pr))"
   ]
  },
  {
   "cell_type": "code",
   "execution_count": 98,
   "metadata": {
    "scrolled": true
   },
   "outputs": [
    {
     "name": "stdout",
     "output_type": "stream",
     "text": [
      "              precision    recall  f1-score   support\n",
      "\n",
      "           0       0.98      0.92      0.95     19144\n",
      "           1       0.03      0.15      0.06       360\n",
      "\n",
      "    accuracy                           0.91     19504\n",
      "   macro avg       0.51      0.54      0.50     19504\n",
      "weighted avg       0.97      0.91      0.93     19504\n",
      "\n"
     ]
    }
   ],
   "source": [
    "test_pred_dt_pr = decision_tree_pr_model.predict(xtest3)\n",
    "print(classification_report(ytest3, test_pred_dt_pr))"
   ]
  },
  {
   "cell_type": "code",
   "execution_count": 99,
   "metadata": {},
   "outputs": [],
   "source": [
    "update_performance(name='DT  Classifier Train Best Param Precision SCoring' ,model=decision_tree_pr_model,test=ytrain3,pred=train_pred_dt_pr)\n",
    "update_performance(name='DT  Classifier Test Best Param Precision SCoring' ,model=decision_tree_pr_model,test=ytest3,pred=test_pred_dt_pr)"
   ]
  },
  {
   "cell_type": "code",
   "execution_count": null,
   "metadata": {},
   "outputs": [],
   "source": []
  },
  {
   "cell_type": "markdown",
   "metadata": {
    "id": "Way5Ftm3LwlB"
   },
   "source": [
    "## Random Forest Model"
   ]
  },
  {
   "cell_type": "code",
   "execution_count": 100,
   "metadata": {
    "executionInfo": {
     "elapsed": 3,
     "status": "ok",
     "timestamp": 1697353794328,
     "user": {
      "displayName": "Pandu Ranga",
      "userId": "14910295832513512865"
     },
     "user_tz": -330
    },
    "id": "Ko7-AZMBLwlB"
   },
   "outputs": [],
   "source": [
    "from sklearn.ensemble import RandomForestClassifier"
   ]
  },
  {
   "cell_type": "code",
   "execution_count": 101,
   "metadata": {
    "colab": {
     "base_uri": "https://localhost:8080/"
    },
    "executionInfo": {
     "elapsed": 43474,
     "status": "ok",
     "timestamp": 1697353837799,
     "user": {
      "displayName": "Pandu Ranga",
      "userId": "14910295832513512865"
     },
     "user_tz": -330
    },
    "id": "TDxBNolQLwlB",
    "outputId": "8fecf65c-b5b6-4914-f581-bd106c7ec816"
   },
   "outputs": [
    {
     "name": "stdout",
     "output_type": "stream",
     "text": [
      "              precision    recall  f1-score   support\n",
      "\n",
      "           0       1.00      1.00      1.00     76524\n",
      "           1       1.00      1.00      1.00     76524\n",
      "\n",
      "    accuracy                           1.00    153048\n",
      "   macro avg       1.00      1.00      1.00    153048\n",
      "weighted avg       1.00      1.00      1.00    153048\n",
      "\n"
     ]
    }
   ],
   "source": [
    "randomforest_classification = RandomForestClassifier()\n",
    "\n",
    "decision_tree = randomforest_classification.fit(xtrain3, ytrain3)\n",
    "\n",
    "train_pred_rf = randomforest_classification.predict(xtrain3)\n",
    "print(classification_report(ytrain3, train_pred_rf))"
   ]
  },
  {
   "cell_type": "code",
   "execution_count": 102,
   "metadata": {
    "colab": {
     "base_uri": "https://localhost:8080/"
    },
    "executionInfo": {
     "elapsed": 1603,
     "status": "ok",
     "timestamp": 1697353839400,
     "user": {
      "displayName": "Pandu Ranga",
      "userId": "14910295832513512865"
     },
     "user_tz": -330
    },
    "id": "YaibrNuDLwlB",
    "outputId": "46b80c5e-a684-44db-b316-3eb9967ae5d3"
   },
   "outputs": [
    {
     "name": "stdout",
     "output_type": "stream",
     "text": [
      "              precision    recall  f1-score   support\n",
      "\n",
      "           0       0.98      0.98      0.98     19144\n",
      "           1       0.04      0.04      0.04       360\n",
      "\n",
      "    accuracy                           0.97     19504\n",
      "   macro avg       0.51      0.51      0.51     19504\n",
      "weighted avg       0.96      0.97      0.96     19504\n",
      "\n"
     ]
    }
   ],
   "source": [
    "test_pred_rf = randomforest_classification.predict(xtest3)\n",
    "print(classification_report(ytest3, test_pred_rf))"
   ]
  },
  {
   "cell_type": "code",
   "execution_count": 103,
   "metadata": {
    "executionInfo": {
     "elapsed": 2,
     "status": "ok",
     "timestamp": 1697353839400,
     "user": {
      "displayName": "Pandu Ranga",
      "userId": "14910295832513512865"
     },
     "user_tz": -330
    },
    "id": "a6fj9UkaLwlB"
   },
   "outputs": [],
   "source": [
    "# updating score\n",
    "update_performance(name='RF Classifier Train' ,model=randomforest_classification,test=ytrain3,pred=train_pred_dt)\n",
    "update_performance(name='RF Classifier Test' ,model=randomforest_classification,test=ytest3,pred=test_pred_dt)"
   ]
  },
  {
   "cell_type": "code",
   "execution_count": null,
   "metadata": {
    "executionInfo": {
     "elapsed": 3,
     "status": "ok",
     "timestamp": 1697353839401,
     "user": {
      "displayName": "Pandu Ranga",
      "userId": "14910295832513512865"
     },
     "user_tz": -330
    },
    "id": "TAPJ5yd6At40"
   },
   "outputs": [],
   "source": []
  },
  {
   "cell_type": "code",
   "execution_count": null,
   "metadata": {},
   "outputs": [],
   "source": []
  },
  {
   "cell_type": "markdown",
   "metadata": {
    "id": "hsh2j6gMBIsM"
   },
   "source": [
    "# Bernoulli NB Model:"
   ]
  },
  {
   "cell_type": "code",
   "execution_count": 104,
   "metadata": {
    "colab": {
     "base_uri": "https://localhost:8080/"
    },
    "executionInfo": {
     "elapsed": 10,
     "status": "ok",
     "timestamp": 1697353849018,
     "user": {
      "displayName": "Pandu Ranga",
      "userId": "14910295832513512865"
     },
     "user_tz": -330
    },
    "id": "NuQ21xIABHI5",
    "outputId": "cf4f10ae-5ade-40c0-b1d0-64a024fbf360"
   },
   "outputs": [
    {
     "name": "stdout",
     "output_type": "stream",
     "text": [
      "              precision    recall  f1-score   support\n",
      "\n",
      "           0       0.84      0.39      0.54     76524\n",
      "           1       0.60      0.93      0.73     76524\n",
      "\n",
      "    accuracy                           0.66    153048\n",
      "   macro avg       0.72      0.66      0.63    153048\n",
      "weighted avg       0.72      0.66      0.63    153048\n",
      "\n"
     ]
    }
   ],
   "source": [
    "from sklearn.naive_bayes import GaussianNB,BernoulliNB\n",
    "\n",
    "bnb = BernoulliNB()\n",
    "bnb_model = bnb.fit(xtrain3,ytrain3)\n",
    "\n",
    "# Training Data Prediction:\n",
    "\n",
    "train_pred_bnb = bnb_model.predict(xtrain3)\n",
    "print(classification_report(ytrain3, train_pred_bnb))"
   ]
  },
  {
   "cell_type": "code",
   "execution_count": 105,
   "metadata": {
    "colab": {
     "base_uri": "https://localhost:8080/"
    },
    "executionInfo": {
     "elapsed": 751,
     "status": "ok",
     "timestamp": 1697353849762,
     "user": {
      "displayName": "Pandu Ranga",
      "userId": "14910295832513512865"
     },
     "user_tz": -330
    },
    "id": "X3lVxmcdBHLZ",
    "outputId": "81ff0971-edb2-483f-9357-44e65ff50b0f"
   },
   "outputs": [
    {
     "name": "stdout",
     "output_type": "stream",
     "text": [
      "              precision    recall  f1-score   support\n",
      "\n",
      "           0       0.99      0.39      0.56     19144\n",
      "           1       0.02      0.79      0.05       360\n",
      "\n",
      "    accuracy                           0.39     19504\n",
      "   macro avg       0.51      0.59      0.30     19504\n",
      "weighted avg       0.97      0.39      0.55     19504\n",
      "\n"
     ]
    }
   ],
   "source": [
    "# Training Data Prediction:\n",
    "\n",
    "test_pred_bnb = bnb_model.predict(xtest3)\n",
    "print(classification_report(ytest3, test_pred_bnb))"
   ]
  },
  {
   "cell_type": "code",
   "execution_count": 106,
   "metadata": {
    "executionInfo": {
     "elapsed": 5,
     "status": "ok",
     "timestamp": 1697353849763,
     "user": {
      "displayName": "Pandu Ranga",
      "userId": "14910295832513512865"
     },
     "user_tz": -330
    },
    "id": "3L3RJSxZBHNq"
   },
   "outputs": [],
   "source": [
    "# updating score\n",
    "update_performance(name='Bernoullis NB Train' ,model=bnb_model,test=ytrain3,pred=train_pred_bnb)\n",
    "update_performance(name='Bernoullis NB Test' ,model=bnb_model,test=ytest3,pred=test_pred_bnb)"
   ]
  },
  {
   "cell_type": "code",
   "execution_count": null,
   "metadata": {},
   "outputs": [],
   "source": []
  },
  {
   "cell_type": "markdown",
   "metadata": {},
   "source": [
    "# Ada Boosting:"
   ]
  },
  {
   "cell_type": "code",
   "execution_count": 107,
   "metadata": {},
   "outputs": [],
   "source": [
    "from sklearn.ensemble import AdaBoostClassifier\n",
    "dt = DecisionTreeClassifier(random_state=10)"
   ]
  },
  {
   "cell_type": "code",
   "execution_count": 108,
   "metadata": {},
   "outputs": [
    {
     "name": "stdout",
     "output_type": "stream",
     "text": [
      "0.9255537325676785\n"
     ]
    }
   ],
   "source": [
    "abcl = AdaBoostClassifier(dt, random_state=10)\n",
    "model_abcl = abcl.fit(xtrain3, ytrain3)\n",
    "\n",
    "ypred_train = model_abcl.predict(xtrain3)\n",
    "ypred_test = model_abcl.predict(xtest3)\n",
    "print(accuracy_score(ytest3, ypred_test))"
   ]
  },
  {
   "cell_type": "code",
   "execution_count": 109,
   "metadata": {},
   "outputs": [],
   "source": [
    "# updating score\n",
    "update_performance(name='ADA Boost Train' ,model=model_abcl,test=ytrain3,pred=ypred_train)\n",
    "update_performance(name='ADA Boost Test' ,model=model_abcl,test=ytest3,pred=ypred_test)"
   ]
  },
  {
   "cell_type": "code",
   "execution_count": null,
   "metadata": {},
   "outputs": [],
   "source": []
  },
  {
   "cell_type": "markdown",
   "metadata": {},
   "source": [
    "# XG BOOSTING:"
   ]
  },
  {
   "cell_type": "code",
   "execution_count": null,
   "metadata": {},
   "outputs": [],
   "source": []
  },
  {
   "cell_type": "code",
   "execution_count": 110,
   "metadata": {},
   "outputs": [
    {
     "name": "stdout",
     "output_type": "stream",
     "text": [
      "0.9814397046759639\n",
      "0.9821703240360952\n"
     ]
    }
   ],
   "source": [
    "xtrain3,xtest3,ytrain3,ytest3 = train_test_split(x3,y3, test_size=0.2, random_state=3)\n",
    "\n",
    "from xgboost import XGBClassifier\n",
    "\n",
    "\n",
    "xgb = XGBClassifier(random_state = 10)\n",
    "model_xgb = xgb.fit(xtrain3, ytrain3)\n",
    "\n",
    "y_pred_xgb_train = model_xgb.predict(xtrain3)\n",
    "y_pred_xgb_test = model_xgb.predict(xtest3)\n",
    "print(accuracy_score(ytest3, y_pred_xgb_test))\n",
    "print(accuracy_score(ytrain3, y_pred_xgb_train))"
   ]
  },
  {
   "cell_type": "code",
   "execution_count": 111,
   "metadata": {},
   "outputs": [],
   "source": [
    "# updating score\n",
    "update_performance(name='XG Boost Train' ,model=model_xgb,test=ytrain3,pred=y_pred_xgb_train)\n",
    "update_performance(name='XG Boost Test' ,model=model_xgb,test=ytest3,pred=y_pred_xgb_test)"
   ]
  },
  {
   "cell_type": "code",
   "execution_count": null,
   "metadata": {},
   "outputs": [],
   "source": []
  },
  {
   "cell_type": "markdown",
   "metadata": {
    "id": "OnwtF4o3Bl6A"
   },
   "source": [
    "# Stacking Classifier Model:"
   ]
  },
  {
   "cell_type": "code",
   "execution_count": 112,
   "metadata": {
    "colab": {
     "base_uri": "https://localhost:8080/"
    },
    "executionInfo": {
     "elapsed": 19934,
     "status": "ok",
     "timestamp": 1697353869693,
     "user": {
      "displayName": "Pandu Ranga",
      "userId": "14910295832513512865"
     },
     "user_tz": -330
    },
    "id": "gN6xjafOBHP7",
    "outputId": "1b5a9ef8-b135-460b-c02a-449a1317a8c5"
   },
   "outputs": [],
   "source": [
    "# from sklearn.ensemble import StackingClassifier\n",
    "\n",
    "# lr = LogisticRegression()\n",
    "# dtc = DecisionTreeClassifier()\n",
    "\n",
    "# base_learners=[(\"lr_model\",lr),(\"dtc_model\",dtc)]\n",
    "\n",
    "# stack = StackingClassifier(base_learners,final_estimator=GaussianNB())\n",
    "# stack_model = stack.fit(xtrain3,ytrain3)\n",
    "\n",
    "\n",
    "# # Training Data Prediction:\n",
    "# train_pred_stack = bnb_model.predict(xtrain3)\n",
    "# print(classification_report(ytrain3, train_pred_stack))\n"
   ]
  },
  {
   "cell_type": "code",
   "execution_count": 113,
   "metadata": {
    "colab": {
     "base_uri": "https://localhost:8080/"
    },
    "executionInfo": {
     "elapsed": 5,
     "status": "ok",
     "timestamp": 1697353869693,
     "user": {
      "displayName": "Pandu Ranga",
      "userId": "14910295832513512865"
     },
     "user_tz": -330
    },
    "id": "04gQaVvTBHSQ",
    "outputId": "4832eef7-8aa2-4874-e3e8-10d1dfd953f6"
   },
   "outputs": [],
   "source": [
    "# # Training Data Prediction:\n",
    "\n",
    "# test_pred_stack = stack_model.predict(xtest3)\n",
    "# print(classification_report(ytest3, test_pred_stack))"
   ]
  },
  {
   "cell_type": "code",
   "execution_count": 114,
   "metadata": {
    "executionInfo": {
     "elapsed": 4,
     "status": "ok",
     "timestamp": 1697353869693,
     "user": {
      "displayName": "Pandu Ranga",
      "userId": "14910295832513512865"
     },
     "user_tz": -330
    },
    "id": "6S3792EsBHUu"
   },
   "outputs": [],
   "source": [
    "# # updating score\n",
    "# update_performance(name='Stacking Train' ,model=stack_model,test=ytrain3,pred=train_pred_stack)\n",
    "# update_performance(name='Stacking Test' ,model=stack_model,test=ytest3,pred=test_pred_stack)"
   ]
  },
  {
   "cell_type": "code",
   "execution_count": null,
   "metadata": {
    "executionInfo": {
     "elapsed": 3,
     "status": "ok",
     "timestamp": 1697353869693,
     "user": {
      "displayName": "Pandu Ranga",
      "userId": "14910295832513512865"
     },
     "user_tz": -330
    },
    "id": "kbGMp7EdBHWu"
   },
   "outputs": [],
   "source": []
  },
  {
   "cell_type": "code",
   "execution_count": null,
   "metadata": {
    "executionInfo": {
     "elapsed": 3,
     "status": "ok",
     "timestamp": 1697353869693,
     "user": {
      "displayName": "Pandu Ranga",
      "userId": "14910295832513512865"
     },
     "user_tz": -330
    },
    "id": "5b1pAShIBHaK"
   },
   "outputs": [],
   "source": []
  },
  {
   "cell_type": "markdown",
   "metadata": {
    "id": "cHZKXR2aLwlB"
   },
   "source": [
    "## Data without Smoting (x4,y4)"
   ]
  },
  {
   "cell_type": "code",
   "execution_count": null,
   "metadata": {
    "executionInfo": {
     "elapsed": 4,
     "status": "ok",
     "timestamp": 1697353869694,
     "user": {
      "displayName": "Pandu Ranga",
      "userId": "14910295832513512865"
     },
     "user_tz": -330
    },
    "id": "XpLQ3qNjBGOq"
   },
   "outputs": [],
   "source": []
  },
  {
   "cell_type": "code",
   "execution_count": 115,
   "metadata": {
    "executionInfo": {
     "elapsed": 1104,
     "status": "ok",
     "timestamp": 1697353870794,
     "user": {
      "displayName": "Pandu Ranga",
      "userId": "14910295832513512865"
     },
     "user_tz": -330
    },
    "id": "J80TRrn-LwlB"
   },
   "outputs": [],
   "source": [
    "x4 = trxn_stratified_rs3.drop(columns=['isFraud'],axis=1)\n",
    "y4 = trxn_stratified_rs3['isFraud']\n",
    "xtrain4,xtest4,ytrain4,ytest4 = train_test_split(x4,y4, test_size=0.2, random_state=3)"
   ]
  },
  {
   "cell_type": "markdown",
   "metadata": {
    "id": "tVroH0kZLwlC"
   },
   "source": [
    "### Decision Tree Model"
   ]
  },
  {
   "cell_type": "code",
   "execution_count": 116,
   "metadata": {
    "executionInfo": {
     "elapsed": 3,
     "status": "ok",
     "timestamp": 1697353870794,
     "user": {
      "displayName": "Pandu Ranga",
      "userId": "14910295832513512865"
     },
     "user_tz": -330
    },
    "id": "LX2hEam6LwlC"
   },
   "outputs": [],
   "source": [
    "decision_tree_classification = DecisionTreeClassifier(random_state = 10)\n",
    "decision_tree = decision_tree_classification.fit(xtrain4, ytrain4)"
   ]
  },
  {
   "cell_type": "code",
   "execution_count": 117,
   "metadata": {
    "colab": {
     "base_uri": "https://localhost:8080/"
    },
    "executionInfo": {
     "elapsed": 592,
     "status": "ok",
     "timestamp": 1697353871384,
     "user": {
      "displayName": "Pandu Ranga",
      "userId": "14910295832513512865"
     },
     "user_tz": -330
    },
    "id": "r-zyPVTnLwlC",
    "outputId": "c8ebedb6-8af6-4ebf-cc60-6b7318efb467"
   },
   "outputs": [
    {
     "name": "stdout",
     "output_type": "stream",
     "text": [
      "              precision    recall  f1-score   support\n",
      "\n",
      "           0       1.00      1.00      1.00     76524\n",
      "           1       1.00      1.00      1.00      1492\n",
      "\n",
      "    accuracy                           1.00     78016\n",
      "   macro avg       1.00      1.00      1.00     78016\n",
      "weighted avg       1.00      1.00      1.00     78016\n",
      "\n"
     ]
    }
   ],
   "source": [
    "train_pred_dt = decision_tree_classification.predict(xtrain4)\n",
    "print(classification_report(ytrain4, train_pred_dt))"
   ]
  },
  {
   "cell_type": "code",
   "execution_count": 118,
   "metadata": {
    "colab": {
     "base_uri": "https://localhost:8080/"
    },
    "executionInfo": {
     "elapsed": 5,
     "status": "ok",
     "timestamp": 1697353871385,
     "user": {
      "displayName": "Pandu Ranga",
      "userId": "14910295832513512865"
     },
     "user_tz": -330
    },
    "id": "9V38pXbwLwlC",
    "outputId": "d3824e91-3191-4682-de70-988031e63123"
   },
   "outputs": [
    {
     "name": "stdout",
     "output_type": "stream",
     "text": [
      "              precision    recall  f1-score   support\n",
      "\n",
      "           0       0.98      0.98      0.98     19144\n",
      "           1       0.03      0.04      0.03       360\n",
      "\n",
      "    accuracy                           0.96     19504\n",
      "   macro avg       0.51      0.51      0.51     19504\n",
      "weighted avg       0.96      0.96      0.96     19504\n",
      "\n"
     ]
    }
   ],
   "source": [
    "test_pred_dt = decision_tree_classification.predict(xtest4)\n",
    "print(classification_report(ytest4, test_pred_dt))"
   ]
  },
  {
   "cell_type": "code",
   "execution_count": 119,
   "metadata": {
    "executionInfo": {
     "elapsed": 3,
     "status": "ok",
     "timestamp": 1697353871385,
     "user": {
      "displayName": "Pandu Ranga",
      "userId": "14910295832513512865"
     },
     "user_tz": -330
    },
    "id": "FjObpkXeLwlC"
   },
   "outputs": [],
   "source": [
    "update_performance(name='DT  Classifier Train (Withoit SMOT)' ,model=decision_tree_classification,test=ytrain4,pred=train_pred_dt)\n",
    "update_performance(name='DT  Classifier Test (Withoit SMOT)' ,model=decision_tree_classification,test=ytest4,pred=test_pred_dt)"
   ]
  },
  {
   "cell_type": "markdown",
   "metadata": {
    "id": "Ds_WtbEgLwlC"
   },
   "source": [
    "### Grid Search CV for Decision Tree Without Smote"
   ]
  },
  {
   "cell_type": "code",
   "execution_count": 120,
   "metadata": {
    "executionInfo": {
     "elapsed": 3,
     "status": "ok",
     "timestamp": 1697353871385,
     "user": {
      "displayName": "Pandu Ranga",
      "userId": "14910295832513512865"
     },
     "user_tz": -330
    },
    "id": "gwNdHv4rLwlC"
   },
   "outputs": [],
   "source": [
    "# tuned_paramaters = [{'criterion': ['entropy', 'gini'],\n",
    "#                      'max_depth': [30,35,40],\n",
    "#                      'min_samples_split': range(50,100,10),\n",
    "#                      'min_samples_leaf': range(10,50,10),\n",
    "#                     }]\n",
    "\n",
    "# decision_tree_classification = DecisionTreeClassifier(random_state = 10)\n",
    "\n",
    "# tree_grid = GridSearchCV(estimator = decision_tree_classification,\n",
    "#                          param_grid = tuned_paramaters,\n",
    "#                          cv = 5)\n",
    "\n",
    "# tree_grid_model = tree_grid.fit(xtrain3, ytrain3)\n",
    "# print('Best parameters for decision tree classifier: ', tree_grid_model.best_params_, '\\n')"
   ]
  },
  {
   "cell_type": "markdown",
   "metadata": {
    "id": "7xVw72wnLwlC"
   },
   "source": [
    "Best parameters for decision tree classifier:  {'criterion': 'entropy', 'max_depth': 30, 'min_samples_leaf': 10, 'min_samples_split': 70}"
   ]
  },
  {
   "cell_type": "markdown",
   "metadata": {
    "id": "wgLNMdJhLwlC"
   },
   "source": [
    "##### Model with best Parameter  (without Smote)"
   ]
  },
  {
   "cell_type": "code",
   "execution_count": 121,
   "metadata": {
    "colab": {
     "base_uri": "https://localhost:8080/"
    },
    "executionInfo": {
     "elapsed": 977,
     "status": "ok",
     "timestamp": 1697353872359,
     "user": {
      "displayName": "Pandu Ranga",
      "userId": "14910295832513512865"
     },
     "user_tz": -330
    },
    "id": "SV1diSIZLwlD",
    "outputId": "56245939-b973-4f50-87b2-ddab06f13645"
   },
   "outputs": [
    {
     "name": "stdout",
     "output_type": "stream",
     "text": [
      "              precision    recall  f1-score   support\n",
      "\n",
      "           0       0.98      1.00      0.99     76524\n",
      "           1       0.00      0.00      0.00      1492\n",
      "\n",
      "    accuracy                           0.98     78016\n",
      "   macro avg       0.49      0.50      0.50     78016\n",
      "weighted avg       0.96      0.98      0.97     78016\n",
      "\n"
     ]
    }
   ],
   "source": [
    "decision_tree_classification = DecisionTreeClassifier(criterion = 'entropy', random_state = 10,max_depth= 30,min_samples_split = 70,min_samples_leaf = 10)\n",
    "\n",
    "decision_tree = decision_tree_classification.fit(xtrain4, ytrain4)\n",
    "\n",
    "train_pred_dt = decision_tree_classification.predict(xtrain4)\n",
    "print(classification_report(ytrain4, train_pred_dt))"
   ]
  },
  {
   "cell_type": "code",
   "execution_count": 122,
   "metadata": {
    "colab": {
     "base_uri": "https://localhost:8080/"
    },
    "executionInfo": {
     "elapsed": 3,
     "status": "ok",
     "timestamp": 1697353872359,
     "user": {
      "displayName": "Pandu Ranga",
      "userId": "14910295832513512865"
     },
     "user_tz": -330
    },
    "id": "HWPmTU-vLwlD",
    "outputId": "26a7f14c-c0db-4595-eef9-df166bdac96b"
   },
   "outputs": [
    {
     "name": "stdout",
     "output_type": "stream",
     "text": [
      "              precision    recall  f1-score   support\n",
      "\n",
      "           0       0.98      1.00      0.99     19144\n",
      "           1       0.00      0.00      0.00       360\n",
      "\n",
      "    accuracy                           0.98     19504\n",
      "   macro avg       0.49      0.50      0.50     19504\n",
      "weighted avg       0.96      0.98      0.97     19504\n",
      "\n"
     ]
    }
   ],
   "source": [
    "test_pred_dt = decision_tree_classification.predict(xtest4)\n",
    "print(classification_report(ytest4, test_pred_dt))"
   ]
  },
  {
   "cell_type": "code",
   "execution_count": 123,
   "metadata": {
    "executionInfo": {
     "elapsed": 3,
     "status": "ok",
     "timestamp": 1697353872955,
     "user": {
      "displayName": "Pandu Ranga",
      "userId": "14910295832513512865"
     },
     "user_tz": -330
    },
    "id": "k5XX40UqLwlD"
   },
   "outputs": [],
   "source": [
    "update_performance(name='DT  Classifier Train Best Param (Withoit SMOT)' ,model=decision_tree_classification,test=ytrain4,pred=train_pred_dt)\n",
    "update_performance(name='DT  Classifier Test Best Param (Withoit SMOT)' ,model=decision_tree_classification,test=ytest4,pred=test_pred_dt)"
   ]
  },
  {
   "cell_type": "markdown",
   "metadata": {},
   "source": [
    "# Decision Tree With Precision Scoring:"
   ]
  },
  {
   "cell_type": "code",
   "execution_count": 124,
   "metadata": {},
   "outputs": [
    {
     "name": "stdout",
     "output_type": "stream",
     "text": [
      "              precision    recall  f1-score   support\n",
      "\n",
      "           0       0.98      1.00      0.99     76524\n",
      "           1       0.00      0.00      0.00      1492\n",
      "\n",
      "    accuracy                           0.98     78016\n",
      "   macro avg       0.49      0.50      0.50     78016\n",
      "weighted avg       0.96      0.98      0.97     78016\n",
      "\n"
     ]
    }
   ],
   "source": [
    "decision_tree_classification1 = DecisionTreeClassifier(criterion = 'gini', random_state = 10,max_depth= 30,min_samples_split = 50,min_samples_leaf = 10)\n",
    "\n",
    "decision_tree_ws_model = decision_tree_classification1.fit(xtrain4, ytrain4)\n",
    "\n",
    "train_pred_dt1_ws = decision_tree_ws_model.predict(xtrain4)\n",
    "print(classification_report(ytrain4, train_pred_dt1_ws))"
   ]
  },
  {
   "cell_type": "code",
   "execution_count": 125,
   "metadata": {
    "scrolled": true
   },
   "outputs": [
    {
     "name": "stdout",
     "output_type": "stream",
     "text": [
      "              precision    recall  f1-score   support\n",
      "\n",
      "           0       0.98      1.00      0.99     19144\n",
      "           1       0.00      0.00      0.00       360\n",
      "\n",
      "    accuracy                           0.98     19504\n",
      "   macro avg       0.49      0.50      0.50     19504\n",
      "weighted avg       0.96      0.98      0.97     19504\n",
      "\n"
     ]
    }
   ],
   "source": [
    "test_pred_dt1_ws = decision_tree_ws_model.predict(xtest4)\n",
    "print(classification_report(ytest4, test_pred_dt1_ws))"
   ]
  },
  {
   "cell_type": "code",
   "execution_count": 126,
   "metadata": {},
   "outputs": [],
   "source": [
    "update_performance(name='DT  Classifier Train Best Param Precision SCoring (Without SMOTE)' ,model=decision_tree_ws_model,test=ytrain4,pred=train_pred_dt1_ws)\n",
    "update_performance(name='DT  Classifier Test Best Param Precision SCoring(Without SMOTE)' ,model=decision_tree_ws_model,test=ytest4,pred=test_pred_dt1_ws)"
   ]
  },
  {
   "cell_type": "code",
   "execution_count": null,
   "metadata": {},
   "outputs": [],
   "source": []
  },
  {
   "cell_type": "markdown",
   "metadata": {
    "id": "NtyRD4OkLwlD"
   },
   "source": [
    "## Random Forest Model"
   ]
  },
  {
   "cell_type": "code",
   "execution_count": 127,
   "metadata": {
    "colab": {
     "base_uri": "https://localhost:8080/"
    },
    "executionInfo": {
     "elapsed": 21305,
     "status": "ok",
     "timestamp": 1697353894258,
     "user": {
      "displayName": "Pandu Ranga",
      "userId": "14910295832513512865"
     },
     "user_tz": -330
    },
    "id": "GyVLMPC6LwlD",
    "outputId": "684c66f4-5f88-4b8a-ec53-0710722b5636"
   },
   "outputs": [
    {
     "name": "stdout",
     "output_type": "stream",
     "text": [
      "              precision    recall  f1-score   support\n",
      "\n",
      "           0       1.00      1.00      1.00     76524\n",
      "           1       1.00      1.00      1.00      1492\n",
      "\n",
      "    accuracy                           1.00     78016\n",
      "   macro avg       1.00      1.00      1.00     78016\n",
      "weighted avg       1.00      1.00      1.00     78016\n",
      "\n"
     ]
    }
   ],
   "source": [
    "randomforest_classification = RandomForestClassifier()\n",
    "\n",
    "decision_tree = randomforest_classification.fit(xtrain4, ytrain4)\n",
    "\n",
    "train_pred_rf = randomforest_classification.predict(xtrain4)\n",
    "print(classification_report(ytrain4, train_pred_rf))"
   ]
  },
  {
   "cell_type": "code",
   "execution_count": 128,
   "metadata": {
    "colab": {
     "base_uri": "https://localhost:8080/"
    },
    "executionInfo": {
     "elapsed": 13,
     "status": "ok",
     "timestamp": 1697353894258,
     "user": {
      "displayName": "Pandu Ranga",
      "userId": "14910295832513512865"
     },
     "user_tz": -330
    },
    "id": "ZFtePbV5LwlD",
    "outputId": "b9de15ec-259a-4255-82c3-cc766c736f60"
   },
   "outputs": [
    {
     "name": "stdout",
     "output_type": "stream",
     "text": [
      "              precision    recall  f1-score   support\n",
      "\n",
      "           0       0.98      1.00      0.99     19144\n",
      "           1       0.00      0.00      0.00       360\n",
      "\n",
      "    accuracy                           0.98     19504\n",
      "   macro avg       0.49      0.50      0.50     19504\n",
      "weighted avg       0.96      0.98      0.97     19504\n",
      "\n"
     ]
    }
   ],
   "source": [
    "test_pred_rf = randomforest_classification.predict(xtest4)\n",
    "print(classification_report(ytest4, test_pred_rf))"
   ]
  },
  {
   "cell_type": "code",
   "execution_count": 129,
   "metadata": {
    "executionInfo": {
     "elapsed": 11,
     "status": "ok",
     "timestamp": 1697353894258,
     "user": {
      "displayName": "Pandu Ranga",
      "userId": "14910295832513512865"
     },
     "user_tz": -330
    },
    "id": "AiUSaZmoLwlD"
   },
   "outputs": [],
   "source": [
    "# updating score\n",
    "update_performance(name='RF  Classifier Train (Withoit SMOT)' ,model=randomforest_classification,test=ytrain4,pred=train_pred_dt)\n",
    "update_performance(name='RF  Classifier Test (Withoit SMOT)' ,model=randomforest_classification,test=ytest4,pred=test_pred_dt)"
   ]
  },
  {
   "cell_type": "code",
   "execution_count": null,
   "metadata": {},
   "outputs": [],
   "source": []
  },
  {
   "cell_type": "code",
   "execution_count": null,
   "metadata": {},
   "outputs": [],
   "source": []
  },
  {
   "cell_type": "markdown",
   "metadata": {
    "id": "TtMqP_p2Cb7o"
   },
   "source": [
    "# Bernoullis NB Model:"
   ]
  },
  {
   "cell_type": "code",
   "execution_count": 130,
   "metadata": {
    "colab": {
     "base_uri": "https://localhost:8080/"
    },
    "executionInfo": {
     "elapsed": 1217,
     "status": "ok",
     "timestamp": 1697353895885,
     "user": {
      "displayName": "Pandu Ranga",
      "userId": "14910295832513512865"
     },
     "user_tz": -330
    },
    "id": "Q7ZqR5EJCGmj",
    "outputId": "db2136e6-b310-4670-8900-68412b60ab78"
   },
   "outputs": [
    {
     "name": "stdout",
     "output_type": "stream",
     "text": [
      "              precision    recall  f1-score   support\n",
      "\n",
      "           0       0.98      1.00      0.99     76524\n",
      "           1       0.00      0.00      0.00      1492\n",
      "\n",
      "    accuracy                           0.98     78016\n",
      "   macro avg       0.49      0.50      0.50     78016\n",
      "weighted avg       0.96      0.98      0.97     78016\n",
      "\n"
     ]
    }
   ],
   "source": [
    "bnb = BernoulliNB()\n",
    "bnb_NS_model = bnb.fit(xtrain4,ytrain4)\n",
    "\n",
    "# Training Data Prediction:\n",
    "\n",
    "train_pred_bnb = bnb_NS_model.predict(xtrain4)\n",
    "print(classification_report(ytrain4, train_pred_bnb))"
   ]
  },
  {
   "cell_type": "code",
   "execution_count": 131,
   "metadata": {
    "colab": {
     "base_uri": "https://localhost:8080/"
    },
    "executionInfo": {
     "elapsed": 5,
     "status": "ok",
     "timestamp": 1697353895886,
     "user": {
      "displayName": "Pandu Ranga",
      "userId": "14910295832513512865"
     },
     "user_tz": -330
    },
    "id": "2V5-n57BCGo2",
    "outputId": "ecb1a859-43a0-43df-b353-a2338222d836"
   },
   "outputs": [
    {
     "name": "stdout",
     "output_type": "stream",
     "text": [
      "              precision    recall  f1-score   support\n",
      "\n",
      "           0       0.98      1.00      0.99     19144\n",
      "           1       0.00      0.00      0.00       360\n",
      "\n",
      "    accuracy                           0.98     19504\n",
      "   macro avg       0.49      0.50      0.50     19504\n",
      "weighted avg       0.96      0.98      0.97     19504\n",
      "\n"
     ]
    }
   ],
   "source": [
    "# Training Data Prediction:\n",
    "\n",
    "test_pred_bnb = bnb_NS_model.predict(xtest4)\n",
    "print(classification_report(ytest4, test_pred_bnb))"
   ]
  },
  {
   "cell_type": "code",
   "execution_count": 132,
   "metadata": {
    "executionInfo": {
     "elapsed": 3,
     "status": "ok",
     "timestamp": 1697353895886,
     "user": {
      "displayName": "Pandu Ranga",
      "userId": "14910295832513512865"
     },
     "user_tz": -330
    },
    "id": "fy7UkSagCGrR"
   },
   "outputs": [],
   "source": [
    "# updating score\n",
    "update_performance(name='Bernoullis NB Train(Without SMOTE)' ,model=bnb_NS_model,test=ytrain4,pred=train_pred_bnb)\n",
    "update_performance(name='Bernoullis NB Test(Without SMOTE)' ,model=bnb_NS_model,test=ytest4,pred=test_pred_bnb)"
   ]
  },
  {
   "cell_type": "code",
   "execution_count": null,
   "metadata": {},
   "outputs": [],
   "source": []
  },
  {
   "cell_type": "markdown",
   "metadata": {
    "id": "zioU7d8VENMZ"
   },
   "source": [
    "# Stacking Classifier Model:"
   ]
  },
  {
   "cell_type": "code",
   "execution_count": 133,
   "metadata": {
    "colab": {
     "base_uri": "https://localhost:8080/"
    },
    "executionInfo": {
     "elapsed": 10053,
     "status": "ok",
     "timestamp": 1697353905936,
     "user": {
      "displayName": "Pandu Ranga",
      "userId": "14910295832513512865"
     },
     "user_tz": -330
    },
    "id": "CgTnCalCCGv7",
    "outputId": "f5ed0ede-5e60-4a9e-f278-49e05ac6a853"
   },
   "outputs": [],
   "source": [
    "# lr = LogisticRegression()\n",
    "# dtc = DecisionTreeClassifier()\n",
    "\n",
    "# base_learners=[(\"lr_model\",lr),(\"dtc_model\",dtc)]\n",
    "\n",
    "# stack = StackingClassifier(base_learners,final_estimator=GaussianNB())\n",
    "# stack_model = stack.fit(xtrain4,ytrain4)\n",
    "\n",
    "\n",
    "# # Training Data Prediction:\n",
    "# train_pred_stack = bnb_model.predict(xtrain4)\n",
    "# print(classification_report(ytrain4, train_pred_stack))\n"
   ]
  },
  {
   "cell_type": "code",
   "execution_count": 134,
   "metadata": {
    "colab": {
     "base_uri": "https://localhost:8080/"
    },
    "executionInfo": {
     "elapsed": 14,
     "status": "ok",
     "timestamp": 1697353905936,
     "user": {
      "displayName": "Pandu Ranga",
      "userId": "14910295832513512865"
     },
     "user_tz": -330
    },
    "id": "samyXoNCCGyb",
    "outputId": "4b717225-9bf1-440e-9e3f-d366952014f1"
   },
   "outputs": [],
   "source": [
    "# # Training Data Prediction:\n",
    "\n",
    "# test_pred_stack = stack_model.predict(xtest4)\n",
    "# print(classification_report(ytest4, test_pred_stack))"
   ]
  },
  {
   "cell_type": "code",
   "execution_count": 135,
   "metadata": {
    "executionInfo": {
     "elapsed": 11,
     "status": "ok",
     "timestamp": 1697353905936,
     "user": {
      "displayName": "Pandu Ranga",
      "userId": "14910295832513512865"
     },
     "user_tz": -330
    },
    "id": "wy5NkuwZCG0u"
   },
   "outputs": [],
   "source": [
    "# # updating score\n",
    "# update_performance(name='Stacking Train(Without SMOTE)' ,model=stack_model,test=ytrain4,pred=train_pred_stack)\n",
    "# update_performance(name='Stacking Test(Without SMOTE)' ,model=stack_model,test=ytest4,pred=test_pred_stack)"
   ]
  },
  {
   "cell_type": "code",
   "execution_count": null,
   "metadata": {},
   "outputs": [],
   "source": []
  },
  {
   "cell_type": "markdown",
   "metadata": {},
   "source": [
    "## ADA Boost Model (DT-Classifier)"
   ]
  },
  {
   "cell_type": "code",
   "execution_count": null,
   "metadata": {},
   "outputs": [],
   "source": []
  },
  {
   "cell_type": "code",
   "execution_count": 136,
   "metadata": {},
   "outputs": [],
   "source": [
    "from sklearn.ensemble import AdaBoostClassifier\n",
    "dt = DecisionTreeClassifier(random_state=10)"
   ]
  },
  {
   "cell_type": "code",
   "execution_count": 137,
   "metadata": {},
   "outputs": [
    {
     "name": "stdout",
     "output_type": "stream",
     "text": [
      "0.9613925348646432\n"
     ]
    }
   ],
   "source": [
    "abcl = AdaBoostClassifier(dt, random_state=10)\n",
    "model_abcl = abcl.fit(xtrain4, ytrain4)\n",
    "\n",
    "ypred_train = model_abcl.predict(xtrain4)\n",
    "ypred_test = model_abcl.predict(xtest4)\n",
    "print(accuracy_score(ytest4, ypred_test))"
   ]
  },
  {
   "cell_type": "code",
   "execution_count": 138,
   "metadata": {},
   "outputs": [],
   "source": [
    "# updating score\n",
    "update_performance(name='ADA Boost(Without SMOTE) Train' ,model=model_abcl,test=ytrain4,pred=ypred_train)\n",
    "update_performance(name='ADA Boost (Without SMOTE) Test' ,model=model_abcl,test=ytest4,pred=ypred_test)"
   ]
  },
  {
   "cell_type": "code",
   "execution_count": null,
   "metadata": {},
   "outputs": [],
   "source": []
  },
  {
   "cell_type": "markdown",
   "metadata": {},
   "source": [
    "## XG Boost"
   ]
  },
  {
   "cell_type": "code",
   "execution_count": null,
   "metadata": {},
   "outputs": [],
   "source": []
  },
  {
   "cell_type": "code",
   "execution_count": 139,
   "metadata": {},
   "outputs": [
    {
     "name": "stdout",
     "output_type": "stream",
     "text": [
      "0.9814397046759639\n",
      "0.9821703240360952\n"
     ]
    }
   ],
   "source": [
    "xtrain4,xtest4,ytrain4,ytest4 = train_test_split(x4,y4, test_size=0.2, random_state=3)\n",
    "\n",
    "from xgboost import XGBClassifier\n",
    "\n",
    "\n",
    "xgb = XGBClassifier(random_state = 10)\n",
    "model_xgb = xgb.fit(xtrain4, ytrain4)\n",
    "\n",
    "y_pred_xgb_train = model_xgb.predict(xtrain4)\n",
    "y_pred_xgb_test = model_xgb.predict(xtest4)\n",
    "print(accuracy_score(ytest4, y_pred_xgb_test))\n",
    "print(accuracy_score(ytrain4, y_pred_xgb_train))"
   ]
  },
  {
   "cell_type": "code",
   "execution_count": 140,
   "metadata": {},
   "outputs": [],
   "source": [
    "# updating score\n",
    "update_performance(name='XG Boost(Without SMOTE) Train' ,model=model_xgb,test=ytrain4,pred=y_pred_xgb_train)\n",
    "update_performance(name='XG Boost (Without SMOTE) Test' ,model=model_xgb,test=ytest4,pred=y_pred_xgb_test)"
   ]
  },
  {
   "cell_type": "code",
   "execution_count": 141,
   "metadata": {},
   "outputs": [
    {
     "data": {
      "text/html": [
       "<div>\n",
       "<style scoped>\n",
       "    .dataframe tbody tr th:only-of-type {\n",
       "        vertical-align: middle;\n",
       "    }\n",
       "\n",
       "    .dataframe tbody tr th {\n",
       "        vertical-align: top;\n",
       "    }\n",
       "\n",
       "    .dataframe thead th {\n",
       "        text-align: right;\n",
       "    }\n",
       "</style>\n",
       "<table border=\"1\" class=\"dataframe\">\n",
       "  <thead>\n",
       "    <tr style=\"text-align: right;\">\n",
       "      <th></th>\n",
       "      <th>Model</th>\n",
       "      <th>Accuracy</th>\n",
       "      <th>Recall</th>\n",
       "      <th>Precision</th>\n",
       "      <th>F1 Score</th>\n",
       "      <th>TN</th>\n",
       "      <th>FN</th>\n",
       "      <th>FP</th>\n",
       "      <th>TP</th>\n",
       "    </tr>\n",
       "  </thead>\n",
       "  <tbody>\n",
       "    <tr>\n",
       "      <th>0</th>\n",
       "      <td>Logistic Regression RS 3 Train</td>\n",
       "      <td>0.615349</td>\n",
       "      <td>0.615349</td>\n",
       "      <td>0.618100</td>\n",
       "      <td>0.613097</td>\n",
       "      <td>52928</td>\n",
       "      <td>35274</td>\n",
       "      <td>23596</td>\n",
       "      <td>41250</td>\n",
       "    </tr>\n",
       "    <tr>\n",
       "      <th>1</th>\n",
       "      <td>Logistic Regression RS 3 Test</td>\n",
       "      <td>0.681553</td>\n",
       "      <td>0.681553</td>\n",
       "      <td>0.970283</td>\n",
       "      <td>0.794482</td>\n",
       "      <td>13093</td>\n",
       "      <td>160</td>\n",
       "      <td>6051</td>\n",
       "      <td>200</td>\n",
       "    </tr>\n",
       "    <tr>\n",
       "      <th>2</th>\n",
       "      <td>DT  Classifier Train</td>\n",
       "      <td>1.000000</td>\n",
       "      <td>1.000000</td>\n",
       "      <td>1.000000</td>\n",
       "      <td>1.000000</td>\n",
       "      <td>76524</td>\n",
       "      <td>0</td>\n",
       "      <td>0</td>\n",
       "      <td>76524</td>\n",
       "    </tr>\n",
       "    <tr>\n",
       "      <th>3</th>\n",
       "      <td>DT  Classifier Test</td>\n",
       "      <td>0.924682</td>\n",
       "      <td>0.924682</td>\n",
       "      <td>0.964749</td>\n",
       "      <td>0.943920</td>\n",
       "      <td>17999</td>\n",
       "      <td>324</td>\n",
       "      <td>1145</td>\n",
       "      <td>36</td>\n",
       "    </tr>\n",
       "    <tr>\n",
       "      <th>4</th>\n",
       "      <td>DT Classifier Train Best Param</td>\n",
       "      <td>0.947663</td>\n",
       "      <td>0.947663</td>\n",
       "      <td>0.947666</td>\n",
       "      <td>0.947663</td>\n",
       "      <td>72614</td>\n",
       "      <td>4100</td>\n",
       "      <td>3910</td>\n",
       "      <td>72424</td>\n",
       "    </tr>\n",
       "    <tr>\n",
       "      <th>5</th>\n",
       "      <td>DT Classifier Test Best Param</td>\n",
       "      <td>0.911916</td>\n",
       "      <td>0.911916</td>\n",
       "      <td>0.964992</td>\n",
       "      <td>0.937131</td>\n",
       "      <td>17741</td>\n",
       "      <td>315</td>\n",
       "      <td>1403</td>\n",
       "      <td>45</td>\n",
       "    </tr>\n",
       "    <tr>\n",
       "      <th>6</th>\n",
       "      <td>DT  Classifier Train Best Param Precision SCoring</td>\n",
       "      <td>0.942737</td>\n",
       "      <td>0.942737</td>\n",
       "      <td>0.942743</td>\n",
       "      <td>0.942737</td>\n",
       "      <td>72002</td>\n",
       "      <td>4242</td>\n",
       "      <td>4522</td>\n",
       "      <td>72282</td>\n",
       "    </tr>\n",
       "    <tr>\n",
       "      <th>7</th>\n",
       "      <td>DT  Classifier Test Best Param Precision SCoring</td>\n",
       "      <td>0.905148</td>\n",
       "      <td>0.905148</td>\n",
       "      <td>0.965456</td>\n",
       "      <td>0.933565</td>\n",
       "      <td>17599</td>\n",
       "      <td>305</td>\n",
       "      <td>1545</td>\n",
       "      <td>55</td>\n",
       "    </tr>\n",
       "    <tr>\n",
       "      <th>8</th>\n",
       "      <td>RF Classifier Train</td>\n",
       "      <td>0.947663</td>\n",
       "      <td>0.947663</td>\n",
       "      <td>0.947666</td>\n",
       "      <td>0.947663</td>\n",
       "      <td>72614</td>\n",
       "      <td>4100</td>\n",
       "      <td>3910</td>\n",
       "      <td>72424</td>\n",
       "    </tr>\n",
       "    <tr>\n",
       "      <th>9</th>\n",
       "      <td>RF Classifier Test</td>\n",
       "      <td>0.911916</td>\n",
       "      <td>0.911916</td>\n",
       "      <td>0.964992</td>\n",
       "      <td>0.937131</td>\n",
       "      <td>17741</td>\n",
       "      <td>315</td>\n",
       "      <td>1403</td>\n",
       "      <td>45</td>\n",
       "    </tr>\n",
       "    <tr>\n",
       "      <th>10</th>\n",
       "      <td>Bernoullis NB Train</td>\n",
       "      <td>0.659519</td>\n",
       "      <td>0.659519</td>\n",
       "      <td>0.722857</td>\n",
       "      <td>0.633476</td>\n",
       "      <td>30071</td>\n",
       "      <td>5657</td>\n",
       "      <td>46453</td>\n",
       "      <td>70867</td>\n",
       "    </tr>\n",
       "    <tr>\n",
       "      <th>11</th>\n",
       "      <td>Bernoullis NB Test</td>\n",
       "      <td>0.394586</td>\n",
       "      <td>0.394586</td>\n",
       "      <td>0.972146</td>\n",
       "      <td>0.547167</td>\n",
       "      <td>7411</td>\n",
       "      <td>75</td>\n",
       "      <td>11733</td>\n",
       "      <td>285</td>\n",
       "    </tr>\n",
       "    <tr>\n",
       "      <th>12</th>\n",
       "      <td>ADA Boost Train</td>\n",
       "      <td>1.000000</td>\n",
       "      <td>1.000000</td>\n",
       "      <td>1.000000</td>\n",
       "      <td>1.000000</td>\n",
       "      <td>76524</td>\n",
       "      <td>0</td>\n",
       "      <td>0</td>\n",
       "      <td>76524</td>\n",
       "    </tr>\n",
       "    <tr>\n",
       "      <th>13</th>\n",
       "      <td>ADA Boost Test</td>\n",
       "      <td>0.925554</td>\n",
       "      <td>0.925554</td>\n",
       "      <td>0.964706</td>\n",
       "      <td>0.944372</td>\n",
       "      <td>18017</td>\n",
       "      <td>325</td>\n",
       "      <td>1127</td>\n",
       "      <td>35</td>\n",
       "    </tr>\n",
       "    <tr>\n",
       "      <th>14</th>\n",
       "      <td>XG Boost Train</td>\n",
       "      <td>0.982170</td>\n",
       "      <td>0.982170</td>\n",
       "      <td>0.982489</td>\n",
       "      <td>0.974466</td>\n",
       "      <td>76524</td>\n",
       "      <td>1391</td>\n",
       "      <td>0</td>\n",
       "      <td>101</td>\n",
       "    </tr>\n",
       "    <tr>\n",
       "      <th>15</th>\n",
       "      <td>XG Boost Test</td>\n",
       "      <td>0.981440</td>\n",
       "      <td>0.981440</td>\n",
       "      <td>0.963423</td>\n",
       "      <td>0.972348</td>\n",
       "      <td>19142</td>\n",
       "      <td>360</td>\n",
       "      <td>2</td>\n",
       "      <td>0</td>\n",
       "    </tr>\n",
       "    <tr>\n",
       "      <th>16</th>\n",
       "      <td>DT  Classifier Train (Withoit SMOT)</td>\n",
       "      <td>1.000000</td>\n",
       "      <td>1.000000</td>\n",
       "      <td>1.000000</td>\n",
       "      <td>1.000000</td>\n",
       "      <td>76524</td>\n",
       "      <td>0</td>\n",
       "      <td>0</td>\n",
       "      <td>1492</td>\n",
       "    </tr>\n",
       "    <tr>\n",
       "      <th>17</th>\n",
       "      <td>DT  Classifier Test (Withoit SMOT)</td>\n",
       "      <td>0.960316</td>\n",
       "      <td>0.960316</td>\n",
       "      <td>0.964311</td>\n",
       "      <td>0.962302</td>\n",
       "      <td>18716</td>\n",
       "      <td>346</td>\n",
       "      <td>428</td>\n",
       "      <td>14</td>\n",
       "    </tr>\n",
       "    <tr>\n",
       "      <th>18</th>\n",
       "      <td>DT  Classifier Train Best Param (Withoit SMOT)</td>\n",
       "      <td>0.980876</td>\n",
       "      <td>0.980876</td>\n",
       "      <td>0.962117</td>\n",
       "      <td>0.971406</td>\n",
       "      <td>76524</td>\n",
       "      <td>1492</td>\n",
       "      <td>0</td>\n",
       "      <td>0</td>\n",
       "    </tr>\n",
       "    <tr>\n",
       "      <th>19</th>\n",
       "      <td>DT  Classifier Test Best Param (Withoit SMOT)</td>\n",
       "      <td>0.981542</td>\n",
       "      <td>0.981542</td>\n",
       "      <td>0.963425</td>\n",
       "      <td>0.972399</td>\n",
       "      <td>19144</td>\n",
       "      <td>360</td>\n",
       "      <td>0</td>\n",
       "      <td>0</td>\n",
       "    </tr>\n",
       "    <tr>\n",
       "      <th>20</th>\n",
       "      <td>DT  Classifier Train Best Param Precision SCor...</td>\n",
       "      <td>0.980876</td>\n",
       "      <td>0.980876</td>\n",
       "      <td>0.962117</td>\n",
       "      <td>0.971406</td>\n",
       "      <td>76524</td>\n",
       "      <td>1492</td>\n",
       "      <td>0</td>\n",
       "      <td>0</td>\n",
       "    </tr>\n",
       "    <tr>\n",
       "      <th>21</th>\n",
       "      <td>DT  Classifier Test Best Param Precision SCori...</td>\n",
       "      <td>0.981542</td>\n",
       "      <td>0.981542</td>\n",
       "      <td>0.963425</td>\n",
       "      <td>0.972399</td>\n",
       "      <td>19144</td>\n",
       "      <td>360</td>\n",
       "      <td>0</td>\n",
       "      <td>0</td>\n",
       "    </tr>\n",
       "    <tr>\n",
       "      <th>22</th>\n",
       "      <td>RF  Classifier Train (Withoit SMOT)</td>\n",
       "      <td>0.980876</td>\n",
       "      <td>0.980876</td>\n",
       "      <td>0.962117</td>\n",
       "      <td>0.971406</td>\n",
       "      <td>76524</td>\n",
       "      <td>1492</td>\n",
       "      <td>0</td>\n",
       "      <td>0</td>\n",
       "    </tr>\n",
       "    <tr>\n",
       "      <th>23</th>\n",
       "      <td>RF  Classifier Test (Withoit SMOT)</td>\n",
       "      <td>0.981542</td>\n",
       "      <td>0.981542</td>\n",
       "      <td>0.963425</td>\n",
       "      <td>0.972399</td>\n",
       "      <td>19144</td>\n",
       "      <td>360</td>\n",
       "      <td>0</td>\n",
       "      <td>0</td>\n",
       "    </tr>\n",
       "    <tr>\n",
       "      <th>24</th>\n",
       "      <td>Bernoullis NB Train(Without SMOTE)</td>\n",
       "      <td>0.980876</td>\n",
       "      <td>0.980876</td>\n",
       "      <td>0.962117</td>\n",
       "      <td>0.971406</td>\n",
       "      <td>76524</td>\n",
       "      <td>1492</td>\n",
       "      <td>0</td>\n",
       "      <td>0</td>\n",
       "    </tr>\n",
       "    <tr>\n",
       "      <th>25</th>\n",
       "      <td>Bernoullis NB Test(Without SMOTE)</td>\n",
       "      <td>0.981542</td>\n",
       "      <td>0.981542</td>\n",
       "      <td>0.963425</td>\n",
       "      <td>0.972399</td>\n",
       "      <td>19144</td>\n",
       "      <td>360</td>\n",
       "      <td>0</td>\n",
       "      <td>0</td>\n",
       "    </tr>\n",
       "    <tr>\n",
       "      <th>26</th>\n",
       "      <td>ADA Boost(Without SMOTE) Train</td>\n",
       "      <td>1.000000</td>\n",
       "      <td>1.000000</td>\n",
       "      <td>1.000000</td>\n",
       "      <td>1.000000</td>\n",
       "      <td>76524</td>\n",
       "      <td>0</td>\n",
       "      <td>0</td>\n",
       "      <td>1492</td>\n",
       "    </tr>\n",
       "    <tr>\n",
       "      <th>27</th>\n",
       "      <td>ADA Boost (Without SMOTE) Test</td>\n",
       "      <td>0.961393</td>\n",
       "      <td>0.961393</td>\n",
       "      <td>0.964629</td>\n",
       "      <td>0.963002</td>\n",
       "      <td>18734</td>\n",
       "      <td>343</td>\n",
       "      <td>410</td>\n",
       "      <td>17</td>\n",
       "    </tr>\n",
       "    <tr>\n",
       "      <th>28</th>\n",
       "      <td>XG Boost(Without SMOTE) Train</td>\n",
       "      <td>0.982170</td>\n",
       "      <td>0.982170</td>\n",
       "      <td>0.982489</td>\n",
       "      <td>0.974466</td>\n",
       "      <td>76524</td>\n",
       "      <td>1391</td>\n",
       "      <td>0</td>\n",
       "      <td>101</td>\n",
       "    </tr>\n",
       "    <tr>\n",
       "      <th>29</th>\n",
       "      <td>XG Boost (Without SMOTE) Test</td>\n",
       "      <td>0.981440</td>\n",
       "      <td>0.981440</td>\n",
       "      <td>0.963423</td>\n",
       "      <td>0.972348</td>\n",
       "      <td>19142</td>\n",
       "      <td>360</td>\n",
       "      <td>2</td>\n",
       "      <td>0</td>\n",
       "    </tr>\n",
       "  </tbody>\n",
       "</table>\n",
       "</div>"
      ],
      "text/plain": [
       "                                                Model  Accuracy    Recall  \\\n",
       "0                      Logistic Regression RS 3 Train  0.615349  0.615349   \n",
       "1                       Logistic Regression RS 3 Test  0.681553  0.681553   \n",
       "2                                DT  Classifier Train  1.000000  1.000000   \n",
       "3                                 DT  Classifier Test  0.924682  0.924682   \n",
       "4                      DT Classifier Train Best Param  0.947663  0.947663   \n",
       "5                       DT Classifier Test Best Param  0.911916  0.911916   \n",
       "6   DT  Classifier Train Best Param Precision SCoring  0.942737  0.942737   \n",
       "7    DT  Classifier Test Best Param Precision SCoring  0.905148  0.905148   \n",
       "8                                 RF Classifier Train  0.947663  0.947663   \n",
       "9                                  RF Classifier Test  0.911916  0.911916   \n",
       "10                                Bernoullis NB Train  0.659519  0.659519   \n",
       "11                                 Bernoullis NB Test  0.394586  0.394586   \n",
       "12                                    ADA Boost Train  1.000000  1.000000   \n",
       "13                                     ADA Boost Test  0.925554  0.925554   \n",
       "14                                     XG Boost Train  0.982170  0.982170   \n",
       "15                                      XG Boost Test  0.981440  0.981440   \n",
       "16                DT  Classifier Train (Withoit SMOT)  1.000000  1.000000   \n",
       "17                 DT  Classifier Test (Withoit SMOT)  0.960316  0.960316   \n",
       "18     DT  Classifier Train Best Param (Withoit SMOT)  0.980876  0.980876   \n",
       "19      DT  Classifier Test Best Param (Withoit SMOT)  0.981542  0.981542   \n",
       "20  DT  Classifier Train Best Param Precision SCor...  0.980876  0.980876   \n",
       "21  DT  Classifier Test Best Param Precision SCori...  0.981542  0.981542   \n",
       "22                RF  Classifier Train (Withoit SMOT)  0.980876  0.980876   \n",
       "23                 RF  Classifier Test (Withoit SMOT)  0.981542  0.981542   \n",
       "24                 Bernoullis NB Train(Without SMOTE)  0.980876  0.980876   \n",
       "25                  Bernoullis NB Test(Without SMOTE)  0.981542  0.981542   \n",
       "26                     ADA Boost(Without SMOTE) Train  1.000000  1.000000   \n",
       "27                     ADA Boost (Without SMOTE) Test  0.961393  0.961393   \n",
       "28                      XG Boost(Without SMOTE) Train  0.982170  0.982170   \n",
       "29                      XG Boost (Without SMOTE) Test  0.981440  0.981440   \n",
       "\n",
       "    Precision  F1 Score     TN     FN     FP     TP  \n",
       "0    0.618100  0.613097  52928  35274  23596  41250  \n",
       "1    0.970283  0.794482  13093    160   6051    200  \n",
       "2    1.000000  1.000000  76524      0      0  76524  \n",
       "3    0.964749  0.943920  17999    324   1145     36  \n",
       "4    0.947666  0.947663  72614   4100   3910  72424  \n",
       "5    0.964992  0.937131  17741    315   1403     45  \n",
       "6    0.942743  0.942737  72002   4242   4522  72282  \n",
       "7    0.965456  0.933565  17599    305   1545     55  \n",
       "8    0.947666  0.947663  72614   4100   3910  72424  \n",
       "9    0.964992  0.937131  17741    315   1403     45  \n",
       "10   0.722857  0.633476  30071   5657  46453  70867  \n",
       "11   0.972146  0.547167   7411     75  11733    285  \n",
       "12   1.000000  1.000000  76524      0      0  76524  \n",
       "13   0.964706  0.944372  18017    325   1127     35  \n",
       "14   0.982489  0.974466  76524   1391      0    101  \n",
       "15   0.963423  0.972348  19142    360      2      0  \n",
       "16   1.000000  1.000000  76524      0      0   1492  \n",
       "17   0.964311  0.962302  18716    346    428     14  \n",
       "18   0.962117  0.971406  76524   1492      0      0  \n",
       "19   0.963425  0.972399  19144    360      0      0  \n",
       "20   0.962117  0.971406  76524   1492      0      0  \n",
       "21   0.963425  0.972399  19144    360      0      0  \n",
       "22   0.962117  0.971406  76524   1492      0      0  \n",
       "23   0.963425  0.972399  19144    360      0      0  \n",
       "24   0.962117  0.971406  76524   1492      0      0  \n",
       "25   0.963425  0.972399  19144    360      0      0  \n",
       "26   1.000000  1.000000  76524      0      0   1492  \n",
       "27   0.964629  0.963002  18734    343    410     17  \n",
       "28   0.982489  0.974466  76524   1391      0    101  \n",
       "29   0.963423  0.972348  19142    360      2      0  "
      ]
     },
     "execution_count": 141,
     "metadata": {},
     "output_type": "execute_result"
    }
   ],
   "source": [
    "perf_score"
   ]
  },
  {
   "cell_type": "code",
   "execution_count": 142,
   "metadata": {},
   "outputs": [],
   "source": [
    "# perf_score.to_csv('Perfomance_Final.csv',index=True)"
   ]
  },
  {
   "cell_type": "code",
   "execution_count": null,
   "metadata": {},
   "outputs": [],
   "source": []
  },
  {
   "cell_type": "code",
   "execution_count": null,
   "metadata": {},
   "outputs": [],
   "source": []
  },
  {
   "cell_type": "code",
   "execution_count": null,
   "metadata": {},
   "outputs": [],
   "source": []
  },
  {
   "cell_type": "code",
   "execution_count": null,
   "metadata": {},
   "outputs": [],
   "source": []
  },
  {
   "cell_type": "code",
   "execution_count": null,
   "metadata": {},
   "outputs": [],
   "source": []
  },
  {
   "cell_type": "code",
   "execution_count": null,
   "metadata": {},
   "outputs": [],
   "source": []
  }
 ],
 "metadata": {
  "colab": {
   "collapsed_sections": [
    "o3nrIxHDTGky",
    "jtYsqfkITGlk"
   ],
   "provenance": []
  },
  "kernelspec": {
   "display_name": "Python 3 (ipykernel)",
   "language": "python",
   "name": "python3"
  },
  "language_info": {
   "codemirror_mode": {
    "name": "ipython",
    "version": 3
   },
   "file_extension": ".py",
   "mimetype": "text/x-python",
   "name": "python",
   "nbconvert_exporter": "python",
   "pygments_lexer": "ipython3",
   "version": "3.10.9"
  }
 },
 "nbformat": 4,
 "nbformat_minor": 1
}
