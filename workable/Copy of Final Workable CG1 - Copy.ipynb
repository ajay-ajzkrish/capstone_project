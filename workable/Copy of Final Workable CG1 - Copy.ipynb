{
 "cells": [
  {
   "cell_type": "markdown",
   "metadata": {
    "id": "o3nrIxHDTGky"
   },
   "source": [
    "## Problem Statment (Objective, Overview of Dataset, Solution & Conclusion)"
   ]
  },
  {
   "cell_type": "markdown",
   "metadata": {
    "id": "An5H1Z6QTGk4"
   },
   "source": [
    "- The primary objective is to detect fraudulent transactions within the dataset accurately. This involves identifying transactions that are not legitimate and distinguishing them from legitimate ones.\n",
    "\n",
    "- The dataset contains transaction data with 786,363 records and 29 features. It includes details such as account and customer identifiers, transaction amounts, merchant information, and indicators of fraudulent     transactions. The \"isFraud\" column indicates whether a transaction is fraudulent, with approximately 1.58% of transactions labeled as fraud. Missing data is observed in several columns, including \"acqCountry,\" \"posEntryMode\" and \"transactionType.\" Additionally, a subset of 12,417 records pertains to fraudulent transactions.\n",
    "  \n",
    "- Most businesses use rule-based systems and supervised learning models for fraud detection. These models require substantial labeled data, which can be expensive and timeconsuming to collect.\n",
    "\n",
    "- This project proposes a semi-supervised approach, utilizing a combination of labeled fraud data and a larger pool of unlabeled data. By leveraging the unlabeled data, the model can learn broader fraud patterns and adapt to new ones efficiently.\n",
    "\n",
    "- By analyzing transaction features and patterns, the model can help financial institutions take proactive measures to prevent fraud and minimize losses."
   ]
  },
  {
   "cell_type": "markdown",
   "metadata": {
    "id": "xNbcOk7HTGk5"
   },
   "source": [
    "> Python Version"
   ]
  },
  {
   "cell_type": "code",
   "execution_count": 176,
   "metadata": {
    "colab": {
     "base_uri": "https://localhost:8080/"
    },
    "executionInfo": {
     "elapsed": 459,
     "status": "ok",
     "timestamp": 1696860883062,
     "user": {
      "displayName": "Pandu Ranga",
      "userId": "14910295832513512865"
     },
     "user_tz": -330
    },
    "id": "O6WLIeylTGk6",
    "outputId": "d075b9a0-398a-4e7c-8d70-16ca975e6950"
   },
   "outputs": [
    {
     "data": {
      "text/plain": [
       "'3.10.9 | packaged by Anaconda, Inc. | (main, Mar  1 2023, 18:18:15) [MSC v.1916 64 bit (AMD64)]'"
      ]
     },
     "execution_count": 176,
     "metadata": {},
     "output_type": "execute_result"
    }
   ],
   "source": [
    "import sys\n",
    "sys.version"
   ]
  },
  {
   "cell_type": "markdown",
   "metadata": {
    "id": "zQy8XdxpTGk8"
   },
   "source": [
    "## Importing Library"
   ]
  },
  {
   "cell_type": "code",
   "execution_count": 177,
   "metadata": {
    "executionInfo": {
     "elapsed": 3098,
     "status": "ok",
     "timestamp": 1696930253156,
     "user": {
      "displayName": "Ajay",
      "userId": "17717857775607262603"
     },
     "user_tz": -330
    },
    "id": "M4rbSsd0TGk9"
   },
   "outputs": [],
   "source": [
    "import pandas as pd #Python data Analysis Lib\n",
    "import numpy as np #Numerical Python Lib\n",
    "import scipy  # Scientific & Technical Python Lib\n",
    "import sklearn #Supervisied Machine Learning Python Lib\n",
    "import matplotlib.pyplot as plt #Visulization Python Lib\n",
    "import seaborn as sns  #Visulization Python Lib\n",
    "import re #Regular Expression Lib\n",
    "import matplotlib.ticker as tck\n",
    "import random\n",
    "import statsmodels.api as sma\n",
    "import plotly.express as px"
   ]
  },
  {
   "cell_type": "code",
   "execution_count": 178,
   "metadata": {
    "executionInfo": {
     "elapsed": 619,
     "status": "ok",
     "timestamp": 1696930253770,
     "user": {
      "displayName": "Ajay",
      "userId": "17717857775607262603"
     },
     "user_tz": -330
    },
    "id": "XicB40FsTGk9"
   },
   "outputs": [],
   "source": [
    "from scipy import stats\n",
    "from statsmodels.stats.outliers_influence import variance_inflation_factor\n",
    "from wordcloud import WordCloud\n",
    "from IPython.display import Image\n",
    "from sklearn.model_selection import train_test_split\n",
    "from sklearn.linear_model import LogisticRegression\n",
    "import statsmodels.api as sm\n",
    "from sklearn.metrics import confusion_matrix, accuracy_score, classification_report,log_loss,roc_curve, roc_auc_score,cohen_kappa_score,f1_score,recall_score,precision_score\n",
    "from imblearn.over_sampling import SMOTE\n",
    "from sklearn.preprocessing import LabelEncoder, StandardScaler\n",
    "from sklearn.ensemble import RandomForestClassifier\n",
    "from statsmodels.stats.outliers_influence import variance_inflation_factor\n"
   ]
  },
  {
   "cell_type": "code",
   "execution_count": 179,
   "metadata": {
    "executionInfo": {
     "elapsed": 4,
     "status": "ok",
     "timestamp": 1696930253770,
     "user": {
      "displayName": "Ajay",
      "userId": "17717857775607262603"
     },
     "user_tz": -330
    },
    "id": "xalTcc99TGk-"
   },
   "outputs": [],
   "source": [
    "## Prefixing the Display Asthetics\n",
    "pd.set_option('display.max_columns', None)\n",
    "\n",
    "import warnings\n",
    "warnings.filterwarnings('ignore')\n",
    "\n",
    "plt.rcParams['figure.figsize'] = [15, 10]"
   ]
  },
  {
   "cell_type": "code",
   "execution_count": 180,
   "metadata": {
    "executionInfo": {
     "elapsed": 3,
     "status": "ok",
     "timestamp": 1696930253770,
     "user": {
      "displayName": "Ajay",
      "userId": "17717857775607262603"
     },
     "user_tz": -330
    },
    "id": "h2OR7_ytv6k-"
   },
   "outputs": [],
   "source": [
    "perf_score = pd.DataFrame(columns=[\"Model\", \"Accuracy\", \"Recall\", \"Precision\", \"F1 Score\", \"TN\", \"FN\", \"FP\", \"TP\"])\n",
    "\n",
    "def per_measures(model, test, pred):\n",
    "    accuracy = accuracy_score(test, pred)\n",
    "    f1score = f1_score(test, pred, average='weighted')  # Set average to 'weighted'\n",
    "    recall = recall_score(test, pred, average='weighted')  # Set average to 'weighted'\n",
    "    precision = precision_score(test, pred, average='weighted')  # Set average to 'weighted'\n",
    "    cm = confusion_matrix(test, pred)\n",
    "\n",
    "    # Extract values from the confusion matrix for each class\n",
    "    tn = cm[0, 0]\n",
    "    fn = cm[1, 0]\n",
    "    fp = cm[0, 1]\n",
    "    tp = cm[1, 1]\n",
    "\n",
    "    return accuracy, recall, precision, f1score, tn, fn, fp, tp\n",
    "\n",
    "def update_performance(name, model, test, pred):\n",
    "    global perf_score\n",
    "    accuracy, recall, precision, f1score, tn, fn, fp, tp = per_measures(model, test, pred)\n",
    "    perf_score = perf_score.append({'Model': name,\n",
    "                                    'Accuracy': accuracy,\n",
    "                                    'Recall': recall,\n",
    "                                    'Precision': precision,\n",
    "                                    'F1 Score': f1score,\n",
    "                                    'TN': tn,\n",
    "                                    'FN': fn,\n",
    "                                    'FP': fp,\n",
    "                                    'TP': tp},\n",
    "                                   ignore_index=True)"
   ]
  },
  {
   "cell_type": "markdown",
   "metadata": {
    "id": "wg-t1jvHTGk_"
   },
   "source": [
    "## Loading the Dataset"
   ]
  },
  {
   "cell_type": "code",
   "execution_count": 181,
   "metadata": {
    "colab": {
     "base_uri": "https://localhost:8080/",
     "height": 339
    },
    "executionInfo": {
     "elapsed": 9424,
     "status": "error",
     "timestamp": 1696930263756,
     "user": {
      "displayName": "Ajay",
      "userId": "17717857775607262603"
     },
     "user_tz": -330
    },
    "id": "hMf9AufmyMD-",
    "outputId": "8eec6b64-8ba5-4cd5-aa4c-5842c389296d"
   },
   "outputs": [],
   "source": [
    "# from google.colab import drive\n",
    "# drive.mount('/content/drive')"
   ]
  },
  {
   "cell_type": "code",
   "execution_count": 182,
   "metadata": {
    "colab": {
     "base_uri": "https://localhost:8080/",
     "height": 339
    },
    "executionInfo": {
     "elapsed": 435,
     "status": "error",
     "timestamp": 1696930289837,
     "user": {
      "displayName": "Ajay",
      "userId": "17717857775607262603"
     },
     "user_tz": -330
    },
    "id": "_ZkvEeTWTGk_",
    "outputId": "95c9b54a-69ae-466e-bdb3-a97f781f4f6a"
   },
   "outputs": [],
   "source": [
    "trxn_stratified_rs3 = pd.read_csv('trxn_stratified_rs3.csv')"
   ]
  },
  {
   "cell_type": "markdown",
   "metadata": {
    "id": "Jc93cXA2TGlj"
   },
   "source": [
    "## **Model building**"
   ]
  },
  {
   "cell_type": "markdown",
   "metadata": {
    "id": "28lEmI-JTGlk"
   },
   "source": [
    "> Base Model"
   ]
  },
  {
   "cell_type": "markdown",
   "metadata": {
    "id": "jtYsqfkITGlk"
   },
   "source": [
    "## Proof Reading if My Sample Target Variable have the Similar Porportion to Target Variable of Sample Population"
   ]
  },
  {
   "cell_type": "code",
   "execution_count": 183,
   "metadata": {
    "executionInfo": {
     "elapsed": 15,
     "status": "aborted",
     "timestamp": 1696930263758,
     "user": {
      "displayName": "Ajay",
      "userId": "17717857775607262603"
     },
     "user_tz": -330
    },
    "id": "tvy8hOtATGlk"
   },
   "outputs": [
    {
     "data": {
      "text/plain": [
       "0    98.100902\n",
       "1     1.899098\n",
       "Name: isFraud, dtype: float64"
      ]
     },
     "execution_count": 183,
     "metadata": {},
     "output_type": "execute_result"
    }
   ],
   "source": [
    "trxn_stratified_rs3['isFraud'].value_counts(normalize=True)*100"
   ]
  },
  {
   "cell_type": "markdown",
   "metadata": {
    "id": "757F3Xs2TGlk"
   },
   "source": [
    "> yes it Is Similar to Sample Poppulation"
   ]
  },
  {
   "cell_type": "code",
   "execution_count": 184,
   "metadata": {
    "executionInfo": {
     "elapsed": 15,
     "status": "aborted",
     "timestamp": 1696930263758,
     "user": {
      "displayName": "Ajay",
      "userId": "17717857775607262603"
     },
     "user_tz": -330
    },
    "id": "3ofdhM7WTGll"
   },
   "outputs": [
    {
     "data": {
      "text/plain": [
       "(97520, 17)"
      ]
     },
     "execution_count": 184,
     "metadata": {},
     "output_type": "execute_result"
    }
   ],
   "source": [
    "trxn_stratified_rs3.shape"
   ]
  },
  {
   "cell_type": "markdown",
   "metadata": {
    "id": "wa0IKzk9TGll"
   },
   "source": [
    "## Encoding Sample of Random State 3 Before SMOTE"
   ]
  },
  {
   "cell_type": "code",
   "execution_count": 185,
   "metadata": {
    "executionInfo": {
     "elapsed": 15,
     "status": "aborted",
     "timestamp": 1696930263758,
     "user": {
      "displayName": "Ajay",
      "userId": "17717857775607262603"
     },
     "user_tz": -330
    },
    "id": "4R0sJRNRTGll"
   },
   "outputs": [],
   "source": [
    "LE = LabelEncoder()"
   ]
  },
  {
   "cell_type": "code",
   "execution_count": 186,
   "metadata": {
    "executionInfo": {
     "elapsed": 15,
     "status": "aborted",
     "timestamp": 1696930263758,
     "user": {
      "displayName": "Ajay",
      "userId": "17717857775607262603"
     },
     "user_tz": -330
    },
    "id": "7kFNmM4oTGll"
   },
   "outputs": [
    {
     "data": {
      "text/html": [
       "<div>\n",
       "<style scoped>\n",
       "    .dataframe tbody tr th:only-of-type {\n",
       "        vertical-align: middle;\n",
       "    }\n",
       "\n",
       "    .dataframe tbody tr th {\n",
       "        vertical-align: top;\n",
       "    }\n",
       "\n",
       "    .dataframe thead th {\n",
       "        text-align: right;\n",
       "    }\n",
       "</style>\n",
       "<table border=\"1\" class=\"dataframe\">\n",
       "  <thead>\n",
       "    <tr style=\"text-align: right;\">\n",
       "      <th></th>\n",
       "      <th>creditLimit</th>\n",
       "      <th>availableMoney</th>\n",
       "      <th>transactionAmount</th>\n",
       "      <th>acqCountry</th>\n",
       "      <th>merchantCountryCode</th>\n",
       "      <th>posEntryMode</th>\n",
       "      <th>posConditionCode</th>\n",
       "      <th>merchantCategoryCode</th>\n",
       "      <th>transactionType</th>\n",
       "      <th>currentBalance</th>\n",
       "      <th>cardPresent</th>\n",
       "      <th>expirationDateKeyInMatch</th>\n",
       "      <th>isFraud</th>\n",
       "      <th>transcation_month</th>\n",
       "      <th>transcation_date</th>\n",
       "      <th>cvv_match</th>\n",
       "      <th>Days_after_Last Address Change</th>\n",
       "    </tr>\n",
       "  </thead>\n",
       "  <tbody>\n",
       "    <tr>\n",
       "      <th>0</th>\n",
       "      <td>7500</td>\n",
       "      <td>6400.51</td>\n",
       "      <td>103.27</td>\n",
       "      <td>3</td>\n",
       "      <td>3</td>\n",
       "      <td>2</td>\n",
       "      <td>8</td>\n",
       "      <td>14</td>\n",
       "      <td>1</td>\n",
       "      <td>1099.49</td>\n",
       "      <td>0</td>\n",
       "      <td>0</td>\n",
       "      <td>0</td>\n",
       "      <td>7</td>\n",
       "      <td>7</td>\n",
       "      <td>1</td>\n",
       "      <td>450</td>\n",
       "    </tr>\n",
       "    <tr>\n",
       "      <th>1</th>\n",
       "      <td>2500</td>\n",
       "      <td>1701.28</td>\n",
       "      <td>23.17</td>\n",
       "      <td>3</td>\n",
       "      <td>3</td>\n",
       "      <td>5</td>\n",
       "      <td>8</td>\n",
       "      <td>14</td>\n",
       "      <td>1</td>\n",
       "      <td>798.72</td>\n",
       "      <td>0</td>\n",
       "      <td>0</td>\n",
       "      <td>0</td>\n",
       "      <td>2</td>\n",
       "      <td>9</td>\n",
       "      <td>1</td>\n",
       "      <td>21</td>\n",
       "    </tr>\n",
       "    <tr>\n",
       "      <th>2</th>\n",
       "      <td>20000</td>\n",
       "      <td>3282.42</td>\n",
       "      <td>66.87</td>\n",
       "      <td>3</td>\n",
       "      <td>3</td>\n",
       "      <td>9</td>\n",
       "      <td>1</td>\n",
       "      <td>14</td>\n",
       "      <td>1</td>\n",
       "      <td>16717.58</td>\n",
       "      <td>0</td>\n",
       "      <td>0</td>\n",
       "      <td>0</td>\n",
       "      <td>6</td>\n",
       "      <td>30</td>\n",
       "      <td>1</td>\n",
       "      <td>654</td>\n",
       "    </tr>\n",
       "    <tr>\n",
       "      <th>3</th>\n",
       "      <td>7500</td>\n",
       "      <td>7500.00</td>\n",
       "      <td>144.96</td>\n",
       "      <td>3</td>\n",
       "      <td>3</td>\n",
       "      <td>5</td>\n",
       "      <td>1</td>\n",
       "      <td>14</td>\n",
       "      <td>1</td>\n",
       "      <td>0.00</td>\n",
       "      <td>0</td>\n",
       "      <td>0</td>\n",
       "      <td>0</td>\n",
       "      <td>4</td>\n",
       "      <td>2</td>\n",
       "      <td>1</td>\n",
       "      <td>17</td>\n",
       "    </tr>\n",
       "    <tr>\n",
       "      <th>4</th>\n",
       "      <td>20000</td>\n",
       "      <td>14398.77</td>\n",
       "      <td>611.51</td>\n",
       "      <td>3</td>\n",
       "      <td>3</td>\n",
       "      <td>9</td>\n",
       "      <td>1</td>\n",
       "      <td>14</td>\n",
       "      <td>1</td>\n",
       "      <td>5601.23</td>\n",
       "      <td>0</td>\n",
       "      <td>0</td>\n",
       "      <td>0</td>\n",
       "      <td>3</td>\n",
       "      <td>24</td>\n",
       "      <td>1</td>\n",
       "      <td>620</td>\n",
       "    </tr>\n",
       "  </tbody>\n",
       "</table>\n",
       "</div>"
      ],
      "text/plain": [
       "   creditLimit  availableMoney  transactionAmount  acqCountry  \\\n",
       "0         7500         6400.51             103.27           3   \n",
       "1         2500         1701.28              23.17           3   \n",
       "2        20000         3282.42              66.87           3   \n",
       "3         7500         7500.00             144.96           3   \n",
       "4        20000        14398.77             611.51           3   \n",
       "\n",
       "   merchantCountryCode  posEntryMode  posConditionCode  merchantCategoryCode  \\\n",
       "0                    3             2                 8                    14   \n",
       "1                    3             5                 8                    14   \n",
       "2                    3             9                 1                    14   \n",
       "3                    3             5                 1                    14   \n",
       "4                    3             9                 1                    14   \n",
       "\n",
       "   transactionType  currentBalance  cardPresent  expirationDateKeyInMatch  \\\n",
       "0                1         1099.49            0                         0   \n",
       "1                1          798.72            0                         0   \n",
       "2                1        16717.58            0                         0   \n",
       "3                1            0.00            0                         0   \n",
       "4                1         5601.23            0                         0   \n",
       "\n",
       "   isFraud  transcation_month  transcation_date  cvv_match  \\\n",
       "0        0                  7                 7          1   \n",
       "1        0                  2                 9          1   \n",
       "2        0                  6                30          1   \n",
       "3        0                  4                 2          1   \n",
       "4        0                  3                24          1   \n",
       "\n",
       "   Days_after_Last Address Change  \n",
       "0                             450  \n",
       "1                              21  \n",
       "2                             654  \n",
       "3                              17  \n",
       "4                             620  "
      ]
     },
     "execution_count": 186,
     "metadata": {},
     "output_type": "execute_result"
    }
   ],
   "source": [
    "trxn_stratified_rs3.head()"
   ]
  },
  {
   "cell_type": "code",
   "execution_count": 187,
   "metadata": {
    "executionInfo": {
     "elapsed": 14,
     "status": "aborted",
     "timestamp": 1696930263758,
     "user": {
      "displayName": "Ajay",
      "userId": "17717857775607262603"
     },
     "user_tz": -330
    },
    "id": "XHT-zdydTGll"
   },
   "outputs": [],
   "source": [
    "to_encode = ['acqCountry','merchantCategoryCode','merchantCountryCode','transactionType','cardPresent','expirationDateKeyInMatch','isFraud','cvv_match']"
   ]
  },
  {
   "cell_type": "code",
   "execution_count": 188,
   "metadata": {
    "executionInfo": {
     "elapsed": 14,
     "status": "aborted",
     "timestamp": 1696930263758,
     "user": {
      "displayName": "Ajay",
      "userId": "17717857775607262603"
     },
     "user_tz": -330
    },
    "id": "THZrXYQ1TGll"
   },
   "outputs": [],
   "source": [
    "for i in to_encode:\n",
    "    trxn_stratified_rs3[i] = LE.fit_transform(trxn_stratified_rs3[i])"
   ]
  },
  {
   "cell_type": "code",
   "execution_count": 189,
   "metadata": {
    "executionInfo": {
     "elapsed": 14,
     "status": "aborted",
     "timestamp": 1696930263758,
     "user": {
      "displayName": "Ajay",
      "userId": "17717857775607262603"
     },
     "user_tz": -330
    },
    "id": "7xdGsPa8TGll"
   },
   "outputs": [
    {
     "data": {
      "text/html": [
       "<div>\n",
       "<style scoped>\n",
       "    .dataframe tbody tr th:only-of-type {\n",
       "        vertical-align: middle;\n",
       "    }\n",
       "\n",
       "    .dataframe tbody tr th {\n",
       "        vertical-align: top;\n",
       "    }\n",
       "\n",
       "    .dataframe thead th {\n",
       "        text-align: right;\n",
       "    }\n",
       "</style>\n",
       "<table border=\"1\" class=\"dataframe\">\n",
       "  <thead>\n",
       "    <tr style=\"text-align: right;\">\n",
       "      <th></th>\n",
       "      <th>acqCountry</th>\n",
       "      <th>merchantCategoryCode</th>\n",
       "      <th>merchantCountryCode</th>\n",
       "      <th>transactionType</th>\n",
       "      <th>cardPresent</th>\n",
       "      <th>expirationDateKeyInMatch</th>\n",
       "      <th>isFraud</th>\n",
       "      <th>cvv_match</th>\n",
       "    </tr>\n",
       "  </thead>\n",
       "  <tbody>\n",
       "    <tr>\n",
       "      <th>0</th>\n",
       "      <td>3</td>\n",
       "      <td>14</td>\n",
       "      <td>3</td>\n",
       "      <td>1</td>\n",
       "      <td>0</td>\n",
       "      <td>0</td>\n",
       "      <td>0</td>\n",
       "      <td>1</td>\n",
       "    </tr>\n",
       "    <tr>\n",
       "      <th>1</th>\n",
       "      <td>3</td>\n",
       "      <td>14</td>\n",
       "      <td>3</td>\n",
       "      <td>1</td>\n",
       "      <td>0</td>\n",
       "      <td>0</td>\n",
       "      <td>0</td>\n",
       "      <td>1</td>\n",
       "    </tr>\n",
       "    <tr>\n",
       "      <th>2</th>\n",
       "      <td>3</td>\n",
       "      <td>14</td>\n",
       "      <td>3</td>\n",
       "      <td>1</td>\n",
       "      <td>0</td>\n",
       "      <td>0</td>\n",
       "      <td>0</td>\n",
       "      <td>1</td>\n",
       "    </tr>\n",
       "    <tr>\n",
       "      <th>3</th>\n",
       "      <td>3</td>\n",
       "      <td>14</td>\n",
       "      <td>3</td>\n",
       "      <td>1</td>\n",
       "      <td>0</td>\n",
       "      <td>0</td>\n",
       "      <td>0</td>\n",
       "      <td>1</td>\n",
       "    </tr>\n",
       "    <tr>\n",
       "      <th>4</th>\n",
       "      <td>3</td>\n",
       "      <td>14</td>\n",
       "      <td>3</td>\n",
       "      <td>1</td>\n",
       "      <td>0</td>\n",
       "      <td>0</td>\n",
       "      <td>0</td>\n",
       "      <td>1</td>\n",
       "    </tr>\n",
       "  </tbody>\n",
       "</table>\n",
       "</div>"
      ],
      "text/plain": [
       "   acqCountry  merchantCategoryCode  merchantCountryCode  transactionType  \\\n",
       "0           3                    14                    3                1   \n",
       "1           3                    14                    3                1   \n",
       "2           3                    14                    3                1   \n",
       "3           3                    14                    3                1   \n",
       "4           3                    14                    3                1   \n",
       "\n",
       "   cardPresent  expirationDateKeyInMatch  isFraud  cvv_match  \n",
       "0            0                         0        0          1  \n",
       "1            0                         0        0          1  \n",
       "2            0                         0        0          1  \n",
       "3            0                         0        0          1  \n",
       "4            0                         0        0          1  "
      ]
     },
     "execution_count": 189,
     "metadata": {},
     "output_type": "execute_result"
    }
   ],
   "source": [
    "trxn_stratified_rs3[['acqCountry','merchantCategoryCode','merchantCountryCode','transactionType','cardPresent','expirationDateKeyInMatch','isFraud','cvv_match']].head()"
   ]
  },
  {
   "cell_type": "code",
   "execution_count": 190,
   "metadata": {
    "executionInfo": {
     "elapsed": 13,
     "status": "aborted",
     "timestamp": 1696930263758,
     "user": {
      "displayName": "Ajay",
      "userId": "17717857775607262603"
     },
     "user_tz": -330
    },
    "id": "2sjDyGpnTGlm"
   },
   "outputs": [],
   "source": [
    "for i in to_encode:\n",
    "    trxn_stratified_rs3[i] = LE.fit_transform(trxn_stratified_rs3[i])"
   ]
  },
  {
   "cell_type": "code",
   "execution_count": 191,
   "metadata": {
    "executionInfo": {
     "elapsed": 14,
     "status": "aborted",
     "timestamp": 1696930263759,
     "user": {
      "displayName": "Ajay",
      "userId": "17717857775607262603"
     },
     "user_tz": -330
    },
    "id": "AIlD-UaATGlm"
   },
   "outputs": [
    {
     "data": {
      "text/html": [
       "<div>\n",
       "<style scoped>\n",
       "    .dataframe tbody tr th:only-of-type {\n",
       "        vertical-align: middle;\n",
       "    }\n",
       "\n",
       "    .dataframe tbody tr th {\n",
       "        vertical-align: top;\n",
       "    }\n",
       "\n",
       "    .dataframe thead th {\n",
       "        text-align: right;\n",
       "    }\n",
       "</style>\n",
       "<table border=\"1\" class=\"dataframe\">\n",
       "  <thead>\n",
       "    <tr style=\"text-align: right;\">\n",
       "      <th></th>\n",
       "      <th>acqCountry</th>\n",
       "      <th>merchantCategoryCode</th>\n",
       "      <th>merchantCountryCode</th>\n",
       "      <th>transactionType</th>\n",
       "      <th>cardPresent</th>\n",
       "      <th>expirationDateKeyInMatch</th>\n",
       "      <th>isFraud</th>\n",
       "      <th>cvv_match</th>\n",
       "    </tr>\n",
       "  </thead>\n",
       "  <tbody>\n",
       "    <tr>\n",
       "      <th>0</th>\n",
       "      <td>3</td>\n",
       "      <td>14</td>\n",
       "      <td>3</td>\n",
       "      <td>1</td>\n",
       "      <td>0</td>\n",
       "      <td>0</td>\n",
       "      <td>0</td>\n",
       "      <td>1</td>\n",
       "    </tr>\n",
       "    <tr>\n",
       "      <th>1</th>\n",
       "      <td>3</td>\n",
       "      <td>14</td>\n",
       "      <td>3</td>\n",
       "      <td>1</td>\n",
       "      <td>0</td>\n",
       "      <td>0</td>\n",
       "      <td>0</td>\n",
       "      <td>1</td>\n",
       "    </tr>\n",
       "    <tr>\n",
       "      <th>2</th>\n",
       "      <td>3</td>\n",
       "      <td>14</td>\n",
       "      <td>3</td>\n",
       "      <td>1</td>\n",
       "      <td>0</td>\n",
       "      <td>0</td>\n",
       "      <td>0</td>\n",
       "      <td>1</td>\n",
       "    </tr>\n",
       "    <tr>\n",
       "      <th>3</th>\n",
       "      <td>3</td>\n",
       "      <td>14</td>\n",
       "      <td>3</td>\n",
       "      <td>1</td>\n",
       "      <td>0</td>\n",
       "      <td>0</td>\n",
       "      <td>0</td>\n",
       "      <td>1</td>\n",
       "    </tr>\n",
       "    <tr>\n",
       "      <th>4</th>\n",
       "      <td>3</td>\n",
       "      <td>14</td>\n",
       "      <td>3</td>\n",
       "      <td>1</td>\n",
       "      <td>0</td>\n",
       "      <td>0</td>\n",
       "      <td>0</td>\n",
       "      <td>1</td>\n",
       "    </tr>\n",
       "  </tbody>\n",
       "</table>\n",
       "</div>"
      ],
      "text/plain": [
       "   acqCountry  merchantCategoryCode  merchantCountryCode  transactionType  \\\n",
       "0           3                    14                    3                1   \n",
       "1           3                    14                    3                1   \n",
       "2           3                    14                    3                1   \n",
       "3           3                    14                    3                1   \n",
       "4           3                    14                    3                1   \n",
       "\n",
       "   cardPresent  expirationDateKeyInMatch  isFraud  cvv_match  \n",
       "0            0                         0        0          1  \n",
       "1            0                         0        0          1  \n",
       "2            0                         0        0          1  \n",
       "3            0                         0        0          1  \n",
       "4            0                         0        0          1  "
      ]
     },
     "execution_count": 191,
     "metadata": {},
     "output_type": "execute_result"
    }
   ],
   "source": [
    "trxn_stratified_rs3[['acqCountry','merchantCategoryCode','merchantCountryCode','transactionType','cardPresent','expirationDateKeyInMatch','isFraud','cvv_match']].head()"
   ]
  },
  {
   "cell_type": "markdown",
   "metadata": {
    "id": "uWY9YtZ2TGlm"
   },
   "source": [
    "> Proof Reading if all my Variables are encoded"
   ]
  },
  {
   "cell_type": "code",
   "execution_count": 192,
   "metadata": {
    "executionInfo": {
     "elapsed": 14,
     "status": "aborted",
     "timestamp": 1696930263759,
     "user": {
      "displayName": "Ajay",
      "userId": "17717857775607262603"
     },
     "user_tz": -330
    },
    "id": "MFJJCN-yTGlm"
   },
   "outputs": [
    {
     "data": {
      "text/html": [
       "<div>\n",
       "<style scoped>\n",
       "    .dataframe tbody tr th:only-of-type {\n",
       "        vertical-align: middle;\n",
       "    }\n",
       "\n",
       "    .dataframe tbody tr th {\n",
       "        vertical-align: top;\n",
       "    }\n",
       "\n",
       "    .dataframe thead th {\n",
       "        text-align: right;\n",
       "    }\n",
       "</style>\n",
       "<table border=\"1\" class=\"dataframe\">\n",
       "  <thead>\n",
       "    <tr style=\"text-align: right;\">\n",
       "      <th></th>\n",
       "      <th>creditLimit</th>\n",
       "      <th>availableMoney</th>\n",
       "      <th>transactionAmount</th>\n",
       "      <th>acqCountry</th>\n",
       "      <th>merchantCountryCode</th>\n",
       "      <th>posEntryMode</th>\n",
       "      <th>posConditionCode</th>\n",
       "      <th>merchantCategoryCode</th>\n",
       "      <th>transactionType</th>\n",
       "      <th>currentBalance</th>\n",
       "      <th>cardPresent</th>\n",
       "      <th>expirationDateKeyInMatch</th>\n",
       "      <th>isFraud</th>\n",
       "      <th>transcation_month</th>\n",
       "      <th>transcation_date</th>\n",
       "      <th>cvv_match</th>\n",
       "      <th>Days_after_Last Address Change</th>\n",
       "    </tr>\n",
       "  </thead>\n",
       "  <tbody>\n",
       "    <tr>\n",
       "      <th>0</th>\n",
       "      <td>7500</td>\n",
       "      <td>6400.51</td>\n",
       "      <td>103.27</td>\n",
       "      <td>3</td>\n",
       "      <td>3</td>\n",
       "      <td>2</td>\n",
       "      <td>8</td>\n",
       "      <td>14</td>\n",
       "      <td>1</td>\n",
       "      <td>1099.49</td>\n",
       "      <td>0</td>\n",
       "      <td>0</td>\n",
       "      <td>0</td>\n",
       "      <td>7</td>\n",
       "      <td>7</td>\n",
       "      <td>1</td>\n",
       "      <td>450</td>\n",
       "    </tr>\n",
       "    <tr>\n",
       "      <th>1</th>\n",
       "      <td>2500</td>\n",
       "      <td>1701.28</td>\n",
       "      <td>23.17</td>\n",
       "      <td>3</td>\n",
       "      <td>3</td>\n",
       "      <td>5</td>\n",
       "      <td>8</td>\n",
       "      <td>14</td>\n",
       "      <td>1</td>\n",
       "      <td>798.72</td>\n",
       "      <td>0</td>\n",
       "      <td>0</td>\n",
       "      <td>0</td>\n",
       "      <td>2</td>\n",
       "      <td>9</td>\n",
       "      <td>1</td>\n",
       "      <td>21</td>\n",
       "    </tr>\n",
       "    <tr>\n",
       "      <th>2</th>\n",
       "      <td>20000</td>\n",
       "      <td>3282.42</td>\n",
       "      <td>66.87</td>\n",
       "      <td>3</td>\n",
       "      <td>3</td>\n",
       "      <td>9</td>\n",
       "      <td>1</td>\n",
       "      <td>14</td>\n",
       "      <td>1</td>\n",
       "      <td>16717.58</td>\n",
       "      <td>0</td>\n",
       "      <td>0</td>\n",
       "      <td>0</td>\n",
       "      <td>6</td>\n",
       "      <td>30</td>\n",
       "      <td>1</td>\n",
       "      <td>654</td>\n",
       "    </tr>\n",
       "    <tr>\n",
       "      <th>3</th>\n",
       "      <td>7500</td>\n",
       "      <td>7500.00</td>\n",
       "      <td>144.96</td>\n",
       "      <td>3</td>\n",
       "      <td>3</td>\n",
       "      <td>5</td>\n",
       "      <td>1</td>\n",
       "      <td>14</td>\n",
       "      <td>1</td>\n",
       "      <td>0.00</td>\n",
       "      <td>0</td>\n",
       "      <td>0</td>\n",
       "      <td>0</td>\n",
       "      <td>4</td>\n",
       "      <td>2</td>\n",
       "      <td>1</td>\n",
       "      <td>17</td>\n",
       "    </tr>\n",
       "    <tr>\n",
       "      <th>4</th>\n",
       "      <td>20000</td>\n",
       "      <td>14398.77</td>\n",
       "      <td>611.51</td>\n",
       "      <td>3</td>\n",
       "      <td>3</td>\n",
       "      <td>9</td>\n",
       "      <td>1</td>\n",
       "      <td>14</td>\n",
       "      <td>1</td>\n",
       "      <td>5601.23</td>\n",
       "      <td>0</td>\n",
       "      <td>0</td>\n",
       "      <td>0</td>\n",
       "      <td>3</td>\n",
       "      <td>24</td>\n",
       "      <td>1</td>\n",
       "      <td>620</td>\n",
       "    </tr>\n",
       "  </tbody>\n",
       "</table>\n",
       "</div>"
      ],
      "text/plain": [
       "   creditLimit  availableMoney  transactionAmount  acqCountry  \\\n",
       "0         7500         6400.51             103.27           3   \n",
       "1         2500         1701.28              23.17           3   \n",
       "2        20000         3282.42              66.87           3   \n",
       "3         7500         7500.00             144.96           3   \n",
       "4        20000        14398.77             611.51           3   \n",
       "\n",
       "   merchantCountryCode  posEntryMode  posConditionCode  merchantCategoryCode  \\\n",
       "0                    3             2                 8                    14   \n",
       "1                    3             5                 8                    14   \n",
       "2                    3             9                 1                    14   \n",
       "3                    3             5                 1                    14   \n",
       "4                    3             9                 1                    14   \n",
       "\n",
       "   transactionType  currentBalance  cardPresent  expirationDateKeyInMatch  \\\n",
       "0                1         1099.49            0                         0   \n",
       "1                1          798.72            0                         0   \n",
       "2                1        16717.58            0                         0   \n",
       "3                1            0.00            0                         0   \n",
       "4                1         5601.23            0                         0   \n",
       "\n",
       "   isFraud  transcation_month  transcation_date  cvv_match  \\\n",
       "0        0                  7                 7          1   \n",
       "1        0                  2                 9          1   \n",
       "2        0                  6                30          1   \n",
       "3        0                  4                 2          1   \n",
       "4        0                  3                24          1   \n",
       "\n",
       "   Days_after_Last Address Change  \n",
       "0                             450  \n",
       "1                              21  \n",
       "2                             654  \n",
       "3                              17  \n",
       "4                             620  "
      ]
     },
     "execution_count": 192,
     "metadata": {},
     "output_type": "execute_result"
    }
   ],
   "source": [
    "trxn_stratified_rs3.head()"
   ]
  },
  {
   "cell_type": "markdown",
   "metadata": {
    "id": "YiMGI378TGlm"
   },
   "source": [
    "> Since we Converted our Pre Encoded Independent Varaible to Category and Object for our Analysis purposes now we change them back to Numerical Format for Model Building\n",
    "\n",
    "> Also Based on our Analysis and Logical understanding There is no Relationship with **Feature Engineered Varibale(Related to Date,Month,Year)** & **Target Varaible**  we will also remove them from our **Stratified Sample**"
   ]
  },
  {
   "cell_type": "markdown",
   "metadata": {
    "id": "RVODi52nTGlm"
   },
   "source": [
    "> Change the Variable to int"
   ]
  },
  {
   "cell_type": "code",
   "execution_count": 193,
   "metadata": {
    "executionInfo": {
     "elapsed": 13,
     "status": "aborted",
     "timestamp": 1696930263759,
     "user": {
      "displayName": "Ajay",
      "userId": "17717857775607262603"
     },
     "user_tz": -330
    },
    "id": "wUnAS1ImTGlm"
   },
   "outputs": [],
   "source": [
    "to_change = ['posEntryMode', 'posConditionCode', 'transcation_month', 'transcation_date']\n",
    "\n",
    "for i in to_change:\n",
    "  trxn_stratified_rs3[i] = trxn_stratified_rs3[i].astype('int')"
   ]
  },
  {
   "cell_type": "code",
   "execution_count": 194,
   "metadata": {
    "executionInfo": {
     "elapsed": 13,
     "status": "aborted",
     "timestamp": 1696930263759,
     "user": {
      "displayName": "Ajay",
      "userId": "17717857775607262603"
     },
     "user_tz": -330
    },
    "id": "d3Lad3osTGln"
   },
   "outputs": [
    {
     "name": "stdout",
     "output_type": "stream",
     "text": [
      "<class 'pandas.core.frame.DataFrame'>\n",
      "RangeIndex: 97520 entries, 0 to 97519\n",
      "Data columns (total 17 columns):\n",
      " #   Column                          Non-Null Count  Dtype  \n",
      "---  ------                          --------------  -----  \n",
      " 0   creditLimit                     97520 non-null  int64  \n",
      " 1   availableMoney                  97520 non-null  float64\n",
      " 2   transactionAmount               97520 non-null  float64\n",
      " 3   acqCountry                      97520 non-null  int64  \n",
      " 4   merchantCountryCode             97520 non-null  int64  \n",
      " 5   posEntryMode                    97520 non-null  int32  \n",
      " 6   posConditionCode                97520 non-null  int32  \n",
      " 7   merchantCategoryCode            97520 non-null  int64  \n",
      " 8   transactionType                 97520 non-null  int64  \n",
      " 9   currentBalance                  97520 non-null  float64\n",
      " 10  cardPresent                     97520 non-null  int64  \n",
      " 11  expirationDateKeyInMatch        97520 non-null  int64  \n",
      " 12  isFraud                         97520 non-null  int64  \n",
      " 13  transcation_month               97520 non-null  int32  \n",
      " 14  transcation_date                97520 non-null  int32  \n",
      " 15  cvv_match                       97520 non-null  int64  \n",
      " 16  Days_after_Last Address Change  97520 non-null  int64  \n",
      "dtypes: float64(3), int32(4), int64(10)\n",
      "memory usage: 11.2 MB\n"
     ]
    }
   ],
   "source": [
    "trxn_stratified_rs3.info()"
   ]
  },
  {
   "cell_type": "markdown",
   "metadata": {
    "id": "bo-vhkJrTGln"
   },
   "source": [
    "> Variable for Storing the All Model Performance Here on  "
   ]
  },
  {
   "cell_type": "markdown",
   "metadata": {
    "id": "Hz2CFZkUTGlo"
   },
   "source": [
    "## Applying SMOTE only for Training Data for Random State 3"
   ]
  },
  {
   "cell_type": "code",
   "execution_count": 195,
   "metadata": {
    "executionInfo": {
     "elapsed": 13,
     "status": "aborted",
     "timestamp": 1696930263759,
     "user": {
      "displayName": "Ajay",
      "userId": "17717857775607262603"
     },
     "user_tz": -330
    },
    "id": "cWTiBqGRTGlo"
   },
   "outputs": [],
   "source": [
    "# Instantiate SMOTE\n",
    "smote = SMOTE(random_state=3)"
   ]
  },
  {
   "cell_type": "code",
   "execution_count": 196,
   "metadata": {
    "executionInfo": {
     "elapsed": 13,
     "status": "aborted",
     "timestamp": 1696930263759,
     "user": {
      "displayName": "Ajay",
      "userId": "17717857775607262603"
     },
     "user_tz": -330
    },
    "id": "HZUvMwT2TGlo"
   },
   "outputs": [],
   "source": [
    "x3 = trxn_stratified_rs3.drop(columns=['isFraud'],axis=1)\n",
    "y3 = trxn_stratified_rs3['isFraud']"
   ]
  },
  {
   "cell_type": "markdown",
   "metadata": {
    "id": "ej8269htTGlp"
   },
   "source": [
    "> Spliting The Data"
   ]
  },
  {
   "cell_type": "code",
   "execution_count": 197,
   "metadata": {
    "executionInfo": {
     "elapsed": 13,
     "status": "aborted",
     "timestamp": 1696930263759,
     "user": {
      "displayName": "Ajay",
      "userId": "17717857775607262603"
     },
     "user_tz": -330
    },
    "id": "kKR_CWzeTGlp"
   },
   "outputs": [],
   "source": [
    "xtrain3,xtest3,ytrain3,ytest3 = train_test_split(x3,y3, test_size=0.2, random_state=3)"
   ]
  },
  {
   "cell_type": "code",
   "execution_count": 198,
   "metadata": {
    "executionInfo": {
     "elapsed": 12,
     "status": "aborted",
     "timestamp": 1696930263759,
     "user": {
      "displayName": "Ajay",
      "userId": "17717857775607262603"
     },
     "user_tz": -330
    },
    "id": "bi0iP_SgTGlp"
   },
   "outputs": [
    {
     "name": "stdout",
     "output_type": "stream",
     "text": [
      "(78016, 16) (19504, 16) (78016,) (19504,)\n"
     ]
    }
   ],
   "source": [
    "#Shape Of the Split Before Applying SMOTE\n",
    "print(xtrain3.shape,xtest3.shape,ytrain3.shape,ytest3.shape)"
   ]
  },
  {
   "cell_type": "code",
   "execution_count": 199,
   "metadata": {
    "executionInfo": {
     "elapsed": 12,
     "status": "aborted",
     "timestamp": 1696930263759,
     "user": {
      "displayName": "Ajay",
      "userId": "17717857775607262603"
     },
     "user_tz": -330
    },
    "id": "9z_QnPIqTGlq"
   },
   "outputs": [],
   "source": [
    "xtrain3,ytrain3 = smote.fit_resample(xtrain3,ytrain3)"
   ]
  },
  {
   "cell_type": "code",
   "execution_count": 200,
   "metadata": {
    "executionInfo": {
     "elapsed": 13,
     "status": "aborted",
     "timestamp": 1696930263760,
     "user": {
      "displayName": "Ajay",
      "userId": "17717857775607262603"
     },
     "user_tz": -330
    },
    "id": "qTtWJpHvTGlq"
   },
   "outputs": [
    {
     "name": "stdout",
     "output_type": "stream",
     "text": [
      "(153048, 16) (19504, 16) (153048,) (19504,)\n"
     ]
    }
   ],
   "source": [
    "#Shape Of the Split After Applying SMOTE\n",
    "print(xtrain3.shape,xtest3.shape,ytrain3.shape,ytest3.shape)"
   ]
  },
  {
   "cell_type": "code",
   "execution_count": 201,
   "metadata": {
    "executionInfo": {
     "elapsed": 13,
     "status": "aborted",
     "timestamp": 1696930263760,
     "user": {
      "displayName": "Ajay",
      "userId": "17717857775607262603"
     },
     "user_tz": -330
    },
    "id": "UWerjxs1YAgw"
   },
   "outputs": [],
   "source": [
    "dtype_to_change = ['posEntryMode', 'posConditionCode', 'transcation_month', 'transcation_date','acqCountry','merchantCategoryCode','merchantCountryCode','transactionType','cardPresent','expirationDateKeyInMatch','cvv_match' ]\n",
    "\n",
    "for i in dtype_to_change:\n",
    "    xtrain3[i] = xtrain3[i].astype('category')\n",
    "    xtest3[i] = xtest3[i].astype('category')"
   ]
  },
  {
   "cell_type": "code",
   "execution_count": 202,
   "metadata": {
    "executionInfo": {
     "elapsed": 13,
     "status": "aborted",
     "timestamp": 1696930263760,
     "user": {
      "displayName": "Ajay",
      "userId": "17717857775607262603"
     },
     "user_tz": -330
    },
    "id": "QZzxUWSdtNwO"
   },
   "outputs": [
    {
     "data": {
      "text/html": [
       "<div>\n",
       "<style scoped>\n",
       "    .dataframe tbody tr th:only-of-type {\n",
       "        vertical-align: middle;\n",
       "    }\n",
       "\n",
       "    .dataframe tbody tr th {\n",
       "        vertical-align: top;\n",
       "    }\n",
       "\n",
       "    .dataframe thead th {\n",
       "        text-align: right;\n",
       "    }\n",
       "</style>\n",
       "<table border=\"1\" class=\"dataframe\">\n",
       "  <thead>\n",
       "    <tr style=\"text-align: right;\">\n",
       "      <th></th>\n",
       "      <th>creditLimit</th>\n",
       "      <th>availableMoney</th>\n",
       "      <th>transactionAmount</th>\n",
       "      <th>acqCountry</th>\n",
       "      <th>merchantCountryCode</th>\n",
       "      <th>posEntryMode</th>\n",
       "      <th>posConditionCode</th>\n",
       "      <th>merchantCategoryCode</th>\n",
       "      <th>transactionType</th>\n",
       "      <th>currentBalance</th>\n",
       "      <th>cardPresent</th>\n",
       "      <th>expirationDateKeyInMatch</th>\n",
       "      <th>transcation_month</th>\n",
       "      <th>transcation_date</th>\n",
       "      <th>cvv_match</th>\n",
       "      <th>Days_after_Last Address Change</th>\n",
       "    </tr>\n",
       "  </thead>\n",
       "  <tbody>\n",
       "    <tr>\n",
       "      <th>0</th>\n",
       "      <td>500</td>\n",
       "      <td>54.53</td>\n",
       "      <td>367.03</td>\n",
       "      <td>3</td>\n",
       "      <td>3</td>\n",
       "      <td>9</td>\n",
       "      <td>1</td>\n",
       "      <td>14</td>\n",
       "      <td>1</td>\n",
       "      <td>445.47</td>\n",
       "      <td>0</td>\n",
       "      <td>0</td>\n",
       "      <td>2</td>\n",
       "      <td>14</td>\n",
       "      <td>1</td>\n",
       "      <td>813</td>\n",
       "    </tr>\n",
       "    <tr>\n",
       "      <th>1</th>\n",
       "      <td>15000</td>\n",
       "      <td>3280.01</td>\n",
       "      <td>122.95</td>\n",
       "      <td>3</td>\n",
       "      <td>3</td>\n",
       "      <td>5</td>\n",
       "      <td>1</td>\n",
       "      <td>3</td>\n",
       "      <td>1</td>\n",
       "      <td>11719.99</td>\n",
       "      <td>1</td>\n",
       "      <td>0</td>\n",
       "      <td>4</td>\n",
       "      <td>28</td>\n",
       "      <td>1</td>\n",
       "      <td>44</td>\n",
       "    </tr>\n",
       "    <tr>\n",
       "      <th>2</th>\n",
       "      <td>5000</td>\n",
       "      <td>4405.83</td>\n",
       "      <td>13.83</td>\n",
       "      <td>3</td>\n",
       "      <td>3</td>\n",
       "      <td>90</td>\n",
       "      <td>1</td>\n",
       "      <td>14</td>\n",
       "      <td>1</td>\n",
       "      <td>594.17</td>\n",
       "      <td>0</td>\n",
       "      <td>0</td>\n",
       "      <td>12</td>\n",
       "      <td>11</td>\n",
       "      <td>1</td>\n",
       "      <td>1805</td>\n",
       "    </tr>\n",
       "    <tr>\n",
       "      <th>3</th>\n",
       "      <td>250</td>\n",
       "      <td>250.00</td>\n",
       "      <td>0.00</td>\n",
       "      <td>3</td>\n",
       "      <td>3</td>\n",
       "      <td>5</td>\n",
       "      <td>1</td>\n",
       "      <td>17</td>\n",
       "      <td>0</td>\n",
       "      <td>0.00</td>\n",
       "      <td>0</td>\n",
       "      <td>0</td>\n",
       "      <td>2</td>\n",
       "      <td>27</td>\n",
       "      <td>1</td>\n",
       "      <td>34</td>\n",
       "    </tr>\n",
       "    <tr>\n",
       "      <th>4</th>\n",
       "      <td>7500</td>\n",
       "      <td>5314.00</td>\n",
       "      <td>0.00</td>\n",
       "      <td>3</td>\n",
       "      <td>3</td>\n",
       "      <td>2</td>\n",
       "      <td>8</td>\n",
       "      <td>4</td>\n",
       "      <td>0</td>\n",
       "      <td>2186.00</td>\n",
       "      <td>0</td>\n",
       "      <td>0</td>\n",
       "      <td>3</td>\n",
       "      <td>21</td>\n",
       "      <td>1</td>\n",
       "      <td>3</td>\n",
       "    </tr>\n",
       "  </tbody>\n",
       "</table>\n",
       "</div>"
      ],
      "text/plain": [
       "   creditLimit  availableMoney  transactionAmount acqCountry  \\\n",
       "0          500           54.53             367.03          3   \n",
       "1        15000         3280.01             122.95          3   \n",
       "2         5000         4405.83              13.83          3   \n",
       "3          250          250.00               0.00          3   \n",
       "4         7500         5314.00               0.00          3   \n",
       "\n",
       "  merchantCountryCode posEntryMode posConditionCode merchantCategoryCode  \\\n",
       "0                   3            9                1                   14   \n",
       "1                   3            5                1                    3   \n",
       "2                   3           90                1                   14   \n",
       "3                   3            5                1                   17   \n",
       "4                   3            2                8                    4   \n",
       "\n",
       "  transactionType  currentBalance cardPresent expirationDateKeyInMatch  \\\n",
       "0               1          445.47           0                        0   \n",
       "1               1        11719.99           1                        0   \n",
       "2               1          594.17           0                        0   \n",
       "3               0            0.00           0                        0   \n",
       "4               0         2186.00           0                        0   \n",
       "\n",
       "  transcation_month transcation_date cvv_match  Days_after_Last Address Change  \n",
       "0                 2               14         1                             813  \n",
       "1                 4               28         1                              44  \n",
       "2                12               11         1                            1805  \n",
       "3                 2               27         1                              34  \n",
       "4                 3               21         1                               3  "
      ]
     },
     "execution_count": 202,
     "metadata": {},
     "output_type": "execute_result"
    }
   ],
   "source": [
    "xtrain3.head()"
   ]
  },
  {
   "cell_type": "code",
   "execution_count": 203,
   "metadata": {
    "executionInfo": {
     "elapsed": 13,
     "status": "aborted",
     "timestamp": 1696930263760,
     "user": {
      "displayName": "Ajay",
      "userId": "17717857775607262603"
     },
     "user_tz": -330
    },
    "id": "7XrTzaQdtRTt"
   },
   "outputs": [
    {
     "data": {
      "text/html": [
       "<div>\n",
       "<style scoped>\n",
       "    .dataframe tbody tr th:only-of-type {\n",
       "        vertical-align: middle;\n",
       "    }\n",
       "\n",
       "    .dataframe tbody tr th {\n",
       "        vertical-align: top;\n",
       "    }\n",
       "\n",
       "    .dataframe thead th {\n",
       "        text-align: right;\n",
       "    }\n",
       "</style>\n",
       "<table border=\"1\" class=\"dataframe\">\n",
       "  <thead>\n",
       "    <tr style=\"text-align: right;\">\n",
       "      <th></th>\n",
       "      <th>creditLimit</th>\n",
       "      <th>availableMoney</th>\n",
       "      <th>transactionAmount</th>\n",
       "      <th>acqCountry</th>\n",
       "      <th>merchantCountryCode</th>\n",
       "      <th>posEntryMode</th>\n",
       "      <th>posConditionCode</th>\n",
       "      <th>merchantCategoryCode</th>\n",
       "      <th>transactionType</th>\n",
       "      <th>currentBalance</th>\n",
       "      <th>cardPresent</th>\n",
       "      <th>expirationDateKeyInMatch</th>\n",
       "      <th>transcation_month</th>\n",
       "      <th>transcation_date</th>\n",
       "      <th>cvv_match</th>\n",
       "      <th>Days_after_Last Address Change</th>\n",
       "    </tr>\n",
       "  </thead>\n",
       "  <tbody>\n",
       "    <tr>\n",
       "      <th>35732</th>\n",
       "      <td>5000</td>\n",
       "      <td>759.82</td>\n",
       "      <td>5.48</td>\n",
       "      <td>3</td>\n",
       "      <td>3</td>\n",
       "      <td>5</td>\n",
       "      <td>1</td>\n",
       "      <td>14</td>\n",
       "      <td>1</td>\n",
       "      <td>4240.18</td>\n",
       "      <td>0</td>\n",
       "      <td>0</td>\n",
       "      <td>11</td>\n",
       "      <td>17</td>\n",
       "      <td>1</td>\n",
       "      <td>275</td>\n",
       "    </tr>\n",
       "    <tr>\n",
       "      <th>73534</th>\n",
       "      <td>5000</td>\n",
       "      <td>831.58</td>\n",
       "      <td>384.35</td>\n",
       "      <td>3</td>\n",
       "      <td>3</td>\n",
       "      <td>2</td>\n",
       "      <td>8</td>\n",
       "      <td>3</td>\n",
       "      <td>1</td>\n",
       "      <td>4168.42</td>\n",
       "      <td>1</td>\n",
       "      <td>0</td>\n",
       "      <td>6</td>\n",
       "      <td>25</td>\n",
       "      <td>1</td>\n",
       "      <td>247</td>\n",
       "    </tr>\n",
       "    <tr>\n",
       "      <th>87688</th>\n",
       "      <td>5000</td>\n",
       "      <td>2155.17</td>\n",
       "      <td>0.00</td>\n",
       "      <td>3</td>\n",
       "      <td>3</td>\n",
       "      <td>9</td>\n",
       "      <td>8</td>\n",
       "      <td>13</td>\n",
       "      <td>0</td>\n",
       "      <td>2844.83</td>\n",
       "      <td>0</td>\n",
       "      <td>0</td>\n",
       "      <td>10</td>\n",
       "      <td>19</td>\n",
       "      <td>1</td>\n",
       "      <td>436</td>\n",
       "    </tr>\n",
       "    <tr>\n",
       "      <th>27625</th>\n",
       "      <td>5000</td>\n",
       "      <td>1591.01</td>\n",
       "      <td>24.70</td>\n",
       "      <td>3</td>\n",
       "      <td>3</td>\n",
       "      <td>9</td>\n",
       "      <td>1</td>\n",
       "      <td>14</td>\n",
       "      <td>1</td>\n",
       "      <td>3408.99</td>\n",
       "      <td>0</td>\n",
       "      <td>0</td>\n",
       "      <td>4</td>\n",
       "      <td>22</td>\n",
       "      <td>1</td>\n",
       "      <td>-104</td>\n",
       "    </tr>\n",
       "    <tr>\n",
       "      <th>59295</th>\n",
       "      <td>2500</td>\n",
       "      <td>1059.89</td>\n",
       "      <td>135.77</td>\n",
       "      <td>3</td>\n",
       "      <td>3</td>\n",
       "      <td>5</td>\n",
       "      <td>1</td>\n",
       "      <td>4</td>\n",
       "      <td>1</td>\n",
       "      <td>1440.11</td>\n",
       "      <td>1</td>\n",
       "      <td>0</td>\n",
       "      <td>6</td>\n",
       "      <td>15</td>\n",
       "      <td>1</td>\n",
       "      <td>-21</td>\n",
       "    </tr>\n",
       "  </tbody>\n",
       "</table>\n",
       "</div>"
      ],
      "text/plain": [
       "       creditLimit  availableMoney  transactionAmount acqCountry  \\\n",
       "35732         5000          759.82               5.48          3   \n",
       "73534         5000          831.58             384.35          3   \n",
       "87688         5000         2155.17               0.00          3   \n",
       "27625         5000         1591.01              24.70          3   \n",
       "59295         2500         1059.89             135.77          3   \n",
       "\n",
       "      merchantCountryCode posEntryMode posConditionCode merchantCategoryCode  \\\n",
       "35732                   3            5                1                   14   \n",
       "73534                   3            2                8                    3   \n",
       "87688                   3            9                8                   13   \n",
       "27625                   3            9                1                   14   \n",
       "59295                   3            5                1                    4   \n",
       "\n",
       "      transactionType  currentBalance cardPresent expirationDateKeyInMatch  \\\n",
       "35732               1         4240.18           0                        0   \n",
       "73534               1         4168.42           1                        0   \n",
       "87688               0         2844.83           0                        0   \n",
       "27625               1         3408.99           0                        0   \n",
       "59295               1         1440.11           1                        0   \n",
       "\n",
       "      transcation_month transcation_date cvv_match  \\\n",
       "35732                11               17         1   \n",
       "73534                 6               25         1   \n",
       "87688                10               19         1   \n",
       "27625                 4               22         1   \n",
       "59295                 6               15         1   \n",
       "\n",
       "       Days_after_Last Address Change  \n",
       "35732                             275  \n",
       "73534                             247  \n",
       "87688                             436  \n",
       "27625                            -104  \n",
       "59295                             -21  "
      ]
     },
     "execution_count": 203,
     "metadata": {},
     "output_type": "execute_result"
    }
   ],
   "source": [
    "xtest3.head()"
   ]
  },
  {
   "cell_type": "code",
   "execution_count": 204,
   "metadata": {
    "executionInfo": {
     "elapsed": 13,
     "status": "aborted",
     "timestamp": 1696930263760,
     "user": {
      "displayName": "Ajay",
      "userId": "17717857775607262603"
     },
     "user_tz": -330
    },
    "id": "P_vsPB1YtWuu"
   },
   "outputs": [
    {
     "name": "stdout",
     "output_type": "stream",
     "text": [
      "<class 'pandas.core.frame.DataFrame'>\n",
      "RangeIndex: 153048 entries, 0 to 153047\n",
      "Data columns (total 16 columns):\n",
      " #   Column                          Non-Null Count   Dtype   \n",
      "---  ------                          --------------   -----   \n",
      " 0   creditLimit                     153048 non-null  int64   \n",
      " 1   availableMoney                  153048 non-null  float64 \n",
      " 2   transactionAmount               153048 non-null  float64 \n",
      " 3   acqCountry                      153048 non-null  category\n",
      " 4   merchantCountryCode             153048 non-null  category\n",
      " 5   posEntryMode                    153048 non-null  category\n",
      " 6   posConditionCode                153048 non-null  category\n",
      " 7   merchantCategoryCode            153048 non-null  category\n",
      " 8   transactionType                 153048 non-null  category\n",
      " 9   currentBalance                  153048 non-null  float64 \n",
      " 10  cardPresent                     153048 non-null  category\n",
      " 11  expirationDateKeyInMatch        153048 non-null  category\n",
      " 12  transcation_month               153048 non-null  category\n",
      " 13  transcation_date                153048 non-null  category\n",
      " 14  cvv_match                       153048 non-null  category\n",
      " 15  Days_after_Last Address Change  153048 non-null  int64   \n",
      "dtypes: category(11), float64(3), int64(2)\n",
      "memory usage: 7.5 MB\n",
      "<class 'pandas.core.frame.DataFrame'>\n",
      "Int64Index: 19504 entries, 35732 to 26366\n",
      "Data columns (total 16 columns):\n",
      " #   Column                          Non-Null Count  Dtype   \n",
      "---  ------                          --------------  -----   \n",
      " 0   creditLimit                     19504 non-null  int64   \n",
      " 1   availableMoney                  19504 non-null  float64 \n",
      " 2   transactionAmount               19504 non-null  float64 \n",
      " 3   acqCountry                      19504 non-null  category\n",
      " 4   merchantCountryCode             19504 non-null  category\n",
      " 5   posEntryMode                    19504 non-null  category\n",
      " 6   posConditionCode                19504 non-null  category\n",
      " 7   merchantCategoryCode            19504 non-null  category\n",
      " 8   transactionType                 19504 non-null  category\n",
      " 9   currentBalance                  19504 non-null  float64 \n",
      " 10  cardPresent                     19504 non-null  category\n",
      " 11  expirationDateKeyInMatch        19504 non-null  category\n",
      " 12  transcation_month               19504 non-null  category\n",
      " 13  transcation_date                19504 non-null  category\n",
      " 14  cvv_match                       19504 non-null  category\n",
      " 15  Days_after_Last Address Change  19504 non-null  int64   \n",
      "dtypes: category(11), float64(3), int64(2)\n",
      "memory usage: 1.1 MB\n"
     ]
    },
    {
     "data": {
      "text/plain": [
       "(None, None)"
      ]
     },
     "execution_count": 204,
     "metadata": {},
     "output_type": "execute_result"
    }
   ],
   "source": [
    "xtrain3.info(),xtest3.info()"
   ]
  },
  {
   "cell_type": "markdown",
   "metadata": {
    "id": "Hob1BzxaTGlq"
   },
   "source": [
    "## Base Model Logistic Regression with Random State 3"
   ]
  },
  {
   "cell_type": "code",
   "execution_count": 205,
   "metadata": {
    "executionInfo": {
     "elapsed": 13,
     "status": "aborted",
     "timestamp": 1696930263760,
     "user": {
      "displayName": "Ajay",
      "userId": "17717857775607262603"
     },
     "user_tz": -330
    },
    "id": "4hr1tjNHTGlq"
   },
   "outputs": [],
   "source": [
    "LR3 = LogisticRegression()"
   ]
  },
  {
   "cell_type": "code",
   "execution_count": 206,
   "metadata": {
    "executionInfo": {
     "elapsed": 13,
     "status": "aborted",
     "timestamp": 1696930263760,
     "user": {
      "displayName": "Ajay",
      "userId": "17717857775607262603"
     },
     "user_tz": -330
    },
    "id": "rPlKbH-MTGlq"
   },
   "outputs": [],
   "source": [
    "model_rs3_1 = LR3.fit(xtrain3,ytrain3)"
   ]
  },
  {
   "cell_type": "code",
   "execution_count": 207,
   "metadata": {
    "executionInfo": {
     "elapsed": 12,
     "status": "aborted",
     "timestamp": 1696930263760,
     "user": {
      "displayName": "Ajay",
      "userId": "17717857775607262603"
     },
     "user_tz": -330
    },
    "id": "1zlP1OvXTGlq"
   },
   "outputs": [],
   "source": [
    "ypred_train_rs3_1 = model_rs3_1.predict(xtrain3)\n",
    "ypred_test_rs3_1 = model_rs3_1.predict(xtest3)"
   ]
  },
  {
   "cell_type": "code",
   "execution_count": 208,
   "metadata": {
    "executionInfo": {
     "elapsed": 12,
     "status": "aborted",
     "timestamp": 1696930263760,
     "user": {
      "displayName": "Ajay",
      "userId": "17717857775607262603"
     },
     "user_tz": -330
    },
    "id": "g8kGZsavTGlr"
   },
   "outputs": [
    {
     "data": {
      "text/html": [
       "<div>\n",
       "<style scoped>\n",
       "    .dataframe tbody tr th:only-of-type {\n",
       "        vertical-align: middle;\n",
       "    }\n",
       "\n",
       "    .dataframe tbody tr th {\n",
       "        vertical-align: top;\n",
       "    }\n",
       "\n",
       "    .dataframe thead th {\n",
       "        text-align: right;\n",
       "    }\n",
       "</style>\n",
       "<table border=\"1\" class=\"dataframe\">\n",
       "  <thead>\n",
       "    <tr style=\"text-align: right;\">\n",
       "      <th></th>\n",
       "      <th>Model</th>\n",
       "      <th>Accuracy</th>\n",
       "      <th>Recall</th>\n",
       "      <th>Precision</th>\n",
       "      <th>F1 Score</th>\n",
       "      <th>TN</th>\n",
       "      <th>FN</th>\n",
       "      <th>FP</th>\n",
       "      <th>TP</th>\n",
       "    </tr>\n",
       "  </thead>\n",
       "  <tbody>\n",
       "    <tr>\n",
       "      <th>0</th>\n",
       "      <td>Logistic Regression RS 3 Train</td>\n",
       "      <td>0.61531</td>\n",
       "      <td>0.61531</td>\n",
       "      <td>0.618081</td>\n",
       "      <td>0.61304</td>\n",
       "      <td>52947</td>\n",
       "      <td>35299</td>\n",
       "      <td>23577</td>\n",
       "      <td>41225</td>\n",
       "    </tr>\n",
       "  </tbody>\n",
       "</table>\n",
       "</div>"
      ],
      "text/plain": [
       "                            Model  Accuracy   Recall  Precision  F1 Score  \\\n",
       "0  Logistic Regression RS 3 Train   0.61531  0.61531   0.618081   0.61304   \n",
       "\n",
       "      TN     FN     FP     TP  \n",
       "0  52947  35299  23577  41225  "
      ]
     },
     "execution_count": 208,
     "metadata": {},
     "output_type": "execute_result"
    }
   ],
   "source": [
    "update_performance(name='Logistic Regression RS 3 Train',model=LR3,test=ytrain3,pred=ypred_train_rs3_1)\n",
    "\n",
    "perf_score"
   ]
  },
  {
   "cell_type": "code",
   "execution_count": 209,
   "metadata": {
    "executionInfo": {
     "elapsed": 13,
     "status": "aborted",
     "timestamp": 1696930263761,
     "user": {
      "displayName": "Ajay",
      "userId": "17717857775607262603"
     },
     "user_tz": -330
    },
    "id": "sCBoXKTGTGlr"
   },
   "outputs": [
    {
     "data": {
      "text/html": [
       "<div>\n",
       "<style scoped>\n",
       "    .dataframe tbody tr th:only-of-type {\n",
       "        vertical-align: middle;\n",
       "    }\n",
       "\n",
       "    .dataframe tbody tr th {\n",
       "        vertical-align: top;\n",
       "    }\n",
       "\n",
       "    .dataframe thead th {\n",
       "        text-align: right;\n",
       "    }\n",
       "</style>\n",
       "<table border=\"1\" class=\"dataframe\">\n",
       "  <thead>\n",
       "    <tr style=\"text-align: right;\">\n",
       "      <th></th>\n",
       "      <th>Model</th>\n",
       "      <th>Accuracy</th>\n",
       "      <th>Recall</th>\n",
       "      <th>Precision</th>\n",
       "      <th>F1 Score</th>\n",
       "      <th>TN</th>\n",
       "      <th>FN</th>\n",
       "      <th>FP</th>\n",
       "      <th>TP</th>\n",
       "    </tr>\n",
       "  </thead>\n",
       "  <tbody>\n",
       "    <tr>\n",
       "      <th>0</th>\n",
       "      <td>Logistic Regression RS 3 Train</td>\n",
       "      <td>0.615310</td>\n",
       "      <td>0.615310</td>\n",
       "      <td>0.618081</td>\n",
       "      <td>0.613040</td>\n",
       "      <td>52947</td>\n",
       "      <td>35299</td>\n",
       "      <td>23577</td>\n",
       "      <td>41225</td>\n",
       "    </tr>\n",
       "    <tr>\n",
       "      <th>1</th>\n",
       "      <td>Logistic Regression RS 3 Test</td>\n",
       "      <td>0.681963</td>\n",
       "      <td>0.681963</td>\n",
       "      <td>0.970216</td>\n",
       "      <td>0.794779</td>\n",
       "      <td>13102</td>\n",
       "      <td>161</td>\n",
       "      <td>6042</td>\n",
       "      <td>199</td>\n",
       "    </tr>\n",
       "  </tbody>\n",
       "</table>\n",
       "</div>"
      ],
      "text/plain": [
       "                            Model  Accuracy    Recall  Precision  F1 Score  \\\n",
       "0  Logistic Regression RS 3 Train  0.615310  0.615310   0.618081  0.613040   \n",
       "1   Logistic Regression RS 3 Test  0.681963  0.681963   0.970216  0.794779   \n",
       "\n",
       "      TN     FN     FP     TP  \n",
       "0  52947  35299  23577  41225  \n",
       "1  13102    161   6042    199  "
      ]
     },
     "execution_count": 209,
     "metadata": {},
     "output_type": "execute_result"
    }
   ],
   "source": [
    "update_performance(name='Logistic Regression RS 3 Test' ,model=LR3,test=ytest3,pred=ypred_test_rs3_1)\n",
    "\n",
    "perf_score"
   ]
  },
  {
   "cell_type": "code",
   "execution_count": null,
   "metadata": {
    "executionInfo": {
     "elapsed": 13,
     "status": "aborted",
     "timestamp": 1696930263761,
     "user": {
      "displayName": "Ajay",
      "userId": "17717857775607262603"
     },
     "user_tz": -330
    },
    "id": "Gu2ixGDPTGls"
   },
   "outputs": [],
   "source": []
  },
  {
   "cell_type": "code",
   "execution_count": null,
   "metadata": {},
   "outputs": [],
   "source": []
  },
  {
   "cell_type": "markdown",
   "metadata": {},
   "source": [
    "## Models Build\n",
    "* DT MODEL, DT WITH SOME PARAMETER\n",
    "* RF MODEL, RF MODEL WITH SOME PRAMETER\n",
    "* WITH AND WITHOUT SMOTE"
   ]
  },
  {
   "cell_type": "markdown",
   "metadata": {},
   "source": [
    "### With Smote Data (x3,y3)"
   ]
  },
  {
   "cell_type": "code",
   "execution_count": 210,
   "metadata": {},
   "outputs": [
    {
     "data": {
      "text/plain": [
       "(19504,)"
      ]
     },
     "execution_count": 210,
     "metadata": {},
     "output_type": "execute_result"
    }
   ],
   "source": [
    "ytest3.shape"
   ]
  },
  {
   "cell_type": "markdown",
   "metadata": {},
   "source": [
    "## Decision Tree"
   ]
  },
  {
   "cell_type": "code",
   "execution_count": 211,
   "metadata": {},
   "outputs": [],
   "source": [
    "from sklearn.tree import DecisionTreeClassifier\n",
    "from sklearn.model_selection import GridSearchCV"
   ]
  },
  {
   "cell_type": "code",
   "execution_count": 212,
   "metadata": {},
   "outputs": [],
   "source": [
    "decision_tree_classification = DecisionTreeClassifier(random_state = 10)\n",
    "\n",
    "decision_tree = decision_tree_classification.fit(xtrain3, ytrain3)"
   ]
  },
  {
   "cell_type": "code",
   "execution_count": 213,
   "metadata": {},
   "outputs": [
    {
     "name": "stdout",
     "output_type": "stream",
     "text": [
      "              precision    recall  f1-score   support\n",
      "\n",
      "           0       1.00      1.00      1.00     76524\n",
      "           1       1.00      1.00      1.00     76524\n",
      "\n",
      "    accuracy                           1.00    153048\n",
      "   macro avg       1.00      1.00      1.00    153048\n",
      "weighted avg       1.00      1.00      1.00    153048\n",
      "\n"
     ]
    }
   ],
   "source": [
    "train_pred_dt = decision_tree_classification.predict(xtrain3)\n",
    "print(classification_report(ytrain3, train_pred_dt))"
   ]
  },
  {
   "cell_type": "code",
   "execution_count": 214,
   "metadata": {},
   "outputs": [
    {
     "name": "stdout",
     "output_type": "stream",
     "text": [
      "              precision    recall  f1-score   support\n",
      "\n",
      "           0       0.98      0.94      0.96     19144\n",
      "           1       0.03      0.10      0.05       360\n",
      "\n",
      "    accuracy                           0.92     19504\n",
      "   macro avg       0.51      0.52      0.50     19504\n",
      "weighted avg       0.96      0.92      0.94     19504\n",
      "\n"
     ]
    }
   ],
   "source": [
    "test_pred_dt = decision_tree_classification.predict(xtest3)\n",
    "print(classification_report(ytest3, test_pred_dt))"
   ]
  },
  {
   "cell_type": "code",
   "execution_count": 215,
   "metadata": {},
   "outputs": [],
   "source": [
    "update_performance(name='DT  Classifier Train' ,model=decision_tree_classification,test=ytrain3,pred=train_pred_dt)\n",
    "update_performance(name='DT  Classifier Test' ,model=decision_tree_classification,test=ytest3,pred=test_pred_dt)"
   ]
  },
  {
   "cell_type": "code",
   "execution_count": 216,
   "metadata": {},
   "outputs": [],
   "source": [
    "# Clearly Overfitting"
   ]
  },
  {
   "cell_type": "markdown",
   "metadata": {},
   "source": [
    "#### Grid Search CV for Decision Tree"
   ]
  },
  {
   "cell_type": "code",
   "execution_count": 217,
   "metadata": {},
   "outputs": [],
   "source": [
    "# tuned_paramaters = [{'criterion': ['entropy', 'gini'], \n",
    "#                      'max_depth': [30,35,40],\n",
    "#                      'min_samples_split': range(50,100,10),\n",
    "#                      'min_samples_leaf': range(10,50,10),\n",
    "#                     }]\n",
    " \n",
    "# decision_tree_classification = DecisionTreeClassifier(random_state = 10)\n",
    "\n",
    "# tree_grid = GridSearchCV(estimator = decision_tree_classification, \n",
    "#                          param_grid = tuned_paramaters, \n",
    "#                          cv = 5)\n",
    "\n",
    "# tree_grid_model = tree_grid.fit(xtrain3, ytrain3)\n",
    "# print('Best parameters for decision tree classifier: ', tree_grid_model.best_params_, '\\n')"
   ]
  },
  {
   "cell_type": "markdown",
   "metadata": {},
   "source": [
    "Best parameters for decision tree classifier: {'criterion': 'entropy', 'max_depth': 35, 'min_samples_leaf': 10, 'min_samples_split': 50}"
   ]
  },
  {
   "cell_type": "markdown",
   "metadata": {},
   "source": [
    "##### Model with best Parameter"
   ]
  },
  {
   "cell_type": "code",
   "execution_count": 218,
   "metadata": {},
   "outputs": [
    {
     "name": "stdout",
     "output_type": "stream",
     "text": [
      "              precision    recall  f1-score   support\n",
      "\n",
      "           0       0.95      0.95      0.95     76524\n",
      "           1       0.95      0.95      0.95     76524\n",
      "\n",
      "    accuracy                           0.95    153048\n",
      "   macro avg       0.95      0.95      0.95    153048\n",
      "weighted avg       0.95      0.95      0.95    153048\n",
      "\n"
     ]
    }
   ],
   "source": [
    "decision_tree_classification = DecisionTreeClassifier(criterion = 'entropy', random_state = 10,max_depth= 35,min_samples_split = 50,min_samples_leaf = 10)\n",
    "\n",
    "decision_tree = decision_tree_classification.fit(xtrain3, ytrain3)\n",
    "\n",
    "train_pred_dt = decision_tree_classification.predict(xtrain3)\n",
    "print(classification_report(ytrain3, train_pred_dt))"
   ]
  },
  {
   "cell_type": "code",
   "execution_count": 219,
   "metadata": {},
   "outputs": [
    {
     "name": "stdout",
     "output_type": "stream",
     "text": [
      "              precision    recall  f1-score   support\n",
      "\n",
      "           0       0.98      0.93      0.95     19144\n",
      "           1       0.03      0.12      0.05       360\n",
      "\n",
      "    accuracy                           0.91     19504\n",
      "   macro avg       0.51      0.53      0.50     19504\n",
      "weighted avg       0.96      0.91      0.94     19504\n",
      "\n"
     ]
    }
   ],
   "source": [
    "test_pred_dt = decision_tree_classification.predict(xtest3)\n",
    "print(classification_report(ytest3, test_pred_dt))"
   ]
  },
  {
   "cell_type": "code",
   "execution_count": 220,
   "metadata": {},
   "outputs": [],
   "source": [
    "# updating score\n",
    "update_performance(name='DT Classifier Train Best Param' ,model=decision_tree_classification,test=ytrain3,pred=train_pred_dt)\n",
    "update_performance(name='DT Classifier Test Best Param' ,model=decision_tree_classification,test=ytest3,pred=test_pred_dt)"
   ]
  },
  {
   "cell_type": "code",
   "execution_count": null,
   "metadata": {},
   "outputs": [],
   "source": []
  },
  {
   "cell_type": "markdown",
   "metadata": {},
   "source": [
    "## Random Forest Model"
   ]
  },
  {
   "cell_type": "code",
   "execution_count": 221,
   "metadata": {},
   "outputs": [],
   "source": [
    "from sklearn.ensemble import RandomForestClassifier"
   ]
  },
  {
   "cell_type": "code",
   "execution_count": 222,
   "metadata": {},
   "outputs": [
    {
     "name": "stdout",
     "output_type": "stream",
     "text": [
      "              precision    recall  f1-score   support\n",
      "\n",
      "           0       1.00      1.00      1.00     76524\n",
      "           1       1.00      1.00      1.00     76524\n",
      "\n",
      "    accuracy                           1.00    153048\n",
      "   macro avg       1.00      1.00      1.00    153048\n",
      "weighted avg       1.00      1.00      1.00    153048\n",
      "\n"
     ]
    }
   ],
   "source": [
    "randomforest_classification = RandomForestClassifier()\n",
    "\n",
    "decision_tree = randomforest_classification.fit(xtrain3, ytrain3)\n",
    "\n",
    "train_pred_rf = randomforest_classification.predict(xtrain3)\n",
    "print(classification_report(ytrain3, train_pred_rf))"
   ]
  },
  {
   "cell_type": "code",
   "execution_count": 223,
   "metadata": {},
   "outputs": [
    {
     "name": "stdout",
     "output_type": "stream",
     "text": [
      "              precision    recall  f1-score   support\n",
      "\n",
      "           0       0.98      0.98      0.98     19144\n",
      "           1       0.05      0.04      0.05       360\n",
      "\n",
      "    accuracy                           0.97     19504\n",
      "   macro avg       0.51      0.51      0.51     19504\n",
      "weighted avg       0.96      0.97      0.97     19504\n",
      "\n"
     ]
    }
   ],
   "source": [
    "test_pred_rf = randomforest_classification.predict(xtest3)\n",
    "print(classification_report(ytest3, test_pred_rf))"
   ]
  },
  {
   "cell_type": "code",
   "execution_count": 224,
   "metadata": {},
   "outputs": [],
   "source": [
    "# updating score\n",
    "update_performance(name='RF Classifier Train' ,model=randomforest_classification,test=ytrain3,pred=train_pred_dt)\n",
    "update_performance(name='RF Classifier Test' ,model=randomforest_classification,test=ytest3,pred=test_pred_dt)"
   ]
  },
  {
   "cell_type": "markdown",
   "metadata": {},
   "source": [
    "## Data without Smoting (x4,y4)"
   ]
  },
  {
   "cell_type": "code",
   "execution_count": 225,
   "metadata": {},
   "outputs": [],
   "source": [
    "x4 = trxn_stratified_rs3.drop(columns=['isFraud'],axis=1)\n",
    "y4 = trxn_stratified_rs3['isFraud']\n",
    "xtrain4,xtest4,ytrain4,ytest4 = train_test_split(x4,y4, test_size=0.2, random_state=3)"
   ]
  },
  {
   "cell_type": "markdown",
   "metadata": {},
   "source": [
    "### Decision Tree Model"
   ]
  },
  {
   "cell_type": "code",
   "execution_count": 226,
   "metadata": {},
   "outputs": [],
   "source": [
    "decision_tree_classification = DecisionTreeClassifier(random_state = 10)\n",
    "decision_tree = decision_tree_classification.fit(xtrain4, ytrain4)"
   ]
  },
  {
   "cell_type": "code",
   "execution_count": 227,
   "metadata": {},
   "outputs": [
    {
     "name": "stdout",
     "output_type": "stream",
     "text": [
      "              precision    recall  f1-score   support\n",
      "\n",
      "           0       1.00      1.00      1.00     76524\n",
      "           1       1.00      1.00      1.00      1492\n",
      "\n",
      "    accuracy                           1.00     78016\n",
      "   macro avg       1.00      1.00      1.00     78016\n",
      "weighted avg       1.00      1.00      1.00     78016\n",
      "\n"
     ]
    }
   ],
   "source": [
    "train_pred_dt = decision_tree_classification.predict(xtrain4)\n",
    "print(classification_report(ytrain4, train_pred_dt))"
   ]
  },
  {
   "cell_type": "code",
   "execution_count": 228,
   "metadata": {},
   "outputs": [
    {
     "name": "stdout",
     "output_type": "stream",
     "text": [
      "              precision    recall  f1-score   support\n",
      "\n",
      "           0       0.98      0.98      0.98     19144\n",
      "           1       0.03      0.04      0.03       360\n",
      "\n",
      "    accuracy                           0.96     19504\n",
      "   macro avg       0.51      0.51      0.51     19504\n",
      "weighted avg       0.96      0.96      0.96     19504\n",
      "\n"
     ]
    }
   ],
   "source": [
    "test_pred_dt = decision_tree_classification.predict(xtest4)\n",
    "print(classification_report(ytest4, test_pred_dt))"
   ]
  },
  {
   "cell_type": "code",
   "execution_count": 229,
   "metadata": {},
   "outputs": [],
   "source": [
    "update_performance(name='DT  Classifier Train (Withoit SMOT)' ,model=decision_tree_classification,test=ytrain4,pred=train_pred_dt)\n",
    "update_performance(name='DT  Classifier Test (Withoit SMOT)' ,model=decision_tree_classification,test=ytest4,pred=test_pred_dt)"
   ]
  },
  {
   "cell_type": "markdown",
   "metadata": {},
   "source": [
    "### Grid Search CV for Decision Tree Without Smote"
   ]
  },
  {
   "cell_type": "code",
   "execution_count": 230,
   "metadata": {},
   "outputs": [],
   "source": [
    "# tuned_paramaters = [{'criterion': ['entropy', 'gini'], \n",
    "#                      'max_depth': [30,35,40],\n",
    "#                      'min_samples_split': range(50,100,10),\n",
    "#                      'min_samples_leaf': range(10,50,10),\n",
    "#                     }]\n",
    " \n",
    "# decision_tree_classification = DecisionTreeClassifier(random_state = 10)\n",
    "\n",
    "# tree_grid = GridSearchCV(estimator = decision_tree_classification, \n",
    "#                          param_grid = tuned_paramaters, \n",
    "#                          cv = 5)\n",
    "\n",
    "# tree_grid_model = tree_grid.fit(xtrain3, ytrain3)\n",
    "# print('Best parameters for decision tree classifier: ', tree_grid_model.best_params_, '\\n')"
   ]
  },
  {
   "cell_type": "markdown",
   "metadata": {},
   "source": [
    "Best parameters for decision tree classifier:  {'criterion': 'entropy', 'max_depth': 30, 'min_samples_leaf': 10, 'min_samples_split': 70} "
   ]
  },
  {
   "cell_type": "markdown",
   "metadata": {},
   "source": [
    "##### Model with best Parameter  (without Smote)"
   ]
  },
  {
   "cell_type": "code",
   "execution_count": 231,
   "metadata": {},
   "outputs": [
    {
     "name": "stdout",
     "output_type": "stream",
     "text": [
      "              precision    recall  f1-score   support\n",
      "\n",
      "           0       0.98      1.00      0.99     76524\n",
      "           1       0.00      0.00      0.00      1492\n",
      "\n",
      "    accuracy                           0.98     78016\n",
      "   macro avg       0.49      0.50      0.50     78016\n",
      "weighted avg       0.96      0.98      0.97     78016\n",
      "\n"
     ]
    }
   ],
   "source": [
    "decision_tree_classification = DecisionTreeClassifier(criterion = 'entropy', random_state = 10,max_depth= 30,min_samples_split = 70,min_samples_leaf = 10)\n",
    "\n",
    "decision_tree = decision_tree_classification.fit(xtrain4, ytrain4)\n",
    "\n",
    "train_pred_dt = decision_tree_classification.predict(xtrain4)\n",
    "print(classification_report(ytrain4, train_pred_dt))"
   ]
  },
  {
   "cell_type": "code",
   "execution_count": 232,
   "metadata": {},
   "outputs": [
    {
     "name": "stdout",
     "output_type": "stream",
     "text": [
      "              precision    recall  f1-score   support\n",
      "\n",
      "           0       0.98      1.00      0.99     19144\n",
      "           1       0.00      0.00      0.00       360\n",
      "\n",
      "    accuracy                           0.98     19504\n",
      "   macro avg       0.49      0.50      0.50     19504\n",
      "weighted avg       0.96      0.98      0.97     19504\n",
      "\n"
     ]
    }
   ],
   "source": [
    "test_pred_dt = decision_tree_classification.predict(xtest4)\n",
    "print(classification_report(ytest4, test_pred_dt))"
   ]
  },
  {
   "cell_type": "code",
   "execution_count": 233,
   "metadata": {},
   "outputs": [],
   "source": [
    "update_performance(name='DT  Classifier Train Best Param (Withoit SMOT)' ,model=decision_tree_classification,test=ytrain4,pred=train_pred_dt)\n",
    "update_performance(name='DT  Classifier Test Best Param (Withoit SMOT)' ,model=decision_tree_classification,test=ytest4,pred=test_pred_dt)"
   ]
  },
  {
   "cell_type": "markdown",
   "metadata": {},
   "source": [
    "## Random Forest Model"
   ]
  },
  {
   "cell_type": "code",
   "execution_count": 234,
   "metadata": {},
   "outputs": [
    {
     "name": "stdout",
     "output_type": "stream",
     "text": [
      "              precision    recall  f1-score   support\n",
      "\n",
      "           0       1.00      1.00      1.00     76524\n",
      "           1       1.00      1.00      1.00      1492\n",
      "\n",
      "    accuracy                           1.00     78016\n",
      "   macro avg       1.00      1.00      1.00     78016\n",
      "weighted avg       1.00      1.00      1.00     78016\n",
      "\n"
     ]
    }
   ],
   "source": [
    "randomforest_classification = RandomForestClassifier()\n",
    "\n",
    "decision_tree = randomforest_classification.fit(xtrain4, ytrain4)\n",
    "\n",
    "train_pred_rf = randomforest_classification.predict(xtrain4)\n",
    "print(classification_report(ytrain4, train_pred_rf))"
   ]
  },
  {
   "cell_type": "code",
   "execution_count": 235,
   "metadata": {},
   "outputs": [
    {
     "name": "stdout",
     "output_type": "stream",
     "text": [
      "              precision    recall  f1-score   support\n",
      "\n",
      "           0       0.98      1.00      0.99     19144\n",
      "           1       0.00      0.00      0.00       360\n",
      "\n",
      "    accuracy                           0.98     19504\n",
      "   macro avg       0.49      0.50      0.50     19504\n",
      "weighted avg       0.96      0.98      0.97     19504\n",
      "\n"
     ]
    }
   ],
   "source": [
    "test_pred_rf = randomforest_classification.predict(xtest4)\n",
    "print(classification_report(ytest4, test_pred_rf))"
   ]
  },
  {
   "cell_type": "code",
   "execution_count": 236,
   "metadata": {},
   "outputs": [],
   "source": [
    "# updating score\n",
    "update_performance(name='RF  Classifier Train (Withoit SMOT)' ,model=randomforest_classification,test=ytrain4,pred=train_pred_dt)\n",
    "update_performance(name='RF  Classifier Test (Withoit SMOT)' ,model=randomforest_classification,test=ytest4,pred=test_pred_dt)"
   ]
  },
  {
   "cell_type": "code",
   "execution_count": 240,
   "metadata": {},
   "outputs": [
    {
     "data": {
      "text/html": [
       "<div>\n",
       "<style scoped>\n",
       "    .dataframe tbody tr th:only-of-type {\n",
       "        vertical-align: middle;\n",
       "    }\n",
       "\n",
       "    .dataframe tbody tr th {\n",
       "        vertical-align: top;\n",
       "    }\n",
       "\n",
       "    .dataframe thead th {\n",
       "        text-align: right;\n",
       "    }\n",
       "</style>\n",
       "<table border=\"1\" class=\"dataframe\">\n",
       "  <thead>\n",
       "    <tr style=\"text-align: right;\">\n",
       "      <th></th>\n",
       "      <th>Model</th>\n",
       "      <th>Accuracy</th>\n",
       "      <th>Recall</th>\n",
       "      <th>Precision</th>\n",
       "      <th>F1 Score</th>\n",
       "      <th>TN</th>\n",
       "      <th>FN</th>\n",
       "      <th>FP</th>\n",
       "      <th>TP</th>\n",
       "    </tr>\n",
       "  </thead>\n",
       "  <tbody>\n",
       "    <tr>\n",
       "      <th>0</th>\n",
       "      <td>Logistic Regression RS 3 Train</td>\n",
       "      <td>0.615310</td>\n",
       "      <td>0.615310</td>\n",
       "      <td>0.618081</td>\n",
       "      <td>0.613040</td>\n",
       "      <td>52947</td>\n",
       "      <td>35299</td>\n",
       "      <td>23577</td>\n",
       "      <td>41225</td>\n",
       "    </tr>\n",
       "    <tr>\n",
       "      <th>1</th>\n",
       "      <td>Logistic Regression RS 3 Test</td>\n",
       "      <td>0.681963</td>\n",
       "      <td>0.681963</td>\n",
       "      <td>0.970216</td>\n",
       "      <td>0.794779</td>\n",
       "      <td>13102</td>\n",
       "      <td>161</td>\n",
       "      <td>6042</td>\n",
       "      <td>199</td>\n",
       "    </tr>\n",
       "    <tr>\n",
       "      <th>2</th>\n",
       "      <td>DT  Classifier Train</td>\n",
       "      <td>1.000000</td>\n",
       "      <td>1.000000</td>\n",
       "      <td>1.000000</td>\n",
       "      <td>1.000000</td>\n",
       "      <td>76524</td>\n",
       "      <td>0</td>\n",
       "      <td>0</td>\n",
       "      <td>76524</td>\n",
       "    </tr>\n",
       "    <tr>\n",
       "      <th>3</th>\n",
       "      <td>DT  Classifier Test</td>\n",
       "      <td>0.924682</td>\n",
       "      <td>0.924682</td>\n",
       "      <td>0.964749</td>\n",
       "      <td>0.943920</td>\n",
       "      <td>17999</td>\n",
       "      <td>324</td>\n",
       "      <td>1145</td>\n",
       "      <td>36</td>\n",
       "    </tr>\n",
       "    <tr>\n",
       "      <th>4</th>\n",
       "      <td>DT  Classifier Train Best Param</td>\n",
       "      <td>0.947663</td>\n",
       "      <td>0.947663</td>\n",
       "      <td>0.947666</td>\n",
       "      <td>0.947663</td>\n",
       "      <td>72614</td>\n",
       "      <td>4100</td>\n",
       "      <td>3910</td>\n",
       "      <td>72424</td>\n",
       "    </tr>\n",
       "    <tr>\n",
       "      <th>5</th>\n",
       "      <td>DT  Classifier Test Best Param</td>\n",
       "      <td>0.911916</td>\n",
       "      <td>0.911916</td>\n",
       "      <td>0.964992</td>\n",
       "      <td>0.937131</td>\n",
       "      <td>17741</td>\n",
       "      <td>315</td>\n",
       "      <td>1403</td>\n",
       "      <td>45</td>\n",
       "    </tr>\n",
       "    <tr>\n",
       "      <th>6</th>\n",
       "      <td>RF  Classifier Train</td>\n",
       "      <td>0.947663</td>\n",
       "      <td>0.947663</td>\n",
       "      <td>0.947666</td>\n",
       "      <td>0.947663</td>\n",
       "      <td>72614</td>\n",
       "      <td>4100</td>\n",
       "      <td>3910</td>\n",
       "      <td>72424</td>\n",
       "    </tr>\n",
       "    <tr>\n",
       "      <th>7</th>\n",
       "      <td>RF  Classifier Test</td>\n",
       "      <td>0.911916</td>\n",
       "      <td>0.911916</td>\n",
       "      <td>0.964992</td>\n",
       "      <td>0.937131</td>\n",
       "      <td>17741</td>\n",
       "      <td>315</td>\n",
       "      <td>1403</td>\n",
       "      <td>45</td>\n",
       "    </tr>\n",
       "    <tr>\n",
       "      <th>8</th>\n",
       "      <td>DT  Classifier Train (Withoit SMOT)</td>\n",
       "      <td>1.000000</td>\n",
       "      <td>1.000000</td>\n",
       "      <td>1.000000</td>\n",
       "      <td>1.000000</td>\n",
       "      <td>76524</td>\n",
       "      <td>0</td>\n",
       "      <td>0</td>\n",
       "      <td>1492</td>\n",
       "    </tr>\n",
       "    <tr>\n",
       "      <th>9</th>\n",
       "      <td>DT  Classifier Test (Withoit SMOT)</td>\n",
       "      <td>0.960316</td>\n",
       "      <td>0.960316</td>\n",
       "      <td>0.964311</td>\n",
       "      <td>0.962302</td>\n",
       "      <td>18716</td>\n",
       "      <td>346</td>\n",
       "      <td>428</td>\n",
       "      <td>14</td>\n",
       "    </tr>\n",
       "    <tr>\n",
       "      <th>10</th>\n",
       "      <td>DT  Classifier Train Best Param (Withoit SMOT)</td>\n",
       "      <td>0.980876</td>\n",
       "      <td>0.980876</td>\n",
       "      <td>0.962117</td>\n",
       "      <td>0.971406</td>\n",
       "      <td>76524</td>\n",
       "      <td>1492</td>\n",
       "      <td>0</td>\n",
       "      <td>0</td>\n",
       "    </tr>\n",
       "    <tr>\n",
       "      <th>11</th>\n",
       "      <td>DT  Classifier Test Best Param (Withoit SMOT)</td>\n",
       "      <td>0.981542</td>\n",
       "      <td>0.981542</td>\n",
       "      <td>0.963425</td>\n",
       "      <td>0.972399</td>\n",
       "      <td>19144</td>\n",
       "      <td>360</td>\n",
       "      <td>0</td>\n",
       "      <td>0</td>\n",
       "    </tr>\n",
       "    <tr>\n",
       "      <th>12</th>\n",
       "      <td>RF  Classifier Train (Withoit SMOT)</td>\n",
       "      <td>0.980876</td>\n",
       "      <td>0.980876</td>\n",
       "      <td>0.962117</td>\n",
       "      <td>0.971406</td>\n",
       "      <td>76524</td>\n",
       "      <td>1492</td>\n",
       "      <td>0</td>\n",
       "      <td>0</td>\n",
       "    </tr>\n",
       "    <tr>\n",
       "      <th>13</th>\n",
       "      <td>RF  Classifier Test (Withoit SMOT)</td>\n",
       "      <td>0.981542</td>\n",
       "      <td>0.981542</td>\n",
       "      <td>0.963425</td>\n",
       "      <td>0.972399</td>\n",
       "      <td>19144</td>\n",
       "      <td>360</td>\n",
       "      <td>0</td>\n",
       "      <td>0</td>\n",
       "    </tr>\n",
       "  </tbody>\n",
       "</table>\n",
       "</div>"
      ],
      "text/plain": [
       "                                             Model  Accuracy    Recall  \\\n",
       "0                   Logistic Regression RS 3 Train  0.615310  0.615310   \n",
       "1                    Logistic Regression RS 3 Test  0.681963  0.681963   \n",
       "2                             DT  Classifier Train  1.000000  1.000000   \n",
       "3                              DT  Classifier Test  0.924682  0.924682   \n",
       "4                  DT  Classifier Train Best Param  0.947663  0.947663   \n",
       "5                   DT  Classifier Test Best Param  0.911916  0.911916   \n",
       "6                             RF  Classifier Train  0.947663  0.947663   \n",
       "7                              RF  Classifier Test  0.911916  0.911916   \n",
       "8              DT  Classifier Train (Withoit SMOT)  1.000000  1.000000   \n",
       "9               DT  Classifier Test (Withoit SMOT)  0.960316  0.960316   \n",
       "10  DT  Classifier Train Best Param (Withoit SMOT)  0.980876  0.980876   \n",
       "11   DT  Classifier Test Best Param (Withoit SMOT)  0.981542  0.981542   \n",
       "12             RF  Classifier Train (Withoit SMOT)  0.980876  0.980876   \n",
       "13              RF  Classifier Test (Withoit SMOT)  0.981542  0.981542   \n",
       "\n",
       "    Precision  F1 Score     TN     FN     FP     TP  \n",
       "0    0.618081  0.613040  52947  35299  23577  41225  \n",
       "1    0.970216  0.794779  13102    161   6042    199  \n",
       "2    1.000000  1.000000  76524      0      0  76524  \n",
       "3    0.964749  0.943920  17999    324   1145     36  \n",
       "4    0.947666  0.947663  72614   4100   3910  72424  \n",
       "5    0.964992  0.937131  17741    315   1403     45  \n",
       "6    0.947666  0.947663  72614   4100   3910  72424  \n",
       "7    0.964992  0.937131  17741    315   1403     45  \n",
       "8    1.000000  1.000000  76524      0      0   1492  \n",
       "9    0.964311  0.962302  18716    346    428     14  \n",
       "10   0.962117  0.971406  76524   1492      0      0  \n",
       "11   0.963425  0.972399  19144    360      0      0  \n",
       "12   0.962117  0.971406  76524   1492      0      0  \n",
       "13   0.963425  0.972399  19144    360      0      0  "
      ]
     },
     "execution_count": 240,
     "metadata": {},
     "output_type": "execute_result"
    }
   ],
   "source": [
    "perf_score"
   ]
  },
  {
   "cell_type": "code",
   "execution_count": null,
   "metadata": {},
   "outputs": [],
   "source": []
  },
  {
   "cell_type": "code",
   "execution_count": null,
   "metadata": {},
   "outputs": [],
   "source": []
  }
 ],
 "metadata": {
  "colab": {
   "collapsed_sections": [
    "o3nrIxHDTGky",
    "jtYsqfkITGlk"
   ],
   "provenance": []
  },
  "kernelspec": {
   "display_name": "Python 3 (ipykernel)",
   "language": "python",
   "name": "python3"
  },
  "language_info": {
   "codemirror_mode": {
    "name": "ipython",
    "version": 3
   },
   "file_extension": ".py",
   "mimetype": "text/x-python",
   "name": "python",
   "nbconvert_exporter": "python",
   "pygments_lexer": "ipython3",
   "version": "3.10.9"
  }
 },
 "nbformat": 4,
 "nbformat_minor": 1
}
